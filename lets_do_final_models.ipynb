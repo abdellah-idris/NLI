{
  "cells": [
    {
      "cell_type": "markdown",
      "metadata": {
        "colab_type": "text",
        "id": "view-in-github"
      },
      "source": [
        "<a href=\"https://colab.research.google.com/github/abdellah-idris/NLI/blob/master/lets_do_final_models.ipynb\" target=\"_parent\"><img src=\"https://colab.research.google.com/assets/colab-badge.svg\" alt=\"Open In Colab\"/></a>"
      ]
    },
    {
      "cell_type": "code",
      "execution_count": 1,
      "metadata": {
        "id": "5mxYa1frrnf-"
      },
      "outputs": [],
      "source": [
        "import pandas as pd\n",
        "from sklearn.model_selection import train_test_split\n",
        "from sklearn.feature_extraction.text import TfidfVectorizer\n",
        "from sklearn.svm import SVC\n",
        "from sklearn.metrics import accuracy_score, classification_report, confusion_matrix\n",
        "import matplotlib.pyplot as plt\n",
        "import seaborn as sns\n",
        "from sklearn.feature_extraction.text import CountVectorizer, TfidfVectorizer\n",
        "from sklearn.linear_model import LogisticRegression\n",
        "from sklearn.svm import SVC\n",
        "from sklearn.ensemble import RandomForestClassifier"
      ]
    },
    {
      "cell_type": "code",
      "execution_count": 2,
      "metadata": {
        "id": "br1aqn0xsKYU"
      },
      "outputs": [],
      "source": [
        "df = pd.read_csv( 'train.txt',sep = '\\t')"
      ]
    },
    {
      "cell_type": "code",
      "execution_count": 3,
      "metadata": {
        "colab": {
          "base_uri": "https://localhost:8080/",
          "height": 323
        },
        "id": "bj7axiR_sUjx",
        "outputId": "c71ccbe2-5bcc-4853-8908-09da3d257f42"
      },
      "outputs": [
        {
          "data": {
            "text/html": [
              "<div>\n",
              "<style scoped>\n",
              "    .dataframe tbody tr th:only-of-type {\n",
              "        vertical-align: middle;\n",
              "    }\n",
              "\n",
              "    .dataframe tbody tr th {\n",
              "        vertical-align: top;\n",
              "    }\n",
              "\n",
              "    .dataframe thead th {\n",
              "        text-align: right;\n",
              "    }\n",
              "</style>\n",
              "<table border=\"1\" class=\"dataframe\">\n",
              "  <thead>\n",
              "    <tr style=\"text-align: right;\">\n",
              "      <th></th>\n",
              "      <th>(GER) IThe importance and popularity of travelling is still raising , Everybody is interested in getting to know other countries and continents but the ways how to do it , are very differently . I agree with the statement that it is the best way to travel in a group led by a tour guide . If you travel in a group and you have a tour guide you get to know the most famous places and you get to know interesting things about the country you decided to visit . The tour guide would organise everything for you , so the only thing you would have to do is to go to the appointments with the group . Another aspect is that you would get to know a lot of interesting people . When you travel in a group it is very easy to get to know other people because usually you sit in the same bus or you sleep in the same hotel like the others do . That is why you are never borring when you travel in groups . If you decide to travel in a group and you visit a country which is dangerouses then the tour guide can inform you about this dangerouses and he can say you how to avoid risks . Sometimes there are special rules or other things which can bring you in trouble when you do not follow them . Furthermore a tour guide can help you with communication problems . When you are not able to speak the language people in the country you visit speak , then the tour guide can help you because he has to be able to speak it . So if you have to visit the doctor or you have to go to the police because something happended to you , then you can ask your tour guide and he would be able to help you . These are the reasons why I prefer to tavel in a group with a tour guide .</th>\n",
              "    </tr>\n",
              "  </thead>\n",
              "  <tbody>\n",
              "    <tr>\n",
              "      <th>0</th>\n",
              "      <td>(TUR) It is an important decision , how to pla...</td>\n",
              "    </tr>\n",
              "  </tbody>\n",
              "</table>\n",
              "</div>"
            ],
            "text/plain": [
              "  (GER) IThe importance and popularity of travelling is still raising , Everybody is interested in getting to know other countries and continents but the ways how to do it , are very differently . I agree with the statement that it is the best way to travel in a group led by a tour guide . If you travel in a group and you have a tour guide you get to know the most famous places and you get to know interesting things about the country you decided to visit . The tour guide would organise everything for you , so the only thing you would have to do is to go to the appointments with the group . Another aspect is that you would get to know a lot of interesting people . When you travel in a group it is very easy to get to know other people because usually you sit in the same bus or you sleep in the same hotel like the others do . That is why you are never borring when you travel in groups . If you decide to travel in a group and you visit a country which is dangerouses then the tour guide can inform you about this dangerouses and he can say you how to avoid risks . Sometimes there are special rules or other things which can bring you in trouble when you do not follow them . Furthermore a tour guide can help you with communication problems . When you are not able to speak the language people in the country you visit speak , then the tour guide can help you because he has to be able to speak it . So if you have to visit the doctor or you have to go to the police because something happended to you , then you can ask your tour guide and he would be able to help you . These are the reasons why I prefer to tavel in a group with a tour guide .\n",
              "0  (TUR) It is an important decision , how to pla...                                                                                                                                                                                                                                                                                                                                                                                                                                                                                                                                                                                                                                                                                                                                                                                                                                                                                                                                                                                                                                                                                                                                                                                                                                                                                                                                                                                                                                                                                                                                                                                                                                                                     "
            ]
          },
          "execution_count": 3,
          "metadata": {},
          "output_type": "execute_result"
        }
      ],
      "source": [
        "df.head(1)"
      ]
    },
    {
      "cell_type": "code",
      "execution_count": 4,
      "metadata": {
        "colab": {
          "base_uri": "https://localhost:8080/"
        },
        "id": "O5t-xBK4sYfz",
        "outputId": "134aaba6-8376-43d1-d7d9-ee80b6ecd1fe"
      },
      "outputs": [
        {
          "data": {
            "text/plain": [
              "country_code\n",
              "TUR    900\n",
              "CHI    900\n",
              "TEL    900\n",
              "ARA    900\n",
              "SPA    900\n",
              "HIN    900\n",
              "JPN    900\n",
              "KOR    900\n",
              "FRE    900\n",
              "ITA    900\n",
              "GER    899\n",
              "Name: count, dtype: int64"
            ]
          },
          "execution_count": 4,
          "metadata": {},
          "output_type": "execute_result"
        }
      ],
      "source": [
        "import re\n",
        "\n",
        "def extract_country_and_text(row):\n",
        "    match = re.match(r'\\((.*?)\\)(.*)', row)\n",
        "    if match:\n",
        "        country_code = match.group(1)\n",
        "        text = match.group(2)\n",
        "        return pd.Series([country_code, text])\n",
        "    else:\n",
        "        return pd.Series(['', row])\n",
        "\n",
        "df[['country_code', 'text']] = df.iloc[:, 0].apply(extract_country_and_text)\n",
        "\n",
        "df['country_code'].value_counts()"
      ]
    },
    {
      "cell_type": "code",
      "execution_count": 5,
      "metadata": {
        "id": "jxaodHAvsxa5"
      },
      "outputs": [],
      "source": [
        "df_pre_train = df[['text', 'country_code']]"
      ]
    },
    {
      "cell_type": "code",
      "execution_count": 6,
      "metadata": {
        "colab": {
          "base_uri": "https://localhost:8080/"
        },
        "id": "WagXv91UshPO",
        "outputId": "44e68c64-5763-4653-8e6d-4ee7a6fded54"
      },
      "outputs": [
        {
          "data": {
            "text/plain": [
              "country_code\n",
              "TUR    900\n",
              "CHI    900\n",
              "TEL    900\n",
              "ARA    900\n",
              "SPA    900\n",
              "HIN    900\n",
              "JPN    900\n",
              "KOR    900\n",
              "FRE    900\n",
              "ITA    900\n",
              "GER    899\n",
              "Name: count, dtype: int64"
            ]
          },
          "execution_count": 6,
          "metadata": {},
          "output_type": "execute_result"
        }
      ],
      "source": [
        "df_pre_train['country_code'].value_counts()"
      ]
    },
    {
      "cell_type": "code",
      "execution_count": 7,
      "metadata": {
        "id": "vgMoeoV7tycl"
      },
      "outputs": [],
      "source": [
        "df_pre_train['nb_words'] = df_pre_train['text'].str.split().apply(len)"
      ]
    },
    {
      "cell_type": "code",
      "execution_count": 8,
      "metadata": {
        "colab": {
          "base_uri": "https://localhost:8080/",
          "height": 564
        },
        "id": "VpBDzSjXuV34",
        "outputId": "abf1d63c-491c-43bb-972a-42b23976cb36"
      },
      "outputs": [
        {
          "data": {
            "image/png": "[encoded data removed]",
            "text/plain": [
              "<Figure size 1000x600 with 1 Axes>"
            ]
          },
          "metadata": {},
          "output_type": "display_data"
        }
      ],
      "source": [
        "import matplotlib.pyplot as plt\n",
        "import seaborn as sns\n",
        "\n",
        "\n",
        "# Tracez la boîte à moustaches\n",
        "plt.figure(figsize=(10, 6))\n",
        "sns.boxplot(x='country_code', y='nb_words', data=df_pre_train)\n",
        "plt.title('Nombre de mots par code de pays')\n",
        "plt.xlabel('Code de pays')\n",
        "plt.ylabel('Nombre de mots')\n",
        "plt.show()\n"
      ]
    },
    {
      "cell_type": "code",
      "execution_count": 9,
      "metadata": {
        "id": "kjwwsuiJu1Ui"
      },
      "outputs": [],
      "source": [
        "df_pre_train['unique_word_count'] = df_pre_train['text'].apply(lambda x: len(set(x.split())))"
      ]
    },
    {
      "cell_type": "code",
      "execution_count": 10,
      "metadata": {
        "colab": {
          "base_uri": "https://localhost:8080/",
          "height": 564
        },
        "id": "x_kWangLvdap",
        "outputId": "23749129-34ec-45bf-8b84-ef791233c95a"
      },
      "outputs": [
        {
          "data": {
            "image/png": "[encoded data removed]",
            "text/plain": [
              "<Figure size 1000x600 with 1 Axes>"
            ]
          },
          "metadata": {},
          "output_type": "display_data"
        }
      ],
      "source": [
        "import matplotlib.pyplot as plt\n",
        "import seaborn as sns\n",
        "\n",
        "\n",
        "# Tracez la boîte à moustaches\n",
        "plt.figure(figsize=(10, 6))\n",
        "sns.boxplot(x='country_code', y='unique_word_count', data=df_pre_train)\n",
        "plt.title('Nombre de mots unique par code de pays')\n",
        "plt.xlabel('Code de pays')\n",
        "plt.ylabel('Nombre de mots')\n",
        "plt.show()\n"
      ]
    },
    {
      "cell_type": "code",
      "execution_count": 11,
      "metadata": {
        "colab": {
          "base_uri": "https://localhost:8080/"
        },
        "id": "i3WWzwcavu5m",
        "outputId": "0e7b3496-5086-41b3-c2f3-a63e7d73c6db"
      },
      "outputs": [
        {
          "name": "stdout",
          "output_type": "stream",
          "text": [
            "Collecting pyspellchecker\n",
            "  Downloading pyspellchecker-0.8.1-py3-none-any.whl.metadata (9.4 kB)\n",
            "Downloading pyspellchecker-0.8.1-py3-none-any.whl (6.8 MB)\n",
            "\u001b[2K   \u001b[90m━━━━━━━━━━━━━━━━━━━━━━━━━━━━━━━━━━━━━━━━\u001b[0m \u001b[32m6.8/6.8 MB\u001b[0m \u001b[31m47.1 MB/s\u001b[0m eta \u001b[36m0:00:00\u001b[0m:00:01\u001b[0m00:01\u001b[0m\n",
            "\u001b[?25hInstalling collected packages: pyspellchecker\n",
            "Successfully installed pyspellchecker-0.8.1\n"
          ]
        }
      ],
      "source": [
        "!pip install pyspellchecker\n",
        "\n",
        "from spellchecker import SpellChecker\n",
        "import re\n",
        "# Fonction pour compter les fautes d'orthographe dans un texte\n",
        "spell = SpellChecker()\n",
        "\n",
        "def count_spelling_errors(text):\n",
        "\n",
        "    # Utiliser une expression régulière pour trouver tous les mots dans le texte\n",
        "    words = re.findall(r'\\b\\w+\\b', text.lower())\n",
        "\n",
        "    # Trouver les mots mal orthographiés\n",
        "    misspelled = spell.unknown(words)\n",
        "    return len(misspelled)\n",
        "\n",
        "# Calcul du nombre de fautes d'orthographe pour chaque texte\n",
        "df_pre_train['spelling_errors'] = df_pre_train['text'].apply(count_spelling_errors)"
      ]
    },
    {
      "cell_type": "code",
      "execution_count": 12,
      "metadata": {
        "colab": {
          "base_uri": "https://localhost:8080/",
          "height": 564
        },
        "id": "COuqIb6dv9uD",
        "outputId": "95641f24-9c77-4863-91c3-dcb8b6a7b6fb"
      },
      "outputs": [
        {
          "data": {
            "image/png": "[encoded data removed]",
            "text/plain": [
              "<Figure size 1000x600 with 1 Axes>"
            ]
          },
          "metadata": {},
          "output_type": "display_data"
        }
      ],
      "source": [
        "import matplotlib.pyplot as plt\n",
        "import seaborn as sns\n",
        "\n",
        "\n",
        "# Tracez la boîte à moustaches\n",
        "plt.figure(figsize=(10, 6))\n",
        "sns.boxplot(x='country_code', y='spelling_errors', data=df_pre_train)\n",
        "plt.title('Nombre de mots unique par code de pays')\n",
        "plt.xlabel('Code de pays')\n",
        "plt.ylabel('Nombre de mots')\n",
        "plt.show()\n"
      ]
    },
    {
      "cell_type": "code",
      "execution_count": 15,
      "metadata": {},
      "outputs": [
        {
          "name": "stdout",
          "output_type": "stream",
          "text": [
            "Collecting nltk\n",
            "  Downloading nltk-3.8.1-py3-none-any.whl.metadata (2.8 kB)\n",
            "Collecting click (from nltk)\n",
            "  Downloading click-8.1.7-py3-none-any.whl.metadata (3.0 kB)\n",
            "Requirement already satisfied: joblib in /home/codespace/.local/lib/python3.10/site-packages (from nltk) (1.3.2)\n",
            "Collecting regex>=2021.8.3 (from nltk)\n",
            "  Downloading regex-2023.12.25-cp310-cp310-manylinux_2_17_x86_64.manylinux2014_x86_64.whl.metadata (40 kB)\n",
            "\u001b[2K     \u001b[90m━━━━━━━━━━━━━━━━━━━━━━━━━━━━━━━━━━━━━━━━\u001b[0m \u001b[32m40.9/40.9 kB\u001b[0m \u001b[31m1.1 MB/s\u001b[0m eta \u001b[36m0:00:00\u001b[0m\n",
            "\u001b[?25hCollecting tqdm (from nltk)\n",
            "  Downloading tqdm-4.66.2-py3-none-any.whl.metadata (57 kB)\n",
            "\u001b[2K     \u001b[90m━━━━━━━━━━━━━━━━━━━━━━━━━━━━━━━━━━━━━━━━\u001b[0m \u001b[32m57.6/57.6 kB\u001b[0m \u001b[31m1.7 MB/s\u001b[0m eta \u001b[36m0:00:00\u001b[0m\n",
            "\u001b[?25hDownloading nltk-3.8.1-py3-none-any.whl (1.5 MB)\n",
            "\u001b[2K   \u001b[90m━━━━━━━━━━━━━━━━━━━━━━━━━━━━━━━━━━━━━━━━\u001b[0m \u001b[32m1.5/1.5 MB\u001b[0m \u001b[31m28.2 MB/s\u001b[0m eta \u001b[36m0:00:00\u001b[0m:00:01\u001b[0m\n",
            "\u001b[?25hDownloading regex-2023.12.25-cp310-cp310-manylinux_2_17_x86_64.manylinux2014_x86_64.whl (773 kB)\n",
            "\u001b[2K   \u001b[90m━━━━━━━━━━━━━━━━━━━━━━━━━━━━━━━━━━━━━━━━\u001b[0m \u001b[32m774.0/774.0 kB\u001b[0m \u001b[31m17.6 MB/s\u001b[0m eta \u001b[36m0:00:00\u001b[0m00:01\u001b[0m\n",
            "\u001b[?25hDownloading click-8.1.7-py3-none-any.whl (97 kB)\n",
            "\u001b[2K   \u001b[90m━━━━━━━━━━━━━━━━━━━━━━━━━━━━━━━━━━━━━━━━\u001b[0m \u001b[32m97.9/97.9 kB\u001b[0m \u001b[31m3.0 MB/s\u001b[0m eta \u001b[36m0:00:00\u001b[0m\n",
            "\u001b[?25hDownloading tqdm-4.66.2-py3-none-any.whl (78 kB)\n",
            "\u001b[2K   \u001b[90m━━━━━━━━━━━━━━━━━━━━━━━━━━━━━━━━━━━━━━━━\u001b[0m \u001b[32m78.3/78.3 kB\u001b[0m \u001b[31m2.4 MB/s\u001b[0m eta \u001b[36m0:00:00\u001b[0m\n",
            "\u001b[?25hInstalling collected packages: tqdm, regex, click, nltk\n",
            "Successfully installed click-8.1.7 nltk-3.8.1 regex-2023.12.25 tqdm-4.66.2\n"
          ]
        }
      ],
      "source": [
        "!pip install nltk"
      ]
    },
    {
      "cell_type": "code",
      "execution_count": 16,
      "metadata": {
        "colab": {
          "base_uri": "https://localhost:8080/",
          "height": 242
        },
        "id": "dxQnjrJTwSn7",
        "outputId": "ff9a3fc9-f9a0-40b2-c99a-f54937af3d51"
      },
      "outputs": [
        {
          "name": "stderr",
          "output_type": "stream",
          "text": [
            "[nltk_data] Downloading package vader_lexicon to\n",
            "[nltk_data]     /home/codespace/nltk_data...\n"
          ]
        },
        {
          "data": {
            "text/html": [
              "<div>\n",
              "<style scoped>\n",
              "    .dataframe tbody tr th:only-of-type {\n",
              "        vertical-align: middle;\n",
              "    }\n",
              "\n",
              "    .dataframe tbody tr th {\n",
              "        vertical-align: top;\n",
              "    }\n",
              "\n",
              "    .dataframe thead th {\n",
              "        text-align: right;\n",
              "    }\n",
              "</style>\n",
              "<table border=\"1\" class=\"dataframe\">\n",
              "  <thead>\n",
              "    <tr style=\"text-align: right;\">\n",
              "      <th></th>\n",
              "      <th>text</th>\n",
              "      <th>country_code</th>\n",
              "      <th>nb_words</th>\n",
              "      <th>unique_word_count</th>\n",
              "      <th>spelling_errors</th>\n",
              "      <th>sentiment</th>\n",
              "    </tr>\n",
              "  </thead>\n",
              "  <tbody>\n",
              "    <tr>\n",
              "      <th>0</th>\n",
              "      <td>It is an important decision , how to plan you...</td>\n",
              "      <td>TUR</td>\n",
              "      <td>395</td>\n",
              "      <td>196</td>\n",
              "      <td>2</td>\n",
              "      <td>positif</td>\n",
              "    </tr>\n",
              "    <tr>\n",
              "      <th>1</th>\n",
              "      <td>Some people believe that young people can enj...</td>\n",
              "      <td>CHI</td>\n",
              "      <td>401</td>\n",
              "      <td>167</td>\n",
              "      <td>3</td>\n",
              "      <td>positif</td>\n",
              "    </tr>\n",
              "    <tr>\n",
              "      <th>2</th>\n",
              "      <td>Travelling is usually considered as good recr...</td>\n",
              "      <td>TEL</td>\n",
              "      <td>362</td>\n",
              "      <td>149</td>\n",
              "      <td>8</td>\n",
              "      <td>positif</td>\n",
              "    </tr>\n",
              "    <tr>\n",
              "      <th>3</th>\n",
              "      <td>i agree that . Life is a person live period o...</td>\n",
              "      <td>ARA</td>\n",
              "      <td>187</td>\n",
              "      <td>86</td>\n",
              "      <td>9</td>\n",
              "      <td>positif</td>\n",
              "    </tr>\n",
              "    <tr>\n",
              "      <th>4</th>\n",
              "      <td>In my opinion , travel in group with a tour g...</td>\n",
              "      <td>SPA</td>\n",
              "      <td>378</td>\n",
              "      <td>137</td>\n",
              "      <td>7</td>\n",
              "      <td>positif</td>\n",
              "    </tr>\n",
              "  </tbody>\n",
              "</table>\n",
              "</div>"
            ],
            "text/plain": [
              "                                                text country_code  nb_words  \\\n",
              "0   It is an important decision , how to plan you...          TUR       395   \n",
              "1   Some people believe that young people can enj...          CHI       401   \n",
              "2   Travelling is usually considered as good recr...          TEL       362   \n",
              "3   i agree that . Life is a person live period o...          ARA       187   \n",
              "4   In my opinion , travel in group with a tour g...          SPA       378   \n",
              "\n",
              "   unique_word_count  spelling_errors sentiment  \n",
              "0                196                2   positif  \n",
              "1                167                3   positif  \n",
              "2                149                8   positif  \n",
              "3                 86                9   positif  \n",
              "4                137                7   positif  "
            ]
          },
          "execution_count": 16,
          "metadata": {},
          "output_type": "execute_result"
        }
      ],
      "source": [
        "import nltk\n",
        "from nltk.sentiment.vader import SentimentIntensityAnalyzer\n",
        "\n",
        "# Téléchargez les ressources nécessaires pour NLTK\n",
        "nltk.download('vader_lexicon')\n",
        "\n",
        "# Initialisez l'analyseur de sentiment\n",
        "sid = SentimentIntensityAnalyzer()\n",
        "\n",
        "# Appliquez l'analyseur de sentiment à chaque texte et créez une nouvelle colonne \"sentiment\" dans le DataFrame\n",
        "df_pre_train['sentiment'] = df_pre_train['text'].apply(lambda x: 'positif' if sid.polarity_scores(x)['compound'] >= 0 else 'négatif')\n",
        "\n",
        "# Affichez le DataFrame avec la nouvelle colonne ajoutée\n",
        "df_pre_train.head()\n"
      ]
    },
    {
      "cell_type": "code",
      "execution_count": 17,
      "metadata": {
        "colab": {
          "base_uri": "https://localhost:8080/"
        },
        "id": "UdYonEduw_oC",
        "outputId": "ddb0fb13-965b-40df-9376-e435731ff071"
      },
      "outputs": [
        {
          "data": {
            "text/plain": [
              "sentiment\n",
              "positif    9256\n",
              "négatif     643\n",
              "Name: count, dtype: int64"
            ]
          },
          "execution_count": 17,
          "metadata": {},
          "output_type": "execute_result"
        }
      ],
      "source": [
        "df_pre_train['sentiment'].value_counts()"
      ]
    },
    {
      "cell_type": "code",
      "execution_count": 18,
      "metadata": {
        "colab": {
          "base_uri": "https://localhost:8080/"
        },
        "id": "lJ3fA_EixS01",
        "outputId": "20ae7f6a-c4b7-4952-80e5-f060e4023022"
      },
      "outputs": [
        {
          "name": "stdout",
          "output_type": "stream",
          "text": [
            "sentiment     négatif  positif\n",
            "country_code                  \n",
            "ARA                63      837\n",
            "CHI                54      846\n",
            "FRE                60      840\n",
            "GER                42      857\n",
            "HIN                35      865\n",
            "ITA                66      834\n",
            "JPN                88      812\n",
            "KOR                84      816\n",
            "SPA                43      857\n",
            "TEL                36      864\n",
            "TUR                72      828\n"
          ]
        }
      ],
      "source": [
        "# Groupez les données par pays et calculez le nombre de textes positifs et négatifs\n",
        "sentiment_counts = df_pre_train.groupby(['country_code', 'sentiment']).size().unstack(fill_value=0)\n",
        "\n",
        "# Affichez le nombre de textes positifs et négatifs pour chaque pays\n",
        "print(sentiment_counts)\n"
      ]
    },
    {
      "cell_type": "code",
      "execution_count": 19,
      "metadata": {
        "colab": {
          "base_uri": "https://localhost:8080/",
          "height": 206
        },
        "id": "v2Ad2m0vxova",
        "outputId": "df6e5a70-e2ed-4614-a4e7-9ba3b7377365"
      },
      "outputs": [
        {
          "data": {
            "text/html": [
              "<div>\n",
              "<style scoped>\n",
              "    .dataframe tbody tr th:only-of-type {\n",
              "        vertical-align: middle;\n",
              "    }\n",
              "\n",
              "    .dataframe tbody tr th {\n",
              "        vertical-align: top;\n",
              "    }\n",
              "\n",
              "    .dataframe thead th {\n",
              "        text-align: right;\n",
              "    }\n",
              "</style>\n",
              "<table border=\"1\" class=\"dataframe\">\n",
              "  <thead>\n",
              "    <tr style=\"text-align: right;\">\n",
              "      <th></th>\n",
              "      <th>text</th>\n",
              "      <th>country_code</th>\n",
              "      <th>nb_words</th>\n",
              "      <th>unique_word_count</th>\n",
              "      <th>spelling_errors</th>\n",
              "      <th>sentiment</th>\n",
              "    </tr>\n",
              "  </thead>\n",
              "  <tbody>\n",
              "    <tr>\n",
              "      <th>0</th>\n",
              "      <td>It is an important decision , how to plan you...</td>\n",
              "      <td>TUR</td>\n",
              "      <td>395</td>\n",
              "      <td>196</td>\n",
              "      <td>2</td>\n",
              "      <td>positif</td>\n",
              "    </tr>\n",
              "    <tr>\n",
              "      <th>1</th>\n",
              "      <td>Some people believe that young people can enj...</td>\n",
              "      <td>CHI</td>\n",
              "      <td>401</td>\n",
              "      <td>167</td>\n",
              "      <td>3</td>\n",
              "      <td>positif</td>\n",
              "    </tr>\n",
              "    <tr>\n",
              "      <th>2</th>\n",
              "      <td>Travelling is usually considered as good recr...</td>\n",
              "      <td>TEL</td>\n",
              "      <td>362</td>\n",
              "      <td>149</td>\n",
              "      <td>8</td>\n",
              "      <td>positif</td>\n",
              "    </tr>\n",
              "    <tr>\n",
              "      <th>3</th>\n",
              "      <td>i agree that . Life is a person live period o...</td>\n",
              "      <td>ARA</td>\n",
              "      <td>187</td>\n",
              "      <td>86</td>\n",
              "      <td>9</td>\n",
              "      <td>positif</td>\n",
              "    </tr>\n",
              "    <tr>\n",
              "      <th>4</th>\n",
              "      <td>In my opinion , travel in group with a tour g...</td>\n",
              "      <td>SPA</td>\n",
              "      <td>378</td>\n",
              "      <td>137</td>\n",
              "      <td>7</td>\n",
              "      <td>positif</td>\n",
              "    </tr>\n",
              "  </tbody>\n",
              "</table>\n",
              "</div>"
            ],
            "text/plain": [
              "                                                text country_code  nb_words  \\\n",
              "0   It is an important decision , how to plan you...          TUR       395   \n",
              "1   Some people believe that young people can enj...          CHI       401   \n",
              "2   Travelling is usually considered as good recr...          TEL       362   \n",
              "3   i agree that . Life is a person live period o...          ARA       187   \n",
              "4   In my opinion , travel in group with a tour g...          SPA       378   \n",
              "\n",
              "   unique_word_count  spelling_errors sentiment  \n",
              "0                196                2   positif  \n",
              "1                167                3   positif  \n",
              "2                149                8   positif  \n",
              "3                 86                9   positif  \n",
              "4                137                7   positif  "
            ]
          },
          "execution_count": 19,
          "metadata": {},
          "output_type": "execute_result"
        }
      ],
      "source": [
        "df_pre_train.head()"
      ]
    },
    {
      "cell_type": "code",
      "execution_count": 20,
      "metadata": {
        "colab": {
          "base_uri": "https://localhost:8080/",
          "height": 293
        },
        "id": "JYiBS6Tmy5QR",
        "outputId": "1a722371-a225-4aae-b004-493d3adc9bd5"
      },
      "outputs": [
        {
          "data": {
            "text/html": [
              "<div>\n",
              "<style scoped>\n",
              "    .dataframe tbody tr th:only-of-type {\n",
              "        vertical-align: middle;\n",
              "    }\n",
              "\n",
              "    .dataframe tbody tr th {\n",
              "        vertical-align: top;\n",
              "    }\n",
              "\n",
              "    .dataframe thead th {\n",
              "        text-align: right;\n",
              "    }\n",
              "</style>\n",
              "<table border=\"1\" class=\"dataframe\">\n",
              "  <thead>\n",
              "    <tr style=\"text-align: right;\">\n",
              "      <th></th>\n",
              "      <th>text</th>\n",
              "      <th>country_code</th>\n",
              "      <th>nb_words</th>\n",
              "      <th>unique_word_count</th>\n",
              "      <th>spelling_errors</th>\n",
              "      <th>sentiment</th>\n",
              "      <th>sentiment_encoded</th>\n",
              "    </tr>\n",
              "  </thead>\n",
              "  <tbody>\n",
              "    <tr>\n",
              "      <th>0</th>\n",
              "      <td>It is an important decision , how to plan you...</td>\n",
              "      <td>TUR</td>\n",
              "      <td>395</td>\n",
              "      <td>196</td>\n",
              "      <td>2</td>\n",
              "      <td>positif</td>\n",
              "      <td>1</td>\n",
              "    </tr>\n",
              "    <tr>\n",
              "      <th>1</th>\n",
              "      <td>Some people believe that young people can enj...</td>\n",
              "      <td>CHI</td>\n",
              "      <td>401</td>\n",
              "      <td>167</td>\n",
              "      <td>3</td>\n",
              "      <td>positif</td>\n",
              "      <td>1</td>\n",
              "    </tr>\n",
              "    <tr>\n",
              "      <th>2</th>\n",
              "      <td>Travelling is usually considered as good recr...</td>\n",
              "      <td>TEL</td>\n",
              "      <td>362</td>\n",
              "      <td>149</td>\n",
              "      <td>8</td>\n",
              "      <td>positif</td>\n",
              "      <td>1</td>\n",
              "    </tr>\n",
              "    <tr>\n",
              "      <th>3</th>\n",
              "      <td>i agree that . Life is a person live period o...</td>\n",
              "      <td>ARA</td>\n",
              "      <td>187</td>\n",
              "      <td>86</td>\n",
              "      <td>9</td>\n",
              "      <td>positif</td>\n",
              "      <td>1</td>\n",
              "    </tr>\n",
              "    <tr>\n",
              "      <th>4</th>\n",
              "      <td>In my opinion , travel in group with a tour g...</td>\n",
              "      <td>SPA</td>\n",
              "      <td>378</td>\n",
              "      <td>137</td>\n",
              "      <td>7</td>\n",
              "      <td>positif</td>\n",
              "      <td>1</td>\n",
              "    </tr>\n",
              "  </tbody>\n",
              "</table>\n",
              "</div>"
            ],
            "text/plain": [
              "                                                text country_code  nb_words  \\\n",
              "0   It is an important decision , how to plan you...          TUR       395   \n",
              "1   Some people believe that young people can enj...          CHI       401   \n",
              "2   Travelling is usually considered as good recr...          TEL       362   \n",
              "3   i agree that . Life is a person live period o...          ARA       187   \n",
              "4   In my opinion , travel in group with a tour g...          SPA       378   \n",
              "\n",
              "   unique_word_count  spelling_errors sentiment  sentiment_encoded  \n",
              "0                196                2   positif                  1  \n",
              "1                167                3   positif                  1  \n",
              "2                149                8   positif                  1  \n",
              "3                 86                9   positif                  1  \n",
              "4                137                7   positif                  1  "
            ]
          },
          "execution_count": 20,
          "metadata": {},
          "output_type": "execute_result"
        }
      ],
      "source": [
        "from sklearn.preprocessing import LabelEncoder\n",
        "\n",
        "# Supposons que votre variable catégorielle est contenue dans la colonne 'sentiment' de votre DataFrame df\n",
        "\n",
        "# Initialisez l'encodeur de label\n",
        "label_encoder = LabelEncoder()\n",
        "\n",
        "# Appliquez l'encodeur de label à la variable catégorielle\n",
        "df_pre_train['sentiment_encoded'] = label_encoder.fit_transform(df_pre_train['sentiment'])\n",
        "df_pre_train.head()\n"
      ]
    },
    {
      "cell_type": "code",
      "execution_count": 21,
      "metadata": {
        "id": "zkh3WRsbAFAA"
      },
      "outputs": [],
      "source": [
        "# from sklearn.feature_extraction.text import CountVectorizer\n",
        "\n",
        "# # Initialisez le vectorizer avec les paramètres spécifiés\n",
        "# vectorizer_BOW_bigram = CountVectorizer(ngram_range=(1, 2))\n",
        "\n",
        "# # Ajustez et transformez les données textuelles pour créer la matrice de caractéristiques\n",
        "# X_BOW_bigram = vectorizer_BOW_bigram.fit_transform(df_pre_train['text'])\n",
        "\n",
        "# # Créez un DataFrame à partir de la matrice de caractéristiques\n",
        "# df_bow_bigram = pd.DataFrame(X_BOW_bigram.toarray(), columns=vectorizer_BOW_bigram.get_feature_names_out())\n",
        "\n",
        "# # Concaténez le DataFrame original avec le nouveau DataFrame contenant les caractéristiques extraites\n",
        "# df_train = pd.concat([df_pre_train, df_bow_bigram], axis=1)\n",
        "\n",
        "# # Affichez le DataFrame avec la nouvelle colonne à partir des bigrammes\n",
        "# print(df_train)\n"
      ]
    },
    {
      "cell_type": "code",
      "execution_count": 22,
      "metadata": {
        "colab": {
          "base_uri": "https://localhost:8080/",
          "height": 483
        },
        "id": "ejv4otFr9L5P",
        "outputId": "54756f29-913a-4978-df68-c78f451df351"
      },
      "outputs": [
        {
          "data": {
            "text/html": [
              "<div>\n",
              "<style scoped>\n",
              "    .dataframe tbody tr th:only-of-type {\n",
              "        vertical-align: middle;\n",
              "    }\n",
              "\n",
              "    .dataframe tbody tr th {\n",
              "        vertical-align: top;\n",
              "    }\n",
              "\n",
              "    .dataframe thead th {\n",
              "        text-align: right;\n",
              "    }\n",
              "</style>\n",
              "<table border=\"1\" class=\"dataframe\">\n",
              "  <thead>\n",
              "    <tr style=\"text-align: right;\">\n",
              "      <th></th>\n",
              "      <th>text</th>\n",
              "      <th>country_code</th>\n",
              "      <th>nb_words</th>\n",
              "      <th>unique_word_count</th>\n",
              "      <th>spelling_errors</th>\n",
              "      <th>sentiment</th>\n",
              "      <th>sentiment_encoded</th>\n",
              "      <th>group</th>\n",
              "    </tr>\n",
              "  </thead>\n",
              "  <tbody>\n",
              "    <tr>\n",
              "      <th>0</th>\n",
              "      <td>It is an important decision , how to plan you...</td>\n",
              "      <td>TUR</td>\n",
              "      <td>395</td>\n",
              "      <td>196</td>\n",
              "      <td>2</td>\n",
              "      <td>positif</td>\n",
              "      <td>1</td>\n",
              "      <td>ARA+TUR</td>\n",
              "    </tr>\n",
              "    <tr>\n",
              "      <th>1</th>\n",
              "      <td>Some people believe that young people can enj...</td>\n",
              "      <td>CHI</td>\n",
              "      <td>401</td>\n",
              "      <td>167</td>\n",
              "      <td>3</td>\n",
              "      <td>positif</td>\n",
              "      <td>1</td>\n",
              "      <td>KOR+CHI+JPN</td>\n",
              "    </tr>\n",
              "    <tr>\n",
              "      <th>2</th>\n",
              "      <td>Travelling is usually considered as good recr...</td>\n",
              "      <td>TEL</td>\n",
              "      <td>362</td>\n",
              "      <td>149</td>\n",
              "      <td>8</td>\n",
              "      <td>positif</td>\n",
              "      <td>1</td>\n",
              "      <td>HIN+TEL</td>\n",
              "    </tr>\n",
              "    <tr>\n",
              "      <th>3</th>\n",
              "      <td>i agree that . Life is a person live period o...</td>\n",
              "      <td>ARA</td>\n",
              "      <td>187</td>\n",
              "      <td>86</td>\n",
              "      <td>9</td>\n",
              "      <td>positif</td>\n",
              "      <td>1</td>\n",
              "      <td>ARA+TUR</td>\n",
              "    </tr>\n",
              "    <tr>\n",
              "      <th>4</th>\n",
              "      <td>In my opinion , travel in group with a tour g...</td>\n",
              "      <td>SPA</td>\n",
              "      <td>378</td>\n",
              "      <td>137</td>\n",
              "      <td>7</td>\n",
              "      <td>positif</td>\n",
              "      <td>1</td>\n",
              "      <td>FRE+SPA+ITA+GER</td>\n",
              "    </tr>\n",
              "  </tbody>\n",
              "</table>\n",
              "</div>"
            ],
            "text/plain": [
              "                                                text country_code  nb_words  \\\n",
              "0   It is an important decision , how to plan you...          TUR       395   \n",
              "1   Some people believe that young people can enj...          CHI       401   \n",
              "2   Travelling is usually considered as good recr...          TEL       362   \n",
              "3   i agree that . Life is a person live period o...          ARA       187   \n",
              "4   In my opinion , travel in group with a tour g...          SPA       378   \n",
              "\n",
              "   unique_word_count  spelling_errors sentiment  sentiment_encoded  \\\n",
              "0                196                2   positif                  1   \n",
              "1                167                3   positif                  1   \n",
              "2                149                8   positif                  1   \n",
              "3                 86                9   positif                  1   \n",
              "4                137                7   positif                  1   \n",
              "\n",
              "             group  \n",
              "0          ARA+TUR  \n",
              "1      KOR+CHI+JPN  \n",
              "2          HIN+TEL  \n",
              "3          ARA+TUR  \n",
              "4  FRE+SPA+ITA+GER  "
            ]
          },
          "execution_count": 22,
          "metadata": {},
          "output_type": "execute_result"
        }
      ],
      "source": [
        "def create_group(df):\n",
        "  # Créez une nouvelle colonne 'Country_Code_New4' en copiant 'Country_Code'\n",
        "  df['group'] = df['country_code']\n",
        "\n",
        "  df.loc[df['country_code'].isin(['TEL', 'HIN']), 'group']  = 'HIN+TEL'\n",
        "  df.loc[df['country_code'].isin(['KOR', 'CHI','JPN']), 'group'] = 'KOR+CHI+JPN'\n",
        "  df.loc[df['country_code'].isin(['FRE', 'SPA','ITA','GER']), 'group'] = 'FRE+SPA+ITA+GER'\n",
        "  df.loc[df['country_code'].isin(['ARA', 'TUR']), 'group'] = 'ARA+TUR'\n",
        "\n",
        "  return df\n",
        "\n",
        "df_pre_train = create_group(df_pre_train)\n",
        "df_pre_train.head()"
      ]
    },
    {
      "cell_type": "code",
      "execution_count": 23,
      "metadata": {
        "id": "6PlQpwLx4iMm"
      },
      "outputs": [],
      "source": [
        "groups_mapping= {'HIN+TEL':0, 'KOR+CHI+JPN':1, 'FRE+SPA+ITA+GER':2,'ARA+TUR':3}"
      ]
    },
    {
      "cell_type": "code",
      "execution_count": 24,
      "metadata": {
        "colab": {
          "base_uri": "https://localhost:8080/"
        },
        "id": "EJt4Jbo_5em5",
        "outputId": "4cb4ed0a-1079-48cd-f2b8-e1e64690cb00"
      },
      "outputs": [
        {
          "data": {
            "text/plain": [
              "0       3\n",
              "1       1\n",
              "2       0\n",
              "3       3\n",
              "4       2\n",
              "       ..\n",
              "9894    1\n",
              "9895    1\n",
              "9896    2\n",
              "9897    0\n",
              "9898    1\n",
              "Name: group, Length: 9899, dtype: int64"
            ]
          },
          "execution_count": 24,
          "metadata": {},
          "output_type": "execute_result"
        }
      ],
      "source": [
        "df_pre_train['group'].map(groups_mapping)"
      ]
    },
    {
      "cell_type": "code",
      "execution_count": 25,
      "metadata": {
        "colab": {
          "base_uri": "https://localhost:8080/",
          "height": 483
        },
        "id": "wPYRFjdO5mv6",
        "outputId": "306bb6ae-c0d2-4cc4-ec8e-75222fd58a4c"
      },
      "outputs": [
        {
          "data": {
            "text/html": [
              "<div>\n",
              "<style scoped>\n",
              "    .dataframe tbody tr th:only-of-type {\n",
              "        vertical-align: middle;\n",
              "    }\n",
              "\n",
              "    .dataframe tbody tr th {\n",
              "        vertical-align: top;\n",
              "    }\n",
              "\n",
              "    .dataframe thead th {\n",
              "        text-align: right;\n",
              "    }\n",
              "</style>\n",
              "<table border=\"1\" class=\"dataframe\">\n",
              "  <thead>\n",
              "    <tr style=\"text-align: right;\">\n",
              "      <th></th>\n",
              "      <th>text</th>\n",
              "      <th>country_code</th>\n",
              "      <th>nb_words</th>\n",
              "      <th>unique_word_count</th>\n",
              "      <th>spelling_errors</th>\n",
              "      <th>sentiment</th>\n",
              "      <th>sentiment_encoded</th>\n",
              "      <th>group</th>\n",
              "    </tr>\n",
              "  </thead>\n",
              "  <tbody>\n",
              "    <tr>\n",
              "      <th>0</th>\n",
              "      <td>It is an important decision , how to plan you...</td>\n",
              "      <td>TUR</td>\n",
              "      <td>395</td>\n",
              "      <td>196</td>\n",
              "      <td>2</td>\n",
              "      <td>positif</td>\n",
              "      <td>1</td>\n",
              "      <td>ARA+TUR</td>\n",
              "    </tr>\n",
              "    <tr>\n",
              "      <th>1</th>\n",
              "      <td>Some people believe that young people can enj...</td>\n",
              "      <td>CHI</td>\n",
              "      <td>401</td>\n",
              "      <td>167</td>\n",
              "      <td>3</td>\n",
              "      <td>positif</td>\n",
              "      <td>1</td>\n",
              "      <td>KOR+CHI+JPN</td>\n",
              "    </tr>\n",
              "    <tr>\n",
              "      <th>2</th>\n",
              "      <td>Travelling is usually considered as good recr...</td>\n",
              "      <td>TEL</td>\n",
              "      <td>362</td>\n",
              "      <td>149</td>\n",
              "      <td>8</td>\n",
              "      <td>positif</td>\n",
              "      <td>1</td>\n",
              "      <td>HIN+TEL</td>\n",
              "    </tr>\n",
              "    <tr>\n",
              "      <th>3</th>\n",
              "      <td>i agree that . Life is a person live period o...</td>\n",
              "      <td>ARA</td>\n",
              "      <td>187</td>\n",
              "      <td>86</td>\n",
              "      <td>9</td>\n",
              "      <td>positif</td>\n",
              "      <td>1</td>\n",
              "      <td>ARA+TUR</td>\n",
              "    </tr>\n",
              "    <tr>\n",
              "      <th>4</th>\n",
              "      <td>In my opinion , travel in group with a tour g...</td>\n",
              "      <td>SPA</td>\n",
              "      <td>378</td>\n",
              "      <td>137</td>\n",
              "      <td>7</td>\n",
              "      <td>positif</td>\n",
              "      <td>1</td>\n",
              "      <td>FRE+SPA+ITA+GER</td>\n",
              "    </tr>\n",
              "  </tbody>\n",
              "</table>\n",
              "</div>"
            ],
            "text/plain": [
              "                                                text country_code  nb_words  \\\n",
              "0   It is an important decision , how to plan you...          TUR       395   \n",
              "1   Some people believe that young people can enj...          CHI       401   \n",
              "2   Travelling is usually considered as good recr...          TEL       362   \n",
              "3   i agree that . Life is a person live period o...          ARA       187   \n",
              "4   In my opinion , travel in group with a tour g...          SPA       378   \n",
              "\n",
              "   unique_word_count  spelling_errors sentiment  sentiment_encoded  \\\n",
              "0                196                2   positif                  1   \n",
              "1                167                3   positif                  1   \n",
              "2                149                8   positif                  1   \n",
              "3                 86                9   positif                  1   \n",
              "4                137                7   positif                  1   \n",
              "\n",
              "             group  \n",
              "0          ARA+TUR  \n",
              "1      KOR+CHI+JPN  \n",
              "2          HIN+TEL  \n",
              "3          ARA+TUR  \n",
              "4  FRE+SPA+ITA+GER  "
            ]
          },
          "execution_count": 25,
          "metadata": {},
          "output_type": "execute_result"
        }
      ],
      "source": [
        "df_pre_train.head()"
      ]
    },
    {
      "cell_type": "code",
      "execution_count": 26,
      "metadata": {
        "id": "x9hq-vl9yJlV"
      },
      "outputs": [],
      "source": [
        "from sklearn.model_selection import train_test_split\n",
        "\n",
        "# X= df_train[['nb_words', 'unique_word_count', 'spelling_errors', 'sentiment_encoded', 'word_embeddings' ]]\n",
        "X= df_pre_train[['text', 'spelling_errors', 'unique_word_count', ]] # ' nb_words', 'sentiment_encoded'\n",
        "\n",
        "y = df_pre_train[['group']]"
      ]
    },
    {
      "cell_type": "code",
      "execution_count": 27,
      "metadata": {
        "id": "w5WnhaxH9L35"
      },
      "outputs": [],
      "source": [
        "vectorizer_BOW = CountVectorizer(ngram_range=(1,2))"
      ]
    },
    {
      "cell_type": "code",
      "execution_count": 28,
      "metadata": {
        "id": "EEDdMrCb9Yob"
      },
      "outputs": [],
      "source": [
        "import numpy as np"
      ]
    },
    {
      "cell_type": "code",
      "execution_count": 29,
      "metadata": {
        "colab": {
          "base_uri": "https://localhost:8080/"
        },
        "id": "paDtY9fx95jz",
        "outputId": "c3bf730f-b2bd-4594-9f64-daa993eb9148"
      },
      "outputs": [
        {
          "data": {
            "text/plain": [
              "0        It is an important decision , how to plan you...\n",
              "1        Some people believe that young people can enj...\n",
              "2        Travelling is usually considered as good recr...\n",
              "3        i agree that . Life is a person live period o...\n",
              "4        In my opinion , travel in group with a tour g...\n",
              "                              ...                        \n",
              "9894     Nowadays , more and more people go abroad , n...\n",
              "9895     In accomplishing something that is risky come...\n",
              "9896     At the beginning of the 21st century , the in...\n",
              "9897     The number of cars in use across the world ha...\n",
              "9898     Many people think it is betters to have borad...\n",
              "Name: text, Length: 9899, dtype: object"
            ]
          },
          "execution_count": 29,
          "metadata": {},
          "output_type": "execute_result"
        }
      ],
      "source": [
        "X['text']"
      ]
    },
    {
      "cell_type": "code",
      "execution_count": 30,
      "metadata": {
        "id": "W8nDU3d88znB"
      },
      "outputs": [],
      "source": [
        "# BOW\n",
        "X_bow = vectorizer_BOW.fit_transform(X['text'])"
      ]
    },
    {
      "cell_type": "code",
      "execution_count": 31,
      "metadata": {
        "id": "dfSmxJoV92Sz"
      },
      "outputs": [],
      "source": [
        "# Numerical features\n",
        "X_train_numeric_bow = X[['spelling_errors', 'unique_word_count', ]].values # 'nb_words', 'sentiment_encoded'\n",
        "# Combine text and numerical features\n",
        "# X_train_combined_bow = np.hstack((X_bow.toarray(), X_train_numeric_bow))"
      ]
    },
    {
      "cell_type": "code",
      "execution_count": 32,
      "metadata": {
        "id": "iB_nUp39BnK8"
      },
      "outputs": [],
      "source": [
        "from scipy.sparse import hstack\n",
        "\n",
        "# Combine sparse matrices\n",
        "X_train_combined_bow = hstack((X_bow, X_train_numeric_bow))"
      ]
    },
    {
      "cell_type": "code",
      "execution_count": 33,
      "metadata": {
        "id": "TveA9m1DyjHV"
      },
      "outputs": [],
      "source": [
        "# from sklearn.model_selection import GridSearchCV\n",
        "# from sklearn.ensemble import RandomForestClassifier\n",
        "\n",
        "# # Supposons que X contient vos caractéristiques et y contient vos étiquettes\n",
        "\n",
        "# # Définissez les hyperparamètres que vous souhaitez rechercher\n",
        "# rf_param_grid = {\n",
        "#     'n_estimators': [500],\n",
        "#     'max_depth': [10],\n",
        "#     'min_samples_split': [5],\n",
        "#     'max_features' : ['sqrt' ]\n",
        "# }\n",
        "\n",
        "# # Initialisez le classificateur Random Forest\n",
        "# rf = RandomForestClassifier(random_state=42)\n",
        "\n",
        "# # Initialisez l'objet GridSearchCV\n",
        "# grid_search = GridSearchCV(estimator=rf, param_grid=param_grid, cv=5, scoring='accuracy', n_jobs=-1)\n",
        "\n",
        "# # Ajustez le modèle aux données\n",
        "# grid_search.fit(X_train, y_train)\n",
        "\n",
        "# # Affichez les meilleurs paramètres et le meilleur score\n",
        "# print(\"Meilleurs paramètres :\", grid_search.best_params_)\n",
        "# print(\"Meilleur score :\", grid_search.best_score_)\n"
      ]
    },
    {
      "cell_type": "markdown",
      "metadata": {
        "id": "C3x00_mQ3IPR"
      },
      "source": [
        "# Utils"
      ]
    },
    {
      "cell_type": "code",
      "execution_count": 39,
      "metadata": {
        "id": "0o2uofJMA2VK"
      },
      "outputs": [],
      "source": [
        "import numpy as np\n",
        "import matplotlib.pyplot as plt\n",
        "from sklearn.model_selection import GridSearchCV\n",
        "from sklearn.model_selection import cross_val_score\n",
        "from sklearn.linear_model import LogisticRegression\n",
        "\n",
        "def plot_cross_validation_curve(estimator, X, y, param_grid, title, scoring='accuracy', cv=3):\n",
        "    grid_search = GridSearchCV(estimator, param_grid, scoring=scoring, cv=cv)\n",
        "    grid_search.fit(X, y)\n",
        "\n",
        "    means = grid_search.cv_results_['mean_test_score']\n",
        "    stds = grid_search.cv_results_['std_test_score']\n",
        "    params = grid_search.cv_results_['params']\n",
        "\n",
        "    plt.figure()\n",
        "    plt.title(title)\n",
        "    plt.xlabel(\"Parameter Combinations\")\n",
        "    plt.ylabel(\"Score\")\n",
        "    plt.grid()\n",
        "\n",
        "    xticks = [str(params[i]) for i in range(len(params))]\n",
        "    plt.xticks(rotation=90)\n",
        "\n",
        "    plt.errorbar(range(len(means)), means, yerr=stds, fmt='o-', color=\"g\", label=\"Cross-validation score\")\n",
        "\n",
        "    plt.legend(loc=\"best\")\n",
        "    return plt, grid_search"
      ]
    },
    {
      "cell_type": "markdown",
      "metadata": {
        "id": "EyXPsY4u3K3j"
      },
      "source": [
        "# train"
      ]
    },
    {
      "cell_type": "code",
      "execution_count": 35,
      "metadata": {
        "id": "xpKrpU5u0Vf4"
      },
      "outputs": [],
      "source": [
        "from sklearn.model_selection import GridSearchCV\n",
        "from sklearn.linear_model import LogisticRegression\n",
        "\n",
        "# Supposons que X contient vos caractéristiques et y contient vos étiquettes\n",
        "\n",
        "# Définissez les hyperparamètres que vous souhaitez rechercher\n",
        "lr_param_grid = {\n",
        "    'penalty': ['l2'], # add elastic net\n",
        "    'C': [0.01, 10], # ppur reduire l'overfit du modele final add  1, 0.1\n",
        "    'solver': [ 'saga'],\n",
        "    'max_iter': [3000],\n",
        "    'n_jobs': [-1],\n",
        "}\n",
        "\n",
        "# Initialisez le classificateur de régression logistique\n",
        "lr_model = LogisticRegression(random_state=42)"
      ]
    },
    {
      "cell_type": "code",
      "execution_count": 36,
      "metadata": {
        "id": "OxDBWJiNC4Kv"
      },
      "outputs": [],
      "source": [
        "from sklearn.model_selection import train_test_split\n",
        "X_train, X_test, y_train, y_test = train_test_split(X_train_combined_bow, y, test_size=0.2, random_state=42)"
      ]
    },
    {
      "cell_type": "code",
      "execution_count": 37,
      "metadata": {
        "id": "RI0KfLDYNUgl"
      },
      "outputs": [],
      "source": [
        "# from sklearn.linear_model import LogisticRegression\n",
        "# from sklearn.metrics import accuracy_score\n",
        "# import time\n",
        "\n",
        "# # Create logistic regression model with desired parameters\n",
        "# lr_model = LogisticRegression(max_iter=1500, n_jobs=-1)\n",
        "\n",
        "# # Training\n",
        "# start_time = time.time()\n",
        "# lr_model.fit(X_train, y_train)\n",
        "# training_time = (time.time() - start_time) / 60  # Time in minutes\n",
        "\n",
        "# # Prediction on training set\n",
        "# start_time = time.time()\n",
        "# y_train_pred = lr_model.predict(X_train)\n",
        "# train_prediction_time = (time.time() - start_time) / 60  # Time in minutes\n",
        "\n",
        "# # Calculate accuracy on training set\n",
        "# train_accuracy = accuracy_score(y_train, y_train_pred)\n",
        "# print(\"Training Accuracy:\", train_accuracy)\n",
        "# print(\"Training Time (minutes):\", training_time)\n",
        "# print(\"Prediction Time on Training Set (minutes):\", train_prediction_time)\n",
        "\n",
        "# # Prediction on test set\n",
        "# start_time = time.time()\n",
        "# y_test_pred = lr_model.predict(X_test)\n",
        "# test_prediction_time = (time.time() - start_time) / 60  # Time in minutes\n",
        "\n",
        "# # Calculate accuracy on test set\n",
        "# test_accuracy = accuracy_score(y_test, y_test_pred)\n",
        "# print(\"Test Accuracy:\", test_accuracy)\n",
        "# print(\"Prediction Time on Test Set (minutes):\", test_prediction_time)\n"
      ]
    },
    {
      "cell_type": "code",
      "execution_count": 41,
      "metadata": {
        "id": "NJxhwi_d3f_8"
      },
      "outputs": [
        {
          "name": "stdout",
          "output_type": "stream",
          "text": [
            "Best model saved to file: M1_feature_.pkl\n"
          ]
        },
        {
          "data": {
            "image/png": "[encoded data removed]",
            "text/plain": [
              "<Figure size 640x480 with 1 Axes>"
            ]
          },
          "metadata": {},
          "output_type": "display_data"
        },
        {
          "name": "stdout",
          "output_type": "stream",
          "text": [
            "Best Parameters: {'penalty': 'l2', 'C': 10, 'solver': 'saga', 'max_iter': 3000, 'n_jobs': -1}\n"
          ]
        },
        {
          "ename": "AttributeError",
          "evalue": "'LogisticRegression' object has no attribute 'best_score_'",
          "output_type": "error",
          "traceback": [
            "\u001b[0;31m---------------------------------------------------------------------------\u001b[0m",
            "\u001b[0;31mAttributeError\u001b[0m                            Traceback (most recent call last)",
            "Cell \u001b[0;32mIn[41], line 58\u001b[0m\n\u001b[1;32m     55\u001b[0m plt\u001b[38;5;241m.\u001b[39mshow()\n\u001b[1;32m     57\u001b[0m \u001b[38;5;28mprint\u001b[39m(\u001b[38;5;124m\"\u001b[39m\u001b[38;5;124mBest Parameters:\u001b[39m\u001b[38;5;124m\"\u001b[39m, best_params)\n\u001b[0;32m---> 58\u001b[0m \u001b[38;5;28mprint\u001b[39m(\u001b[38;5;124m\"\u001b[39m\u001b[38;5;124mBest Score:\u001b[39m\u001b[38;5;124m\"\u001b[39m, \u001b[43mbest_model\u001b[49m\u001b[38;5;241;43m.\u001b[39;49m\u001b[43mbest_score_\u001b[49m)\n",
            "\u001b[0;31mAttributeError\u001b[0m: 'LogisticRegression' object has no attribute 'best_score_'"
          ]
        }
      ],
      "source": [
        "import numpy as np\n",
        "import matplotlib.pyplot as plt\n",
        "from sklearn.model_selection import GridSearchCV\n",
        "from sklearn.model_selection import cross_val_score\n",
        "from sklearn.linear_model import LogisticRegression\n",
        "import joblib\n",
        "\n",
        "def plot_cross_validation_curves(estimator, X, y, param_grid, title, scoring='accuracy', cv=3):\n",
        "    plt.figure()\n",
        "    plt.title(title)\n",
        "    plt.xlabel(\"Parameter Combinations\")\n",
        "    plt.ylabel(\"Score\")\n",
        "    plt.grid()\n",
        "    \n",
        "    best_score = float('-inf')\n",
        "    best_model = None\n",
        "    best_params = None\n",
        "    \n",
        "    for param_combination in param_grid:\n",
        "        # Set the hyperparameters for this combination\n",
        "        estimator.set_params(**param_combination)\n",
        "        \n",
        "        # Perform cross-validation and get scores\n",
        "        scores = cross_val_score(estimator, X, y, scoring=scoring, cv=cv)\n",
        "        mean_score = np.mean(scores)\n",
        "        std_score = np.std(scores)\n",
        "        \n",
        "        # Plot the scores\n",
        "        plt.errorbar(range(len(scores)), scores, yerr=std_score, fmt='o-', label=str(param_combination))\n",
        "        \n",
        "        # Update best model if necessary\n",
        "        if mean_score > best_score:\n",
        "            best_score = mean_score\n",
        "            best_params = param_combination\n",
        "            best_model = estimator.fit(X, y)\n",
        "    \n",
        "    plt.legend(loc=\"best\")\n",
        "    \n",
        "    # Save the best model to a file\n",
        "    joblib.dump(best_model, 'M1_feature_.pkl')\n",
        "    print(\"Best model saved to file: M1_feature_.pkl\")\n",
        "    \n",
        "    return plt, best_model, best_params\n",
        "\n",
        "# Example usage:\n",
        "lr_param_grid = [\n",
        "    {'penalty': 'l2', 'C': 0.01, 'solver': 'saga', 'max_iter': 3000, 'n_jobs': -1},\n",
        "    {'penalty': 'l2', 'C': 10, 'solver': 'saga', 'max_iter': 3000, 'n_jobs': -1},\n",
        "]\n",
        "\n",
        "lr_model = LogisticRegression(random_state=42)\n",
        "\n",
        "# Example call\n",
        "plt, best_model, best_params = plot_cross_validation_curves(lr_model, X_train, y_train.values.ravel(), lr_param_grid, \"Logistic Regression Cross Validation Curves\", scoring='accuracy', cv=2)\n",
        "plt.show()\n",
        "\n",
        "print(\"Best Parameters:\", best_params)\n",
        "print(\"Best Score:\", best_model.best_score_)\n"
      ]
    },
    {
      "cell_type": "code",
      "execution_count": null,
      "metadata": {
        "id": "BO8Ft44kDS2A"
      },
      "outputs": [],
      "source": [
        "from sklearn.metrics import precision_recall_fscore_support, accuracy_score\n",
        "\n",
        "def evaluate_model_performance_detailed(mapping_list, model, model_name, method_name, train, test, y_train, y_test):\n",
        "\n",
        "    predictions = model.predict(test)\n",
        "    predictions_train = model.predict(train)\n",
        "\n",
        "\n",
        "    # Metrics for each label\n",
        "    precision, recall, f1, _ = precision_recall_fscore_support(y_test, predictions, average=None)\n",
        "    metrics_df = pd.DataFrame({'Label': list(mapping_list.keys()),\n",
        "                               'Precision': precision,\n",
        "                               'Recall': recall,\n",
        "                               'F1 Score': f1})\n",
        "\n",
        "    # Global (macro) metrics\n",
        "    precision_macro, recall_macro, f1_macro, _ = precision_recall_fscore_support(y_test, predictions, average='macro')\n",
        "    accuracy = accuracy_score(y_test, predictions)\n",
        "\n",
        "    precision_macro_train , recall_macro_train , f1_macro_train , _ = precision_recall_fscore_support(y_train, predictions_train, average='macro')\n",
        "\n",
        "    accuracy_train = accuracy_score(y_train, predictions_train)\n",
        "\n",
        "    print(\"train-------------------------------------------\")\n",
        "    print(f\"{model_name} ({method_name}) - Overall Metrics:\\n- Accuracy: {accuracy_train:.4f}\\n- Precision (Macro): {precision_macro_train:.4f}\\n- Recall (Macro): {recall_macro_train:.4f}\\n- F1 (Macro): {f1_macro_train:.4f}\\n\")\n",
        "\n",
        "    print(\"test--------------------------------------------\")\n",
        "    print(f\"{model_name} ({method_name}) - Overall Metrics:\\n- Accuracy: {accuracy:.4f}\\n- Precision (Macro): {precision_macro:.4f}\\n- Recall (Macro): {recall_macro:.4f}\\n- F1 (Macro): {f1_macro:.4f}\\n\")\n",
        "\n",
        "    print(f\"{model_name} ({method_name}) - Metrics by Label:\")\n",
        "    print(metrics_df.to_string(index=False))\n",
        "\n",
        "\n",
        "    cm = confusion_matrix(y_test, predictions)\n",
        "\n",
        "    # Plotting the confusion matrix\n",
        "    plt.figure(figsize=(5, 3))\n",
        "    sns.heatmap(cm, annot=True, cmap='coolwarm', fmt='d', xticklabels=list(mapping_list.keys()), yticklabels=list(mapping_list.keys()))\n",
        "    plt.title(f\"Confusion Matrix - {model_name} ({method_name})\")\n",
        "    plt.xlabel('Predicted Labels')\n",
        "    plt.ylabel('True Labels')\n",
        "    plt.show()\n",
        "\n",
        "    return model\n"
      ]
    },
    {
      "cell_type": "code",
      "execution_count": null,
      "metadata": {},
      "outputs": [],
      "source": []
    }
  ],
  "metadata": {
    "colab": {
      "include_colab_link": true,
      "provenance": []
    },
    "kernelspec": {
      "display_name": "Python 3",
      "name": "python3"
    },
    "language_info": {
      "codemirror_mode": {
        "name": "ipython",
        "version": 3
      },
      "file_extension": ".py",
      "mimetype": "text/x-python",
      "name": "python",
      "nbconvert_exporter": "python",
      "pygments_lexer": "ipython3",
      "version": "3.10.13"
    }
  },
  "nbformat": 4,
  "nbformat_minor": 0
}
