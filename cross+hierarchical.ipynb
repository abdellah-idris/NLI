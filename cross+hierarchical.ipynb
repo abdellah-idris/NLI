{
  "cells": [
    {
      "cell_type": "markdown",
      "metadata": {
        "id": "view-in-github",
        "colab_type": "text"
      },
      "source": [
        "<a href=\"https://colab.research.google.com/github/abdellah-idris/NLI/blob/master/cross%2Bhierarchical.ipynb\" target=\"_parent\"><img src=\"https://colab.research.google.com/assets/colab-badge.svg\" alt=\"Open In Colab\"/></a>"
      ]
    },
    {
      "cell_type": "markdown",
      "metadata": {
        "id": "FlJOGEbw4mdC"
      },
      "source": [
        "rendu: zip\n",
        "\n",
        "final: fcihier a anoter ( text et mettre les labels)\n",
        "\n",
        "repport : pdf, on vas dans le concret ( moins de blabla)\n",
        "  -  carnet d'experience ( ce qu'on a tester)\n",
        "  -  expliciter ce qui n'a pas marché\n",
        "  -  essayer de faire des conclusion\n",
        "\n",
        "Presentation:\n",
        "  - parler d'un truc intéressant et parler rapidement (cross vs grip) 5 a 10 max\n",
        "\n",
        "\n",
        "date d'envoi max 04/07\n",
        "mail : @universite-paris-saclay"
      ]
    },
    {
      "cell_type": "markdown",
      "metadata": {
        "id": "47Cqh_DG6WR5"
      },
      "source": [
        "### **1. Importation des librairies**"
      ]
    },
    {
      "cell_type": "code",
      "execution_count": null,
      "metadata": {
        "id": "TML7OcM00Rjw"
      },
      "outputs": [],
      "source": [
        "import os\n",
        "import re\n",
        "import pandas as pd\n",
        "import numpy as np\n",
        "import matplotlib.pyplot as plt\n",
        "import seaborn as sns\n",
        "from sklearn.model_selection import train_test_split\n",
        "from sklearn.feature_extraction.text import CountVectorizer, TfidfVectorizer\n",
        "from sklearn.svm import SVC\n",
        "from sklearn.linear_model import LogisticRegression\n",
        "from sklearn.metrics import accuracy_score, classification_report, confusion_matrix, precision_score, recall_score, f1_score\n",
        "from collections import Counter"
      ]
    },
    {
      "cell_type": "markdown",
      "metadata": {
        "id": "ybz5LpQyPaJn"
      },
      "source": [
        "### **2. Lecture des données**"
      ]
    },
    {
      "cell_type": "code",
      "execution_count": null,
      "metadata": {
        "id": "DQwpiC31leKi"
      },
      "outputs": [],
      "source": [
        "# from google.colab import files\n",
        "\n",
        "# uploaded = files.upload()"
      ]
    },
    {
      "cell_type": "code",
      "execution_count": null,
      "metadata": {
        "id": "QSQCfEjVz8za"
      },
      "outputs": [],
      "source": [
        "df = pd.read_csv('train.txt', sep='\\t', header=None)"
      ]
    },
    {
      "cell_type": "code",
      "source": [
        "df"
      ],
      "metadata": {
        "colab": {
          "base_uri": "https://localhost:8080/",
          "height": 423
        },
        "id": "hLf73s0BMF_U",
        "outputId": "6ec8c160-bff8-44da-c1a7-2693ced1c8db"
      },
      "execution_count": null,
      "outputs": [
        {
          "output_type": "execute_result",
          "data": {
            "text/plain": [
              "                                                      0\n",
              "0     (GER) IThe importance and popularity of travel...\n",
              "1     (TUR) It is an important decision , how to pla...\n",
              "2     (CHI) Some people believe that young people ca...\n",
              "3     (TEL) Travelling is usually considered as good...\n",
              "4     (ARA) i agree that . Life is a person live per...\n",
              "...                                                 ...\n",
              "9895  (CHI) Nowadays , more and more people go abroa...\n",
              "9896  (KOR) In accomplishing something that is risky...\n",
              "9897  (SPA) At the beginning of the 21st century , t...\n",
              "9898  (HIN) The number of cars in use across the wor...\n",
              "9899  (CHI) Many people think it is betters to have ...\n",
              "\n",
              "[9900 rows x 1 columns]"
            ],
            "text/html": [
              "\n",
              "  <div id=\"df-7f6744dd-243d-4cdb-8f35-7d815e3e17c3\" class=\"colab-df-container\">\n",
              "    <div>\n",
              "<style scoped>\n",
              "    .dataframe tbody tr th:only-of-type {\n",
              "        vertical-align: middle;\n",
              "    }\n",
              "\n",
              "    .dataframe tbody tr th {\n",
              "        vertical-align: top;\n",
              "    }\n",
              "\n",
              "    .dataframe thead th {\n",
              "        text-align: right;\n",
              "    }\n",
              "</style>\n",
              "<table border=\"1\" class=\"dataframe\">\n",
              "  <thead>\n",
              "    <tr style=\"text-align: right;\">\n",
              "      <th></th>\n",
              "      <th>0</th>\n",
              "    </tr>\n",
              "  </thead>\n",
              "  <tbody>\n",
              "    <tr>\n",
              "      <th>0</th>\n",
              "      <td>(GER) IThe importance and popularity of travel...</td>\n",
              "    </tr>\n",
              "    <tr>\n",
              "      <th>1</th>\n",
              "      <td>(TUR) It is an important decision , how to pla...</td>\n",
              "    </tr>\n",
              "    <tr>\n",
              "      <th>2</th>\n",
              "      <td>(CHI) Some people believe that young people ca...</td>\n",
              "    </tr>\n",
              "    <tr>\n",
              "      <th>3</th>\n",
              "      <td>(TEL) Travelling is usually considered as good...</td>\n",
              "    </tr>\n",
              "    <tr>\n",
              "      <th>4</th>\n",
              "      <td>(ARA) i agree that . Life is a person live per...</td>\n",
              "    </tr>\n",
              "    <tr>\n",
              "      <th>...</th>\n",
              "      <td>...</td>\n",
              "    </tr>\n",
              "    <tr>\n",
              "      <th>9895</th>\n",
              "      <td>(CHI) Nowadays , more and more people go abroa...</td>\n",
              "    </tr>\n",
              "    <tr>\n",
              "      <th>9896</th>\n",
              "      <td>(KOR) In accomplishing something that is risky...</td>\n",
              "    </tr>\n",
              "    <tr>\n",
              "      <th>9897</th>\n",
              "      <td>(SPA) At the beginning of the 21st century , t...</td>\n",
              "    </tr>\n",
              "    <tr>\n",
              "      <th>9898</th>\n",
              "      <td>(HIN) The number of cars in use across the wor...</td>\n",
              "    </tr>\n",
              "    <tr>\n",
              "      <th>9899</th>\n",
              "      <td>(CHI) Many people think it is betters to have ...</td>\n",
              "    </tr>\n",
              "  </tbody>\n",
              "</table>\n",
              "<p>9900 rows × 1 columns</p>\n",
              "</div>\n",
              "    <div class=\"colab-df-buttons\">\n",
              "\n",
              "  <div class=\"colab-df-container\">\n",
              "    <button class=\"colab-df-convert\" onclick=\"convertToInteractive('df-7f6744dd-243d-4cdb-8f35-7d815e3e17c3')\"\n",
              "            title=\"Convert this dataframe to an interactive table.\"\n",
              "            style=\"display:none;\">\n",
              "\n",
              "  <svg xmlns=\"http://www.w3.org/2000/svg\" height=\"24px\" viewBox=\"0 -960 960 960\">\n",
              "    <path d=\"M120-120v-720h720v720H120Zm60-500h600v-160H180v160Zm220 220h160v-160H400v160Zm0 220h160v-160H400v160ZM180-400h160v-160H180v160Zm440 0h160v-160H620v160ZM180-180h160v-160H180v160Zm440 0h160v-160H620v160Z\"/>\n",
              "  </svg>\n",
              "    </button>\n",
              "\n",
              "  <style>\n",
              "    .colab-df-container {\n",
              "      display:flex;\n",
              "      gap: 12px;\n",
              "    }\n",
              "\n",
              "    .colab-df-convert {\n",
              "      background-color: #E8F0FE;\n",
              "      border: none;\n",
              "      border-radius: 50%;\n",
              "      cursor: pointer;\n",
              "      display: none;\n",
              "      fill: #1967D2;\n",
              "      height: 32px;\n",
              "      padding: 0 0 0 0;\n",
              "      width: 32px;\n",
              "    }\n",
              "\n",
              "    .colab-df-convert:hover {\n",
              "      background-color: #E2EBFA;\n",
              "      box-shadow: 0px 1px 2px rgba(60, 64, 67, 0.3), 0px 1px 3px 1px rgba(60, 64, 67, 0.15);\n",
              "      fill: #174EA6;\n",
              "    }\n",
              "\n",
              "    .colab-df-buttons div {\n",
              "      margin-bottom: 4px;\n",
              "    }\n",
              "\n",
              "    [theme=dark] .colab-df-convert {\n",
              "      background-color: #3B4455;\n",
              "      fill: #D2E3FC;\n",
              "    }\n",
              "\n",
              "    [theme=dark] .colab-df-convert:hover {\n",
              "      background-color: #434B5C;\n",
              "      box-shadow: 0px 1px 3px 1px rgba(0, 0, 0, 0.15);\n",
              "      filter: drop-shadow(0px 1px 2px rgba(0, 0, 0, 0.3));\n",
              "      fill: #FFFFFF;\n",
              "    }\n",
              "  </style>\n",
              "\n",
              "    <script>\n",
              "      const buttonEl =\n",
              "        document.querySelector('#df-7f6744dd-243d-4cdb-8f35-7d815e3e17c3 button.colab-df-convert');\n",
              "      buttonEl.style.display =\n",
              "        google.colab.kernel.accessAllowed ? 'block' : 'none';\n",
              "\n",
              "      async function convertToInteractive(key) {\n",
              "        const element = document.querySelector('#df-7f6744dd-243d-4cdb-8f35-7d815e3e17c3');\n",
              "        const dataTable =\n",
              "          await google.colab.kernel.invokeFunction('convertToInteractive',\n",
              "                                                    [key], {});\n",
              "        if (!dataTable) return;\n",
              "\n",
              "        const docLinkHtml = 'Like what you see? Visit the ' +\n",
              "          '<a target=\"_blank\" href=https://colab.research.google.com/notebooks/data_table.ipynb>data table notebook</a>'\n",
              "          + ' to learn more about interactive tables.';\n",
              "        element.innerHTML = '';\n",
              "        dataTable['output_type'] = 'display_data';\n",
              "        await google.colab.output.renderOutput(dataTable, element);\n",
              "        const docLink = document.createElement('div');\n",
              "        docLink.innerHTML = docLinkHtml;\n",
              "        element.appendChild(docLink);\n",
              "      }\n",
              "    </script>\n",
              "  </div>\n",
              "\n",
              "\n",
              "<div id=\"df-6865ac25-5b50-4988-88dc-c4d725b4c4fd\">\n",
              "  <button class=\"colab-df-quickchart\" onclick=\"quickchart('df-6865ac25-5b50-4988-88dc-c4d725b4c4fd')\"\n",
              "            title=\"Suggest charts\"\n",
              "            style=\"display:none;\">\n",
              "\n",
              "<svg xmlns=\"http://www.w3.org/2000/svg\" height=\"24px\"viewBox=\"0 0 24 24\"\n",
              "     width=\"24px\">\n",
              "    <g>\n",
              "        <path d=\"M19 3H5c-1.1 0-2 .9-2 2v14c0 1.1.9 2 2 2h14c1.1 0 2-.9 2-2V5c0-1.1-.9-2-2-2zM9 17H7v-7h2v7zm4 0h-2V7h2v10zm4 0h-2v-4h2v4z\"/>\n",
              "    </g>\n",
              "</svg>\n",
              "  </button>\n",
              "\n",
              "<style>\n",
              "  .colab-df-quickchart {\n",
              "      --bg-color: #E8F0FE;\n",
              "      --fill-color: #1967D2;\n",
              "      --hover-bg-color: #E2EBFA;\n",
              "      --hover-fill-color: #174EA6;\n",
              "      --disabled-fill-color: #AAA;\n",
              "      --disabled-bg-color: #DDD;\n",
              "  }\n",
              "\n",
              "  [theme=dark] .colab-df-quickchart {\n",
              "      --bg-color: #3B4455;\n",
              "      --fill-color: #D2E3FC;\n",
              "      --hover-bg-color: #434B5C;\n",
              "      --hover-fill-color: #FFFFFF;\n",
              "      --disabled-bg-color: #3B4455;\n",
              "      --disabled-fill-color: #666;\n",
              "  }\n",
              "\n",
              "  .colab-df-quickchart {\n",
              "    background-color: var(--bg-color);\n",
              "    border: none;\n",
              "    border-radius: 50%;\n",
              "    cursor: pointer;\n",
              "    display: none;\n",
              "    fill: var(--fill-color);\n",
              "    height: 32px;\n",
              "    padding: 0;\n",
              "    width: 32px;\n",
              "  }\n",
              "\n",
              "  .colab-df-quickchart:hover {\n",
              "    background-color: var(--hover-bg-color);\n",
              "    box-shadow: 0 1px 2px rgba(60, 64, 67, 0.3), 0 1px 3px 1px rgba(60, 64, 67, 0.15);\n",
              "    fill: var(--button-hover-fill-color);\n",
              "  }\n",
              "\n",
              "  .colab-df-quickchart-complete:disabled,\n",
              "  .colab-df-quickchart-complete:disabled:hover {\n",
              "    background-color: var(--disabled-bg-color);\n",
              "    fill: var(--disabled-fill-color);\n",
              "    box-shadow: none;\n",
              "  }\n",
              "\n",
              "  .colab-df-spinner {\n",
              "    border: 2px solid var(--fill-color);\n",
              "    border-color: transparent;\n",
              "    border-bottom-color: var(--fill-color);\n",
              "    animation:\n",
              "      spin 1s steps(1) infinite;\n",
              "  }\n",
              "\n",
              "  @keyframes spin {\n",
              "    0% {\n",
              "      border-color: transparent;\n",
              "      border-bottom-color: var(--fill-color);\n",
              "      border-left-color: var(--fill-color);\n",
              "    }\n",
              "    20% {\n",
              "      border-color: transparent;\n",
              "      border-left-color: var(--fill-color);\n",
              "      border-top-color: var(--fill-color);\n",
              "    }\n",
              "    30% {\n",
              "      border-color: transparent;\n",
              "      border-left-color: var(--fill-color);\n",
              "      border-top-color: var(--fill-color);\n",
              "      border-right-color: var(--fill-color);\n",
              "    }\n",
              "    40% {\n",
              "      border-color: transparent;\n",
              "      border-right-color: var(--fill-color);\n",
              "      border-top-color: var(--fill-color);\n",
              "    }\n",
              "    60% {\n",
              "      border-color: transparent;\n",
              "      border-right-color: var(--fill-color);\n",
              "    }\n",
              "    80% {\n",
              "      border-color: transparent;\n",
              "      border-right-color: var(--fill-color);\n",
              "      border-bottom-color: var(--fill-color);\n",
              "    }\n",
              "    90% {\n",
              "      border-color: transparent;\n",
              "      border-bottom-color: var(--fill-color);\n",
              "    }\n",
              "  }\n",
              "</style>\n",
              "\n",
              "  <script>\n",
              "    async function quickchart(key) {\n",
              "      const quickchartButtonEl =\n",
              "        document.querySelector('#' + key + ' button');\n",
              "      quickchartButtonEl.disabled = true;  // To prevent multiple clicks.\n",
              "      quickchartButtonEl.classList.add('colab-df-spinner');\n",
              "      try {\n",
              "        const charts = await google.colab.kernel.invokeFunction(\n",
              "            'suggestCharts', [key], {});\n",
              "      } catch (error) {\n",
              "        console.error('Error during call to suggestCharts:', error);\n",
              "      }\n",
              "      quickchartButtonEl.classList.remove('colab-df-spinner');\n",
              "      quickchartButtonEl.classList.add('colab-df-quickchart-complete');\n",
              "    }\n",
              "    (() => {\n",
              "      let quickchartButtonEl =\n",
              "        document.querySelector('#df-6865ac25-5b50-4988-88dc-c4d725b4c4fd button');\n",
              "      quickchartButtonEl.style.display =\n",
              "        google.colab.kernel.accessAllowed ? 'block' : 'none';\n",
              "    })();\n",
              "  </script>\n",
              "</div>\n",
              "    </div>\n",
              "  </div>\n"
            ],
            "application/vnd.google.colaboratory.intrinsic+json": {
              "type": "dataframe",
              "variable_name": "df",
              "summary": "{\n  \"name\": \"df\",\n  \"rows\": 9900,\n  \"fields\": [\n    {\n      \"column\": 0,\n      \"properties\": {\n        \"dtype\": \"string\",\n        \"num_unique_values\": 9900,\n        \"samples\": [\n          \"(TUR) Transportation is a very crucial dimension of globalization of which we are experiencing in its highest speed . The first cars started to be used in the beginning of the 20th century and have been used for decades as the most available machine for those who are eager to use it . According to my futuristic view about cars in the following twenty years , there will not be fewer cars in use than there are today , but more . I can certainly argue that the globalization process in the `` Third World countries '' will be a very important factor which will lead to the increse in the number of cars . Secondly , because of the lack of the culture of the usage of alternative mechanisms in transportation , the increase will continue . Thirdly , the non-existence of alternative machines produces which are cheap and effective as cars will be another reason for the increase . Finally , even though all of these three handicaps disappear , the government policies and the interests of car-producing corporations will hinder the achievements in reducing the number of cars in use . Firstly , globalization is a process which cannot be stopped in the near future . There are significant numbers of countries which entered the globalization age in the near past , there fore they do not have the number of cars as many as the number of the cars in the West . therefore , the countries like China , India , the countries of Africa or other countries which are not ndustrialized or are not in the free market system newly possesing that culture of usage if cars , which simply measn that there will be more cars in use in the near future . Secondly , in many of the countries , governments suffer from the lack of the culture of using alternative sources of transportation . modernized countries promote the usage of mass transportation and therefore , people living there are used to be directed to these alternatives . but in the countries like Turkey , people do not have the consciousness of mass transportation , instead every individual tend to buy a car for themselves , which is obviously a factor increasing the number of cars . Thirdly , many of car users do not want to give up using their cars since it is very useful and it provides opprtunities to them of which others do not have . People living in Istanbul would not give up their cars since there is a huge mass of cars on the roads which creates a problem for mass transportation users . when there is a jam on the road , the best possible way to rescue yourself from that will not be using mass transportation and get stuck on the roads with those heavy and slow machine , but instead you will want to use your car . Finally , governments in less industrialized countries do not have policies to cope with traffic problem and they do not promote policies to reduce the number of cars in use . On the other hand , the companies or corporations who produce these cars will not be willing to stop their production since that will destroy their interests . these corporations are always in contact with the governments in which they are established and will try to do everything beneficial to their interests . In conclusion , I believe that there will be more cars in use than today . the conditions of globalization and the certaio\",\n          \"(ITA) I think that today is most important to specialize in one specific subject than to have broad knowledge of many academic subject . Today for a person is most important to find a job , and to find a job you must have the knowledge that for example a factory requires . If i can do a bit of all but i don-t know the exact thing that i was contacted to do i will never find a job . For me today factories search people with a specialize knowledge in one specific subject because is difficult today to find persons that have an adeguate preparation in only one thing . To be a specialize person you must spend lot of your time studying and travelling around your country ( or across europe ) to increase your ability . but today for me persons that have the like to do this are became lesser . I can see a lot of my friends that have just finished to study , they don-t like to travel to another city to become better in their work , they are huppy to stay near their home . Fortunately they have found a job near their home but other persons unfortunately didn-t find it also in other countries . So to get a job that tey like they have must attend specialized courses and they have must travel a lot to increase their knowledge . So if you want a job and particulary a job as you like and near your family , for me is necessary a specialize knowledge of something , something that you know is required in the part you have studied for .\",\n          \"(SPA) If we take a look around the world , we will realize that the most successful people have always been at the edge of tecnology and have accomplish their goals by taking risks and trying out new things . It is necessary just to read any successful man 's biography to understand what this means . We all need to learn how to do things the best way we can and I think sometimes it can be quite scary to go into an unknown field , because there is a big chance we might fail . But failure is always a possibility and is present through our whole life and we have to learn to deal with it , because if we all stick to what we do and do n't try out new things , then the world would stop growing and developing and we would be inmerse in a place where there is no innovation . For instance , in bussiness , the best way to be successful is to come out with some product that nobody else has , that makes you unique . But most of the time , there is a big chance people wo n't like it . That 's why even if you do marketing studies , there 's always a risk factor that involves making decissions based on what you believe in without knowing the results . And in spite of how difficult it looks , it is necessary to keep going and make it happen , just to see how it turns out to be . In conclusion , the key to success is to innovate and take risks , this is the only way we will be able to build a better world , not only getting money , but also helping society , because in my opinion , success is not only defined by how rich you are , but by how much you have done for the world we live in .\"\n        ],\n        \"semantic_type\": \"\",\n        \"description\": \"\"\n      }\n    }\n  ]\n}"
            }
          },
          "metadata": {},
          "execution_count": 3
        }
      ]
    },
    {
      "cell_type": "markdown",
      "metadata": {
        "id": "FxkJvOxGSqBe"
      },
      "source": [
        "### **Utils**"
      ]
    },
    {
      "cell_type": "markdown",
      "metadata": {
        "id": "TQ0U9AWGVKIJ"
      },
      "source": [
        "#### models & vectorizers + group mapping"
      ]
    },
    {
      "cell_type": "code",
      "execution_count": null,
      "metadata": {
        "id": "CKAkMIHzndNW"
      },
      "outputs": [],
      "source": [
        "groups_mapping= {'HIN+TEL':0, 'KOR+CHI+JPN':1, 'FRE+SPA+ITA+GER':2,'ARA+TUR':3}"
      ]
    },
    {
      "cell_type": "code",
      "execution_count": null,
      "metadata": {
        "id": "porNY0I-SqBr"
      },
      "outputs": [],
      "source": [
        "from sklearn.ensemble import RandomForestClassifier\n",
        "\n",
        "# vectorizers\n",
        "vectorizers = {\n",
        "  # 'vectorizer_BOW' : CountVectorizer(), # default=(1, 1)\n",
        "  # 'vectorizer_TF_IDF' : TfidfVectorizer(), #default=(1, 1)\n",
        "  'vectorizer_BOW_bigram' : CountVectorizer(ngram_range=(1, 2)),\n",
        "  # 'vectorizer_TF_IDF_bigram' : TfidfVectorizer(ngram_range=(1, 2)),\n",
        "}\n",
        "\n",
        "# Modèles de classification\n",
        "models = {\n",
        "    'Logistic Regression': LogisticRegression(max_iter=2000, n_jobs=-1),\n",
        "    # 'SVM': SVC(),\n",
        "    # 'rf': RandomForestClassifier(random_state=42, min_samples_split=5, min_samples_leaf=2,  n_jobs=-1)\n",
        "\n",
        "}"
      ]
    },
    {
      "cell_type": "markdown",
      "metadata": {
        "id": "RIdmqZq5TkBW"
      },
      "source": [
        "#### Balance data\n",
        "- each group same number of item\n",
        "- in each group: each country same number of item"
      ]
    },
    {
      "cell_type": "code",
      "execution_count": null,
      "metadata": {
        "id": "k8nt4c_3Tide"
      },
      "outputs": [],
      "source": [
        "import pandas as pd\n",
        "\n",
        "def balance_dataset_groups(df):\n",
        "    balanced_df = pd.DataFrame(columns=df.columns)\n",
        "\n",
        "    # Determine the minimum number of samples among all groups\n",
        "    min_samples_per_group = df['group'].value_counts().min()\n",
        "\n",
        "    # Iterate over each group in the dataset\n",
        "    for group_name, group_data in df.groupby('group'):\n",
        "        # Sample the minimum number of samples for this group\n",
        "        sampled_group_data = group_data.sample(min_samples_per_group, replace=False)\n",
        "\n",
        "        # Determine the minimum number of samples among all subgroups within this group\n",
        "        min_samples_per_subgroup = min_samples_per_group // len(group_data['country_code'].unique())\n",
        "\n",
        "        # Iterate over each subgroup within this group\n",
        "        for subgroup_name, subgroup_data in sampled_group_data.groupby('country_code'):\n",
        "            # Determine the number of samples in this subgroup\n",
        "            subgroup_size = len(subgroup_data)\n",
        "\n",
        "            # If the subgroup has fewer samples than required, sample with replacement\n",
        "            if subgroup_size < min_samples_per_subgroup:\n",
        "                sampled_subgroup_data = subgroup_data.sample(min_samples_per_subgroup, replace=True)\n",
        "            else:\n",
        "                sampled_subgroup_data = subgroup_data.sample(min_samples_per_subgroup, replace=False)\n",
        "\n",
        "            # Append the sampled subgroup data to the balanced dataset\n",
        "            balanced_df = pd.concat([balanced_df, sampled_subgroup_data])\n",
        "\n",
        "    # Reset the index of the balanced DataFrame\n",
        "    balanced_df.reset_index(drop=True, inplace=True)\n",
        "\n",
        "    return balanced_df\n"
      ]
    },
    {
      "cell_type": "markdown",
      "metadata": {
        "id": "Ozy3PcL6NULg"
      },
      "source": [
        "#### Fonctions d'évaluations et matrice de confusion :"
      ]
    },
    {
      "cell_type": "code",
      "execution_count": null,
      "metadata": {
        "id": "MgB_5-68SgDf"
      },
      "outputs": [],
      "source": [
        "# from sklearn.metrics import precision_recall_fscore_support, accuracy_score\n",
        "\n",
        "# def evaluate_model_performance_detailed(mapping_list, model, model_name, method_name, train, test, y_train, y_test):\n",
        "#     model.fit(train, y_train)\n",
        "#     predictions = model.predict(test)\n",
        "#     predictions_train = model.predict(train)\n",
        "\n",
        "\n",
        "#     # Metrics for each label\n",
        "#     precision, recall, f1, _ = precision_recall_fscore_support(y_test, predictions, average=None)\n",
        "#     metrics_df = pd.DataFrame({'Label': list(mapping_list.keys()),\n",
        "#                                'Precision': precision,\n",
        "#                                'Recall': recall,\n",
        "#                                'F1 Score': f1})\n",
        "\n",
        "#     # Global (macro) metrics\n",
        "#     precision_macro, recall_macro, f1_macro, _ = precision_recall_fscore_support(y_test, predictions, average='macro')\n",
        "#     accuracy = accuracy_score(y_test, predictions)\n",
        "\n",
        "#     precision_macro_train , recall_macro_train , f1_macro_train , _ = precision_recall_fscore_support(y_train, predictions_train, average='macro')\n",
        "\n",
        "#     accuracy_train = accuracy_score(y_train, predictions_train)\n",
        "\n",
        "#     print(\"train-------------------------------------------\")\n",
        "#     print(f\"{model_name} ({method_name}) - Overall Metrics:\\n- Accuracy: {accuracy_train:.4f}\\n- Precision (Macro): {precision_macro_train:.4f}\\n- Recall (Macro): {recall_macro_train:.4f}\\n- F1 (Macro): {f1_macro_train:.4f}\\n\")\n",
        "\n",
        "#     print(\"test--------------------------------------------\")\n",
        "#     print(f\"{model_name} ({method_name}) - Overall Metrics:\\n- Accuracy: {accuracy:.4f}\\n- Precision (Macro): {precision_macro:.4f}\\n- Recall (Macro): {recall_macro:.4f}\\n- F1 (Macro): {f1_macro:.4f}\\n\")\n",
        "\n",
        "#     print(f\"{model_name} ({method_name}) - Metrics by Label:\")\n",
        "#     print(metrics_df.to_string(index=False))\n",
        "\n",
        "\n",
        "#     cm = confusion_matrix(y_test, predictions)\n",
        "\n",
        "#     # Plotting the confusion matrix\n",
        "#     plt.figure(figsize=(5, 3))\n",
        "#     sns.heatmap(cm, annot=True, cmap='coolwarm', fmt='d', xticklabels=list(mapping_list.keys()), yticklabels=list(mapping_list.keys()))\n",
        "#     plt.title(f\"Confusion Matrix - {model_name} ({method_name})\")\n",
        "#     plt.xlabel('Predicted Labels')\n",
        "#     plt.ylabel('True Labels')\n",
        "#     plt.show()\n",
        "#     return model\n"
      ]
    },
    {
      "cell_type": "code",
      "source": [
        "from sklearn.model_selection import learning_curve\n",
        "\n",
        "def plot_learning_curve(estimator, title, X, y, ylim=None, cv=None, n_jobs=None, train_sizes=np.linspace(.1, 1.0, 5)):\n",
        "    plt.figure()\n",
        "    plt.title(title)\n",
        "    if ylim is not None:\n",
        "        plt.ylim(*ylim)\n",
        "    plt.xlabel(\"Training examples\")\n",
        "    plt.ylabel(\"Score\")\n",
        "    train_sizes, train_scores, test_scores = learning_curve(\n",
        "        estimator, X, y, cv=cv, n_jobs=n_jobs, train_sizes=train_sizes)\n",
        "    train_scores_mean = np.mean(train_scores, axis=1)\n",
        "    train_scores_std = np.std(train_scores, axis=1)\n",
        "    test_scores_mean = np.mean(test_scores, axis=1)\n",
        "    test_scores_std = np.std(test_scores, axis=1)\n",
        "    plt.grid()\n",
        "\n",
        "    plt.fill_between(train_sizes, train_scores_mean - train_scores_std,\n",
        "                     train_scores_mean + train_scores_std, alpha=0.1,\n",
        "                     color=\"r\")\n",
        "    plt.fill_between(train_sizes, test_scores_mean - test_scores_std,\n",
        "                     test_scores_mean + test_scores_std, alpha=0.1, color=\"g\")\n",
        "    plt.plot(train_sizes, train_scores_mean, 'o-', color=\"r\",\n",
        "             label=\"Training score\")\n",
        "    plt.plot(train_sizes, test_scores_mean, 'o-', color=\"g\",\n",
        "             label=\"Cross-validation score\")\n",
        "\n",
        "    plt.legend(loc=\"best\")\n",
        "    return plt\n",
        "\n",
        "\n",
        "def evaluate_model_performance_detailed(mapping_list, model, model_name, method_name, train, test, y_train, y_test):\n",
        "    model.fit(train, y_train)\n",
        "    predictions = model.predict(test)\n",
        "    predictions_train = model.predict(train)\n",
        "\n",
        "    # Metrics for each label\n",
        "    precision, recall, f1, _ = precision_recall_fscore_support(y_test, predictions, average=None)\n",
        "    metrics_df = pd.DataFrame({'Label': list(mapping_list.keys()),\n",
        "                               'Precision': precision,\n",
        "                               'Recall': recall,\n",
        "                               'F1 Score': f1})\n",
        "\n",
        "    # Global (macro) metrics\n",
        "    precision_macro, recall_macro, f1_macro, _ = precision_recall_fscore_support(y_test, predictions, average='macro')\n",
        "    accuracy = accuracy_score(y_test, predictions)\n",
        "\n",
        "    precision_macro_train, recall_macro_train, f1_macro_train, _ = precision_recall_fscore_support(y_train, predictions_train, average='macro')\n",
        "\n",
        "    accuracy_train = accuracy_score(y_train, predictions_train)\n",
        "\n",
        "    print(\"train-------------------------------------------\")\n",
        "    print(f\"{model_name} ({method_name}) - Overall Metrics:\\n- Accuracy: {accuracy_train:.4f}\\n- Precision (Macro): {precision_macro_train:.4f}\\n- Recall (Macro): {recall_macro_train:.4f}\\n- F1 (Macro): {f1_macro_train:.4f}\\n\")\n",
        "\n",
        "    print(\"test--------------------------------------------\")\n",
        "    print(f\"{model_name} ({method_name}) - Overall Metrics:\\n- Accuracy: {accuracy:.4f}\\n- Precision (Macro): {precision_macro:.4f}\\n- Recall (Macro): {recall_macro:.4f}\\n- F1 (Macro): {f1_macro:.4f}\\n\")\n",
        "\n",
        "    print(f\"{model_name} ({method_name}) - Metrics by Label:\")\n",
        "    print(metrics_df.to_string(index=False))\n",
        "\n",
        "    # Confusion Matrix\n",
        "    cm = confusion_matrix(y_test, predictions)\n",
        "\n",
        "    # Plotting the confusion matrix\n",
        "    plt.figure(figsize=(10, 4))\n",
        "    plt.subplot(1, 2, 1)\n",
        "    sns.heatmap(cm, annot=True, cmap='coolwarm', fmt='d', xticklabels=list(mapping_list.keys()), yticklabels=list(mapping_list.keys()))\n",
        "    plt.title(f\"Confusion Matrix - {model_name} ({method_name})\")\n",
        "    plt.xlabel('Predicted Labels')\n",
        "    plt.ylabel('True Labels')\n",
        "\n",
        "    # Plotting learning curve\n",
        "    title = f\"Learning Curve - {model_name} ({method_name})\"\n",
        "    plot_learning_curve(model, title, train, y_train, ylim=(0.7, 1.01), cv=5, n_jobs=-1)\n",
        "\n",
        "    plt.tight_layout()\n",
        "    plt.show()\n",
        "\n",
        "    return model\n"
      ],
      "metadata": {
        "id": "hoX_8_VQo0So"
      },
      "execution_count": null,
      "outputs": []
    },
    {
      "cell_type": "markdown",
      "metadata": {
        "id": "tMcOTUlOurbl"
      },
      "source": [
        "#### extract country and text"
      ]
    },
    {
      "cell_type": "code",
      "execution_count": null,
      "metadata": {
        "colab": {
          "base_uri": "https://localhost:8080/"
        },
        "id": "qPgBGSth0ACy",
        "outputId": "3ce54e63-9c41-4be2-fdd1-980500419dbc"
      },
      "outputs": [
        {
          "output_type": "execute_result",
          "data": {
            "text/plain": [
              "GER    900\n",
              "TUR    900\n",
              "CHI    900\n",
              "TEL    900\n",
              "ARA    900\n",
              "SPA    900\n",
              "HIN    900\n",
              "JPN    900\n",
              "KOR    900\n",
              "FRE    900\n",
              "ITA    900\n",
              "Name: country_code, dtype: int64"
            ]
          },
          "metadata": {},
          "execution_count": 9
        }
      ],
      "source": [
        "def extract_country_and_text(row):\n",
        "    match = re.match(r'\\((.*?)\\)(.*)', row)\n",
        "    if match:\n",
        "        country_code = match.group(1)\n",
        "        text = match.group(2)\n",
        "        return pd.Series([country_code, text])\n",
        "    else:\n",
        "        return pd.Series(['', row])\n",
        "\n",
        "df[['country_code', 'text']] = df.iloc[:, 0].apply(extract_country_and_text)\n",
        "\n",
        "df['country_code'].value_counts()"
      ]
    },
    {
      "cell_type": "code",
      "source": [
        "df.head()"
      ],
      "metadata": {
        "colab": {
          "base_uri": "https://localhost:8080/",
          "height": 206
        },
        "id": "fXnZnndpnjiy",
        "outputId": "f541df5e-4405-41dc-be1e-f077e6c4b2b9"
      },
      "execution_count": null,
      "outputs": [
        {
          "output_type": "execute_result",
          "data": {
            "text/plain": [
              "                                                   0 country_code  \\\n",
              "0  (GER) IThe importance and popularity of travel...          GER   \n",
              "1  (TUR) It is an important decision , how to pla...          TUR   \n",
              "2  (CHI) Some people believe that young people ca...          CHI   \n",
              "3  (TEL) Travelling is usually considered as good...          TEL   \n",
              "4  (ARA) i agree that . Life is a person live per...          ARA   \n",
              "\n",
              "                                                text  \n",
              "0   IThe importance and popularity of travelling ...  \n",
              "1   It is an important decision , how to plan you...  \n",
              "2   Some people believe that young people can enj...  \n",
              "3   Travelling is usually considered as good recr...  \n",
              "4   i agree that . Life is a person live period o...  "
            ],
            "text/html": [
              "\n",
              "  <div id=\"df-b283b1b3-3908-4b7b-abeb-60e158dcd499\" class=\"colab-df-container\">\n",
              "    <div>\n",
              "<style scoped>\n",
              "    .dataframe tbody tr th:only-of-type {\n",
              "        vertical-align: middle;\n",
              "    }\n",
              "\n",
              "    .dataframe tbody tr th {\n",
              "        vertical-align: top;\n",
              "    }\n",
              "\n",
              "    .dataframe thead th {\n",
              "        text-align: right;\n",
              "    }\n",
              "</style>\n",
              "<table border=\"1\" class=\"dataframe\">\n",
              "  <thead>\n",
              "    <tr style=\"text-align: right;\">\n",
              "      <th></th>\n",
              "      <th>0</th>\n",
              "      <th>country_code</th>\n",
              "      <th>text</th>\n",
              "    </tr>\n",
              "  </thead>\n",
              "  <tbody>\n",
              "    <tr>\n",
              "      <th>0</th>\n",
              "      <td>(GER) IThe importance and popularity of travel...</td>\n",
              "      <td>GER</td>\n",
              "      <td>IThe importance and popularity of travelling ...</td>\n",
              "    </tr>\n",
              "    <tr>\n",
              "      <th>1</th>\n",
              "      <td>(TUR) It is an important decision , how to pla...</td>\n",
              "      <td>TUR</td>\n",
              "      <td>It is an important decision , how to plan you...</td>\n",
              "    </tr>\n",
              "    <tr>\n",
              "      <th>2</th>\n",
              "      <td>(CHI) Some people believe that young people ca...</td>\n",
              "      <td>CHI</td>\n",
              "      <td>Some people believe that young people can enj...</td>\n",
              "    </tr>\n",
              "    <tr>\n",
              "      <th>3</th>\n",
              "      <td>(TEL) Travelling is usually considered as good...</td>\n",
              "      <td>TEL</td>\n",
              "      <td>Travelling is usually considered as good recr...</td>\n",
              "    </tr>\n",
              "    <tr>\n",
              "      <th>4</th>\n",
              "      <td>(ARA) i agree that . Life is a person live per...</td>\n",
              "      <td>ARA</td>\n",
              "      <td>i agree that . Life is a person live period o...</td>\n",
              "    </tr>\n",
              "  </tbody>\n",
              "</table>\n",
              "</div>\n",
              "    <div class=\"colab-df-buttons\">\n",
              "\n",
              "  <div class=\"colab-df-container\">\n",
              "    <button class=\"colab-df-convert\" onclick=\"convertToInteractive('df-b283b1b3-3908-4b7b-abeb-60e158dcd499')\"\n",
              "            title=\"Convert this dataframe to an interactive table.\"\n",
              "            style=\"display:none;\">\n",
              "\n",
              "  <svg xmlns=\"http://www.w3.org/2000/svg\" height=\"24px\" viewBox=\"0 -960 960 960\">\n",
              "    <path d=\"M120-120v-720h720v720H120Zm60-500h600v-160H180v160Zm220 220h160v-160H400v160Zm0 220h160v-160H400v160ZM180-400h160v-160H180v160Zm440 0h160v-160H620v160ZM180-180h160v-160H180v160Zm440 0h160v-160H620v160Z\"/>\n",
              "  </svg>\n",
              "    </button>\n",
              "\n",
              "  <style>\n",
              "    .colab-df-container {\n",
              "      display:flex;\n",
              "      gap: 12px;\n",
              "    }\n",
              "\n",
              "    .colab-df-convert {\n",
              "      background-color: #E8F0FE;\n",
              "      border: none;\n",
              "      border-radius: 50%;\n",
              "      cursor: pointer;\n",
              "      display: none;\n",
              "      fill: #1967D2;\n",
              "      height: 32px;\n",
              "      padding: 0 0 0 0;\n",
              "      width: 32px;\n",
              "    }\n",
              "\n",
              "    .colab-df-convert:hover {\n",
              "      background-color: #E2EBFA;\n",
              "      box-shadow: 0px 1px 2px rgba(60, 64, 67, 0.3), 0px 1px 3px 1px rgba(60, 64, 67, 0.15);\n",
              "      fill: #174EA6;\n",
              "    }\n",
              "\n",
              "    .colab-df-buttons div {\n",
              "      margin-bottom: 4px;\n",
              "    }\n",
              "\n",
              "    [theme=dark] .colab-df-convert {\n",
              "      background-color: #3B4455;\n",
              "      fill: #D2E3FC;\n",
              "    }\n",
              "\n",
              "    [theme=dark] .colab-df-convert:hover {\n",
              "      background-color: #434B5C;\n",
              "      box-shadow: 0px 1px 3px 1px rgba(0, 0, 0, 0.15);\n",
              "      filter: drop-shadow(0px 1px 2px rgba(0, 0, 0, 0.3));\n",
              "      fill: #FFFFFF;\n",
              "    }\n",
              "  </style>\n",
              "\n",
              "    <script>\n",
              "      const buttonEl =\n",
              "        document.querySelector('#df-b283b1b3-3908-4b7b-abeb-60e158dcd499 button.colab-df-convert');\n",
              "      buttonEl.style.display =\n",
              "        google.colab.kernel.accessAllowed ? 'block' : 'none';\n",
              "\n",
              "      async function convertToInteractive(key) {\n",
              "        const element = document.querySelector('#df-b283b1b3-3908-4b7b-abeb-60e158dcd499');\n",
              "        const dataTable =\n",
              "          await google.colab.kernel.invokeFunction('convertToInteractive',\n",
              "                                                    [key], {});\n",
              "        if (!dataTable) return;\n",
              "\n",
              "        const docLinkHtml = 'Like what you see? Visit the ' +\n",
              "          '<a target=\"_blank\" href=https://colab.research.google.com/notebooks/data_table.ipynb>data table notebook</a>'\n",
              "          + ' to learn more about interactive tables.';\n",
              "        element.innerHTML = '';\n",
              "        dataTable['output_type'] = 'display_data';\n",
              "        await google.colab.output.renderOutput(dataTable, element);\n",
              "        const docLink = document.createElement('div');\n",
              "        docLink.innerHTML = docLinkHtml;\n",
              "        element.appendChild(docLink);\n",
              "      }\n",
              "    </script>\n",
              "  </div>\n",
              "\n",
              "\n",
              "<div id=\"df-2d53ab55-8ced-4bd8-b455-85e665ed9d4d\">\n",
              "  <button class=\"colab-df-quickchart\" onclick=\"quickchart('df-2d53ab55-8ced-4bd8-b455-85e665ed9d4d')\"\n",
              "            title=\"Suggest charts\"\n",
              "            style=\"display:none;\">\n",
              "\n",
              "<svg xmlns=\"http://www.w3.org/2000/svg\" height=\"24px\"viewBox=\"0 0 24 24\"\n",
              "     width=\"24px\">\n",
              "    <g>\n",
              "        <path d=\"M19 3H5c-1.1 0-2 .9-2 2v14c0 1.1.9 2 2 2h14c1.1 0 2-.9 2-2V5c0-1.1-.9-2-2-2zM9 17H7v-7h2v7zm4 0h-2V7h2v10zm4 0h-2v-4h2v4z\"/>\n",
              "    </g>\n",
              "</svg>\n",
              "  </button>\n",
              "\n",
              "<style>\n",
              "  .colab-df-quickchart {\n",
              "      --bg-color: #E8F0FE;\n",
              "      --fill-color: #1967D2;\n",
              "      --hover-bg-color: #E2EBFA;\n",
              "      --hover-fill-color: #174EA6;\n",
              "      --disabled-fill-color: #AAA;\n",
              "      --disabled-bg-color: #DDD;\n",
              "  }\n",
              "\n",
              "  [theme=dark] .colab-df-quickchart {\n",
              "      --bg-color: #3B4455;\n",
              "      --fill-color: #D2E3FC;\n",
              "      --hover-bg-color: #434B5C;\n",
              "      --hover-fill-color: #FFFFFF;\n",
              "      --disabled-bg-color: #3B4455;\n",
              "      --disabled-fill-color: #666;\n",
              "  }\n",
              "\n",
              "  .colab-df-quickchart {\n",
              "    background-color: var(--bg-color);\n",
              "    border: none;\n",
              "    border-radius: 50%;\n",
              "    cursor: pointer;\n",
              "    display: none;\n",
              "    fill: var(--fill-color);\n",
              "    height: 32px;\n",
              "    padding: 0;\n",
              "    width: 32px;\n",
              "  }\n",
              "\n",
              "  .colab-df-quickchart:hover {\n",
              "    background-color: var(--hover-bg-color);\n",
              "    box-shadow: 0 1px 2px rgba(60, 64, 67, 0.3), 0 1px 3px 1px rgba(60, 64, 67, 0.15);\n",
              "    fill: var(--button-hover-fill-color);\n",
              "  }\n",
              "\n",
              "  .colab-df-quickchart-complete:disabled,\n",
              "  .colab-df-quickchart-complete:disabled:hover {\n",
              "    background-color: var(--disabled-bg-color);\n",
              "    fill: var(--disabled-fill-color);\n",
              "    box-shadow: none;\n",
              "  }\n",
              "\n",
              "  .colab-df-spinner {\n",
              "    border: 2px solid var(--fill-color);\n",
              "    border-color: transparent;\n",
              "    border-bottom-color: var(--fill-color);\n",
              "    animation:\n",
              "      spin 1s steps(1) infinite;\n",
              "  }\n",
              "\n",
              "  @keyframes spin {\n",
              "    0% {\n",
              "      border-color: transparent;\n",
              "      border-bottom-color: var(--fill-color);\n",
              "      border-left-color: var(--fill-color);\n",
              "    }\n",
              "    20% {\n",
              "      border-color: transparent;\n",
              "      border-left-color: var(--fill-color);\n",
              "      border-top-color: var(--fill-color);\n",
              "    }\n",
              "    30% {\n",
              "      border-color: transparent;\n",
              "      border-left-color: var(--fill-color);\n",
              "      border-top-color: var(--fill-color);\n",
              "      border-right-color: var(--fill-color);\n",
              "    }\n",
              "    40% {\n",
              "      border-color: transparent;\n",
              "      border-right-color: var(--fill-color);\n",
              "      border-top-color: var(--fill-color);\n",
              "    }\n",
              "    60% {\n",
              "      border-color: transparent;\n",
              "      border-right-color: var(--fill-color);\n",
              "    }\n",
              "    80% {\n",
              "      border-color: transparent;\n",
              "      border-right-color: var(--fill-color);\n",
              "      border-bottom-color: var(--fill-color);\n",
              "    }\n",
              "    90% {\n",
              "      border-color: transparent;\n",
              "      border-bottom-color: var(--fill-color);\n",
              "    }\n",
              "  }\n",
              "</style>\n",
              "\n",
              "  <script>\n",
              "    async function quickchart(key) {\n",
              "      const quickchartButtonEl =\n",
              "        document.querySelector('#' + key + ' button');\n",
              "      quickchartButtonEl.disabled = true;  // To prevent multiple clicks.\n",
              "      quickchartButtonEl.classList.add('colab-df-spinner');\n",
              "      try {\n",
              "        const charts = await google.colab.kernel.invokeFunction(\n",
              "            'suggestCharts', [key], {});\n",
              "      } catch (error) {\n",
              "        console.error('Error during call to suggestCharts:', error);\n",
              "      }\n",
              "      quickchartButtonEl.classList.remove('colab-df-spinner');\n",
              "      quickchartButtonEl.classList.add('colab-df-quickchart-complete');\n",
              "    }\n",
              "    (() => {\n",
              "      let quickchartButtonEl =\n",
              "        document.querySelector('#df-2d53ab55-8ced-4bd8-b455-85e665ed9d4d button');\n",
              "      quickchartButtonEl.style.display =\n",
              "        google.colab.kernel.accessAllowed ? 'block' : 'none';\n",
              "    })();\n",
              "  </script>\n",
              "</div>\n",
              "    </div>\n",
              "  </div>\n"
            ],
            "application/vnd.google.colaboratory.intrinsic+json": {
              "type": "dataframe",
              "variable_name": "df",
              "summary": "{\n  \"name\": \"df\",\n  \"rows\": 9900,\n  \"fields\": [\n    {\n      \"column\": 0,\n      \"properties\": {\n        \"dtype\": \"string\",\n        \"num_unique_values\": 9900,\n        \"samples\": [\n          \"(TUR) Transportation is a very crucial dimension of globalization of which we are experiencing in its highest speed . The first cars started to be used in the beginning of the 20th century and have been used for decades as the most available machine for those who are eager to use it . According to my futuristic view about cars in the following twenty years , there will not be fewer cars in use than there are today , but more . I can certainly argue that the globalization process in the `` Third World countries '' will be a very important factor which will lead to the increse in the number of cars . Secondly , because of the lack of the culture of the usage of alternative mechanisms in transportation , the increase will continue . Thirdly , the non-existence of alternative machines produces which are cheap and effective as cars will be another reason for the increase . Finally , even though all of these three handicaps disappear , the government policies and the interests of car-producing corporations will hinder the achievements in reducing the number of cars in use . Firstly , globalization is a process which cannot be stopped in the near future . There are significant numbers of countries which entered the globalization age in the near past , there fore they do not have the number of cars as many as the number of the cars in the West . therefore , the countries like China , India , the countries of Africa or other countries which are not ndustrialized or are not in the free market system newly possesing that culture of usage if cars , which simply measn that there will be more cars in use in the near future . Secondly , in many of the countries , governments suffer from the lack of the culture of using alternative sources of transportation . modernized countries promote the usage of mass transportation and therefore , people living there are used to be directed to these alternatives . but in the countries like Turkey , people do not have the consciousness of mass transportation , instead every individual tend to buy a car for themselves , which is obviously a factor increasing the number of cars . Thirdly , many of car users do not want to give up using their cars since it is very useful and it provides opprtunities to them of which others do not have . People living in Istanbul would not give up their cars since there is a huge mass of cars on the roads which creates a problem for mass transportation users . when there is a jam on the road , the best possible way to rescue yourself from that will not be using mass transportation and get stuck on the roads with those heavy and slow machine , but instead you will want to use your car . Finally , governments in less industrialized countries do not have policies to cope with traffic problem and they do not promote policies to reduce the number of cars in use . On the other hand , the companies or corporations who produce these cars will not be willing to stop their production since that will destroy their interests . these corporations are always in contact with the governments in which they are established and will try to do everything beneficial to their interests . In conclusion , I believe that there will be more cars in use than today . the conditions of globalization and the certaio\",\n          \"(ITA) I think that today is most important to specialize in one specific subject than to have broad knowledge of many academic subject . Today for a person is most important to find a job , and to find a job you must have the knowledge that for example a factory requires . If i can do a bit of all but i don-t know the exact thing that i was contacted to do i will never find a job . For me today factories search people with a specialize knowledge in one specific subject because is difficult today to find persons that have an adeguate preparation in only one thing . To be a specialize person you must spend lot of your time studying and travelling around your country ( or across europe ) to increase your ability . but today for me persons that have the like to do this are became lesser . I can see a lot of my friends that have just finished to study , they don-t like to travel to another city to become better in their work , they are huppy to stay near their home . Fortunately they have found a job near their home but other persons unfortunately didn-t find it also in other countries . So to get a job that tey like they have must attend specialized courses and they have must travel a lot to increase their knowledge . So if you want a job and particulary a job as you like and near your family , for me is necessary a specialize knowledge of something , something that you know is required in the part you have studied for .\",\n          \"(SPA) If we take a look around the world , we will realize that the most successful people have always been at the edge of tecnology and have accomplish their goals by taking risks and trying out new things . It is necessary just to read any successful man 's biography to understand what this means . We all need to learn how to do things the best way we can and I think sometimes it can be quite scary to go into an unknown field , because there is a big chance we might fail . But failure is always a possibility and is present through our whole life and we have to learn to deal with it , because if we all stick to what we do and do n't try out new things , then the world would stop growing and developing and we would be inmerse in a place where there is no innovation . For instance , in bussiness , the best way to be successful is to come out with some product that nobody else has , that makes you unique . But most of the time , there is a big chance people wo n't like it . That 's why even if you do marketing studies , there 's always a risk factor that involves making decissions based on what you believe in without knowing the results . And in spite of how difficult it looks , it is necessary to keep going and make it happen , just to see how it turns out to be . In conclusion , the key to success is to innovate and take risks , this is the only way we will be able to build a better world , not only getting money , but also helping society , because in my opinion , success is not only defined by how rich you are , but by how much you have done for the world we live in .\"\n        ],\n        \"semantic_type\": \"\",\n        \"description\": \"\"\n      }\n    },\n    {\n      \"column\": \"country_code\",\n      \"properties\": {\n        \"dtype\": \"category\",\n        \"num_unique_values\": 11,\n        \"samples\": [\n          \"SPA\",\n          \"GER\",\n          \"FRE\"\n        ],\n        \"semantic_type\": \"\",\n        \"description\": \"\"\n      }\n    },\n    {\n      \"column\": \"text\",\n      \"properties\": {\n        \"dtype\": \"string\",\n        \"num_unique_values\": 9900,\n        \"samples\": [\n          \" Transportation is a very crucial dimension of globalization of which we are experiencing in its highest speed . The first cars started to be used in the beginning of the 20th century and have been used for decades as the most available machine for those who are eager to use it . According to my futuristic view about cars in the following twenty years , there will not be fewer cars in use than there are today , but more . I can certainly argue that the globalization process in the `` Third World countries '' will be a very important factor which will lead to the increse in the number of cars . Secondly , because of the lack of the culture of the usage of alternative mechanisms in transportation , the increase will continue . Thirdly , the non-existence of alternative machines produces which are cheap and effective as cars will be another reason for the increase . Finally , even though all of these three handicaps disappear , the government policies and the interests of car-producing corporations will hinder the achievements in reducing the number of cars in use . Firstly , globalization is a process which cannot be stopped in the near future . There are significant numbers of countries which entered the globalization age in the near past , there fore they do not have the number of cars as many as the number of the cars in the West . therefore , the countries like China , India , the countries of Africa or other countries which are not ndustrialized or are not in the free market system newly possesing that culture of usage if cars , which simply measn that there will be more cars in use in the near future . Secondly , in many of the countries , governments suffer from the lack of the culture of using alternative sources of transportation . modernized countries promote the usage of mass transportation and therefore , people living there are used to be directed to these alternatives . but in the countries like Turkey , people do not have the consciousness of mass transportation , instead every individual tend to buy a car for themselves , which is obviously a factor increasing the number of cars . Thirdly , many of car users do not want to give up using their cars since it is very useful and it provides opprtunities to them of which others do not have . People living in Istanbul would not give up their cars since there is a huge mass of cars on the roads which creates a problem for mass transportation users . when there is a jam on the road , the best possible way to rescue yourself from that will not be using mass transportation and get stuck on the roads with those heavy and slow machine , but instead you will want to use your car . Finally , governments in less industrialized countries do not have policies to cope with traffic problem and they do not promote policies to reduce the number of cars in use . On the other hand , the companies or corporations who produce these cars will not be willing to stop their production since that will destroy their interests . these corporations are always in contact with the governments in which they are established and will try to do everything beneficial to their interests . In conclusion , I believe that there will be more cars in use than today . the conditions of globalization and the certaio\",\n          \" I think that today is most important to specialize in one specific subject than to have broad knowledge of many academic subject . Today for a person is most important to find a job , and to find a job you must have the knowledge that for example a factory requires . If i can do a bit of all but i don-t know the exact thing that i was contacted to do i will never find a job . For me today factories search people with a specialize knowledge in one specific subject because is difficult today to find persons that have an adeguate preparation in only one thing . To be a specialize person you must spend lot of your time studying and travelling around your country ( or across europe ) to increase your ability . but today for me persons that have the like to do this are became lesser . I can see a lot of my friends that have just finished to study , they don-t like to travel to another city to become better in their work , they are huppy to stay near their home . Fortunately they have found a job near their home but other persons unfortunately didn-t find it also in other countries . So to get a job that tey like they have must attend specialized courses and they have must travel a lot to increase their knowledge . So if you want a job and particulary a job as you like and near your family , for me is necessary a specialize knowledge of something , something that you know is required in the part you have studied for .\",\n          \" If we take a look around the world , we will realize that the most successful people have always been at the edge of tecnology and have accomplish their goals by taking risks and trying out new things . It is necessary just to read any successful man 's biography to understand what this means . We all need to learn how to do things the best way we can and I think sometimes it can be quite scary to go into an unknown field , because there is a big chance we might fail . But failure is always a possibility and is present through our whole life and we have to learn to deal with it , because if we all stick to what we do and do n't try out new things , then the world would stop growing and developing and we would be inmerse in a place where there is no innovation . For instance , in bussiness , the best way to be successful is to come out with some product that nobody else has , that makes you unique . But most of the time , there is a big chance people wo n't like it . That 's why even if you do marketing studies , there 's always a risk factor that involves making decissions based on what you believe in without knowing the results . And in spite of how difficult it looks , it is necessary to keep going and make it happen , just to see how it turns out to be . In conclusion , the key to success is to innovate and take risks , this is the only way we will be able to build a better world , not only getting money , but also helping society , because in my opinion , success is not only defined by how rich you are , but by how much you have done for the world we live in .\"\n        ],\n        \"semantic_type\": \"\",\n        \"description\": \"\"\n      }\n    }\n  ]\n}"
            }
          },
          "metadata": {},
          "execution_count": 10
        }
      ]
    },
    {
      "cell_type": "markdown",
      "metadata": {
        "id": "lu_lNCQFtze3"
      },
      "source": [
        "#### create groups"
      ]
    },
    {
      "cell_type": "code",
      "execution_count": null,
      "metadata": {
        "id": "zcYmuQvjaphz"
      },
      "outputs": [],
      "source": [
        "def create_group(df):\n",
        "  # Créez une nouvelle colonne 'Country_Code_New4' en copiant 'Country_Code'\n",
        "  df['group'] = df['country_code']\n",
        "\n",
        "  df.loc[df['country_code'].isin(['TEL', 'HIN']), 'group']  = 'HIN+TEL'\n",
        "  df.loc[df['country_code'].isin(['KOR', 'CHI','JPN']), 'group'] = 'KOR+CHI+JPN'\n",
        "  df.loc[df['country_code'].isin(['FRE', 'SPA','ITA','GER']), 'group'] = 'FRE+SPA+ITA+GER'\n",
        "  df.loc[df['country_code'].isin(['ARA', 'TUR']), 'group'] = 'ARA+TUR'\n",
        "\n",
        "\n",
        "  return df"
      ]
    },
    {
      "cell_type": "code",
      "source": [
        "# def create_group(df):\n",
        "#   # Créez une nouvelle colonne 'Country_Code_New4' en copiant 'Country_Code'\n",
        "#   df['group'] = df['country_code']\n",
        "\n",
        "#   df.loc[df['country_code'].isin(['TEL', 'HIN']), 'group']  = 'HIN+TEL'\n",
        "#   df.loc[df['country_code'].isin(['KOR', 'CHI','JPN']), 'group'] = 'KOR+CHI+JPN'\n",
        "#   df.loc[df['country_code'].isin(['FRE', 'SPA','ITA','GER']), 'group'] = 'FRE+SPA+ITA+GER'\n",
        "#   df.loc[df['country_code'].isin(['TUR']), 'group'] = 'TUR'\n",
        "#   df.loc[df['country_code'].isin(['ARA']), 'group'] = 'ARA'\n",
        "\n",
        "\n",
        "#   return df"
      ],
      "metadata": {
        "id": "gCxSlggWj8xW"
      },
      "execution_count": null,
      "outputs": []
    },
    {
      "cell_type": "code",
      "execution_count": null,
      "metadata": {
        "colab": {
          "base_uri": "https://localhost:8080/",
          "height": 475
        },
        "id": "KKK16_GguEkS",
        "outputId": "dc189bbd-0af7-4315-cb27-127251d03b1b"
      },
      "outputs": [
        {
          "output_type": "execute_result",
          "data": {
            "text/plain": [
              "                                                      0 country_code  \\\n",
              "0     (GER) IThe importance and popularity of travel...          GER   \n",
              "1     (TUR) It is an important decision , how to pla...          TUR   \n",
              "2     (CHI) Some people believe that young people ca...          CHI   \n",
              "3     (TEL) Travelling is usually considered as good...          TEL   \n",
              "4     (ARA) i agree that . Life is a person live per...          ARA   \n",
              "...                                                 ...          ...   \n",
              "9895  (CHI) Nowadays , more and more people go abroa...          CHI   \n",
              "9896  (KOR) In accomplishing something that is risky...          KOR   \n",
              "9897  (SPA) At the beginning of the 21st century , t...          SPA   \n",
              "9898  (HIN) The number of cars in use across the wor...          HIN   \n",
              "9899  (CHI) Many people think it is betters to have ...          CHI   \n",
              "\n",
              "                                                   text            group  \n",
              "0      IThe importance and popularity of travelling ...  FRE+SPA+ITA+GER  \n",
              "1      It is an important decision , how to plan you...          ARA+TUR  \n",
              "2      Some people believe that young people can enj...      KOR+CHI+JPN  \n",
              "3      Travelling is usually considered as good recr...          HIN+TEL  \n",
              "4      i agree that . Life is a person live period o...          ARA+TUR  \n",
              "...                                                 ...              ...  \n",
              "9895   Nowadays , more and more people go abroad , n...      KOR+CHI+JPN  \n",
              "9896   In accomplishing something that is risky come...      KOR+CHI+JPN  \n",
              "9897   At the beginning of the 21st century , the in...  FRE+SPA+ITA+GER  \n",
              "9898   The number of cars in use across the world ha...          HIN+TEL  \n",
              "9899   Many people think it is betters to have borad...      KOR+CHI+JPN  \n",
              "\n",
              "[9900 rows x 4 columns]"
            ],
            "text/html": [
              "\n",
              "  <div id=\"df-ebcaad35-fc5b-4845-b207-51a872183038\" class=\"colab-df-container\">\n",
              "    <div>\n",
              "<style scoped>\n",
              "    .dataframe tbody tr th:only-of-type {\n",
              "        vertical-align: middle;\n",
              "    }\n",
              "\n",
              "    .dataframe tbody tr th {\n",
              "        vertical-align: top;\n",
              "    }\n",
              "\n",
              "    .dataframe thead th {\n",
              "        text-align: right;\n",
              "    }\n",
              "</style>\n",
              "<table border=\"1\" class=\"dataframe\">\n",
              "  <thead>\n",
              "    <tr style=\"text-align: right;\">\n",
              "      <th></th>\n",
              "      <th>0</th>\n",
              "      <th>country_code</th>\n",
              "      <th>text</th>\n",
              "      <th>group</th>\n",
              "    </tr>\n",
              "  </thead>\n",
              "  <tbody>\n",
              "    <tr>\n",
              "      <th>0</th>\n",
              "      <td>(GER) IThe importance and popularity of travel...</td>\n",
              "      <td>GER</td>\n",
              "      <td>IThe importance and popularity of travelling ...</td>\n",
              "      <td>FRE+SPA+ITA+GER</td>\n",
              "    </tr>\n",
              "    <tr>\n",
              "      <th>1</th>\n",
              "      <td>(TUR) It is an important decision , how to pla...</td>\n",
              "      <td>TUR</td>\n",
              "      <td>It is an important decision , how to plan you...</td>\n",
              "      <td>ARA+TUR</td>\n",
              "    </tr>\n",
              "    <tr>\n",
              "      <th>2</th>\n",
              "      <td>(CHI) Some people believe that young people ca...</td>\n",
              "      <td>CHI</td>\n",
              "      <td>Some people believe that young people can enj...</td>\n",
              "      <td>KOR+CHI+JPN</td>\n",
              "    </tr>\n",
              "    <tr>\n",
              "      <th>3</th>\n",
              "      <td>(TEL) Travelling is usually considered as good...</td>\n",
              "      <td>TEL</td>\n",
              "      <td>Travelling is usually considered as good recr...</td>\n",
              "      <td>HIN+TEL</td>\n",
              "    </tr>\n",
              "    <tr>\n",
              "      <th>4</th>\n",
              "      <td>(ARA) i agree that . Life is a person live per...</td>\n",
              "      <td>ARA</td>\n",
              "      <td>i agree that . Life is a person live period o...</td>\n",
              "      <td>ARA+TUR</td>\n",
              "    </tr>\n",
              "    <tr>\n",
              "      <th>...</th>\n",
              "      <td>...</td>\n",
              "      <td>...</td>\n",
              "      <td>...</td>\n",
              "      <td>...</td>\n",
              "    </tr>\n",
              "    <tr>\n",
              "      <th>9895</th>\n",
              "      <td>(CHI) Nowadays , more and more people go abroa...</td>\n",
              "      <td>CHI</td>\n",
              "      <td>Nowadays , more and more people go abroad , n...</td>\n",
              "      <td>KOR+CHI+JPN</td>\n",
              "    </tr>\n",
              "    <tr>\n",
              "      <th>9896</th>\n",
              "      <td>(KOR) In accomplishing something that is risky...</td>\n",
              "      <td>KOR</td>\n",
              "      <td>In accomplishing something that is risky come...</td>\n",
              "      <td>KOR+CHI+JPN</td>\n",
              "    </tr>\n",
              "    <tr>\n",
              "      <th>9897</th>\n",
              "      <td>(SPA) At the beginning of the 21st century , t...</td>\n",
              "      <td>SPA</td>\n",
              "      <td>At the beginning of the 21st century , the in...</td>\n",
              "      <td>FRE+SPA+ITA+GER</td>\n",
              "    </tr>\n",
              "    <tr>\n",
              "      <th>9898</th>\n",
              "      <td>(HIN) The number of cars in use across the wor...</td>\n",
              "      <td>HIN</td>\n",
              "      <td>The number of cars in use across the world ha...</td>\n",
              "      <td>HIN+TEL</td>\n",
              "    </tr>\n",
              "    <tr>\n",
              "      <th>9899</th>\n",
              "      <td>(CHI) Many people think it is betters to have ...</td>\n",
              "      <td>CHI</td>\n",
              "      <td>Many people think it is betters to have borad...</td>\n",
              "      <td>KOR+CHI+JPN</td>\n",
              "    </tr>\n",
              "  </tbody>\n",
              "</table>\n",
              "<p>9900 rows × 4 columns</p>\n",
              "</div>\n",
              "    <div class=\"colab-df-buttons\">\n",
              "\n",
              "  <div class=\"colab-df-container\">\n",
              "    <button class=\"colab-df-convert\" onclick=\"convertToInteractive('df-ebcaad35-fc5b-4845-b207-51a872183038')\"\n",
              "            title=\"Convert this dataframe to an interactive table.\"\n",
              "            style=\"display:none;\">\n",
              "\n",
              "  <svg xmlns=\"http://www.w3.org/2000/svg\" height=\"24px\" viewBox=\"0 -960 960 960\">\n",
              "    <path d=\"M120-120v-720h720v720H120Zm60-500h600v-160H180v160Zm220 220h160v-160H400v160Zm0 220h160v-160H400v160ZM180-400h160v-160H180v160Zm440 0h160v-160H620v160ZM180-180h160v-160H180v160Zm440 0h160v-160H620v160Z\"/>\n",
              "  </svg>\n",
              "    </button>\n",
              "\n",
              "  <style>\n",
              "    .colab-df-container {\n",
              "      display:flex;\n",
              "      gap: 12px;\n",
              "    }\n",
              "\n",
              "    .colab-df-convert {\n",
              "      background-color: #E8F0FE;\n",
              "      border: none;\n",
              "      border-radius: 50%;\n",
              "      cursor: pointer;\n",
              "      display: none;\n",
              "      fill: #1967D2;\n",
              "      height: 32px;\n",
              "      padding: 0 0 0 0;\n",
              "      width: 32px;\n",
              "    }\n",
              "\n",
              "    .colab-df-convert:hover {\n",
              "      background-color: #E2EBFA;\n",
              "      box-shadow: 0px 1px 2px rgba(60, 64, 67, 0.3), 0px 1px 3px 1px rgba(60, 64, 67, 0.15);\n",
              "      fill: #174EA6;\n",
              "    }\n",
              "\n",
              "    .colab-df-buttons div {\n",
              "      margin-bottom: 4px;\n",
              "    }\n",
              "\n",
              "    [theme=dark] .colab-df-convert {\n",
              "      background-color: #3B4455;\n",
              "      fill: #D2E3FC;\n",
              "    }\n",
              "\n",
              "    [theme=dark] .colab-df-convert:hover {\n",
              "      background-color: #434B5C;\n",
              "      box-shadow: 0px 1px 3px 1px rgba(0, 0, 0, 0.15);\n",
              "      filter: drop-shadow(0px 1px 2px rgba(0, 0, 0, 0.3));\n",
              "      fill: #FFFFFF;\n",
              "    }\n",
              "  </style>\n",
              "\n",
              "    <script>\n",
              "      const buttonEl =\n",
              "        document.querySelector('#df-ebcaad35-fc5b-4845-b207-51a872183038 button.colab-df-convert');\n",
              "      buttonEl.style.display =\n",
              "        google.colab.kernel.accessAllowed ? 'block' : 'none';\n",
              "\n",
              "      async function convertToInteractive(key) {\n",
              "        const element = document.querySelector('#df-ebcaad35-fc5b-4845-b207-51a872183038');\n",
              "        const dataTable =\n",
              "          await google.colab.kernel.invokeFunction('convertToInteractive',\n",
              "                                                    [key], {});\n",
              "        if (!dataTable) return;\n",
              "\n",
              "        const docLinkHtml = 'Like what you see? Visit the ' +\n",
              "          '<a target=\"_blank\" href=https://colab.research.google.com/notebooks/data_table.ipynb>data table notebook</a>'\n",
              "          + ' to learn more about interactive tables.';\n",
              "        element.innerHTML = '';\n",
              "        dataTable['output_type'] = 'display_data';\n",
              "        await google.colab.output.renderOutput(dataTable, element);\n",
              "        const docLink = document.createElement('div');\n",
              "        docLink.innerHTML = docLinkHtml;\n",
              "        element.appendChild(docLink);\n",
              "      }\n",
              "    </script>\n",
              "  </div>\n",
              "\n",
              "\n",
              "<div id=\"df-78f0a4ad-137f-43dc-a6ad-559e52dde9bf\">\n",
              "  <button class=\"colab-df-quickchart\" onclick=\"quickchart('df-78f0a4ad-137f-43dc-a6ad-559e52dde9bf')\"\n",
              "            title=\"Suggest charts\"\n",
              "            style=\"display:none;\">\n",
              "\n",
              "<svg xmlns=\"http://www.w3.org/2000/svg\" height=\"24px\"viewBox=\"0 0 24 24\"\n",
              "     width=\"24px\">\n",
              "    <g>\n",
              "        <path d=\"M19 3H5c-1.1 0-2 .9-2 2v14c0 1.1.9 2 2 2h14c1.1 0 2-.9 2-2V5c0-1.1-.9-2-2-2zM9 17H7v-7h2v7zm4 0h-2V7h2v10zm4 0h-2v-4h2v4z\"/>\n",
              "    </g>\n",
              "</svg>\n",
              "  </button>\n",
              "\n",
              "<style>\n",
              "  .colab-df-quickchart {\n",
              "      --bg-color: #E8F0FE;\n",
              "      --fill-color: #1967D2;\n",
              "      --hover-bg-color: #E2EBFA;\n",
              "      --hover-fill-color: #174EA6;\n",
              "      --disabled-fill-color: #AAA;\n",
              "      --disabled-bg-color: #DDD;\n",
              "  }\n",
              "\n",
              "  [theme=dark] .colab-df-quickchart {\n",
              "      --bg-color: #3B4455;\n",
              "      --fill-color: #D2E3FC;\n",
              "      --hover-bg-color: #434B5C;\n",
              "      --hover-fill-color: #FFFFFF;\n",
              "      --disabled-bg-color: #3B4455;\n",
              "      --disabled-fill-color: #666;\n",
              "  }\n",
              "\n",
              "  .colab-df-quickchart {\n",
              "    background-color: var(--bg-color);\n",
              "    border: none;\n",
              "    border-radius: 50%;\n",
              "    cursor: pointer;\n",
              "    display: none;\n",
              "    fill: var(--fill-color);\n",
              "    height: 32px;\n",
              "    padding: 0;\n",
              "    width: 32px;\n",
              "  }\n",
              "\n",
              "  .colab-df-quickchart:hover {\n",
              "    background-color: var(--hover-bg-color);\n",
              "    box-shadow: 0 1px 2px rgba(60, 64, 67, 0.3), 0 1px 3px 1px rgba(60, 64, 67, 0.15);\n",
              "    fill: var(--button-hover-fill-color);\n",
              "  }\n",
              "\n",
              "  .colab-df-quickchart-complete:disabled,\n",
              "  .colab-df-quickchart-complete:disabled:hover {\n",
              "    background-color: var(--disabled-bg-color);\n",
              "    fill: var(--disabled-fill-color);\n",
              "    box-shadow: none;\n",
              "  }\n",
              "\n",
              "  .colab-df-spinner {\n",
              "    border: 2px solid var(--fill-color);\n",
              "    border-color: transparent;\n",
              "    border-bottom-color: var(--fill-color);\n",
              "    animation:\n",
              "      spin 1s steps(1) infinite;\n",
              "  }\n",
              "\n",
              "  @keyframes spin {\n",
              "    0% {\n",
              "      border-color: transparent;\n",
              "      border-bottom-color: var(--fill-color);\n",
              "      border-left-color: var(--fill-color);\n",
              "    }\n",
              "    20% {\n",
              "      border-color: transparent;\n",
              "      border-left-color: var(--fill-color);\n",
              "      border-top-color: var(--fill-color);\n",
              "    }\n",
              "    30% {\n",
              "      border-color: transparent;\n",
              "      border-left-color: var(--fill-color);\n",
              "      border-top-color: var(--fill-color);\n",
              "      border-right-color: var(--fill-color);\n",
              "    }\n",
              "    40% {\n",
              "      border-color: transparent;\n",
              "      border-right-color: var(--fill-color);\n",
              "      border-top-color: var(--fill-color);\n",
              "    }\n",
              "    60% {\n",
              "      border-color: transparent;\n",
              "      border-right-color: var(--fill-color);\n",
              "    }\n",
              "    80% {\n",
              "      border-color: transparent;\n",
              "      border-right-color: var(--fill-color);\n",
              "      border-bottom-color: var(--fill-color);\n",
              "    }\n",
              "    90% {\n",
              "      border-color: transparent;\n",
              "      border-bottom-color: var(--fill-color);\n",
              "    }\n",
              "  }\n",
              "</style>\n",
              "\n",
              "  <script>\n",
              "    async function quickchart(key) {\n",
              "      const quickchartButtonEl =\n",
              "        document.querySelector('#' + key + ' button');\n",
              "      quickchartButtonEl.disabled = true;  // To prevent multiple clicks.\n",
              "      quickchartButtonEl.classList.add('colab-df-spinner');\n",
              "      try {\n",
              "        const charts = await google.colab.kernel.invokeFunction(\n",
              "            'suggestCharts', [key], {});\n",
              "      } catch (error) {\n",
              "        console.error('Error during call to suggestCharts:', error);\n",
              "      }\n",
              "      quickchartButtonEl.classList.remove('colab-df-spinner');\n",
              "      quickchartButtonEl.classList.add('colab-df-quickchart-complete');\n",
              "    }\n",
              "    (() => {\n",
              "      let quickchartButtonEl =\n",
              "        document.querySelector('#df-78f0a4ad-137f-43dc-a6ad-559e52dde9bf button');\n",
              "      quickchartButtonEl.style.display =\n",
              "        google.colab.kernel.accessAllowed ? 'block' : 'none';\n",
              "    })();\n",
              "  </script>\n",
              "</div>\n",
              "    </div>\n",
              "  </div>\n"
            ],
            "application/vnd.google.colaboratory.intrinsic+json": {
              "type": "dataframe",
              "variable_name": "df",
              "summary": "{\n  \"name\": \"df\",\n  \"rows\": 9900,\n  \"fields\": [\n    {\n      \"column\": 0,\n      \"properties\": {\n        \"dtype\": \"string\",\n        \"num_unique_values\": 9900,\n        \"samples\": [\n          \"(TUR) Transportation is a very crucial dimension of globalization of which we are experiencing in its highest speed . The first cars started to be used in the beginning of the 20th century and have been used for decades as the most available machine for those who are eager to use it . According to my futuristic view about cars in the following twenty years , there will not be fewer cars in use than there are today , but more . I can certainly argue that the globalization process in the `` Third World countries '' will be a very important factor which will lead to the increse in the number of cars . Secondly , because of the lack of the culture of the usage of alternative mechanisms in transportation , the increase will continue . Thirdly , the non-existence of alternative machines produces which are cheap and effective as cars will be another reason for the increase . Finally , even though all of these three handicaps disappear , the government policies and the interests of car-producing corporations will hinder the achievements in reducing the number of cars in use . Firstly , globalization is a process which cannot be stopped in the near future . There are significant numbers of countries which entered the globalization age in the near past , there fore they do not have the number of cars as many as the number of the cars in the West . therefore , the countries like China , India , the countries of Africa or other countries which are not ndustrialized or are not in the free market system newly possesing that culture of usage if cars , which simply measn that there will be more cars in use in the near future . Secondly , in many of the countries , governments suffer from the lack of the culture of using alternative sources of transportation . modernized countries promote the usage of mass transportation and therefore , people living there are used to be directed to these alternatives . but in the countries like Turkey , people do not have the consciousness of mass transportation , instead every individual tend to buy a car for themselves , which is obviously a factor increasing the number of cars . Thirdly , many of car users do not want to give up using their cars since it is very useful and it provides opprtunities to them of which others do not have . People living in Istanbul would not give up their cars since there is a huge mass of cars on the roads which creates a problem for mass transportation users . when there is a jam on the road , the best possible way to rescue yourself from that will not be using mass transportation and get stuck on the roads with those heavy and slow machine , but instead you will want to use your car . Finally , governments in less industrialized countries do not have policies to cope with traffic problem and they do not promote policies to reduce the number of cars in use . On the other hand , the companies or corporations who produce these cars will not be willing to stop their production since that will destroy their interests . these corporations are always in contact with the governments in which they are established and will try to do everything beneficial to their interests . In conclusion , I believe that there will be more cars in use than today . the conditions of globalization and the certaio\",\n          \"(ITA) I think that today is most important to specialize in one specific subject than to have broad knowledge of many academic subject . Today for a person is most important to find a job , and to find a job you must have the knowledge that for example a factory requires . If i can do a bit of all but i don-t know the exact thing that i was contacted to do i will never find a job . For me today factories search people with a specialize knowledge in one specific subject because is difficult today to find persons that have an adeguate preparation in only one thing . To be a specialize person you must spend lot of your time studying and travelling around your country ( or across europe ) to increase your ability . but today for me persons that have the like to do this are became lesser . I can see a lot of my friends that have just finished to study , they don-t like to travel to another city to become better in their work , they are huppy to stay near their home . Fortunately they have found a job near their home but other persons unfortunately didn-t find it also in other countries . So to get a job that tey like they have must attend specialized courses and they have must travel a lot to increase their knowledge . So if you want a job and particulary a job as you like and near your family , for me is necessary a specialize knowledge of something , something that you know is required in the part you have studied for .\",\n          \"(SPA) If we take a look around the world , we will realize that the most successful people have always been at the edge of tecnology and have accomplish their goals by taking risks and trying out new things . It is necessary just to read any successful man 's biography to understand what this means . We all need to learn how to do things the best way we can and I think sometimes it can be quite scary to go into an unknown field , because there is a big chance we might fail . But failure is always a possibility and is present through our whole life and we have to learn to deal with it , because if we all stick to what we do and do n't try out new things , then the world would stop growing and developing and we would be inmerse in a place where there is no innovation . For instance , in bussiness , the best way to be successful is to come out with some product that nobody else has , that makes you unique . But most of the time , there is a big chance people wo n't like it . That 's why even if you do marketing studies , there 's always a risk factor that involves making decissions based on what you believe in without knowing the results . And in spite of how difficult it looks , it is necessary to keep going and make it happen , just to see how it turns out to be . In conclusion , the key to success is to innovate and take risks , this is the only way we will be able to build a better world , not only getting money , but also helping society , because in my opinion , success is not only defined by how rich you are , but by how much you have done for the world we live in .\"\n        ],\n        \"semantic_type\": \"\",\n        \"description\": \"\"\n      }\n    },\n    {\n      \"column\": \"country_code\",\n      \"properties\": {\n        \"dtype\": \"category\",\n        \"num_unique_values\": 11,\n        \"samples\": [\n          \"SPA\",\n          \"GER\",\n          \"FRE\"\n        ],\n        \"semantic_type\": \"\",\n        \"description\": \"\"\n      }\n    },\n    {\n      \"column\": \"text\",\n      \"properties\": {\n        \"dtype\": \"string\",\n        \"num_unique_values\": 9900,\n        \"samples\": [\n          \" Transportation is a very crucial dimension of globalization of which we are experiencing in its highest speed . The first cars started to be used in the beginning of the 20th century and have been used for decades as the most available machine for those who are eager to use it . According to my futuristic view about cars in the following twenty years , there will not be fewer cars in use than there are today , but more . I can certainly argue that the globalization process in the `` Third World countries '' will be a very important factor which will lead to the increse in the number of cars . Secondly , because of the lack of the culture of the usage of alternative mechanisms in transportation , the increase will continue . Thirdly , the non-existence of alternative machines produces which are cheap and effective as cars will be another reason for the increase . Finally , even though all of these three handicaps disappear , the government policies and the interests of car-producing corporations will hinder the achievements in reducing the number of cars in use . Firstly , globalization is a process which cannot be stopped in the near future . There are significant numbers of countries which entered the globalization age in the near past , there fore they do not have the number of cars as many as the number of the cars in the West . therefore , the countries like China , India , the countries of Africa or other countries which are not ndustrialized or are not in the free market system newly possesing that culture of usage if cars , which simply measn that there will be more cars in use in the near future . Secondly , in many of the countries , governments suffer from the lack of the culture of using alternative sources of transportation . modernized countries promote the usage of mass transportation and therefore , people living there are used to be directed to these alternatives . but in the countries like Turkey , people do not have the consciousness of mass transportation , instead every individual tend to buy a car for themselves , which is obviously a factor increasing the number of cars . Thirdly , many of car users do not want to give up using their cars since it is very useful and it provides opprtunities to them of which others do not have . People living in Istanbul would not give up their cars since there is a huge mass of cars on the roads which creates a problem for mass transportation users . when there is a jam on the road , the best possible way to rescue yourself from that will not be using mass transportation and get stuck on the roads with those heavy and slow machine , but instead you will want to use your car . Finally , governments in less industrialized countries do not have policies to cope with traffic problem and they do not promote policies to reduce the number of cars in use . On the other hand , the companies or corporations who produce these cars will not be willing to stop their production since that will destroy their interests . these corporations are always in contact with the governments in which they are established and will try to do everything beneficial to their interests . In conclusion , I believe that there will be more cars in use than today . the conditions of globalization and the certaio\",\n          \" I think that today is most important to specialize in one specific subject than to have broad knowledge of many academic subject . Today for a person is most important to find a job , and to find a job you must have the knowledge that for example a factory requires . If i can do a bit of all but i don-t know the exact thing that i was contacted to do i will never find a job . For me today factories search people with a specialize knowledge in one specific subject because is difficult today to find persons that have an adeguate preparation in only one thing . To be a specialize person you must spend lot of your time studying and travelling around your country ( or across europe ) to increase your ability . but today for me persons that have the like to do this are became lesser . I can see a lot of my friends that have just finished to study , they don-t like to travel to another city to become better in their work , they are huppy to stay near their home . Fortunately they have found a job near their home but other persons unfortunately didn-t find it also in other countries . So to get a job that tey like they have must attend specialized courses and they have must travel a lot to increase their knowledge . So if you want a job and particulary a job as you like and near your family , for me is necessary a specialize knowledge of something , something that you know is required in the part you have studied for .\",\n          \" If we take a look around the world , we will realize that the most successful people have always been at the edge of tecnology and have accomplish their goals by taking risks and trying out new things . It is necessary just to read any successful man 's biography to understand what this means . We all need to learn how to do things the best way we can and I think sometimes it can be quite scary to go into an unknown field , because there is a big chance we might fail . But failure is always a possibility and is present through our whole life and we have to learn to deal with it , because if we all stick to what we do and do n't try out new things , then the world would stop growing and developing and we would be inmerse in a place where there is no innovation . For instance , in bussiness , the best way to be successful is to come out with some product that nobody else has , that makes you unique . But most of the time , there is a big chance people wo n't like it . That 's why even if you do marketing studies , there 's always a risk factor that involves making decissions based on what you believe in without knowing the results . And in spite of how difficult it looks , it is necessary to keep going and make it happen , just to see how it turns out to be . In conclusion , the key to success is to innovate and take risks , this is the only way we will be able to build a better world , not only getting money , but also helping society , because in my opinion , success is not only defined by how rich you are , but by how much you have done for the world we live in .\"\n        ],\n        \"semantic_type\": \"\",\n        \"description\": \"\"\n      }\n    },\n    {\n      \"column\": \"group\",\n      \"properties\": {\n        \"dtype\": \"category\",\n        \"num_unique_values\": 4,\n        \"samples\": [\n          \"ARA+TUR\",\n          \"HIN+TEL\",\n          \"FRE+SPA+ITA+GER\"\n        ],\n        \"semantic_type\": \"\",\n        \"description\": \"\"\n      }\n    }\n  ]\n}"
            }
          },
          "metadata": {},
          "execution_count": 13
        }
      ],
      "source": [
        "create_group(df)"
      ]
    },
    {
      "cell_type": "markdown",
      "metadata": {
        "id": "Sq-fl7H72TLh"
      },
      "source": [
        "#### groups_dataframes"
      ]
    },
    {
      "cell_type": "code",
      "execution_count": null,
      "metadata": {
        "id": "RA-tVRXo2Vso"
      },
      "outputs": [],
      "source": [
        "# get Dict by groups\n",
        "def create_groups_dataframes(df):\n",
        "  groups_labels = {'HIN+TEL', 'KOR+CHI+JPN', 'FRE+SPA+ITA+GER','ARA+TUR'}\n",
        "  groups_dataframes = {}\n",
        "\n",
        "  for label in groups_labels:\n",
        "      label_df = df[df['group'] == label]  # Replace 'label_column' with the actual column name\n",
        "      groups_dataframes[label] = label_df\n",
        "\n",
        "  return groups_dataframes"
      ]
    },
    {
      "cell_type": "code",
      "execution_count": null,
      "metadata": {
        "id": "Tms9pb2n42Ur"
      },
      "outputs": [],
      "source": [
        "# get dict by country in each group\n",
        "def create_1_group_dataframes(my_df, country_labels):\n",
        "  groups_dataframes = {}\n",
        "  for label in country_labels:\n",
        "      label_df = my_df[my_df['country_code'] == label]  # Replace 'label_column' with the actual column name\n",
        "      groups_dataframes[label] = label_df\n",
        "\n",
        "  return groups_dataframes"
      ]
    },
    {
      "cell_type": "markdown",
      "metadata": {
        "id": "fh0kwfSc91g8"
      },
      "source": [
        "#### shuffle_rows"
      ]
    },
    {
      "cell_type": "code",
      "execution_count": null,
      "metadata": {
        "id": "G5RC6AUBwLJv"
      },
      "outputs": [],
      "source": [
        "def shuffle_rows(dfs): # mélange des données\n",
        "    i = 0\n",
        "    for df in dfs:\n",
        "      dfs[i] = df.sample(frac = 1, random_state=42)\n",
        "      i += 1"
      ]
    },
    {
      "cell_type": "markdown",
      "metadata": {
        "id": "mawneZrchYo8"
      },
      "source": [
        "#### train"
      ]
    },
    {
      "cell_type": "code",
      "execution_count": null,
      "metadata": {
        "id": "J_yE9h4qhcw0"
      },
      "outputs": [],
      "source": [
        "def train(mapping_list, df, save_model_vectorizer):\n",
        "  X = df['text']\n",
        "  y_grouped4 = df['group'].map(mapping_list)\n",
        "\n",
        "  # Entraînement et évaluation des modèles\n",
        "  for model_name, model in models.items():\n",
        "      for vectorizer_name, vectorizer in vectorizers.items():\n",
        "          print('========================= Model: {}; vectorizer: {} ========================='.format(model_name, vectorizer))\n",
        "          train, test, y_train_grouped4, y_test_grouped4 = train_test_split(vectorizer.fit_transform(X), y_grouped4, test_size=0.2, random_state=42)\n",
        "          model_save = evaluate_model_performance_detailed(groups_mapping, model, model_name, vectorizer_name, train, test, y_train_grouped4, y_test_grouped4)\n",
        "          save_model_vectorizer[model_name+'-'+vectorizer_name]  = (model_save, vectorizer)"
      ]
    },
    {
      "cell_type": "code",
      "execution_count": null,
      "metadata": {
        "id": "q8IoOKMHysm2"
      },
      "outputs": [],
      "source": [
        "def train_1_group(mapping_list, df, save_model_vectorizer):\n",
        "  X = df['text']\n",
        "  print(X.shape)\n",
        "  y_grouped4 = df['country_code'].map(mapping_list)\n",
        "  print(y_grouped4.shape)\n",
        "\n",
        "  # Entraînement et évaluation des modèles\n",
        "  for model_name, model in models.items():\n",
        "      for vectorizer_name, vectorizer in vectorizers.items():\n",
        "          print('========================= Model: {}; vectorizer: {} ========================='.format(model_name, vectorizer))\n",
        "          train, test, y_train_grouped4, y_test_grouped4 = train_test_split(vectorizer.fit_transform(X), y_grouped4, test_size=0.2, random_state=42)\n",
        "          model_save = evaluate_model_performance_detailed(mapping_list, model, model_name, vectorizer_name, train, test, y_train_grouped4, y_test_grouped4)\n",
        "          save_model_vectorizer[model_name+'-'+vectorizer_name]  = (model_save, vectorizer)"
      ]
    },
    {
      "cell_type": "code",
      "source": [
        "# used to plot the regulation effect\n",
        "def train_diffrent_C(mapping_list, df, vectorizer, C_param=np.linspace(0.001, 100, 100)):\n",
        "    X = df['text']\n",
        "    y = df['group'].map(mapping_list)\n",
        "\n",
        "    # list to record the accuracy\n",
        "    training_accuracy = []\n",
        "    testing_accuracy = []\n",
        "\n",
        "    # list to record the error\n",
        "    training_error = []\n",
        "    testing_error = []\n",
        "\n",
        "    # Entraînement et évaluation des modèles\n",
        "    print('========================= vectorizer: {} ========================='.format(vectorizer))\n",
        "    X_train, X_test, y_train, y_test = train_test_split(vectorizer.fit_transform(X), y, test_size=0.2, random_state=42)\n",
        "\n",
        "    # C Hyperparameter\n",
        "    for C_value in C_param:\n",
        "        print('C_value: {}'.format(C_value))\n",
        "        # Logistic Regression\n",
        "        lr = LogisticRegression(C=C_value, max_iter=2000, n_jobs=-1)\n",
        "        lr.fit(X_train, y_train)\n",
        "\n",
        "        # Appending the Accuracy Score\n",
        "        training_accuracy.append(lr.score(X_train, y_train))\n",
        "        testing_accuracy.append(lr.score(X_test, y_test))\n",
        "\n",
        "        # Appending the Error Score\n",
        "        training_error.append(1 - lr.score(X_train, y_train))\n",
        "        testing_error.append(1 - lr.score(X_test, y_test))\n",
        "\n",
        "    return C_param, training_accuracy, testing_accuracy, training_error, testing_error\n"
      ],
      "metadata": {
        "id": "l2OL4rU9Ng54"
      },
      "execution_count": null,
      "outputs": []
    },
    {
      "cell_type": "code",
      "source": [
        "def plot_log(X_values, train_values, test_values, Xlabel, ylabel, title):\n",
        "    plt.semilogx(X_values, train_values, X_values, test_values)\n",
        "    plt.xlabel(Xlabel)\n",
        "    plt.ylabel(ylabel)\n",
        "    plt.title(title)\n",
        "    plt.legend((\"Train\", \"Test\"))\n",
        "    plt.grid()\n",
        "    plt.show()"
      ],
      "metadata": {
        "id": "gURdaazgOyzx"
      },
      "execution_count": null,
      "outputs": []
    },
    {
      "cell_type": "markdown",
      "metadata": {
        "id": "whG8LhHJvFuI"
      },
      "source": [
        "#### best model"
      ]
    },
    {
      "cell_type": "code",
      "execution_count": null,
      "metadata": {
        "id": "zfnzhybdvNJK"
      },
      "outputs": [],
      "source": [
        "def best(results):\n",
        "  best = max(results, key=lambda key: results[key]['test_accuracy'])\n",
        "  return best"
      ]
    },
    {
      "cell_type": "markdown",
      "metadata": {
        "id": "ttepZPgGVOG0"
      },
      "source": [
        "#### GET tests data"
      ]
    },
    {
      "cell_type": "code",
      "source": [
        "grouped = df.groupby('country_code')"
      ],
      "metadata": {
        "id": "g6O6Q7-P9ipd"
      },
      "execution_count": null,
      "outputs": []
    },
    {
      "cell_type": "code",
      "execution_count": null,
      "metadata": {
        "id": "a7puzt_YV8a6"
      },
      "outputs": [],
      "source": [
        "\n",
        "# Group your DataFrame by the 'country_code' column\n",
        "\n",
        "# Initialize an empty list to hold the samples\n",
        "samples = []\n",
        "\n",
        "# Iterate over each group, randomly sample 100 rows (if there are at least 100 rows in the group), and append them to the list\n",
        "for name, group in grouped:\n",
        "    if len(group) >= 100:\n",
        "        sample = group.sample(100, random_state=1)  # random_state is for reproducibility\n",
        "        samples.append(sample)\n",
        "        # Remove the sampled rows from the original DataFrame\n",
        "        df.drop(sample.index, inplace=True)\n",
        "    else:\n",
        "        print(f'Not enough rows in country {name} to sample 100.')\n",
        "\n",
        "# Concatenate all samples into a single DataFrame\n",
        "all_samples = pd.concat(samples)\n",
        "\n",
        "# Shuffle the DataFrame\n",
        "all_samples = all_samples.sample(frac=1, random_state=1).reset_index(drop=True)\n",
        "\n",
        "# Write the DataFrame to a CSV file\n",
        "all_samples.to_csv('test.csv', index=False)\n"
      ]
    },
    {
      "cell_type": "code",
      "execution_count": null,
      "metadata": {
        "id": "vSc6HRp2PKsN"
      },
      "outputs": [],
      "source": [
        "# Get the unique countries with the number of items in 'all_samples'\n",
        "country_counts = all_samples['country_code'].value_counts()"
      ]
    },
    {
      "cell_type": "code",
      "execution_count": null,
      "metadata": {
        "id": "01ByGZP7Ympo"
      },
      "outputs": [],
      "source": [
        "# Shuffle the DataFrame\n",
        "all_samples = all_samples.sample(frac=1, random_state=1).reset_index(drop=True)"
      ]
    },
    {
      "cell_type": "code",
      "execution_count": null,
      "metadata": {
        "colab": {
          "base_uri": "https://localhost:8080/",
          "height": 206
        },
        "id": "65c8tdEuYQrf",
        "outputId": "541dac5a-692d-4f67-be95-109a2ba419d2"
      },
      "outputs": [
        {
          "output_type": "execute_result",
          "data": {
            "text/plain": [
              "                                                   0 country_code  \\\n",
              "0  (TUR) Although there are some peoples claiming...          TUR   \n",
              "1  (ITA) I agree with this sentence , because if ...          ITA   \n",
              "2  (HIN) I agree with the given statement that yo...          HIN   \n",
              "3  (ARA) Acutly I disagree that becouse if tha st...          ARA   \n",
              "4  (CHI) Will we success if we always make a deci...          CHI   \n",
              "\n",
              "                                                text            group  \n",
              "0   Although there are some peoples claiming impo...          ARA+TUR  \n",
              "1   I agree with this sentence , because if I do ...  FRE+SPA+ITA+GER  \n",
              "2   I agree with the given statement that young p...          HIN+TEL  \n",
              "3   Acutly I disagree that becouse if tha student...          ARA+TUR  \n",
              "4   Will we success if we always make a decision ...      KOR+CHI+JPN  "
            ],
            "text/html": [
              "\n",
              "  <div id=\"df-62bec18c-bd25-49f3-acb0-3784fd8072fe\" class=\"colab-df-container\">\n",
              "    <div>\n",
              "<style scoped>\n",
              "    .dataframe tbody tr th:only-of-type {\n",
              "        vertical-align: middle;\n",
              "    }\n",
              "\n",
              "    .dataframe tbody tr th {\n",
              "        vertical-align: top;\n",
              "    }\n",
              "\n",
              "    .dataframe thead th {\n",
              "        text-align: right;\n",
              "    }\n",
              "</style>\n",
              "<table border=\"1\" class=\"dataframe\">\n",
              "  <thead>\n",
              "    <tr style=\"text-align: right;\">\n",
              "      <th></th>\n",
              "      <th>0</th>\n",
              "      <th>country_code</th>\n",
              "      <th>text</th>\n",
              "      <th>group</th>\n",
              "    </tr>\n",
              "  </thead>\n",
              "  <tbody>\n",
              "    <tr>\n",
              "      <th>0</th>\n",
              "      <td>(TUR) Although there are some peoples claiming...</td>\n",
              "      <td>TUR</td>\n",
              "      <td>Although there are some peoples claiming impo...</td>\n",
              "      <td>ARA+TUR</td>\n",
              "    </tr>\n",
              "    <tr>\n",
              "      <th>1</th>\n",
              "      <td>(ITA) I agree with this sentence , because if ...</td>\n",
              "      <td>ITA</td>\n",
              "      <td>I agree with this sentence , because if I do ...</td>\n",
              "      <td>FRE+SPA+ITA+GER</td>\n",
              "    </tr>\n",
              "    <tr>\n",
              "      <th>2</th>\n",
              "      <td>(HIN) I agree with the given statement that yo...</td>\n",
              "      <td>HIN</td>\n",
              "      <td>I agree with the given statement that young p...</td>\n",
              "      <td>HIN+TEL</td>\n",
              "    </tr>\n",
              "    <tr>\n",
              "      <th>3</th>\n",
              "      <td>(ARA) Acutly I disagree that becouse if tha st...</td>\n",
              "      <td>ARA</td>\n",
              "      <td>Acutly I disagree that becouse if tha student...</td>\n",
              "      <td>ARA+TUR</td>\n",
              "    </tr>\n",
              "    <tr>\n",
              "      <th>4</th>\n",
              "      <td>(CHI) Will we success if we always make a deci...</td>\n",
              "      <td>CHI</td>\n",
              "      <td>Will we success if we always make a decision ...</td>\n",
              "      <td>KOR+CHI+JPN</td>\n",
              "    </tr>\n",
              "  </tbody>\n",
              "</table>\n",
              "</div>\n",
              "    <div class=\"colab-df-buttons\">\n",
              "\n",
              "  <div class=\"colab-df-container\">\n",
              "    <button class=\"colab-df-convert\" onclick=\"convertToInteractive('df-62bec18c-bd25-49f3-acb0-3784fd8072fe')\"\n",
              "            title=\"Convert this dataframe to an interactive table.\"\n",
              "            style=\"display:none;\">\n",
              "\n",
              "  <svg xmlns=\"http://www.w3.org/2000/svg\" height=\"24px\" viewBox=\"0 -960 960 960\">\n",
              "    <path d=\"M120-120v-720h720v720H120Zm60-500h600v-160H180v160Zm220 220h160v-160H400v160Zm0 220h160v-160H400v160ZM180-400h160v-160H180v160Zm440 0h160v-160H620v160ZM180-180h160v-160H180v160Zm440 0h160v-160H620v160Z\"/>\n",
              "  </svg>\n",
              "    </button>\n",
              "\n",
              "  <style>\n",
              "    .colab-df-container {\n",
              "      display:flex;\n",
              "      gap: 12px;\n",
              "    }\n",
              "\n",
              "    .colab-df-convert {\n",
              "      background-color: #E8F0FE;\n",
              "      border: none;\n",
              "      border-radius: 50%;\n",
              "      cursor: pointer;\n",
              "      display: none;\n",
              "      fill: #1967D2;\n",
              "      height: 32px;\n",
              "      padding: 0 0 0 0;\n",
              "      width: 32px;\n",
              "    }\n",
              "\n",
              "    .colab-df-convert:hover {\n",
              "      background-color: #E2EBFA;\n",
              "      box-shadow: 0px 1px 2px rgba(60, 64, 67, 0.3), 0px 1px 3px 1px rgba(60, 64, 67, 0.15);\n",
              "      fill: #174EA6;\n",
              "    }\n",
              "\n",
              "    .colab-df-buttons div {\n",
              "      margin-bottom: 4px;\n",
              "    }\n",
              "\n",
              "    [theme=dark] .colab-df-convert {\n",
              "      background-color: #3B4455;\n",
              "      fill: #D2E3FC;\n",
              "    }\n",
              "\n",
              "    [theme=dark] .colab-df-convert:hover {\n",
              "      background-color: #434B5C;\n",
              "      box-shadow: 0px 1px 3px 1px rgba(0, 0, 0, 0.15);\n",
              "      filter: drop-shadow(0px 1px 2px rgba(0, 0, 0, 0.3));\n",
              "      fill: #FFFFFF;\n",
              "    }\n",
              "  </style>\n",
              "\n",
              "    <script>\n",
              "      const buttonEl =\n",
              "        document.querySelector('#df-62bec18c-bd25-49f3-acb0-3784fd8072fe button.colab-df-convert');\n",
              "      buttonEl.style.display =\n",
              "        google.colab.kernel.accessAllowed ? 'block' : 'none';\n",
              "\n",
              "      async function convertToInteractive(key) {\n",
              "        const element = document.querySelector('#df-62bec18c-bd25-49f3-acb0-3784fd8072fe');\n",
              "        const dataTable =\n",
              "          await google.colab.kernel.invokeFunction('convertToInteractive',\n",
              "                                                    [key], {});\n",
              "        if (!dataTable) return;\n",
              "\n",
              "        const docLinkHtml = 'Like what you see? Visit the ' +\n",
              "          '<a target=\"_blank\" href=https://colab.research.google.com/notebooks/data_table.ipynb>data table notebook</a>'\n",
              "          + ' to learn more about interactive tables.';\n",
              "        element.innerHTML = '';\n",
              "        dataTable['output_type'] = 'display_data';\n",
              "        await google.colab.output.renderOutput(dataTable, element);\n",
              "        const docLink = document.createElement('div');\n",
              "        docLink.innerHTML = docLinkHtml;\n",
              "        element.appendChild(docLink);\n",
              "      }\n",
              "    </script>\n",
              "  </div>\n",
              "\n",
              "\n",
              "<div id=\"df-ec17d4a3-ed0b-4a91-99da-6c7c7a77c300\">\n",
              "  <button class=\"colab-df-quickchart\" onclick=\"quickchart('df-ec17d4a3-ed0b-4a91-99da-6c7c7a77c300')\"\n",
              "            title=\"Suggest charts\"\n",
              "            style=\"display:none;\">\n",
              "\n",
              "<svg xmlns=\"http://www.w3.org/2000/svg\" height=\"24px\"viewBox=\"0 0 24 24\"\n",
              "     width=\"24px\">\n",
              "    <g>\n",
              "        <path d=\"M19 3H5c-1.1 0-2 .9-2 2v14c0 1.1.9 2 2 2h14c1.1 0 2-.9 2-2V5c0-1.1-.9-2-2-2zM9 17H7v-7h2v7zm4 0h-2V7h2v10zm4 0h-2v-4h2v4z\"/>\n",
              "    </g>\n",
              "</svg>\n",
              "  </button>\n",
              "\n",
              "<style>\n",
              "  .colab-df-quickchart {\n",
              "      --bg-color: #E8F0FE;\n",
              "      --fill-color: #1967D2;\n",
              "      --hover-bg-color: #E2EBFA;\n",
              "      --hover-fill-color: #174EA6;\n",
              "      --disabled-fill-color: #AAA;\n",
              "      --disabled-bg-color: #DDD;\n",
              "  }\n",
              "\n",
              "  [theme=dark] .colab-df-quickchart {\n",
              "      --bg-color: #3B4455;\n",
              "      --fill-color: #D2E3FC;\n",
              "      --hover-bg-color: #434B5C;\n",
              "      --hover-fill-color: #FFFFFF;\n",
              "      --disabled-bg-color: #3B4455;\n",
              "      --disabled-fill-color: #666;\n",
              "  }\n",
              "\n",
              "  .colab-df-quickchart {\n",
              "    background-color: var(--bg-color);\n",
              "    border: none;\n",
              "    border-radius: 50%;\n",
              "    cursor: pointer;\n",
              "    display: none;\n",
              "    fill: var(--fill-color);\n",
              "    height: 32px;\n",
              "    padding: 0;\n",
              "    width: 32px;\n",
              "  }\n",
              "\n",
              "  .colab-df-quickchart:hover {\n",
              "    background-color: var(--hover-bg-color);\n",
              "    box-shadow: 0 1px 2px rgba(60, 64, 67, 0.3), 0 1px 3px 1px rgba(60, 64, 67, 0.15);\n",
              "    fill: var(--button-hover-fill-color);\n",
              "  }\n",
              "\n",
              "  .colab-df-quickchart-complete:disabled,\n",
              "  .colab-df-quickchart-complete:disabled:hover {\n",
              "    background-color: var(--disabled-bg-color);\n",
              "    fill: var(--disabled-fill-color);\n",
              "    box-shadow: none;\n",
              "  }\n",
              "\n",
              "  .colab-df-spinner {\n",
              "    border: 2px solid var(--fill-color);\n",
              "    border-color: transparent;\n",
              "    border-bottom-color: var(--fill-color);\n",
              "    animation:\n",
              "      spin 1s steps(1) infinite;\n",
              "  }\n",
              "\n",
              "  @keyframes spin {\n",
              "    0% {\n",
              "      border-color: transparent;\n",
              "      border-bottom-color: var(--fill-color);\n",
              "      border-left-color: var(--fill-color);\n",
              "    }\n",
              "    20% {\n",
              "      border-color: transparent;\n",
              "      border-left-color: var(--fill-color);\n",
              "      border-top-color: var(--fill-color);\n",
              "    }\n",
              "    30% {\n",
              "      border-color: transparent;\n",
              "      border-left-color: var(--fill-color);\n",
              "      border-top-color: var(--fill-color);\n",
              "      border-right-color: var(--fill-color);\n",
              "    }\n",
              "    40% {\n",
              "      border-color: transparent;\n",
              "      border-right-color: var(--fill-color);\n",
              "      border-top-color: var(--fill-color);\n",
              "    }\n",
              "    60% {\n",
              "      border-color: transparent;\n",
              "      border-right-color: var(--fill-color);\n",
              "    }\n",
              "    80% {\n",
              "      border-color: transparent;\n",
              "      border-right-color: var(--fill-color);\n",
              "      border-bottom-color: var(--fill-color);\n",
              "    }\n",
              "    90% {\n",
              "      border-color: transparent;\n",
              "      border-bottom-color: var(--fill-color);\n",
              "    }\n",
              "  }\n",
              "</style>\n",
              "\n",
              "  <script>\n",
              "    async function quickchart(key) {\n",
              "      const quickchartButtonEl =\n",
              "        document.querySelector('#' + key + ' button');\n",
              "      quickchartButtonEl.disabled = true;  // To prevent multiple clicks.\n",
              "      quickchartButtonEl.classList.add('colab-df-spinner');\n",
              "      try {\n",
              "        const charts = await google.colab.kernel.invokeFunction(\n",
              "            'suggestCharts', [key], {});\n",
              "      } catch (error) {\n",
              "        console.error('Error during call to suggestCharts:', error);\n",
              "      }\n",
              "      quickchartButtonEl.classList.remove('colab-df-spinner');\n",
              "      quickchartButtonEl.classList.add('colab-df-quickchart-complete');\n",
              "    }\n",
              "    (() => {\n",
              "      let quickchartButtonEl =\n",
              "        document.querySelector('#df-ec17d4a3-ed0b-4a91-99da-6c7c7a77c300 button');\n",
              "      quickchartButtonEl.style.display =\n",
              "        google.colab.kernel.accessAllowed ? 'block' : 'none';\n",
              "    })();\n",
              "  </script>\n",
              "</div>\n",
              "    </div>\n",
              "  </div>\n"
            ],
            "application/vnd.google.colaboratory.intrinsic+json": {
              "type": "dataframe",
              "variable_name": "all_samples",
              "summary": "{\n  \"name\": \"all_samples\",\n  \"rows\": 1100,\n  \"fields\": [\n    {\n      \"column\": 0,\n      \"properties\": {\n        \"dtype\": \"string\",\n        \"num_unique_values\": 1100,\n        \"samples\": [\n          \"(ITA) In the last fifty years the number of cars in use is increased all over the world , expecially in Europe and in the north of America . In theese countries almost everybody ( between eighteen and sixty years old ) have his own car and the problems concerned with this situation are becoming very high . The increasing of traffic and pollution are two of the more negative results of the excessive use of cars and nowdays there are a lot of purposed to resolve theese problems . Many majors , for example , suggest to close the a part of their cities to the cars and this will be good also in order to preserve the beauty of the city centres ( especially if there are historical and artistical monuments , like in italian cities ) . But this will create the problem of moving from a place to another ( people have to go to work or to school ) so it will be necessary to improove the public transports . In my own experience , I 've seen that , depite of all theese purposed , anything has been done . It 's really difficult to renouce to our habits , expecially if a chang means to live a little harder than before . I 'm not very optimistic abuot the future and I think that the use of cars will increase .\",\n          \"(CHI) Nowadays , students are leading to learn more theories , but have a lack of knowledge of the real facts . In my opinion , i do n't think it is more important to understand ideas and concepts than it is to learn facts . To prove my opinion , i have three reasons . First of all , we all livein the real world , everyday we see grass , flowers , trees , birds , etc. they are all the creatures , we can touch , smell , and hear . Students should be taught how to admire these real things ( facts ) in our daily life , the ideas and concepts can not help students to learn more about the creatures . Second of all , most of the ideas and concepts are in the book , if students are just studing theses ideas and concepts , than they will lose many chances to be in touch with Nature . In contrast , Nature may help children find more ideas and concepts than in the books throughout the practice in the outside . Last but not the leat , the ideas and concepts are the results from the scientists or the phylogists , they may get these ideas and concepts in wrong ways . According to today 's registrations , many new and correct ideas and concepts are out . But in students ' books , the ideas and concepts do n't be improved , so students may get the wrong information about the facts . Then , at this time , experiment is much more important , let students get correct ideas and concepts by themselves . For example , physics and chemistry can not lust learn the ideas and concepts , students must have a objective configuration of the physical and chemical facts . To sum up , the Nature , the Practice , and the Experiment are the better means for students to get ideas and concepts of the facts . In these ways , they can not only learn the truth in the books , but also learn more about facts throuth the process of getting knowlege .\",\n          \"(JPN) I agree with this statement because I beleive that trying new things and taking risks are more interested than knowing how to do well . In my case , sinec I was ten years old , I have been playing tennis , so I practice tennis every day and sometimes compete on the tennis . When I play on the match , I try to play new thing which is so fantastic for me , and usually , when I try newthings , I can win the tounament . in similar to succesuful people , trying new things and tasking risks are connected to successful things : sports players and successful businessmem . Successful sports players are always trying new things and take risks . For example , Roger Federer , who is tennis champion in the champion . He always enjoys the mathc as well as try new things , which have high risk . However , he is not afraid of takiing risks , and he hits the ball to the opponent '' weak point . He takes energey from trying new newthings and taking risks , so he would be tennis champion in th world . Therfore , I believe that similar to him , sports palyers show that taking risks and trying new things is neccessary key . In addition to successful sport players , successful businessmen or women are apt to try new things and take risks , but sometimes , they think that taking risks and trying new things have dangerous , but we can make a lot of money and fame . Also , in today 's society , which is democracy as well as competiotion society , so they always demand winning . I beleive that trying new things and taking risks is concerned with successful people . In fact , sports players and businessmen or women show that .\"\n        ],\n        \"semantic_type\": \"\",\n        \"description\": \"\"\n      }\n    },\n    {\n      \"column\": \"country_code\",\n      \"properties\": {\n        \"dtype\": \"category\",\n        \"num_unique_values\": 11,\n        \"samples\": [\n          \"GER\",\n          \"TUR\",\n          \"JPN\"\n        ],\n        \"semantic_type\": \"\",\n        \"description\": \"\"\n      }\n    },\n    {\n      \"column\": \"text\",\n      \"properties\": {\n        \"dtype\": \"string\",\n        \"num_unique_values\": 1100,\n        \"samples\": [\n          \" In the last fifty years the number of cars in use is increased all over the world , expecially in Europe and in the north of America . In theese countries almost everybody ( between eighteen and sixty years old ) have his own car and the problems concerned with this situation are becoming very high . The increasing of traffic and pollution are two of the more negative results of the excessive use of cars and nowdays there are a lot of purposed to resolve theese problems . Many majors , for example , suggest to close the a part of their cities to the cars and this will be good also in order to preserve the beauty of the city centres ( especially if there are historical and artistical monuments , like in italian cities ) . But this will create the problem of moving from a place to another ( people have to go to work or to school ) so it will be necessary to improove the public transports . In my own experience , I 've seen that , depite of all theese purposed , anything has been done . It 's really difficult to renouce to our habits , expecially if a chang means to live a little harder than before . I 'm not very optimistic abuot the future and I think that the use of cars will increase .\",\n          \" Nowadays , students are leading to learn more theories , but have a lack of knowledge of the real facts . In my opinion , i do n't think it is more important to understand ideas and concepts than it is to learn facts . To prove my opinion , i have three reasons . First of all , we all livein the real world , everyday we see grass , flowers , trees , birds , etc. they are all the creatures , we can touch , smell , and hear . Students should be taught how to admire these real things ( facts ) in our daily life , the ideas and concepts can not help students to learn more about the creatures . Second of all , most of the ideas and concepts are in the book , if students are just studing theses ideas and concepts , than they will lose many chances to be in touch with Nature . In contrast , Nature may help children find more ideas and concepts than in the books throughout the practice in the outside . Last but not the leat , the ideas and concepts are the results from the scientists or the phylogists , they may get these ideas and concepts in wrong ways . According to today 's registrations , many new and correct ideas and concepts are out . But in students ' books , the ideas and concepts do n't be improved , so students may get the wrong information about the facts . Then , at this time , experiment is much more important , let students get correct ideas and concepts by themselves . For example , physics and chemistry can not lust learn the ideas and concepts , students must have a objective configuration of the physical and chemical facts . To sum up , the Nature , the Practice , and the Experiment are the better means for students to get ideas and concepts of the facts . In these ways , they can not only learn the truth in the books , but also learn more about facts throuth the process of getting knowlege .\",\n          \" I agree with this statement because I beleive that trying new things and taking risks are more interested than knowing how to do well . In my case , sinec I was ten years old , I have been playing tennis , so I practice tennis every day and sometimes compete on the tennis . When I play on the match , I try to play new thing which is so fantastic for me , and usually , when I try newthings , I can win the tounament . in similar to succesuful people , trying new things and tasking risks are connected to successful things : sports players and successful businessmem . Successful sports players are always trying new things and take risks . For example , Roger Federer , who is tennis champion in the champion . He always enjoys the mathc as well as try new things , which have high risk . However , he is not afraid of takiing risks , and he hits the ball to the opponent '' weak point . He takes energey from trying new newthings and taking risks , so he would be tennis champion in th world . Therfore , I believe that similar to him , sports palyers show that taking risks and trying new things is neccessary key . In addition to successful sport players , successful businessmen or women are apt to try new things and take risks , but sometimes , they think that taking risks and trying new things have dangerous , but we can make a lot of money and fame . Also , in today 's society , which is democracy as well as competiotion society , so they always demand winning . I beleive that trying new things and taking risks is concerned with successful people . In fact , sports players and businessmen or women show that .\"\n        ],\n        \"semantic_type\": \"\",\n        \"description\": \"\"\n      }\n    },\n    {\n      \"column\": \"group\",\n      \"properties\": {\n        \"dtype\": \"category\",\n        \"num_unique_values\": 4,\n        \"samples\": [\n          \"FRE+SPA+ITA+GER\",\n          \"KOR+CHI+JPN\",\n          \"ARA+TUR\"\n        ],\n        \"semantic_type\": \"\",\n        \"description\": \"\"\n      }\n    }\n  ]\n}"
            }
          },
          "metadata": {},
          "execution_count": 26
        }
      ],
      "source": [
        "all_samples.head()"
      ]
    },
    {
      "cell_type": "code",
      "execution_count": null,
      "metadata": {
        "colab": {
          "base_uri": "https://localhost:8080/"
        },
        "id": "l-jQiiBTYxH9",
        "outputId": "f399b1d7-c7ec-4662-92e7-b58c6a0fe3cc"
      },
      "outputs": [
        {
          "output_type": "execute_result",
          "data": {
            "text/plain": [
              "TUR    100\n",
              "ITA    100\n",
              "HIN    100\n",
              "ARA    100\n",
              "CHI    100\n",
              "GER    100\n",
              "TEL    100\n",
              "SPA    100\n",
              "KOR    100\n",
              "JPN    100\n",
              "FRE    100\n",
              "Name: country_code, dtype: int64"
            ]
          },
          "metadata": {},
          "execution_count": 27
        }
      ],
      "source": [
        "# Get the unique groups with the number of items in 'all_samples'\n",
        "all_samples['country_code'].value_counts()"
      ]
    },
    {
      "cell_type": "code",
      "execution_count": null,
      "metadata": {
        "id": "l2RX7-ffWLGa"
      },
      "outputs": [],
      "source": [
        "from google.colab import files\n",
        "\n",
        "# Write the DataFrame to a CSV file in the Colab filesystem\n",
        "all_samples.to_csv('/content/test.csv', index=False)"
      ]
    },
    {
      "cell_type": "markdown",
      "metadata": {
        "id": "qkmJkFa_UXDP"
      },
      "source": [
        "##  **3. Regroupement**:\n",
        "\n",
        "  - **Groupe 01**: TEL, HIN\n",
        "  - **Groupe 02**: KOR, CHI, JPN\n",
        "  - **Groupe 03**: FRE, SPA, ITA, GER\n",
        "  - **Groupe 04**: ARA, TUR"
      ]
    },
    {
      "cell_type": "markdown",
      "metadata": {
        "id": "LUj7mtCcvJ0E"
      },
      "source": [
        "#### Unbalanced"
      ]
    },
    {
      "cell_type": "code",
      "execution_count": null,
      "metadata": {
        "colab": {
          "base_uri": "https://localhost:8080/"
        },
        "id": "YYavgVQy-9qC",
        "outputId": "2a5988eb-db3b-4c1e-d31e-f1c306970717"
      },
      "outputs": [
        {
          "metadata": {
            "tags": null
          },
          "name": "stdout",
          "output_type": "stream",
          "text": [
            "========================= Model: Logistic Regression; vectorizer: CountVectorizer(ngram_range=(1, 2)) =========================\n",
            "train-------------------------------------------\n",
            "Logistic Regression (vectorizer_BOW_bigram) - Overall Metrics:\n",
            "- Accuracy: 1.0000\n",
            "- Precision (Macro): 1.0000\n",
            "- Recall (Macro): 1.0000\n",
            "- F1 (Macro): 1.0000\n",
            "\n",
            "test--------------------------------------------\n",
            "Logistic Regression (vectorizer_BOW_bigram) - Overall Metrics:\n",
            "- Accuracy: 0.8869\n",
            "- Precision (Macro): 0.8813\n",
            "- Recall (Macro): 0.8655\n",
            "- F1 (Macro): 0.8724\n",
            "\n",
            "Logistic Regression (vectorizer_BOW_bigram) - Metrics by Label:\n",
            "          Label  Precision   Recall  F1 Score\n",
            "        HIN+TEL   0.945860 0.894578  0.919505\n",
            "    KOR+CHI+JPN   0.874251 0.918239  0.895706\n",
            "FRE+SPA+ITA+GER   0.897989 0.931446  0.914411\n",
            "        ARA+TUR   0.807229 0.717857  0.759924\n"
          ]
        }
      ],
      "source": [
        "unbalanced_models = {}\n",
        "train(groups_mapping, df, unbalanced_models)"
      ]
    },
    {
      "cell_type": "markdown",
      "metadata": {
        "id": "KqKx4e-OvBxP"
      },
      "source": [
        ".Best model"
      ]
    },
    {
      "cell_type": "code",
      "execution_count": null,
      "metadata": {
        "colab": {
          "base_uri": "https://localhost:8080/"
        },
        "id": "M_-YFwOKvDZD",
        "outputId": "099f4ed7-ddfb-48fe-aa12-a9158001a3a7"
      },
      "outputs": [
        {
          "output_type": "execute_result",
          "data": {
            "text/plain": [
              "{'rf-vectorizer_BOW_bigram': (RandomForestClassifier(random_state=42),\n",
              "  CountVectorizer(ngram_range=(1, 2)))}"
            ]
          },
          "metadata": {},
          "execution_count": 40
        }
      ],
      "source": [
        "unbalanced_models"
      ]
    },
    {
      "cell_type": "markdown",
      "metadata": {
        "id": "qXVMrSB4scOK"
      },
      "source": [
        "#### Balanced"
      ]
    },
    {
      "cell_type": "code",
      "execution_count": null,
      "metadata": {
        "colab": {
          "base_uri": "https://localhost:8080/"
        },
        "id": "0vOTwh_AZzqZ",
        "outputId": "ed04c771-983e-4def-d2b9-577fcf362ef6"
      },
      "outputs": [
        {
          "output_type": "stream",
          "name": "stdout",
          "text": [
            "ARA+TUR            1600\n",
            "FRE+SPA+ITA+GER    1600\n",
            "HIN+TEL            1600\n",
            "KOR+CHI+JPN        1599\n",
            "Name: group, dtype: int64\n",
            "group            country_code\n",
            "ARA+TUR          ARA             800\n",
            "                 TUR             800\n",
            "FRE+SPA+ITA+GER  FRE             400\n",
            "                 GER             400\n",
            "                 ITA             400\n",
            "                 SPA             400\n",
            "HIN+TEL          HIN             800\n",
            "                 TEL             800\n",
            "KOR+CHI+JPN      CHI             533\n",
            "                 JPN             533\n",
            "                 KOR             533\n",
            "dtype: int64\n"
          ]
        }
      ],
      "source": [
        "# Balance the dataset\n",
        "balanced_df = balance_dataset_groups(df)\n",
        "\n",
        "# Verify the balance\n",
        "print(balanced_df['group'].value_counts())\n",
        "print(balanced_df.groupby(['group', 'country_code']).size())"
      ]
    },
    {
      "cell_type": "code",
      "execution_count": null,
      "metadata": {
        "colab": {
          "base_uri": "https://localhost:8080/",
          "height": 727
        },
        "id": "eAU8MS0ZpwYN",
        "outputId": "92e312d5-6ca4-441b-ed9c-6303bed1e67d"
      },
      "outputs": [
        {
          "output_type": "stream",
          "name": "stdout",
          "text": [
            "========================= Model: rf; vectorizer: CountVectorizer(ngram_range=(1, 2)) =========================\n",
            "train accuracy 0.8295809881175735 \n",
            "rf (vectorizer_BOW_bigram) - Overall Metrics:\n",
            "- Accuracy: 0.6663\n",
            "- Precision (Macro): 0.6734\n",
            "- Recall (Macro): 0.6669\n",
            "- F1 (Macro): 0.6611\n",
            "\n",
            "rf (vectorizer_BOW_bigram) - Metrics by Label:\n",
            "          Label  Precision   Recall  F1 Score\n",
            "        HIN+TEL   0.651163 0.875000  0.746667\n",
            "    KOR+CHI+JPN   0.635294 0.696774  0.664615\n",
            "FRE+SPA+ITA+GER   0.676829 0.676829  0.676829\n",
            "            TUR   0.615942 0.559211  0.586207\n",
            "            ARA   0.787611 0.526627  0.631206\n"
          ]
        },
        {
          "output_type": "display_data",
          "data": {
            "text/plain": [
              "<Figure size 500x300 with 2 Axes>"
            ],
            "image/png": "[encoded data removed]"
          },
          "metadata": {}
        }
      ],
      "source": [
        "balanced_models = {}\n",
        "train(groups_mapping, balanced_df, balanced_models)"
      ]
    },
    {
      "cell_type": "code",
      "execution_count": null,
      "metadata": {
        "colab": {
          "base_uri": "https://localhost:8080/"
        },
        "id": "gmsmzDzQ0T0E",
        "outputId": "e89457f3-38bc-4507-c761-324ba4364c5b"
      },
      "outputs": [
        {
          "output_type": "execute_result",
          "data": {
            "text/plain": [
              "{'rf-vectorizer_BOW_bigram': (RandomForestClassifier(random_state=42),\n",
              "  CountVectorizer(ngram_range=(1, 2)))}"
            ]
          },
          "metadata": {},
          "execution_count": 44
        }
      ],
      "source": [
        "balanced_models"
      ]
    },
    {
      "cell_type": "markdown",
      "source": [
        "#### Test C param"
      ],
      "metadata": {
        "id": "_AoNpMxbPl5I"
      }
    },
    {
      "cell_type": "code",
      "source": [
        "df.head()"
      ],
      "metadata": {
        "colab": {
          "base_uri": "https://localhost:8080/",
          "height": 206
        },
        "id": "1f1nPdKHS8EA",
        "outputId": "28d04b6c-856d-4068-997e-e77b28a4817a"
      },
      "execution_count": null,
      "outputs": [
        {
          "output_type": "execute_result",
          "data": {
            "text/plain": [
              "                                                   0 country_code  \\\n",
              "0  (GER) IThe importance and popularity of travel...          GER   \n",
              "1  (TUR) It is an important decision , how to pla...          TUR   \n",
              "2  (CHI) Some people believe that young people ca...          CHI   \n",
              "3  (TEL) Travelling is usually considered as good...          TEL   \n",
              "4  (ARA) i agree that . Life is a person live per...          ARA   \n",
              "\n",
              "                                                text            group  \n",
              "0   IThe importance and popularity of travelling ...  FRE+SPA+ITA+GER  \n",
              "1   It is an important decision , how to plan you...          ARA+TUR  \n",
              "2   Some people believe that young people can enj...      KOR+CHI+JPN  \n",
              "3   Travelling is usually considered as good recr...          HIN+TEL  \n",
              "4   i agree that . Life is a person live period o...          ARA+TUR  "
            ],
            "text/html": [
              "\n",
              "  <div id=\"df-2442bc9f-0376-4ec6-89fe-16dd243041d3\" class=\"colab-df-container\">\n",
              "    <div>\n",
              "<style scoped>\n",
              "    .dataframe tbody tr th:only-of-type {\n",
              "        vertical-align: middle;\n",
              "    }\n",
              "\n",
              "    .dataframe tbody tr th {\n",
              "        vertical-align: top;\n",
              "    }\n",
              "\n",
              "    .dataframe thead th {\n",
              "        text-align: right;\n",
              "    }\n",
              "</style>\n",
              "<table border=\"1\" class=\"dataframe\">\n",
              "  <thead>\n",
              "    <tr style=\"text-align: right;\">\n",
              "      <th></th>\n",
              "      <th>0</th>\n",
              "      <th>country_code</th>\n",
              "      <th>text</th>\n",
              "      <th>group</th>\n",
              "    </tr>\n",
              "  </thead>\n",
              "  <tbody>\n",
              "    <tr>\n",
              "      <th>0</th>\n",
              "      <td>(GER) IThe importance and popularity of travel...</td>\n",
              "      <td>GER</td>\n",
              "      <td>IThe importance and popularity of travelling ...</td>\n",
              "      <td>FRE+SPA+ITA+GER</td>\n",
              "    </tr>\n",
              "    <tr>\n",
              "      <th>1</th>\n",
              "      <td>(TUR) It is an important decision , how to pla...</td>\n",
              "      <td>TUR</td>\n",
              "      <td>It is an important decision , how to plan you...</td>\n",
              "      <td>ARA+TUR</td>\n",
              "    </tr>\n",
              "    <tr>\n",
              "      <th>2</th>\n",
              "      <td>(CHI) Some people believe that young people ca...</td>\n",
              "      <td>CHI</td>\n",
              "      <td>Some people believe that young people can enj...</td>\n",
              "      <td>KOR+CHI+JPN</td>\n",
              "    </tr>\n",
              "    <tr>\n",
              "      <th>3</th>\n",
              "      <td>(TEL) Travelling is usually considered as good...</td>\n",
              "      <td>TEL</td>\n",
              "      <td>Travelling is usually considered as good recr...</td>\n",
              "      <td>HIN+TEL</td>\n",
              "    </tr>\n",
              "    <tr>\n",
              "      <th>4</th>\n",
              "      <td>(ARA) i agree that . Life is a person live per...</td>\n",
              "      <td>ARA</td>\n",
              "      <td>i agree that . Life is a person live period o...</td>\n",
              "      <td>ARA+TUR</td>\n",
              "    </tr>\n",
              "  </tbody>\n",
              "</table>\n",
              "</div>\n",
              "    <div class=\"colab-df-buttons\">\n",
              "\n",
              "  <div class=\"colab-df-container\">\n",
              "    <button class=\"colab-df-convert\" onclick=\"convertToInteractive('df-2442bc9f-0376-4ec6-89fe-16dd243041d3')\"\n",
              "            title=\"Convert this dataframe to an interactive table.\"\n",
              "            style=\"display:none;\">\n",
              "\n",
              "  <svg xmlns=\"http://www.w3.org/2000/svg\" height=\"24px\" viewBox=\"0 -960 960 960\">\n",
              "    <path d=\"M120-120v-720h720v720H120Zm60-500h600v-160H180v160Zm220 220h160v-160H400v160Zm0 220h160v-160H400v160ZM180-400h160v-160H180v160Zm440 0h160v-160H620v160ZM180-180h160v-160H180v160Zm440 0h160v-160H620v160Z\"/>\n",
              "  </svg>\n",
              "    </button>\n",
              "\n",
              "  <style>\n",
              "    .colab-df-container {\n",
              "      display:flex;\n",
              "      gap: 12px;\n",
              "    }\n",
              "\n",
              "    .colab-df-convert {\n",
              "      background-color: #E8F0FE;\n",
              "      border: none;\n",
              "      border-radius: 50%;\n",
              "      cursor: pointer;\n",
              "      display: none;\n",
              "      fill: #1967D2;\n",
              "      height: 32px;\n",
              "      padding: 0 0 0 0;\n",
              "      width: 32px;\n",
              "    }\n",
              "\n",
              "    .colab-df-convert:hover {\n",
              "      background-color: #E2EBFA;\n",
              "      box-shadow: 0px 1px 2px rgba(60, 64, 67, 0.3), 0px 1px 3px 1px rgba(60, 64, 67, 0.15);\n",
              "      fill: #174EA6;\n",
              "    }\n",
              "\n",
              "    .colab-df-buttons div {\n",
              "      margin-bottom: 4px;\n",
              "    }\n",
              "\n",
              "    [theme=dark] .colab-df-convert {\n",
              "      background-color: #3B4455;\n",
              "      fill: #D2E3FC;\n",
              "    }\n",
              "\n",
              "    [theme=dark] .colab-df-convert:hover {\n",
              "      background-color: #434B5C;\n",
              "      box-shadow: 0px 1px 3px 1px rgba(0, 0, 0, 0.15);\n",
              "      filter: drop-shadow(0px 1px 2px rgba(0, 0, 0, 0.3));\n",
              "      fill: #FFFFFF;\n",
              "    }\n",
              "  </style>\n",
              "\n",
              "    <script>\n",
              "      const buttonEl =\n",
              "        document.querySelector('#df-2442bc9f-0376-4ec6-89fe-16dd243041d3 button.colab-df-convert');\n",
              "      buttonEl.style.display =\n",
              "        google.colab.kernel.accessAllowed ? 'block' : 'none';\n",
              "\n",
              "      async function convertToInteractive(key) {\n",
              "        const element = document.querySelector('#df-2442bc9f-0376-4ec6-89fe-16dd243041d3');\n",
              "        const dataTable =\n",
              "          await google.colab.kernel.invokeFunction('convertToInteractive',\n",
              "                                                    [key], {});\n",
              "        if (!dataTable) return;\n",
              "\n",
              "        const docLinkHtml = 'Like what you see? Visit the ' +\n",
              "          '<a target=\"_blank\" href=https://colab.research.google.com/notebooks/data_table.ipynb>data table notebook</a>'\n",
              "          + ' to learn more about interactive tables.';\n",
              "        element.innerHTML = '';\n",
              "        dataTable['output_type'] = 'display_data';\n",
              "        await google.colab.output.renderOutput(dataTable, element);\n",
              "        const docLink = document.createElement('div');\n",
              "        docLink.innerHTML = docLinkHtml;\n",
              "        element.appendChild(docLink);\n",
              "      }\n",
              "    </script>\n",
              "  </div>\n",
              "\n",
              "\n",
              "<div id=\"df-a5dfaaef-a4a0-4647-a1b3-51b226ab5ed6\">\n",
              "  <button class=\"colab-df-quickchart\" onclick=\"quickchart('df-a5dfaaef-a4a0-4647-a1b3-51b226ab5ed6')\"\n",
              "            title=\"Suggest charts\"\n",
              "            style=\"display:none;\">\n",
              "\n",
              "<svg xmlns=\"http://www.w3.org/2000/svg\" height=\"24px\"viewBox=\"0 0 24 24\"\n",
              "     width=\"24px\">\n",
              "    <g>\n",
              "        <path d=\"M19 3H5c-1.1 0-2 .9-2 2v14c0 1.1.9 2 2 2h14c1.1 0 2-.9 2-2V5c0-1.1-.9-2-2-2zM9 17H7v-7h2v7zm4 0h-2V7h2v10zm4 0h-2v-4h2v4z\"/>\n",
              "    </g>\n",
              "</svg>\n",
              "  </button>\n",
              "\n",
              "<style>\n",
              "  .colab-df-quickchart {\n",
              "      --bg-color: #E8F0FE;\n",
              "      --fill-color: #1967D2;\n",
              "      --hover-bg-color: #E2EBFA;\n",
              "      --hover-fill-color: #174EA6;\n",
              "      --disabled-fill-color: #AAA;\n",
              "      --disabled-bg-color: #DDD;\n",
              "  }\n",
              "\n",
              "  [theme=dark] .colab-df-quickchart {\n",
              "      --bg-color: #3B4455;\n",
              "      --fill-color: #D2E3FC;\n",
              "      --hover-bg-color: #434B5C;\n",
              "      --hover-fill-color: #FFFFFF;\n",
              "      --disabled-bg-color: #3B4455;\n",
              "      --disabled-fill-color: #666;\n",
              "  }\n",
              "\n",
              "  .colab-df-quickchart {\n",
              "    background-color: var(--bg-color);\n",
              "    border: none;\n",
              "    border-radius: 50%;\n",
              "    cursor: pointer;\n",
              "    display: none;\n",
              "    fill: var(--fill-color);\n",
              "    height: 32px;\n",
              "    padding: 0;\n",
              "    width: 32px;\n",
              "  }\n",
              "\n",
              "  .colab-df-quickchart:hover {\n",
              "    background-color: var(--hover-bg-color);\n",
              "    box-shadow: 0 1px 2px rgba(60, 64, 67, 0.3), 0 1px 3px 1px rgba(60, 64, 67, 0.15);\n",
              "    fill: var(--button-hover-fill-color);\n",
              "  }\n",
              "\n",
              "  .colab-df-quickchart-complete:disabled,\n",
              "  .colab-df-quickchart-complete:disabled:hover {\n",
              "    background-color: var(--disabled-bg-color);\n",
              "    fill: var(--disabled-fill-color);\n",
              "    box-shadow: none;\n",
              "  }\n",
              "\n",
              "  .colab-df-spinner {\n",
              "    border: 2px solid var(--fill-color);\n",
              "    border-color: transparent;\n",
              "    border-bottom-color: var(--fill-color);\n",
              "    animation:\n",
              "      spin 1s steps(1) infinite;\n",
              "  }\n",
              "\n",
              "  @keyframes spin {\n",
              "    0% {\n",
              "      border-color: transparent;\n",
              "      border-bottom-color: var(--fill-color);\n",
              "      border-left-color: var(--fill-color);\n",
              "    }\n",
              "    20% {\n",
              "      border-color: transparent;\n",
              "      border-left-color: var(--fill-color);\n",
              "      border-top-color: var(--fill-color);\n",
              "    }\n",
              "    30% {\n",
              "      border-color: transparent;\n",
              "      border-left-color: var(--fill-color);\n",
              "      border-top-color: var(--fill-color);\n",
              "      border-right-color: var(--fill-color);\n",
              "    }\n",
              "    40% {\n",
              "      border-color: transparent;\n",
              "      border-right-color: var(--fill-color);\n",
              "      border-top-color: var(--fill-color);\n",
              "    }\n",
              "    60% {\n",
              "      border-color: transparent;\n",
              "      border-right-color: var(--fill-color);\n",
              "    }\n",
              "    80% {\n",
              "      border-color: transparent;\n",
              "      border-right-color: var(--fill-color);\n",
              "      border-bottom-color: var(--fill-color);\n",
              "    }\n",
              "    90% {\n",
              "      border-color: transparent;\n",
              "      border-bottom-color: var(--fill-color);\n",
              "    }\n",
              "  }\n",
              "</style>\n",
              "\n",
              "  <script>\n",
              "    async function quickchart(key) {\n",
              "      const quickchartButtonEl =\n",
              "        document.querySelector('#' + key + ' button');\n",
              "      quickchartButtonEl.disabled = true;  // To prevent multiple clicks.\n",
              "      quickchartButtonEl.classList.add('colab-df-spinner');\n",
              "      try {\n",
              "        const charts = await google.colab.kernel.invokeFunction(\n",
              "            'suggestCharts', [key], {});\n",
              "      } catch (error) {\n",
              "        console.error('Error during call to suggestCharts:', error);\n",
              "      }\n",
              "      quickchartButtonEl.classList.remove('colab-df-spinner');\n",
              "      quickchartButtonEl.classList.add('colab-df-quickchart-complete');\n",
              "    }\n",
              "    (() => {\n",
              "      let quickchartButtonEl =\n",
              "        document.querySelector('#df-a5dfaaef-a4a0-4647-a1b3-51b226ab5ed6 button');\n",
              "      quickchartButtonEl.style.display =\n",
              "        google.colab.kernel.accessAllowed ? 'block' : 'none';\n",
              "    })();\n",
              "  </script>\n",
              "</div>\n",
              "    </div>\n",
              "  </div>\n"
            ],
            "application/vnd.google.colaboratory.intrinsic+json": {
              "type": "dataframe",
              "variable_name": "df",
              "summary": "{\n  \"name\": \"df\",\n  \"rows\": 8800,\n  \"fields\": [\n    {\n      \"column\": 0,\n      \"properties\": {\n        \"dtype\": \"string\",\n        \"num_unique_values\": 8800,\n        \"samples\": [\n          \"(ITA) This statement has been greatly discussed in many didactic environments for the simple reason that some consider the theoretical knowledge to be more important than the practical one and some consider the opposite . I was lucky to have personally attended schools that agreed and disagreed with the statement since I attended an italian high school ( that relies mostly on ideas and concepts ) and a canadian high school ( that focuses more on real facts that occured ) . This is why foreigners find that italians know how to talk about a certain topic but they do not know how to actually solve ( or i should say ) `` fix '' it . My uncle , an engineer who lives in Canada , once attended a conference here in Italy and he noticed how Italians honestly might know more about the theory ( in this case physics or maths ) but need help from the more `` hands-on '' engineers from abroad who considered real cases during their education giving them a higher experience . In my opinion learning about facts is definately more enjoyable and gains a higher interests within the students . It also gives you a better insight of today 's world situation . The reason why we study History is because we ought to learn about events that occured in the past and to prevent the same mistakes or find a better solution . Once I came back from my school year abroad it was n't easy for me to get used to the old and stricter method . I tried to make my teacher understand and realize how a fact that occured implicitely has the concept in it . Experience also plays a key role and to discuss about real facts certainly helps a lot . As once Oscar Wilde said `` Experience is the name we give to our mistakes '' . This is why I believe that it is definately important to learn and understand ideas and concepts but the next fundamental step would be to consider a real fact that concerns it . Italy has a very ancient background on its shoulders and it would be very hard to change its attitude or point of view .\",\n          \"(HIN) The issue at hand is , whether it is good to travel alone without a tour guide or in a group that is led by a tour guide . This issue is very troubling to me because there are so many people in the world who enjoy going to different places by themselves without a tour guide although they can afford one . But i 'll support the tour with a guide with a group of people because sometime you can find many good life long friends in a group and many beautiful sceneries that you cannot see without the help of a tour guide . I prefer the best way is to travel in a group led by a tour guide because a tour guide can give you a lot of information about the places you are going to view . You cannot find that information if you are travelling alone without a guide . Moreover , if you are travelling in a group you will actually enjoy the travelling & you would not even know about the time that you spent for travelling . On the other hand , if you are travelling alone without a tour give you can cause trouble for youself sometimes . For example , you cannot find all the sight sceneries without a tour guide & it will be a great hassle if you are travelling alone in a taxi without knowing anything about the city you are visiting . Second reason why a grop travelling with a guide is preferrable because of the economic figures . For example , suppose you are travelling alone without a guide it will cause you to spend a lot of money if you do n't know the visiting city well . On the other hand , in a group tour all the participants pool money so that every individual has to pay a little amout of money . Furthermore , travelling by a group of people can enjoy their travelling a lot instead of a single individual . In conclusion , i 'll say that travelling in a group is far more exciting experience as compared to travelling alone withot a guide . I believe this is better option because it is economic , exciting , worth spending money to travel with a bunch of people rather than alone .\",\n          \"(KOR) In this ambivalent society , the issue whether there will be fewer numeber of vehicles on the land in the future or not is often raised and debated . A portion of society believes that there will be much more cars in our lives , since the opportunity of delivering goods increases as time goes by ; however , I have a differing idea . In twenty years , the number of cars will decrease because the society encounters environmental and social changes : the Greenhouse Effect , and Globalization . One example of a trigger that makes the number of cars reduce can be seen in the responses to the Greenhouse Effect . As society grows , environmental issues are raised , especailly the Greenhouse Effect . This Effect , caused by damaging gases emitted from cars , harms ecological order by influencing sea level to rise . Furthermore , unexpectedly changing climates threatens human live directly : Tsunami in Indonesia . Therefore , people begin to invent alternative vehicles that does not make harmful gases , such as hybrid vehicles . In addition , the increasing uses of bikes encourage people to avoid air pollution . Thus , in twenty years there will be fewer cars in our lives to protect our surronding safe and clean . Not only do the current events furnish an endless array of examples encapsulating the claim that the number of cars on land will be reduced in the future , but social trend does as well ; a prime example is Globalization . As the whole world become a one town , the opportunity to trade and travel among foreign countries has been expanding . As a result , rather than cars that are limited in only one continent , airplanes will attract more people in the future . For example , according to the research in Korea , about 85 % of the nation prefers airplanes as transportation . Also , as most companies , such as Samsung , LG , and Sony , expands their markets toward other countries , the importance of taking airplanes , instead of driving cars in domestic markets , are percieved by many nations . In the paragraphs above , I have shown that in twenty years , there will be much fewer cars in our live , but much more alternative vehicles that prevent environment and help to adopt international trend , Globalization . So , I call the readers to make technological progress in innovating our limited transportation to prepare comming future society .\"\n        ],\n        \"semantic_type\": \"\",\n        \"description\": \"\"\n      }\n    },\n    {\n      \"column\": \"country_code\",\n      \"properties\": {\n        \"dtype\": \"category\",\n        \"num_unique_values\": 11,\n        \"samples\": [\n          \"SPA\",\n          \"GER\",\n          \"FRE\"\n        ],\n        \"semantic_type\": \"\",\n        \"description\": \"\"\n      }\n    },\n    {\n      \"column\": \"text\",\n      \"properties\": {\n        \"dtype\": \"string\",\n        \"num_unique_values\": 8800,\n        \"samples\": [\n          \" This statement has been greatly discussed in many didactic environments for the simple reason that some consider the theoretical knowledge to be more important than the practical one and some consider the opposite . I was lucky to have personally attended schools that agreed and disagreed with the statement since I attended an italian high school ( that relies mostly on ideas and concepts ) and a canadian high school ( that focuses more on real facts that occured ) . This is why foreigners find that italians know how to talk about a certain topic but they do not know how to actually solve ( or i should say ) `` fix '' it . My uncle , an engineer who lives in Canada , once attended a conference here in Italy and he noticed how Italians honestly might know more about the theory ( in this case physics or maths ) but need help from the more `` hands-on '' engineers from abroad who considered real cases during their education giving them a higher experience . In my opinion learning about facts is definately more enjoyable and gains a higher interests within the students . It also gives you a better insight of today 's world situation . The reason why we study History is because we ought to learn about events that occured in the past and to prevent the same mistakes or find a better solution . Once I came back from my school year abroad it was n't easy for me to get used to the old and stricter method . I tried to make my teacher understand and realize how a fact that occured implicitely has the concept in it . Experience also plays a key role and to discuss about real facts certainly helps a lot . As once Oscar Wilde said `` Experience is the name we give to our mistakes '' . This is why I believe that it is definately important to learn and understand ideas and concepts but the next fundamental step would be to consider a real fact that concerns it . Italy has a very ancient background on its shoulders and it would be very hard to change its attitude or point of view .\",\n          \" The issue at hand is , whether it is good to travel alone without a tour guide or in a group that is led by a tour guide . This issue is very troubling to me because there are so many people in the world who enjoy going to different places by themselves without a tour guide although they can afford one . But i 'll support the tour with a guide with a group of people because sometime you can find many good life long friends in a group and many beautiful sceneries that you cannot see without the help of a tour guide . I prefer the best way is to travel in a group led by a tour guide because a tour guide can give you a lot of information about the places you are going to view . You cannot find that information if you are travelling alone without a guide . Moreover , if you are travelling in a group you will actually enjoy the travelling & you would not even know about the time that you spent for travelling . On the other hand , if you are travelling alone without a tour give you can cause trouble for youself sometimes . For example , you cannot find all the sight sceneries without a tour guide & it will be a great hassle if you are travelling alone in a taxi without knowing anything about the city you are visiting . Second reason why a grop travelling with a guide is preferrable because of the economic figures . For example , suppose you are travelling alone without a guide it will cause you to spend a lot of money if you do n't know the visiting city well . On the other hand , in a group tour all the participants pool money so that every individual has to pay a little amout of money . Furthermore , travelling by a group of people can enjoy their travelling a lot instead of a single individual . In conclusion , i 'll say that travelling in a group is far more exciting experience as compared to travelling alone withot a guide . I believe this is better option because it is economic , exciting , worth spending money to travel with a bunch of people rather than alone .\",\n          \" In this ambivalent society , the issue whether there will be fewer numeber of vehicles on the land in the future or not is often raised and debated . A portion of society believes that there will be much more cars in our lives , since the opportunity of delivering goods increases as time goes by ; however , I have a differing idea . In twenty years , the number of cars will decrease because the society encounters environmental and social changes : the Greenhouse Effect , and Globalization . One example of a trigger that makes the number of cars reduce can be seen in the responses to the Greenhouse Effect . As society grows , environmental issues are raised , especailly the Greenhouse Effect . This Effect , caused by damaging gases emitted from cars , harms ecological order by influencing sea level to rise . Furthermore , unexpectedly changing climates threatens human live directly : Tsunami in Indonesia . Therefore , people begin to invent alternative vehicles that does not make harmful gases , such as hybrid vehicles . In addition , the increasing uses of bikes encourage people to avoid air pollution . Thus , in twenty years there will be fewer cars in our lives to protect our surronding safe and clean . Not only do the current events furnish an endless array of examples encapsulating the claim that the number of cars on land will be reduced in the future , but social trend does as well ; a prime example is Globalization . As the whole world become a one town , the opportunity to trade and travel among foreign countries has been expanding . As a result , rather than cars that are limited in only one continent , airplanes will attract more people in the future . For example , according to the research in Korea , about 85 % of the nation prefers airplanes as transportation . Also , as most companies , such as Samsung , LG , and Sony , expands their markets toward other countries , the importance of taking airplanes , instead of driving cars in domestic markets , are percieved by many nations . In the paragraphs above , I have shown that in twenty years , there will be much fewer cars in our live , but much more alternative vehicles that prevent environment and help to adopt international trend , Globalization . So , I call the readers to make technological progress in innovating our limited transportation to prepare comming future society .\"\n        ],\n        \"semantic_type\": \"\",\n        \"description\": \"\"\n      }\n    },\n    {\n      \"column\": \"group\",\n      \"properties\": {\n        \"dtype\": \"category\",\n        \"num_unique_values\": 4,\n        \"samples\": [\n          \"ARA+TUR\",\n          \"HIN+TEL\",\n          \"FRE+SPA+ITA+GER\"\n        ],\n        \"semantic_type\": \"\",\n        \"description\": \"\"\n      }\n    }\n  ]\n}"
            }
          },
          "metadata": {},
          "execution_count": 30
        }
      ]
    },
    {
      "cell_type": "code",
      "source": [
        "# C_param, training_accuracy, testing_accuracy, training_error, testing_error = train_diffrent_C(groups_mapping, df, vectorizers['vectorizer_BOW_bigram'], [0.001,0.01,1,10])"
      ],
      "metadata": {
        "id": "9ADoYrl9c-1d"
      },
      "execution_count": null,
      "outputs": []
    },
    {
      "cell_type": "code",
      "source": [
        "# plot_log(C_param, training_accuracy, testing_accuracy, \"C Values\", \"Accuracy\", \"Logistic Regression Accuracy with varying C values\")"
      ],
      "metadata": {
        "id": "Ri9SxbCvP8zv"
      },
      "execution_count": null,
      "outputs": []
    },
    {
      "cell_type": "code",
      "source": [
        "#plot_log(C_param, training_error, testing_error, \"C Values\", \"Error\", \"Logistic Regression Errors with varying C values\")"
      ],
      "metadata": {
        "id": "oGisV-azP8_O"
      },
      "execution_count": null,
      "outputs": []
    },
    {
      "cell_type": "markdown",
      "metadata": {
        "id": "3PZGnitsUiCh"
      },
      "source": [
        "# 4. cross validation functions"
      ]
    },
    {
      "cell_type": "markdown",
      "metadata": {
        "id": "vywN_RYwtoxk"
      },
      "source": [
        "##### Create groups dataframes"
      ]
    },
    {
      "cell_type": "code",
      "source": [
        "balanced_df.head() # groups are balanced"
      ],
      "metadata": {
        "colab": {
          "base_uri": "https://localhost:8080/",
          "height": 206
        },
        "id": "OYx5PBxJouzs",
        "outputId": "4e37ba8b-fbcf-4550-9009-d8e67c0f0a1e"
      },
      "execution_count": null,
      "outputs": [
        {
          "output_type": "execute_result",
          "data": {
            "text/plain": [
              "                                                   0 country_code  \\\n",
              "0  (ARA) Some people believe that it is important...          ARA   \n",
              "1  (ARA) In the past , knowledge was not valued a...          ARA   \n",
              "2  (ARA) i agree with the best way to travel is i...          ARA   \n",
              "3  (ARA) The young people are considered very imp...          ARA   \n",
              "4  (ARA) Nowedays , competition between companies...          ARA   \n",
              "\n",
              "                                                text    group  \n",
              "0   Some people believe that it is important to h...  ARA+TUR  \n",
              "1   In the past , knowledge was not valued and sp...  ARA+TUR  \n",
              "2   i agree with the best way to travel is in a g...  ARA+TUR  \n",
              "3   The young people are considered very importan...  ARA+TUR  \n",
              "4   Nowedays , competition between companies is f...  ARA+TUR  "
            ],
            "text/html": [
              "\n",
              "  <div id=\"df-4642d1b5-0b39-4b04-8a0f-797c38f38af5\" class=\"colab-df-container\">\n",
              "    <div>\n",
              "<style scoped>\n",
              "    .dataframe tbody tr th:only-of-type {\n",
              "        vertical-align: middle;\n",
              "    }\n",
              "\n",
              "    .dataframe tbody tr th {\n",
              "        vertical-align: top;\n",
              "    }\n",
              "\n",
              "    .dataframe thead th {\n",
              "        text-align: right;\n",
              "    }\n",
              "</style>\n",
              "<table border=\"1\" class=\"dataframe\">\n",
              "  <thead>\n",
              "    <tr style=\"text-align: right;\">\n",
              "      <th></th>\n",
              "      <th>0</th>\n",
              "      <th>country_code</th>\n",
              "      <th>text</th>\n",
              "      <th>group</th>\n",
              "    </tr>\n",
              "  </thead>\n",
              "  <tbody>\n",
              "    <tr>\n",
              "      <th>0</th>\n",
              "      <td>(ARA) Some people believe that it is important...</td>\n",
              "      <td>ARA</td>\n",
              "      <td>Some people believe that it is important to h...</td>\n",
              "      <td>ARA+TUR</td>\n",
              "    </tr>\n",
              "    <tr>\n",
              "      <th>1</th>\n",
              "      <td>(ARA) In the past , knowledge was not valued a...</td>\n",
              "      <td>ARA</td>\n",
              "      <td>In the past , knowledge was not valued and sp...</td>\n",
              "      <td>ARA+TUR</td>\n",
              "    </tr>\n",
              "    <tr>\n",
              "      <th>2</th>\n",
              "      <td>(ARA) i agree with the best way to travel is i...</td>\n",
              "      <td>ARA</td>\n",
              "      <td>i agree with the best way to travel is in a g...</td>\n",
              "      <td>ARA+TUR</td>\n",
              "    </tr>\n",
              "    <tr>\n",
              "      <th>3</th>\n",
              "      <td>(ARA) The young people are considered very imp...</td>\n",
              "      <td>ARA</td>\n",
              "      <td>The young people are considered very importan...</td>\n",
              "      <td>ARA+TUR</td>\n",
              "    </tr>\n",
              "    <tr>\n",
              "      <th>4</th>\n",
              "      <td>(ARA) Nowedays , competition between companies...</td>\n",
              "      <td>ARA</td>\n",
              "      <td>Nowedays , competition between companies is f...</td>\n",
              "      <td>ARA+TUR</td>\n",
              "    </tr>\n",
              "  </tbody>\n",
              "</table>\n",
              "</div>\n",
              "    <div class=\"colab-df-buttons\">\n",
              "\n",
              "  <div class=\"colab-df-container\">\n",
              "    <button class=\"colab-df-convert\" onclick=\"convertToInteractive('df-4642d1b5-0b39-4b04-8a0f-797c38f38af5')\"\n",
              "            title=\"Convert this dataframe to an interactive table.\"\n",
              "            style=\"display:none;\">\n",
              "\n",
              "  <svg xmlns=\"http://www.w3.org/2000/svg\" height=\"24px\" viewBox=\"0 -960 960 960\">\n",
              "    <path d=\"M120-120v-720h720v720H120Zm60-500h600v-160H180v160Zm220 220h160v-160H400v160Zm0 220h160v-160H400v160ZM180-400h160v-160H180v160Zm440 0h160v-160H620v160ZM180-180h160v-160H180v160Zm440 0h160v-160H620v160Z\"/>\n",
              "  </svg>\n",
              "    </button>\n",
              "\n",
              "  <style>\n",
              "    .colab-df-container {\n",
              "      display:flex;\n",
              "      gap: 12px;\n",
              "    }\n",
              "\n",
              "    .colab-df-convert {\n",
              "      background-color: #E8F0FE;\n",
              "      border: none;\n",
              "      border-radius: 50%;\n",
              "      cursor: pointer;\n",
              "      display: none;\n",
              "      fill: #1967D2;\n",
              "      height: 32px;\n",
              "      padding: 0 0 0 0;\n",
              "      width: 32px;\n",
              "    }\n",
              "\n",
              "    .colab-df-convert:hover {\n",
              "      background-color: #E2EBFA;\n",
              "      box-shadow: 0px 1px 2px rgba(60, 64, 67, 0.3), 0px 1px 3px 1px rgba(60, 64, 67, 0.15);\n",
              "      fill: #174EA6;\n",
              "    }\n",
              "\n",
              "    .colab-df-buttons div {\n",
              "      margin-bottom: 4px;\n",
              "    }\n",
              "\n",
              "    [theme=dark] .colab-df-convert {\n",
              "      background-color: #3B4455;\n",
              "      fill: #D2E3FC;\n",
              "    }\n",
              "\n",
              "    [theme=dark] .colab-df-convert:hover {\n",
              "      background-color: #434B5C;\n",
              "      box-shadow: 0px 1px 3px 1px rgba(0, 0, 0, 0.15);\n",
              "      filter: drop-shadow(0px 1px 2px rgba(0, 0, 0, 0.3));\n",
              "      fill: #FFFFFF;\n",
              "    }\n",
              "  </style>\n",
              "\n",
              "    <script>\n",
              "      const buttonEl =\n",
              "        document.querySelector('#df-4642d1b5-0b39-4b04-8a0f-797c38f38af5 button.colab-df-convert');\n",
              "      buttonEl.style.display =\n",
              "        google.colab.kernel.accessAllowed ? 'block' : 'none';\n",
              "\n",
              "      async function convertToInteractive(key) {\n",
              "        const element = document.querySelector('#df-4642d1b5-0b39-4b04-8a0f-797c38f38af5');\n",
              "        const dataTable =\n",
              "          await google.colab.kernel.invokeFunction('convertToInteractive',\n",
              "                                                    [key], {});\n",
              "        if (!dataTable) return;\n",
              "\n",
              "        const docLinkHtml = 'Like what you see? Visit the ' +\n",
              "          '<a target=\"_blank\" href=https://colab.research.google.com/notebooks/data_table.ipynb>data table notebook</a>'\n",
              "          + ' to learn more about interactive tables.';\n",
              "        element.innerHTML = '';\n",
              "        dataTable['output_type'] = 'display_data';\n",
              "        await google.colab.output.renderOutput(dataTable, element);\n",
              "        const docLink = document.createElement('div');\n",
              "        docLink.innerHTML = docLinkHtml;\n",
              "        element.appendChild(docLink);\n",
              "      }\n",
              "    </script>\n",
              "  </div>\n",
              "\n",
              "\n",
              "<div id=\"df-6e79c199-ea51-4513-b0f0-84d7e8e11f28\">\n",
              "  <button class=\"colab-df-quickchart\" onclick=\"quickchart('df-6e79c199-ea51-4513-b0f0-84d7e8e11f28')\"\n",
              "            title=\"Suggest charts\"\n",
              "            style=\"display:none;\">\n",
              "\n",
              "<svg xmlns=\"http://www.w3.org/2000/svg\" height=\"24px\"viewBox=\"0 0 24 24\"\n",
              "     width=\"24px\">\n",
              "    <g>\n",
              "        <path d=\"M19 3H5c-1.1 0-2 .9-2 2v14c0 1.1.9 2 2 2h14c1.1 0 2-.9 2-2V5c0-1.1-.9-2-2-2zM9 17H7v-7h2v7zm4 0h-2V7h2v10zm4 0h-2v-4h2v4z\"/>\n",
              "    </g>\n",
              "</svg>\n",
              "  </button>\n",
              "\n",
              "<style>\n",
              "  .colab-df-quickchart {\n",
              "      --bg-color: #E8F0FE;\n",
              "      --fill-color: #1967D2;\n",
              "      --hover-bg-color: #E2EBFA;\n",
              "      --hover-fill-color: #174EA6;\n",
              "      --disabled-fill-color: #AAA;\n",
              "      --disabled-bg-color: #DDD;\n",
              "  }\n",
              "\n",
              "  [theme=dark] .colab-df-quickchart {\n",
              "      --bg-color: #3B4455;\n",
              "      --fill-color: #D2E3FC;\n",
              "      --hover-bg-color: #434B5C;\n",
              "      --hover-fill-color: #FFFFFF;\n",
              "      --disabled-bg-color: #3B4455;\n",
              "      --disabled-fill-color: #666;\n",
              "  }\n",
              "\n",
              "  .colab-df-quickchart {\n",
              "    background-color: var(--bg-color);\n",
              "    border: none;\n",
              "    border-radius: 50%;\n",
              "    cursor: pointer;\n",
              "    display: none;\n",
              "    fill: var(--fill-color);\n",
              "    height: 32px;\n",
              "    padding: 0;\n",
              "    width: 32px;\n",
              "  }\n",
              "\n",
              "  .colab-df-quickchart:hover {\n",
              "    background-color: var(--hover-bg-color);\n",
              "    box-shadow: 0 1px 2px rgba(60, 64, 67, 0.3), 0 1px 3px 1px rgba(60, 64, 67, 0.15);\n",
              "    fill: var(--button-hover-fill-color);\n",
              "  }\n",
              "\n",
              "  .colab-df-quickchart-complete:disabled,\n",
              "  .colab-df-quickchart-complete:disabled:hover {\n",
              "    background-color: var(--disabled-bg-color);\n",
              "    fill: var(--disabled-fill-color);\n",
              "    box-shadow: none;\n",
              "  }\n",
              "\n",
              "  .colab-df-spinner {\n",
              "    border: 2px solid var(--fill-color);\n",
              "    border-color: transparent;\n",
              "    border-bottom-color: var(--fill-color);\n",
              "    animation:\n",
              "      spin 1s steps(1) infinite;\n",
              "  }\n",
              "\n",
              "  @keyframes spin {\n",
              "    0% {\n",
              "      border-color: transparent;\n",
              "      border-bottom-color: var(--fill-color);\n",
              "      border-left-color: var(--fill-color);\n",
              "    }\n",
              "    20% {\n",
              "      border-color: transparent;\n",
              "      border-left-color: var(--fill-color);\n",
              "      border-top-color: var(--fill-color);\n",
              "    }\n",
              "    30% {\n",
              "      border-color: transparent;\n",
              "      border-left-color: var(--fill-color);\n",
              "      border-top-color: var(--fill-color);\n",
              "      border-right-color: var(--fill-color);\n",
              "    }\n",
              "    40% {\n",
              "      border-color: transparent;\n",
              "      border-right-color: var(--fill-color);\n",
              "      border-top-color: var(--fill-color);\n",
              "    }\n",
              "    60% {\n",
              "      border-color: transparent;\n",
              "      border-right-color: var(--fill-color);\n",
              "    }\n",
              "    80% {\n",
              "      border-color: transparent;\n",
              "      border-right-color: var(--fill-color);\n",
              "      border-bottom-color: var(--fill-color);\n",
              "    }\n",
              "    90% {\n",
              "      border-color: transparent;\n",
              "      border-bottom-color: var(--fill-color);\n",
              "    }\n",
              "  }\n",
              "</style>\n",
              "\n",
              "  <script>\n",
              "    async function quickchart(key) {\n",
              "      const quickchartButtonEl =\n",
              "        document.querySelector('#' + key + ' button');\n",
              "      quickchartButtonEl.disabled = true;  // To prevent multiple clicks.\n",
              "      quickchartButtonEl.classList.add('colab-df-spinner');\n",
              "      try {\n",
              "        const charts = await google.colab.kernel.invokeFunction(\n",
              "            'suggestCharts', [key], {});\n",
              "      } catch (error) {\n",
              "        console.error('Error during call to suggestCharts:', error);\n",
              "      }\n",
              "      quickchartButtonEl.classList.remove('colab-df-spinner');\n",
              "      quickchartButtonEl.classList.add('colab-df-quickchart-complete');\n",
              "    }\n",
              "    (() => {\n",
              "      let quickchartButtonEl =\n",
              "        document.querySelector('#df-6e79c199-ea51-4513-b0f0-84d7e8e11f28 button');\n",
              "      quickchartButtonEl.style.display =\n",
              "        google.colab.kernel.accessAllowed ? 'block' : 'none';\n",
              "    })();\n",
              "  </script>\n",
              "</div>\n",
              "    </div>\n",
              "  </div>\n"
            ],
            "application/vnd.google.colaboratory.intrinsic+json": {
              "type": "dataframe",
              "variable_name": "balanced_df",
              "summary": "{\n  \"name\": \"balanced_df\",\n  \"rows\": 6399,\n  \"fields\": [\n    {\n      \"column\": 0,\n      \"properties\": {\n        \"dtype\": \"string\",\n        \"num_unique_values\": 5903,\n        \"samples\": [\n          \"(KOR) I agree with the statement ` Young people do not give enough time to helping their communities . ' Also , young people do not have to give time to help their communities . Nowadays , people are busy to live . They have to work for their family and themselves . It is hard to earn a living . People do not have enough time for themselves . How can they help others ? If they have enough time and money for their communities , it is okay to help others . However , if they do not have time and money for their communities , there is no way to help others . Human beings are born selfish . They first think about themselves , their family and their friends , not the people who are not related to them . When there is enough time and money for them and for others , they may help others . But helping thier communities is their choice . It is not people 's duty . However , some people think it is our duty to help others and help our communities . It sounds good , but it is hard to do . For example , a person who has little income which barely afford his or her family take time to help the communitiy . It would be good for the community , but the person 's family will not eat their meals . Helping their communities can be possible by the people who can afford their family first . Helping their communities is not bad . It is good behavior , and also it is for all people , not only for one or two . But to help their communities , the first thing to do is help themselves and their family . Helping their communities from the heart can be done just when thier family is happy . To help from the heart ,, people should take care of themselves and their family first .\",\n          \"(CHI) Nowaydays , there is a great generation gap between the youth and older people . Sometimes they are quite distinguished from others . It was generally agreed that Young people enjoy life more than older people do . But in my opinion , I do n't agree to the opinion . In the first place , many young people enjoy their life so much . They are very modern and familiar with all the new-coming products . For instance , internet , electronic products , and newly conventions are made great use of by them . They realize what the real world is and have their ideal life style . Their idea is to make the world colorful , funny and full of significance . Only by doing things for the society can they feel real happiness . Oppositly , there still remains a large number of young people who are doing nothing everyday . If they were asked what they are doing , they would answer they were enjoying . They drink , do sports , play computer games , change boy/girlfriends frequently , rob money or small items from children and do whatever they can . Is it a real `` enjoy '' ? Absolutely no ! Ignoring the bad things they made , they lead to bad impact to the society . From the views of some people , older people are considered to be outdated . But to my surprise , in some cases they can enjoy their life much more than young people . In spite of their weak body , they will be laughing everytime . Seeing the sun rising from the east , they will get up , doing exersice and listening to the radio . They will fill up their life with happiness . After they concern about the current affairs , they will note down their thoughts and send to the goverment . In cities , they will be a volunteer . The traffic manager , cleaner or a `` moving map '' are shown ever All in all , both young people enjoy life .\",\n          \"(HIN) Student are teach how to think but not what to think . Yes i totally agreewith the statement that the student have to understand the ideas and the concepts than it is for them to learn facts . Till the time student wont understand the subject and wht he is studying that subject it is waste for any teacher to teach that subject to a student . Thing which are byhearted can slip from the mind is very easy but the thing or the subject whcih is explained to student and telling what is the concept and the idea behind the subject then that is sure that will stay for longer time in student mind . many Many of us follow that same concepts to explain the student then ask him to learn on there own . the ideas and cencepts is not all time understand by student by him self but he or she need some one to guide and to expalin the concepts . There is a small example to support my answer , the are two student one is studying on it own means not attending the class but by hearting the sybluses and the other who is attending the class revesing only once . so who is better well i feel the person who is attending the class and reading one then the person who is reading many times but not understanding the fact and the ideas may be he will gain more marks in the exam comparing to other one but later the will be diffrent . because in college u go to learn how to think but not for what to think . So i will like to conclude the topic by saying that every one science or about space or of any subject but at tne end there r only few who pursued the career in that feilf there r many who dont have to do any thing with that but they learn about that but the school are made the student to think about the concept and the ideas\"\n        ],\n        \"semantic_type\": \"\",\n        \"description\": \"\"\n      }\n    },\n    {\n      \"column\": \"country_code\",\n      \"properties\": {\n        \"dtype\": \"category\",\n        \"num_unique_values\": 11,\n        \"samples\": [\n          \"SPA\",\n          \"ARA\",\n          \"JPN\"\n        ],\n        \"semantic_type\": \"\",\n        \"description\": \"\"\n      }\n    },\n    {\n      \"column\": \"text\",\n      \"properties\": {\n        \"dtype\": \"string\",\n        \"num_unique_values\": 5903,\n        \"samples\": [\n          \" I agree with the statement ` Young people do not give enough time to helping their communities . ' Also , young people do not have to give time to help their communities . Nowadays , people are busy to live . They have to work for their family and themselves . It is hard to earn a living . People do not have enough time for themselves . How can they help others ? If they have enough time and money for their communities , it is okay to help others . However , if they do not have time and money for their communities , there is no way to help others . Human beings are born selfish . They first think about themselves , their family and their friends , not the people who are not related to them . When there is enough time and money for them and for others , they may help others . But helping thier communities is their choice . It is not people 's duty . However , some people think it is our duty to help others and help our communities . It sounds good , but it is hard to do . For example , a person who has little income which barely afford his or her family take time to help the communitiy . It would be good for the community , but the person 's family will not eat their meals . Helping their communities can be possible by the people who can afford their family first . Helping their communities is not bad . It is good behavior , and also it is for all people , not only for one or two . But to help their communities , the first thing to do is help themselves and their family . Helping their communities from the heart can be done just when thier family is happy . To help from the heart ,, people should take care of themselves and their family first .\",\n          \" Nowaydays , there is a great generation gap between the youth and older people . Sometimes they are quite distinguished from others . It was generally agreed that Young people enjoy life more than older people do . But in my opinion , I do n't agree to the opinion . In the first place , many young people enjoy their life so much . They are very modern and familiar with all the new-coming products . For instance , internet , electronic products , and newly conventions are made great use of by them . They realize what the real world is and have their ideal life style . Their idea is to make the world colorful , funny and full of significance . Only by doing things for the society can they feel real happiness . Oppositly , there still remains a large number of young people who are doing nothing everyday . If they were asked what they are doing , they would answer they were enjoying . They drink , do sports , play computer games , change boy/girlfriends frequently , rob money or small items from children and do whatever they can . Is it a real `` enjoy '' ? Absolutely no ! Ignoring the bad things they made , they lead to bad impact to the society . From the views of some people , older people are considered to be outdated . But to my surprise , in some cases they can enjoy their life much more than young people . In spite of their weak body , they will be laughing everytime . Seeing the sun rising from the east , they will get up , doing exersice and listening to the radio . They will fill up their life with happiness . After they concern about the current affairs , they will note down their thoughts and send to the goverment . In cities , they will be a volunteer . The traffic manager , cleaner or a `` moving map '' are shown ever All in all , both young people enjoy life .\",\n          \" Student are teach how to think but not what to think . Yes i totally agreewith the statement that the student have to understand the ideas and the concepts than it is for them to learn facts . Till the time student wont understand the subject and wht he is studying that subject it is waste for any teacher to teach that subject to a student . Thing which are byhearted can slip from the mind is very easy but the thing or the subject whcih is explained to student and telling what is the concept and the idea behind the subject then that is sure that will stay for longer time in student mind . many Many of us follow that same concepts to explain the student then ask him to learn on there own . the ideas and cencepts is not all time understand by student by him self but he or she need some one to guide and to expalin the concepts . There is a small example to support my answer , the are two student one is studying on it own means not attending the class but by hearting the sybluses and the other who is attending the class revesing only once . so who is better well i feel the person who is attending the class and reading one then the person who is reading many times but not understanding the fact and the ideas may be he will gain more marks in the exam comparing to other one but later the will be diffrent . because in college u go to learn how to think but not for what to think . So i will like to conclude the topic by saying that every one science or about space or of any subject but at tne end there r only few who pursued the career in that feilf there r many who dont have to do any thing with that but they learn about that but the school are made the student to think about the concept and the ideas\"\n        ],\n        \"semantic_type\": \"\",\n        \"description\": \"\"\n      }\n    },\n    {\n      \"column\": \"group\",\n      \"properties\": {\n        \"dtype\": \"category\",\n        \"num_unique_values\": 4,\n        \"samples\": [\n          \"FRE+SPA+ITA+GER\",\n          \"KOR+CHI+JPN\",\n          \"ARA+TUR\"\n        ],\n        \"semantic_type\": \"\",\n        \"description\": \"\"\n      }\n    }\n  ]\n}"
            }
          },
          "metadata": {},
          "execution_count": 34
        }
      ]
    },
    {
      "cell_type": "code",
      "source": [
        "df # groups are not balanced"
      ],
      "metadata": {
        "id": "N8ZltbnuiWip",
        "colab": {
          "base_uri": "https://localhost:8080/",
          "height": 475
        },
        "outputId": "cbedb432-2c83-4ed0-8b13-dc1c2f71fe50"
      },
      "execution_count": null,
      "outputs": [
        {
          "output_type": "execute_result",
          "data": {
            "text/plain": [
              "                                                      0 country_code  \\\n",
              "0     (GER) IThe importance and popularity of travel...          GER   \n",
              "1     (TUR) It is an important decision , how to pla...          TUR   \n",
              "2     (CHI) Some people believe that young people ca...          CHI   \n",
              "3     (TEL) Travelling is usually considered as good...          TEL   \n",
              "4     (ARA) i agree that . Life is a person live per...          ARA   \n",
              "...                                                 ...          ...   \n",
              "9895  (CHI) Nowadays , more and more people go abroa...          CHI   \n",
              "9896  (KOR) In accomplishing something that is risky...          KOR   \n",
              "9897  (SPA) At the beginning of the 21st century , t...          SPA   \n",
              "9898  (HIN) The number of cars in use across the wor...          HIN   \n",
              "9899  (CHI) Many people think it is betters to have ...          CHI   \n",
              "\n",
              "                                                   text            group  \n",
              "0      IThe importance and popularity of travelling ...  FRE+SPA+ITA+GER  \n",
              "1      It is an important decision , how to plan you...          ARA+TUR  \n",
              "2      Some people believe that young people can enj...      KOR+CHI+JPN  \n",
              "3      Travelling is usually considered as good recr...          HIN+TEL  \n",
              "4      i agree that . Life is a person live period o...          ARA+TUR  \n",
              "...                                                 ...              ...  \n",
              "9895   Nowadays , more and more people go abroad , n...      KOR+CHI+JPN  \n",
              "9896   In accomplishing something that is risky come...      KOR+CHI+JPN  \n",
              "9897   At the beginning of the 21st century , the in...  FRE+SPA+ITA+GER  \n",
              "9898   The number of cars in use across the world ha...          HIN+TEL  \n",
              "9899   Many people think it is betters to have borad...      KOR+CHI+JPN  \n",
              "\n",
              "[8800 rows x 4 columns]"
            ],
            "text/html": [
              "\n",
              "  <div id=\"df-ce141c05-338f-4e4e-bc2e-67d2d65150d0\" class=\"colab-df-container\">\n",
              "    <div>\n",
              "<style scoped>\n",
              "    .dataframe tbody tr th:only-of-type {\n",
              "        vertical-align: middle;\n",
              "    }\n",
              "\n",
              "    .dataframe tbody tr th {\n",
              "        vertical-align: top;\n",
              "    }\n",
              "\n",
              "    .dataframe thead th {\n",
              "        text-align: right;\n",
              "    }\n",
              "</style>\n",
              "<table border=\"1\" class=\"dataframe\">\n",
              "  <thead>\n",
              "    <tr style=\"text-align: right;\">\n",
              "      <th></th>\n",
              "      <th>0</th>\n",
              "      <th>country_code</th>\n",
              "      <th>text</th>\n",
              "      <th>group</th>\n",
              "    </tr>\n",
              "  </thead>\n",
              "  <tbody>\n",
              "    <tr>\n",
              "      <th>0</th>\n",
              "      <td>(GER) IThe importance and popularity of travel...</td>\n",
              "      <td>GER</td>\n",
              "      <td>IThe importance and popularity of travelling ...</td>\n",
              "      <td>FRE+SPA+ITA+GER</td>\n",
              "    </tr>\n",
              "    <tr>\n",
              "      <th>1</th>\n",
              "      <td>(TUR) It is an important decision , how to pla...</td>\n",
              "      <td>TUR</td>\n",
              "      <td>It is an important decision , how to plan you...</td>\n",
              "      <td>ARA+TUR</td>\n",
              "    </tr>\n",
              "    <tr>\n",
              "      <th>2</th>\n",
              "      <td>(CHI) Some people believe that young people ca...</td>\n",
              "      <td>CHI</td>\n",
              "      <td>Some people believe that young people can enj...</td>\n",
              "      <td>KOR+CHI+JPN</td>\n",
              "    </tr>\n",
              "    <tr>\n",
              "      <th>3</th>\n",
              "      <td>(TEL) Travelling is usually considered as good...</td>\n",
              "      <td>TEL</td>\n",
              "      <td>Travelling is usually considered as good recr...</td>\n",
              "      <td>HIN+TEL</td>\n",
              "    </tr>\n",
              "    <tr>\n",
              "      <th>4</th>\n",
              "      <td>(ARA) i agree that . Life is a person live per...</td>\n",
              "      <td>ARA</td>\n",
              "      <td>i agree that . Life is a person live period o...</td>\n",
              "      <td>ARA+TUR</td>\n",
              "    </tr>\n",
              "    <tr>\n",
              "      <th>...</th>\n",
              "      <td>...</td>\n",
              "      <td>...</td>\n",
              "      <td>...</td>\n",
              "      <td>...</td>\n",
              "    </tr>\n",
              "    <tr>\n",
              "      <th>9895</th>\n",
              "      <td>(CHI) Nowadays , more and more people go abroa...</td>\n",
              "      <td>CHI</td>\n",
              "      <td>Nowadays , more and more people go abroad , n...</td>\n",
              "      <td>KOR+CHI+JPN</td>\n",
              "    </tr>\n",
              "    <tr>\n",
              "      <th>9896</th>\n",
              "      <td>(KOR) In accomplishing something that is risky...</td>\n",
              "      <td>KOR</td>\n",
              "      <td>In accomplishing something that is risky come...</td>\n",
              "      <td>KOR+CHI+JPN</td>\n",
              "    </tr>\n",
              "    <tr>\n",
              "      <th>9897</th>\n",
              "      <td>(SPA) At the beginning of the 21st century , t...</td>\n",
              "      <td>SPA</td>\n",
              "      <td>At the beginning of the 21st century , the in...</td>\n",
              "      <td>FRE+SPA+ITA+GER</td>\n",
              "    </tr>\n",
              "    <tr>\n",
              "      <th>9898</th>\n",
              "      <td>(HIN) The number of cars in use across the wor...</td>\n",
              "      <td>HIN</td>\n",
              "      <td>The number of cars in use across the world ha...</td>\n",
              "      <td>HIN+TEL</td>\n",
              "    </tr>\n",
              "    <tr>\n",
              "      <th>9899</th>\n",
              "      <td>(CHI) Many people think it is betters to have ...</td>\n",
              "      <td>CHI</td>\n",
              "      <td>Many people think it is betters to have borad...</td>\n",
              "      <td>KOR+CHI+JPN</td>\n",
              "    </tr>\n",
              "  </tbody>\n",
              "</table>\n",
              "<p>8800 rows × 4 columns</p>\n",
              "</div>\n",
              "    <div class=\"colab-df-buttons\">\n",
              "\n",
              "  <div class=\"colab-df-container\">\n",
              "    <button class=\"colab-df-convert\" onclick=\"convertToInteractive('df-ce141c05-338f-4e4e-bc2e-67d2d65150d0')\"\n",
              "            title=\"Convert this dataframe to an interactive table.\"\n",
              "            style=\"display:none;\">\n",
              "\n",
              "  <svg xmlns=\"http://www.w3.org/2000/svg\" height=\"24px\" viewBox=\"0 -960 960 960\">\n",
              "    <path d=\"M120-120v-720h720v720H120Zm60-500h600v-160H180v160Zm220 220h160v-160H400v160Zm0 220h160v-160H400v160ZM180-400h160v-160H180v160Zm440 0h160v-160H620v160ZM180-180h160v-160H180v160Zm440 0h160v-160H620v160Z\"/>\n",
              "  </svg>\n",
              "    </button>\n",
              "\n",
              "  <style>\n",
              "    .colab-df-container {\n",
              "      display:flex;\n",
              "      gap: 12px;\n",
              "    }\n",
              "\n",
              "    .colab-df-convert {\n",
              "      background-color: #E8F0FE;\n",
              "      border: none;\n",
              "      border-radius: 50%;\n",
              "      cursor: pointer;\n",
              "      display: none;\n",
              "      fill: #1967D2;\n",
              "      height: 32px;\n",
              "      padding: 0 0 0 0;\n",
              "      width: 32px;\n",
              "    }\n",
              "\n",
              "    .colab-df-convert:hover {\n",
              "      background-color: #E2EBFA;\n",
              "      box-shadow: 0px 1px 2px rgba(60, 64, 67, 0.3), 0px 1px 3px 1px rgba(60, 64, 67, 0.15);\n",
              "      fill: #174EA6;\n",
              "    }\n",
              "\n",
              "    .colab-df-buttons div {\n",
              "      margin-bottom: 4px;\n",
              "    }\n",
              "\n",
              "    [theme=dark] .colab-df-convert {\n",
              "      background-color: #3B4455;\n",
              "      fill: #D2E3FC;\n",
              "    }\n",
              "\n",
              "    [theme=dark] .colab-df-convert:hover {\n",
              "      background-color: #434B5C;\n",
              "      box-shadow: 0px 1px 3px 1px rgba(0, 0, 0, 0.15);\n",
              "      filter: drop-shadow(0px 1px 2px rgba(0, 0, 0, 0.3));\n",
              "      fill: #FFFFFF;\n",
              "    }\n",
              "  </style>\n",
              "\n",
              "    <script>\n",
              "      const buttonEl =\n",
              "        document.querySelector('#df-ce141c05-338f-4e4e-bc2e-67d2d65150d0 button.colab-df-convert');\n",
              "      buttonEl.style.display =\n",
              "        google.colab.kernel.accessAllowed ? 'block' : 'none';\n",
              "\n",
              "      async function convertToInteractive(key) {\n",
              "        const element = document.querySelector('#df-ce141c05-338f-4e4e-bc2e-67d2d65150d0');\n",
              "        const dataTable =\n",
              "          await google.colab.kernel.invokeFunction('convertToInteractive',\n",
              "                                                    [key], {});\n",
              "        if (!dataTable) return;\n",
              "\n",
              "        const docLinkHtml = 'Like what you see? Visit the ' +\n",
              "          '<a target=\"_blank\" href=https://colab.research.google.com/notebooks/data_table.ipynb>data table notebook</a>'\n",
              "          + ' to learn more about interactive tables.';\n",
              "        element.innerHTML = '';\n",
              "        dataTable['output_type'] = 'display_data';\n",
              "        await google.colab.output.renderOutput(dataTable, element);\n",
              "        const docLink = document.createElement('div');\n",
              "        docLink.innerHTML = docLinkHtml;\n",
              "        element.appendChild(docLink);\n",
              "      }\n",
              "    </script>\n",
              "  </div>\n",
              "\n",
              "\n",
              "<div id=\"df-08c6e752-2837-4585-885f-25be37efcbb5\">\n",
              "  <button class=\"colab-df-quickchart\" onclick=\"quickchart('df-08c6e752-2837-4585-885f-25be37efcbb5')\"\n",
              "            title=\"Suggest charts\"\n",
              "            style=\"display:none;\">\n",
              "\n",
              "<svg xmlns=\"http://www.w3.org/2000/svg\" height=\"24px\"viewBox=\"0 0 24 24\"\n",
              "     width=\"24px\">\n",
              "    <g>\n",
              "        <path d=\"M19 3H5c-1.1 0-2 .9-2 2v14c0 1.1.9 2 2 2h14c1.1 0 2-.9 2-2V5c0-1.1-.9-2-2-2zM9 17H7v-7h2v7zm4 0h-2V7h2v10zm4 0h-2v-4h2v4z\"/>\n",
              "    </g>\n",
              "</svg>\n",
              "  </button>\n",
              "\n",
              "<style>\n",
              "  .colab-df-quickchart {\n",
              "      --bg-color: #E8F0FE;\n",
              "      --fill-color: #1967D2;\n",
              "      --hover-bg-color: #E2EBFA;\n",
              "      --hover-fill-color: #174EA6;\n",
              "      --disabled-fill-color: #AAA;\n",
              "      --disabled-bg-color: #DDD;\n",
              "  }\n",
              "\n",
              "  [theme=dark] .colab-df-quickchart {\n",
              "      --bg-color: #3B4455;\n",
              "      --fill-color: #D2E3FC;\n",
              "      --hover-bg-color: #434B5C;\n",
              "      --hover-fill-color: #FFFFFF;\n",
              "      --disabled-bg-color: #3B4455;\n",
              "      --disabled-fill-color: #666;\n",
              "  }\n",
              "\n",
              "  .colab-df-quickchart {\n",
              "    background-color: var(--bg-color);\n",
              "    border: none;\n",
              "    border-radius: 50%;\n",
              "    cursor: pointer;\n",
              "    display: none;\n",
              "    fill: var(--fill-color);\n",
              "    height: 32px;\n",
              "    padding: 0;\n",
              "    width: 32px;\n",
              "  }\n",
              "\n",
              "  .colab-df-quickchart:hover {\n",
              "    background-color: var(--hover-bg-color);\n",
              "    box-shadow: 0 1px 2px rgba(60, 64, 67, 0.3), 0 1px 3px 1px rgba(60, 64, 67, 0.15);\n",
              "    fill: var(--button-hover-fill-color);\n",
              "  }\n",
              "\n",
              "  .colab-df-quickchart-complete:disabled,\n",
              "  .colab-df-quickchart-complete:disabled:hover {\n",
              "    background-color: var(--disabled-bg-color);\n",
              "    fill: var(--disabled-fill-color);\n",
              "    box-shadow: none;\n",
              "  }\n",
              "\n",
              "  .colab-df-spinner {\n",
              "    border: 2px solid var(--fill-color);\n",
              "    border-color: transparent;\n",
              "    border-bottom-color: var(--fill-color);\n",
              "    animation:\n",
              "      spin 1s steps(1) infinite;\n",
              "  }\n",
              "\n",
              "  @keyframes spin {\n",
              "    0% {\n",
              "      border-color: transparent;\n",
              "      border-bottom-color: var(--fill-color);\n",
              "      border-left-color: var(--fill-color);\n",
              "    }\n",
              "    20% {\n",
              "      border-color: transparent;\n",
              "      border-left-color: var(--fill-color);\n",
              "      border-top-color: var(--fill-color);\n",
              "    }\n",
              "    30% {\n",
              "      border-color: transparent;\n",
              "      border-left-color: var(--fill-color);\n",
              "      border-top-color: var(--fill-color);\n",
              "      border-right-color: var(--fill-color);\n",
              "    }\n",
              "    40% {\n",
              "      border-color: transparent;\n",
              "      border-right-color: var(--fill-color);\n",
              "      border-top-color: var(--fill-color);\n",
              "    }\n",
              "    60% {\n",
              "      border-color: transparent;\n",
              "      border-right-color: var(--fill-color);\n",
              "    }\n",
              "    80% {\n",
              "      border-color: transparent;\n",
              "      border-right-color: var(--fill-color);\n",
              "      border-bottom-color: var(--fill-color);\n",
              "    }\n",
              "    90% {\n",
              "      border-color: transparent;\n",
              "      border-bottom-color: var(--fill-color);\n",
              "    }\n",
              "  }\n",
              "</style>\n",
              "\n",
              "  <script>\n",
              "    async function quickchart(key) {\n",
              "      const quickchartButtonEl =\n",
              "        document.querySelector('#' + key + ' button');\n",
              "      quickchartButtonEl.disabled = true;  // To prevent multiple clicks.\n",
              "      quickchartButtonEl.classList.add('colab-df-spinner');\n",
              "      try {\n",
              "        const charts = await google.colab.kernel.invokeFunction(\n",
              "            'suggestCharts', [key], {});\n",
              "      } catch (error) {\n",
              "        console.error('Error during call to suggestCharts:', error);\n",
              "      }\n",
              "      quickchartButtonEl.classList.remove('colab-df-spinner');\n",
              "      quickchartButtonEl.classList.add('colab-df-quickchart-complete');\n",
              "    }\n",
              "    (() => {\n",
              "      let quickchartButtonEl =\n",
              "        document.querySelector('#df-08c6e752-2837-4585-885f-25be37efcbb5 button');\n",
              "      quickchartButtonEl.style.display =\n",
              "        google.colab.kernel.accessAllowed ? 'block' : 'none';\n",
              "    })();\n",
              "  </script>\n",
              "</div>\n",
              "    </div>\n",
              "  </div>\n"
            ],
            "application/vnd.google.colaboratory.intrinsic+json": {
              "type": "dataframe",
              "variable_name": "df",
              "summary": "{\n  \"name\": \"df\",\n  \"rows\": 8800,\n  \"fields\": [\n    {\n      \"column\": 0,\n      \"properties\": {\n        \"dtype\": \"string\",\n        \"num_unique_values\": 8800,\n        \"samples\": [\n          \"(ITA) This statement has been greatly discussed in many didactic environments for the simple reason that some consider the theoretical knowledge to be more important than the practical one and some consider the opposite . I was lucky to have personally attended schools that agreed and disagreed with the statement since I attended an italian high school ( that relies mostly on ideas and concepts ) and a canadian high school ( that focuses more on real facts that occured ) . This is why foreigners find that italians know how to talk about a certain topic but they do not know how to actually solve ( or i should say ) `` fix '' it . My uncle , an engineer who lives in Canada , once attended a conference here in Italy and he noticed how Italians honestly might know more about the theory ( in this case physics or maths ) but need help from the more `` hands-on '' engineers from abroad who considered real cases during their education giving them a higher experience . In my opinion learning about facts is definately more enjoyable and gains a higher interests within the students . It also gives you a better insight of today 's world situation . The reason why we study History is because we ought to learn about events that occured in the past and to prevent the same mistakes or find a better solution . Once I came back from my school year abroad it was n't easy for me to get used to the old and stricter method . I tried to make my teacher understand and realize how a fact that occured implicitely has the concept in it . Experience also plays a key role and to discuss about real facts certainly helps a lot . As once Oscar Wilde said `` Experience is the name we give to our mistakes '' . This is why I believe that it is definately important to learn and understand ideas and concepts but the next fundamental step would be to consider a real fact that concerns it . Italy has a very ancient background on its shoulders and it would be very hard to change its attitude or point of view .\",\n          \"(HIN) The issue at hand is , whether it is good to travel alone without a tour guide or in a group that is led by a tour guide . This issue is very troubling to me because there are so many people in the world who enjoy going to different places by themselves without a tour guide although they can afford one . But i 'll support the tour with a guide with a group of people because sometime you can find many good life long friends in a group and many beautiful sceneries that you cannot see without the help of a tour guide . I prefer the best way is to travel in a group led by a tour guide because a tour guide can give you a lot of information about the places you are going to view . You cannot find that information if you are travelling alone without a guide . Moreover , if you are travelling in a group you will actually enjoy the travelling & you would not even know about the time that you spent for travelling . On the other hand , if you are travelling alone without a tour give you can cause trouble for youself sometimes . For example , you cannot find all the sight sceneries without a tour guide & it will be a great hassle if you are travelling alone in a taxi without knowing anything about the city you are visiting . Second reason why a grop travelling with a guide is preferrable because of the economic figures . For example , suppose you are travelling alone without a guide it will cause you to spend a lot of money if you do n't know the visiting city well . On the other hand , in a group tour all the participants pool money so that every individual has to pay a little amout of money . Furthermore , travelling by a group of people can enjoy their travelling a lot instead of a single individual . In conclusion , i 'll say that travelling in a group is far more exciting experience as compared to travelling alone withot a guide . I believe this is better option because it is economic , exciting , worth spending money to travel with a bunch of people rather than alone .\",\n          \"(KOR) In this ambivalent society , the issue whether there will be fewer numeber of vehicles on the land in the future or not is often raised and debated . A portion of society believes that there will be much more cars in our lives , since the opportunity of delivering goods increases as time goes by ; however , I have a differing idea . In twenty years , the number of cars will decrease because the society encounters environmental and social changes : the Greenhouse Effect , and Globalization . One example of a trigger that makes the number of cars reduce can be seen in the responses to the Greenhouse Effect . As society grows , environmental issues are raised , especailly the Greenhouse Effect . This Effect , caused by damaging gases emitted from cars , harms ecological order by influencing sea level to rise . Furthermore , unexpectedly changing climates threatens human live directly : Tsunami in Indonesia . Therefore , people begin to invent alternative vehicles that does not make harmful gases , such as hybrid vehicles . In addition , the increasing uses of bikes encourage people to avoid air pollution . Thus , in twenty years there will be fewer cars in our lives to protect our surronding safe and clean . Not only do the current events furnish an endless array of examples encapsulating the claim that the number of cars on land will be reduced in the future , but social trend does as well ; a prime example is Globalization . As the whole world become a one town , the opportunity to trade and travel among foreign countries has been expanding . As a result , rather than cars that are limited in only one continent , airplanes will attract more people in the future . For example , according to the research in Korea , about 85 % of the nation prefers airplanes as transportation . Also , as most companies , such as Samsung , LG , and Sony , expands their markets toward other countries , the importance of taking airplanes , instead of driving cars in domestic markets , are percieved by many nations . In the paragraphs above , I have shown that in twenty years , there will be much fewer cars in our live , but much more alternative vehicles that prevent environment and help to adopt international trend , Globalization . So , I call the readers to make technological progress in innovating our limited transportation to prepare comming future society .\"\n        ],\n        \"semantic_type\": \"\",\n        \"description\": \"\"\n      }\n    },\n    {\n      \"column\": \"country_code\",\n      \"properties\": {\n        \"dtype\": \"category\",\n        \"num_unique_values\": 11,\n        \"samples\": [\n          \"SPA\",\n          \"GER\",\n          \"FRE\"\n        ],\n        \"semantic_type\": \"\",\n        \"description\": \"\"\n      }\n    },\n    {\n      \"column\": \"text\",\n      \"properties\": {\n        \"dtype\": \"string\",\n        \"num_unique_values\": 8800,\n        \"samples\": [\n          \" This statement has been greatly discussed in many didactic environments for the simple reason that some consider the theoretical knowledge to be more important than the practical one and some consider the opposite . I was lucky to have personally attended schools that agreed and disagreed with the statement since I attended an italian high school ( that relies mostly on ideas and concepts ) and a canadian high school ( that focuses more on real facts that occured ) . This is why foreigners find that italians know how to talk about a certain topic but they do not know how to actually solve ( or i should say ) `` fix '' it . My uncle , an engineer who lives in Canada , once attended a conference here in Italy and he noticed how Italians honestly might know more about the theory ( in this case physics or maths ) but need help from the more `` hands-on '' engineers from abroad who considered real cases during their education giving them a higher experience . In my opinion learning about facts is definately more enjoyable and gains a higher interests within the students . It also gives you a better insight of today 's world situation . The reason why we study History is because we ought to learn about events that occured in the past and to prevent the same mistakes or find a better solution . Once I came back from my school year abroad it was n't easy for me to get used to the old and stricter method . I tried to make my teacher understand and realize how a fact that occured implicitely has the concept in it . Experience also plays a key role and to discuss about real facts certainly helps a lot . As once Oscar Wilde said `` Experience is the name we give to our mistakes '' . This is why I believe that it is definately important to learn and understand ideas and concepts but the next fundamental step would be to consider a real fact that concerns it . Italy has a very ancient background on its shoulders and it would be very hard to change its attitude or point of view .\",\n          \" The issue at hand is , whether it is good to travel alone without a tour guide or in a group that is led by a tour guide . This issue is very troubling to me because there are so many people in the world who enjoy going to different places by themselves without a tour guide although they can afford one . But i 'll support the tour with a guide with a group of people because sometime you can find many good life long friends in a group and many beautiful sceneries that you cannot see without the help of a tour guide . I prefer the best way is to travel in a group led by a tour guide because a tour guide can give you a lot of information about the places you are going to view . You cannot find that information if you are travelling alone without a guide . Moreover , if you are travelling in a group you will actually enjoy the travelling & you would not even know about the time that you spent for travelling . On the other hand , if you are travelling alone without a tour give you can cause trouble for youself sometimes . For example , you cannot find all the sight sceneries without a tour guide & it will be a great hassle if you are travelling alone in a taxi without knowing anything about the city you are visiting . Second reason why a grop travelling with a guide is preferrable because of the economic figures . For example , suppose you are travelling alone without a guide it will cause you to spend a lot of money if you do n't know the visiting city well . On the other hand , in a group tour all the participants pool money so that every individual has to pay a little amout of money . Furthermore , travelling by a group of people can enjoy their travelling a lot instead of a single individual . In conclusion , i 'll say that travelling in a group is far more exciting experience as compared to travelling alone withot a guide . I believe this is better option because it is economic , exciting , worth spending money to travel with a bunch of people rather than alone .\",\n          \" In this ambivalent society , the issue whether there will be fewer numeber of vehicles on the land in the future or not is often raised and debated . A portion of society believes that there will be much more cars in our lives , since the opportunity of delivering goods increases as time goes by ; however , I have a differing idea . In twenty years , the number of cars will decrease because the society encounters environmental and social changes : the Greenhouse Effect , and Globalization . One example of a trigger that makes the number of cars reduce can be seen in the responses to the Greenhouse Effect . As society grows , environmental issues are raised , especailly the Greenhouse Effect . This Effect , caused by damaging gases emitted from cars , harms ecological order by influencing sea level to rise . Furthermore , unexpectedly changing climates threatens human live directly : Tsunami in Indonesia . Therefore , people begin to invent alternative vehicles that does not make harmful gases , such as hybrid vehicles . In addition , the increasing uses of bikes encourage people to avoid air pollution . Thus , in twenty years there will be fewer cars in our lives to protect our surronding safe and clean . Not only do the current events furnish an endless array of examples encapsulating the claim that the number of cars on land will be reduced in the future , but social trend does as well ; a prime example is Globalization . As the whole world become a one town , the opportunity to trade and travel among foreign countries has been expanding . As a result , rather than cars that are limited in only one continent , airplanes will attract more people in the future . For example , according to the research in Korea , about 85 % of the nation prefers airplanes as transportation . Also , as most companies , such as Samsung , LG , and Sony , expands their markets toward other countries , the importance of taking airplanes , instead of driving cars in domestic markets , are percieved by many nations . In the paragraphs above , I have shown that in twenty years , there will be much fewer cars in our live , but much more alternative vehicles that prevent environment and help to adopt international trend , Globalization . So , I call the readers to make technological progress in innovating our limited transportation to prepare comming future society .\"\n        ],\n        \"semantic_type\": \"\",\n        \"description\": \"\"\n      }\n    },\n    {\n      \"column\": \"group\",\n      \"properties\": {\n        \"dtype\": \"category\",\n        \"num_unique_values\": 4,\n        \"samples\": [\n          \"ARA+TUR\",\n          \"HIN+TEL\",\n          \"FRE+SPA+ITA+GER\"\n        ],\n        \"semantic_type\": \"\",\n        \"description\": \"\"\n      }\n    }\n  ]\n}"
            }
          },
          "metadata": {},
          "execution_count": 35
        }
      ]
    },
    {
      "cell_type": "code",
      "execution_count": null,
      "metadata": {
        "id": "ALtkTleZ2Pfs"
      },
      "outputs": [],
      "source": [
        "labels = {\"GER\",\"TUR\",\"CHI\",\"TEL\",\"ARA\",\"SPA\",\"HIN\",\"JPN\",\"KOR\",\"FRE\",\"ITA\"}"
      ]
    },
    {
      "cell_type": "code",
      "execution_count": null,
      "metadata": {
        "id": "ns9URyLI2Eny"
      },
      "outputs": [],
      "source": [
        "label_dataframes = {}\n",
        "\n",
        "for label in labels:\n",
        "    label_df = df[df['country_code'] == label]  # Replace 'label_column' with the actual column name\n",
        "    label_dataframes[label] = label_df"
      ]
    },
    {
      "cell_type": "code",
      "source": [
        "label_dataframes.keys()"
      ],
      "metadata": {
        "colab": {
          "base_uri": "https://localhost:8080/"
        },
        "id": "fybpfN8_ZvGp",
        "outputId": "fb59d07c-f8e0-46cb-8c40-3dd68dd0e42f"
      },
      "execution_count": null,
      "outputs": [
        {
          "output_type": "execute_result",
          "data": {
            "text/plain": [
              "dict_keys(['TUR', 'JPN', 'TEL', 'KOR', 'ITA', 'ARA', 'GER', 'SPA', 'HIN', 'FRE', 'CHI'])"
            ]
          },
          "metadata": {},
          "execution_count": 38
        }
      ]
    },
    {
      "cell_type": "code",
      "execution_count": null,
      "metadata": {
        "id": "Ae6TR9izy5bx"
      },
      "outputs": [],
      "source": [
        "groups_df = create_groups_dataframes(df)"
      ]
    },
    {
      "cell_type": "code",
      "execution_count": null,
      "metadata": {
        "colab": {
          "base_uri": "https://localhost:8080/"
        },
        "id": "xEDWMWlP7UPS",
        "outputId": "429f3bbd-7de3-43a9-9606-fa9f38c675d0"
      },
      "outputs": [
        {
          "output_type": "execute_result",
          "data": {
            "text/plain": [
              "dict_keys(['HIN+TEL', 'KOR+CHI+JPN', 'ARA+TUR', 'FRE+SPA+ITA+GER'])"
            ]
          },
          "metadata": {},
          "execution_count": 40
        }
      ],
      "source": [
        "groups_df.keys()"
      ]
    },
    {
      "cell_type": "code",
      "execution_count": null,
      "metadata": {
        "colab": {
          "base_uri": "https://localhost:8080/"
        },
        "id": "kCixcUE18iXj",
        "outputId": "96d7fd5b-68a1-445e-c243-65a1e709c389"
      },
      "outputs": [
        {
          "output_type": "execute_result",
          "data": {
            "text/plain": [
              "(1600, 4)"
            ]
          },
          "metadata": {},
          "execution_count": 41
        }
      ],
      "source": [
        "groups_df['HIN+TEL'].shape"
      ]
    },
    {
      "cell_type": "code",
      "source": [
        "groups_df['FRE+SPA+ITA+GER'].shape"
      ],
      "metadata": {
        "colab": {
          "base_uri": "https://localhost:8080/"
        },
        "id": "qOA0VBzCicA-",
        "outputId": "9993ecba-e3ad-4d17-f28d-57e4b8d1e2d3"
      },
      "execution_count": null,
      "outputs": [
        {
          "output_type": "execute_result",
          "data": {
            "text/plain": [
              "(3200, 4)"
            ]
          },
          "metadata": {},
          "execution_count": 42
        }
      ]
    },
    {
      "cell_type": "markdown",
      "metadata": {
        "id": "P5i_rrnwXb5n"
      },
      "source": [
        "##### splits"
      ]
    },
    {
      "cell_type": "code",
      "execution_count": null,
      "metadata": {
        "id": "flwkoMW2c2Ou"
      },
      "outputs": [],
      "source": [
        "def splits(label_dataframes, split_nbr):\n",
        "    size = 1800\n",
        "    max = 100\n",
        "\n",
        "    trains = []\n",
        "    devs = []\n",
        "    tests = []\n",
        "\n",
        "    start = 0\n",
        "    end = size // split_nbr if split_nbr != 0 and size // split_nbr < max else max\n",
        "\n",
        "    while split_nbr != 0:\n",
        "        split_nbr -= 1\n",
        "\n",
        "        train_splits = []\n",
        "        dev_splits = []\n",
        "        test_splits = []\n",
        "\n",
        "        for df in label_dataframes.values():\n",
        "            test_split = df[start:end]\n",
        "            dev_split = df[end:end + (end - start)]  # Set dev_split size to (end - start)\n",
        "            train_split = df[end + (end - start):]    # The remaining data goes to test_split\n",
        "\n",
        "            train_splits.append(train_split)\n",
        "            dev_splits.append(dev_split)\n",
        "            test_splits.append(test_split)\n",
        "\n",
        "        trains.append(pd.concat(train_splits))\n",
        "        devs.append(pd.concat(dev_splits))\n",
        "        tests.append(pd.concat(test_splits))\n",
        "\n",
        "        start = end\n",
        "        end = start + (size // split_nbr) if split_nbr != 0 and (size // split_nbr) < max else (start + max)\n",
        "\n",
        "    return trains, devs, tests\n"
      ]
    },
    {
      "cell_type": "markdown",
      "metadata": {
        "id": "o9wVipRLXe83"
      },
      "source": [
        "##### test indexes"
      ]
    },
    {
      "cell_type": "code",
      "execution_count": null,
      "metadata": {
        "id": "zkkG17TE4LJx"
      },
      "outputs": [],
      "source": [
        "def test_diffrent_indexes(dfs):\n",
        "    # Initialize a variable to track if indexes are different\n",
        "    different_indexes = False\n",
        "\n",
        "    # Iterate through pairs of DataFrames and compare indexes\n",
        "    for i in range(len(dfs) - 1):\n",
        "        for j in range(i + 1, len(dfs)):\n",
        "            if not dfs[i].index.equals(dfs[j].index):\n",
        "                different_indexes = True\n",
        "                break\n",
        "        if different_indexes:\n",
        "            break\n",
        "\n",
        "    # Output the result\n",
        "    if different_indexes:\n",
        "        print(\"The DataFrames have different indexes.\")\n",
        "    else:\n",
        "        print(\"The DataFrames have the same indexes.\")"
      ]
    },
    {
      "cell_type": "code",
      "execution_count": null,
      "metadata": {
        "id": "lJ4CdoHV13t5"
      },
      "outputs": [],
      "source": [
        "trains, devs, tests = splits(groups_df, 3)"
      ]
    },
    {
      "cell_type": "code",
      "execution_count": null,
      "metadata": {
        "colab": {
          "base_uri": "https://localhost:8080/"
        },
        "id": "Mupk1XXkvnp5",
        "outputId": "b76512a7-ed3d-4e22-96e6-ef5160f69ce5"
      },
      "outputs": [
        {
          "output_type": "stream",
          "name": "stdout",
          "text": [
            "The DataFrames have different indexes.\n",
            "The DataFrames have different indexes.\n"
          ]
        },
        {
          "output_type": "execute_result",
          "data": {
            "text/plain": [
              "(None, None)"
            ]
          },
          "metadata": {},
          "execution_count": 46
        }
      ],
      "source": [
        "test_diffrent_indexes(devs), test_diffrent_indexes(tests)"
      ]
    },
    {
      "cell_type": "code",
      "execution_count": null,
      "metadata": {
        "colab": {
          "base_uri": "https://localhost:8080/"
        },
        "id": "r8fEpLDQwYOl",
        "outputId": "74391ba3-f390-4493-87a8-f003bef129fe"
      },
      "outputs": [
        {
          "output_type": "execute_result",
          "data": {
            "text/plain": [
              "(None, None, None)"
            ]
          },
          "metadata": {},
          "execution_count": 47
        }
      ],
      "source": [
        "shuffle_rows(trains), shuffle_rows(tests), shuffle_rows(devs)"
      ]
    },
    {
      "cell_type": "code",
      "execution_count": null,
      "metadata": {
        "colab": {
          "base_uri": "https://localhost:8080/"
        },
        "id": "ovZCLY633_sd",
        "outputId": "b0fecae5-17c9-4683-fcb7-e4e320de50e5"
      },
      "outputs": [
        {
          "output_type": "execute_result",
          "data": {
            "text/plain": [
              "(8000, 400, 400)"
            ]
          },
          "metadata": {},
          "execution_count": 48
        }
      ],
      "source": [
        "trains[0].shape[0], devs[0].shape[0], tests[0].shape[0],"
      ]
    },
    {
      "cell_type": "markdown",
      "metadata": {
        "id": "XLM-XNTXXmLM"
      },
      "source": [
        "##### cross validation"
      ]
    },
    {
      "cell_type": "code",
      "execution_count": null,
      "metadata": {
        "id": "7Rx2_yuMWC-i"
      },
      "outputs": [],
      "source": [
        "from sklearn.model_selection import cross_val_score, ParameterGrid\n",
        "from sklearn.svm import SVC\n",
        "from sklearn.feature_extraction.text import TfidfVectorizer\n",
        "from sklearn.pipeline import FeatureUnion, Pipeline\n",
        "from sklearn.compose import ColumnTransformer\n",
        "from sklearn.preprocessing import StandardScaler\n",
        "from sklearn.metrics import accuracy_score\n",
        "import numpy as np\n",
        "import time\n",
        "\n",
        "def cross_validation(mapping_list, df, model, params, vectorizer, split=3):\n",
        "    # split data: train, dev, test\n",
        "    trains, devs, tests = splits(df, split)\n",
        "\n",
        "    param_grid = ParameterGrid(params)\n",
        "    results = {}\n",
        "\n",
        "    for param in param_grid:\n",
        "        iteration = 0\n",
        "        accuracies = []\n",
        "        test_accuracies=[]\n",
        "        print(param)\n",
        "\n",
        "        model.set_params(**param)  # set model parameters\n",
        "        print(model)\n",
        "\n",
        "        for train, dev, test in zip(trains, devs, tests):\n",
        "            start = time.time()\n",
        "            iteration += 1\n",
        "            print(iteration)\n",
        "\n",
        "            # Feature extraction for text\n",
        "            vectorizer.fit(train['text'])\n",
        "            X_train_text = vectorizer.transform(train['text'])\n",
        "            X_dev_text = vectorizer.transform(dev['text'])\n",
        "            X_test_text = vectorizer.transform(test['text'])\n",
        "\n",
        "\n",
        "            # Train the model on the training set\n",
        "            model.fit(X_train_text, train['group'].map(mapping_list))\n",
        "\n",
        "            # Validate the model on the dev set\n",
        "            accuracy = model.score(X_dev_text, dev['group'].map(mapping_list))\n",
        "            accuracies.append(accuracy)\n",
        "\n",
        "            # Evaluate the model on the test set\n",
        "            test_accuracy = model.score(X_test_text, test['group'].map(mapping_list))\n",
        "            test_accuracies.append(test_accuracy)\n",
        "\n",
        "            print(\"Dev Accuracy= \" + str(accuracy))\n",
        "            print(\"Test Accuracy= \" + str(test_accuracy))\n",
        "            print(\"time spent=\" + str((time.time()-start)/60))\n",
        "\n",
        "        results[str(param)] = {\n",
        "            \"model\": model.set_params(**param),\n",
        "            \"vectorizer\": vectorizer,\n",
        "            'dev_mean_accuracy': sum(accuracies) / len(accuracies),\n",
        "            'test_accuracy': sum(test_accuracies) / len(test_accuracies),\n",
        "        }\n",
        "\n",
        "    return results"
      ]
    },
    {
      "cell_type": "code",
      "execution_count": null,
      "metadata": {
        "id": "uo-lbtnVGLSZ"
      },
      "outputs": [],
      "source": [
        "def cross_validation_1group(mapping_list, df, model, params, vectorizer, split=3):\n",
        "    df.keys()\n",
        "    # split data: train, dev, test\n",
        "    trains, devs, tests = splits(df, split)\n",
        "\n",
        "    param_grid = ParameterGrid(params)\n",
        "    results = {}\n",
        "\n",
        "    for param in param_grid:\n",
        "        iteration = 0\n",
        "        accuracies = []\n",
        "        test_accuracies=[]\n",
        "        print(param)\n",
        "\n",
        "        # Train the model on the training set\n",
        "        model.set_params(**param)  # set model parameters\n",
        "        print(model)\n",
        "\n",
        "        for train, dev, test in zip(trains, devs, tests):\n",
        "            start = time.time()\n",
        "            iteration += 1\n",
        "            print(iteration)\n",
        "\n",
        "            # Feature extraction for text\n",
        "            vectorizer.fit(train['text'])\n",
        "            X_train_text = vectorizer.transform(train['text'])\n",
        "            X_dev_text = vectorizer.transform(dev['text'])\n",
        "            X_test_text = vectorizer.transform(test['text'])\n",
        "\n",
        "\n",
        "            model.fit(X_train_text, train['country_code'].map(mapping_list))\n",
        "\n",
        "            # Validate the model on the dev set\n",
        "            accuracy = model.score(X_dev_text, dev['country_code'].map(mapping_list))\n",
        "            accuracies.append(accuracy)\n",
        "\n",
        "            # Evaluate the model on the test set\n",
        "            test_accuracy = model.score(X_test_text, test['country_code'].map(mapping_list))\n",
        "            test_accuracies.append(test_accuracy)\n",
        "\n",
        "            print(\"Dev Accuracy= \" + str(accuracy))\n",
        "            print(\"Test Accuracy= \" + str(test_accuracy))\n",
        "            print(\"time spent=\" + str((time.time()-start)/60))\n",
        "\n",
        "        results[str(param)] = {\n",
        "            \"model\": model.set_params(**param),\n",
        "            \"vectorizer\": vectorizer,\n",
        "            'dev_mean_accuracy': sum(accuracies) / len(accuracies),\n",
        "            'test_accuracy': sum(test_accuracies) / len(test_accuracies),\n",
        "        }\n",
        "\n",
        "    return results"
      ]
    },
    {
      "cell_type": "code",
      "source": [
        "import numpy as np\n",
        "import matplotlib.pyplot as plt\n",
        "from sklearn.model_selection import GridSearchCV\n",
        "from sklearn.model_selection import cross_val_score\n",
        "from sklearn.linear_model import LogisticRegression\n",
        "\n",
        "def plot_grid_search_curve(estimator, X, y, param_grid, title, scoring='accuracy', cv=3):\n",
        "    grid_search = GridSearchCV(estimator, param_grid, scoring=scoring, cv=cv)\n",
        "    grid_search.fit(X, y)\n",
        "\n",
        "    means = grid_search.cv_results_['mean_test_score']\n",
        "    stds = grid_search.cv_results_['std_test_score']\n",
        "    params = grid_search.cv_results_['params']\n",
        "\n",
        "    plt.figure()\n",
        "    plt.title(title)\n",
        "    plt.xlabel(\"Parameter Combinations\")\n",
        "    plt.ylabel(\"Score\")\n",
        "    plt.grid()\n",
        "\n",
        "    xticks = [str(params[i]) for i in range(len(params))]\n",
        "    plt.xticks(rotation=90)\n",
        "\n",
        "    plt.errorbar(range(len(means)), means, yerr=stds, fmt='o-', color=\"g\", label=\"Cross-validation score\")\n",
        "\n",
        "    plt.legend(loc=\"best\")\n",
        "    return plt"
      ],
      "metadata": {
        "id": "3jDR7opIj6c7"
      },
      "execution_count": null,
      "outputs": []
    },
    {
      "cell_type": "markdown",
      "metadata": {
        "id": "cmEy2cvGtN5p"
      },
      "source": [
        "##### save & load model"
      ]
    },
    {
      "cell_type": "code",
      "execution_count": null,
      "metadata": {
        "id": "T840XRVptPzY"
      },
      "outputs": [],
      "source": [
        "import pickle\n",
        "\n",
        "def save_model_vectorizer(model, vectorizer, model_name, vectorizer_name):\n",
        "    pickle.dump(model, open(model_name, 'wb'))\n",
        "    pickle.dump(vectorizer, open(vectorizer_name, 'wb'))"
      ]
    },
    {
      "cell_type": "code",
      "execution_count": null,
      "metadata": {
        "id": "jvvaGw_xtv43"
      },
      "outputs": [],
      "source": [
        "def load(filename):\n",
        "    return  pickle.load(open(filename, 'rb'))"
      ]
    },
    {
      "cell_type": "markdown",
      "metadata": {
        "id": "AIDJ3UEtaH_p"
      },
      "source": [
        "# 5. Cross validation first model M1"
      ]
    },
    {
      "cell_type": "markdown",
      "metadata": {
        "id": "rCBgyf21Quno"
      },
      "source": [
        "## Grids and models"
      ]
    },
    {
      "cell_type": "code",
      "execution_count": null,
      "metadata": {
        "id": "KJ5TlqdCQt_j"
      },
      "outputs": [],
      "source": [
        "lr_model = LogisticRegression()\n",
        "lr_param_grid = {\n",
        "    'penalty': ['l2','elasticnet'],  # Regularization penalty\n",
        "    'C': [0.01, 10],  # Inverse regularization strength (reduced to two values)\n",
        "    'solver': ['saga'],  # Algorithm to use in the optimization problem\n",
        "    'max_iter': [2000],  # Maximum number of iterations (reduced to one value)\n",
        "    'n_jobs': [-1],\n",
        "    'l1_ratio': [0.01, 0.1]\n",
        "}"
      ]
    },
    {
      "cell_type": "markdown",
      "metadata": {
        "id": "iQw4Mbiftsp0"
      },
      "source": [
        "##LogisticRegression\n",
        "\n"
      ]
    },
    {
      "cell_type": "markdown",
      "source": [
        "#### Grid sarech"
      ],
      "metadata": {
        "id": "3QWZYfSgZzRA"
      }
    },
    {
      "cell_type": "code",
      "source": [
        "# X = vectorizers['vectorizer_BOW_bigram'].fit_transform(df['text'])\n",
        "# y = df['group'].map(groups_mapping)"
      ],
      "metadata": {
        "id": "Oq_FAfzVlt3u"
      },
      "execution_count": null,
      "outputs": []
    },
    {
      "cell_type": "code",
      "source": [
        "# plot_grid_search_curve(lr_model, X, y, lr_param_grid, \"Logistic Regression Grid search Cross Validation Curve\", scoring='accuracy', cv=2)\n",
        "# plt.show()"
      ],
      "metadata": {
        "id": "qDnCzTpHlqWM"
      },
      "execution_count": null,
      "outputs": []
    },
    {
      "cell_type": "markdown",
      "source": [
        "#### cross"
      ],
      "metadata": {
        "id": "hPi6yEBMZzVC"
      }
    },
    {
      "cell_type": "code",
      "execution_count": null,
      "metadata": {
        "id": "ca_LE82i60Sm",
        "colab": {
          "base_uri": "https://localhost:8080/"
        },
        "outputId": "44027705-bf9e-4cd9-ad0c-ac3c137021cf"
      },
      "outputs": [
        {
          "output_type": "stream",
          "name": "stdout",
          "text": [
            "{'C': 0.01, 'l1_ratio': 0.01, 'max_iter': 2000, 'n_jobs': -1, 'penalty': 'l2', 'solver': 'saga'}\n",
            "LogisticRegression(C=0.01, l1_ratio=0.01, max_iter=2000, n_jobs=-1,\n",
            "                   solver='saga')\n",
            "1\n"
          ]
        },
        {
          "output_type": "stream",
          "name": "stderr",
          "text": [
            "/usr/local/lib/python3.10/dist-packages/sklearn/linear_model/_logistic.py:1165: UserWarning: l1_ratio parameter is only used when penalty is 'elasticnet'. Got (penalty=l2)\n",
            "  warnings.warn(\n"
          ]
        },
        {
          "output_type": "stream",
          "name": "stdout",
          "text": [
            "Dev Accuracy= 0.83\n",
            "Test Accuracy= 0.825\n",
            "time spent=2.463172805309296\n",
            "2\n"
          ]
        },
        {
          "output_type": "stream",
          "name": "stderr",
          "text": [
            "/usr/local/lib/python3.10/dist-packages/sklearn/linear_model/_logistic.py:1165: UserWarning: l1_ratio parameter is only used when penalty is 'elasticnet'. Got (penalty=l2)\n",
            "  warnings.warn(\n"
          ]
        },
        {
          "output_type": "stream",
          "name": "stdout",
          "text": [
            "Dev Accuracy= 0.8\n",
            "Test Accuracy= 0.82\n",
            "time spent=1.9034225821495057\n",
            "{'C': 0.01, 'l1_ratio': 0.01, 'max_iter': 2000, 'n_jobs': -1, 'penalty': 'elasticnet', 'solver': 'saga'}\n",
            "LogisticRegression(C=0.01, l1_ratio=0.01, max_iter=2000, n_jobs=-1,\n",
            "                   penalty='elasticnet', solver='saga')\n",
            "1\n",
            "Dev Accuracy= 0.8425\n",
            "Test Accuracy= 0.825\n",
            "time spent=15.32566233476003\n",
            "2\n",
            "Dev Accuracy= 0.815\n",
            "Test Accuracy= 0.8275\n",
            "time spent=14.590993177890777\n",
            "{'C': 0.01, 'l1_ratio': 0.1, 'max_iter': 2000, 'n_jobs': -1, 'penalty': 'l2', 'solver': 'saga'}\n",
            "LogisticRegression(C=0.01, l1_ratio=0.1, max_iter=2000, n_jobs=-1,\n",
            "                   solver='saga')\n",
            "1\n"
          ]
        },
        {
          "output_type": "stream",
          "name": "stderr",
          "text": [
            "/usr/local/lib/python3.10/dist-packages/sklearn/linear_model/_logistic.py:1165: UserWarning: l1_ratio parameter is only used when penalty is 'elasticnet'. Got (penalty=l2)\n",
            "  warnings.warn(\n"
          ]
        },
        {
          "output_type": "stream",
          "name": "stdout",
          "text": [
            "Dev Accuracy= 0.8325\n",
            "Test Accuracy= 0.825\n",
            "time spent=2.114786728223165\n",
            "2\n"
          ]
        },
        {
          "output_type": "stream",
          "name": "stderr",
          "text": [
            "/usr/local/lib/python3.10/dist-packages/sklearn/linear_model/_logistic.py:1165: UserWarning: l1_ratio parameter is only used when penalty is 'elasticnet'. Got (penalty=l2)\n",
            "  warnings.warn(\n"
          ]
        },
        {
          "output_type": "stream",
          "name": "stdout",
          "text": [
            "Dev Accuracy= 0.8\n",
            "Test Accuracy= 0.82\n",
            "time spent=1.9540027817090353\n",
            "{'C': 0.01, 'l1_ratio': 0.1, 'max_iter': 2000, 'n_jobs': -1, 'penalty': 'elasticnet', 'solver': 'saga'}\n",
            "LogisticRegression(C=0.01, l1_ratio=0.1, max_iter=2000, n_jobs=-1,\n",
            "                   penalty='elasticnet', solver='saga')\n",
            "1\n",
            "Dev Accuracy= 0.7925\n",
            "Test Accuracy= 0.8\n",
            "time spent=6.135742755730947\n",
            "2\n",
            "Dev Accuracy= 0.77\n",
            "Test Accuracy= 0.78\n",
            "time spent=5.6530538161595665\n",
            "{'C': 10, 'l1_ratio': 0.01, 'max_iter': 2000, 'n_jobs': -1, 'penalty': 'l2', 'solver': 'saga'}\n",
            "LogisticRegression(C=10, l1_ratio=0.01, max_iter=2000, n_jobs=-1, solver='saga')\n",
            "1\n"
          ]
        },
        {
          "output_type": "stream",
          "name": "stderr",
          "text": [
            "/usr/local/lib/python3.10/dist-packages/sklearn/linear_model/_logistic.py:1165: UserWarning: l1_ratio parameter is only used when penalty is 'elasticnet'. Got (penalty=l2)\n",
            "  warnings.warn(\n"
          ]
        },
        {
          "output_type": "stream",
          "name": "stdout",
          "text": [
            "Dev Accuracy= 0.8625\n",
            "Test Accuracy= 0.84\n",
            "time spent=16.203991866111757\n",
            "2\n"
          ]
        },
        {
          "output_type": "stream",
          "name": "stderr",
          "text": [
            "/usr/local/lib/python3.10/dist-packages/sklearn/linear_model/_logistic.py:1165: UserWarning: l1_ratio parameter is only used when penalty is 'elasticnet'. Got (penalty=l2)\n",
            "  warnings.warn(\n"
          ]
        }
      ],
      "source": [
        "results = cross_validation(groups_mapping, groups_df, lr_model, lr_param_grid, vectorizers['vectorizer_BOW_bigram'], 2)"
      ]
    },
    {
      "cell_type": "code",
      "execution_count": null,
      "metadata": {
        "id": "uFbOGYlRDBbx"
      },
      "outputs": [],
      "source": [
        "results"
      ]
    },
    {
      "cell_type": "code",
      "source": [
        "# Resultas de la cross validation\n"
      ],
      "metadata": {
        "id": "1gfCIyxq17o4"
      },
      "execution_count": null,
      "outputs": []
    },
    {
      "cell_type": "code",
      "execution_count": null,
      "metadata": {
        "id": "NAzDrpvOqjeJ"
      },
      "outputs": [],
      "source": [
        "# Find the key with the best test accuracy\n",
        "best_accuracy_key = max(results, key=lambda key: results[key]['test_accuracy'])\n",
        "print(\"Key with best test accuracy:\", best_accuracy_key)"
      ]
    },
    {
      "cell_type": "code",
      "execution_count": null,
      "metadata": {
        "id": "_shNpaI4LEVp"
      },
      "outputs": [],
      "source": [
        "results[best_accuracy_key][\"test_accuracy\"]"
      ]
    },
    {
      "cell_type": "code",
      "execution_count": null,
      "metadata": {
        "id": "Ufn86z94TInG"
      },
      "outputs": [],
      "source": [
        "# cross validation model\n",
        "M1 = results[best_accuracy_key][\"model\"]\n",
        "V1 = results[best_accuracy_key][\"vectorizer\"]"
      ]
    },
    {
      "cell_type": "code",
      "execution_count": null,
      "metadata": {
        "id": "QVhldsE9srqE"
      },
      "outputs": [],
      "source": [
        "save_model_vectorizer(M1, V1, \"M1.sav\", \"V1.pkl\")"
      ]
    },
    {
      "cell_type": "markdown",
      "metadata": {
        "id": "Ob8zvhKQRqQ_"
      },
      "source": [
        "# Cross validation specialized model M2"
      ]
    },
    {
      "cell_type": "markdown",
      "metadata": {
        "id": "9H3y56uYvSGt"
      },
      "source": [
        "## Utils"
      ]
    },
    {
      "cell_type": "markdown",
      "metadata": {
        "id": "t8_tqtHNxVIR"
      },
      "source": [
        "#### extract groups"
      ]
    },
    {
      "cell_type": "code",
      "execution_count": null,
      "metadata": {
        "id": "TxyeEUWxvUZt"
      },
      "outputs": [],
      "source": [
        "def extract_group(df, group):\n",
        "  return df[df['group'] == group]"
      ]
    },
    {
      "cell_type": "markdown",
      "metadata": {
        "id": "e5l55Ex_xYN9"
      },
      "source": [
        "### mapping country"
      ]
    },
    {
      "cell_type": "code",
      "execution_count": null,
      "metadata": {
        "id": "xc4DlNzuvq2A"
      },
      "outputs": [],
      "source": [
        "def mapping(df, mapping):\n",
        "  df['country_code'].map(mapping)"
      ]
    },
    {
      "cell_type": "markdown",
      "source": [
        "#### create data frame for each group"
      ],
      "metadata": {
        "id": "pTJR8nuLtfXM"
      }
    },
    {
      "cell_type": "code",
      "execution_count": null,
      "metadata": {
        "id": "QBQ6jiWyy8uI"
      },
      "outputs": [],
      "source": [
        "df_g1 = extract_group(df, 'HIN+TEL')"
      ]
    },
    {
      "cell_type": "code",
      "execution_count": null,
      "metadata": {
        "id": "AHHi-bfwzVLz"
      },
      "outputs": [],
      "source": [
        "df_g1"
      ]
    },
    {
      "cell_type": "code",
      "execution_count": null,
      "metadata": {
        "id": "RIsmNFUF2AfR"
      },
      "outputs": [],
      "source": [
        "df_g2 = extract_group(df,'KOR+CHI+JPN')"
      ]
    },
    {
      "cell_type": "code",
      "execution_count": null,
      "metadata": {
        "id": "KYBVaLCO2AfR"
      },
      "outputs": [],
      "source": [
        "df_g2.head()"
      ]
    },
    {
      "cell_type": "code",
      "execution_count": null,
      "metadata": {
        "id": "AB-99GMT2BhS"
      },
      "outputs": [],
      "source": [
        "df_g3 = extract_group(df, 'FRE+SPA+ITA+GER')"
      ]
    },
    {
      "cell_type": "markdown",
      "metadata": {
        "id": "_S6eJA-OH2UW"
      },
      "source": [
        "## Model for  Groupe 1 HIN+TEL without other\n"
      ]
    },
    {
      "cell_type": "markdown",
      "metadata": {
        "id": "cSzzgV4jySo_"
      },
      "source": [
        "#### train"
      ]
    },
    {
      "cell_type": "code",
      "execution_count": null,
      "metadata": {
        "id": "71LYwKL2yeQO"
      },
      "outputs": [],
      "source": [
        "models_g1 = {}\n",
        "mapping_list1 = {'HIN':0,'TEL':1}\n",
        "train_1_group(mapping_list1, df_g1, models_g1) # mapping is done here"
      ]
    },
    {
      "cell_type": "markdown",
      "metadata": {
        "id": "qmp8_9U5yelB"
      },
      "source": [
        "### cross"
      ]
    },
    {
      "cell_type": "code",
      "execution_count": null,
      "metadata": {
        "id": "j0NldC_p57eI"
      },
      "outputs": [],
      "source": [
        "dict_df1 = create_1_group_dataframes(balanced_df, {'HIN', 'TEL'})"
      ]
    },
    {
      "cell_type": "code",
      "execution_count": null,
      "metadata": {
        "id": "r1tjWmD2MzR-"
      },
      "outputs": [],
      "source": [
        "results = cross_validation_1group(mapping_list1, dict_df1, lr_model, lr_param_grid, vectorizers['vectorizer_BOW_bigram'], 2)"
      ]
    },
    {
      "cell_type": "code",
      "execution_count": null,
      "metadata": {
        "id": "Wt77YTSbSAS3"
      },
      "outputs": [],
      "source": [
        "best_accuracy_key = best(results)"
      ]
    },
    {
      "cell_type": "code",
      "execution_count": null,
      "metadata": {
        "id": "Yqo3u5qYMUZH"
      },
      "outputs": [],
      "source": [
        "best_accuracy_key"
      ]
    },
    {
      "cell_type": "code",
      "execution_count": null,
      "metadata": {
        "id": "XSx7YxlGL-8H"
      },
      "outputs": [],
      "source": [
        "results[best_accuracy_key]"
      ]
    },
    {
      "cell_type": "code",
      "execution_count": null,
      "metadata": {
        "id": "32aZjVJ26Zb-"
      },
      "outputs": [],
      "source": [
        "best_accuracy_key = best(results)\n",
        "# cross validation model\n",
        "M_G1 = results[best_accuracy_key][\"model\"]\n",
        "V_G1 = results[best_accuracy_key][\"vectorizer\"]\n",
        "save_model_vectorizer(M_G1, V_G1, \"M_G1.sav\", \"V_G1.pkl\")"
      ]
    },
    {
      "cell_type": "code",
      "execution_count": null,
      "metadata": {
        "id": "hwDhHez82CGH"
      },
      "outputs": [],
      "source": [
        "df_g4 = extract_group(df, 'ARA+TUR')"
      ]
    },
    {
      "cell_type": "markdown",
      "metadata": {
        "id": "qqRntClE2AfQ"
      },
      "source": [
        "## Model for  Groupe 2 'KOR+CHI+JPN' without other\n"
      ]
    },
    {
      "cell_type": "markdown",
      "metadata": {
        "id": "xEyaqUD02AfR"
      },
      "source": [
        "#### train"
      ]
    },
    {
      "cell_type": "code",
      "execution_count": null,
      "metadata": {
        "id": "L6wYmwuc2AfR"
      },
      "outputs": [],
      "source": [
        "models_g2 = {}\n",
        "mapping_list2 = {'KOR':0, 'CHI':1, 'JPN':2}\n",
        "train_1_group(mapping_list2, df_g2, models_g2) # mapping is done here"
      ]
    },
    {
      "cell_type": "markdown",
      "metadata": {
        "id": "nGQ_xdyr2AfR"
      },
      "source": [
        "### cross"
      ]
    },
    {
      "cell_type": "code",
      "execution_count": null,
      "metadata": {
        "id": "QHT0dBVY6Cnw"
      },
      "outputs": [],
      "source": [
        "dict_df2 = create_1_group_dataframes(balanced_df, {'KOR', 'CHI', \"JPN\"})"
      ]
    },
    {
      "cell_type": "code",
      "execution_count": null,
      "metadata": {
        "id": "ii_Uq_m52AfS"
      },
      "outputs": [],
      "source": [
        "results = cross_validation_1group(mapping_list2, dict_df2, lr_model, lr_param_grid, vectorizers['vectorizer_BOW_bigram'], 2)"
      ]
    },
    {
      "cell_type": "code",
      "execution_count": null,
      "metadata": {
        "id": "AEF_Pe6GR-xS"
      },
      "outputs": [],
      "source": [
        "best_accuracy_key = best(results)"
      ]
    },
    {
      "cell_type": "code",
      "execution_count": null,
      "metadata": {
        "id": "BFoachupN7hF"
      },
      "outputs": [],
      "source": [
        "best_accuracy_key"
      ]
    },
    {
      "cell_type": "code",
      "execution_count": null,
      "metadata": {
        "id": "BCZlIpGcN6cK"
      },
      "outputs": [],
      "source": [
        "results[best_accuracy_key]"
      ]
    },
    {
      "cell_type": "code",
      "execution_count": null,
      "metadata": {
        "id": "hBWRadu96zGD"
      },
      "outputs": [],
      "source": [
        "# cross validation model\n",
        "M_G2 = results[best_accuracy_key][\"model\"]\n",
        "V_G2 = results[best_accuracy_key][\"vectorizer\"]\n",
        "save_model_vectorizer(M_G2, V_G1, \"M_G2.sav\", \"V_G2.pkl\")"
      ]
    },
    {
      "cell_type": "code",
      "execution_count": null,
      "metadata": {
        "id": "4VxVJuc_MJNb"
      },
      "outputs": [],
      "source": [
        "results[best_accuracy_key]['test_accuracy']"
      ]
    },
    {
      "cell_type": "markdown",
      "metadata": {
        "id": "z2HYGgq12BhJ"
      },
      "source": [
        "## Model for  Groupe 3 'FRE+SPA+ITA+'GER' without other\n",
        "\n"
      ]
    },
    {
      "cell_type": "code",
      "execution_count": null,
      "metadata": {
        "id": "WwWro_Sq2BhS"
      },
      "outputs": [],
      "source": [
        "df_g3.head()"
      ]
    },
    {
      "cell_type": "markdown",
      "metadata": {
        "id": "DoEWHDQA2BhS"
      },
      "source": [
        "#### train"
      ]
    },
    {
      "cell_type": "code",
      "execution_count": null,
      "metadata": {
        "id": "Py2IpWK82BhS"
      },
      "outputs": [],
      "source": [
        "models_g3 = {}\n",
        "mapping_list3 = {'FRE':0,'SPA':1,'ITA':2, 'GER':3 }\n",
        "train_1_group(mapping_list3, df_g3, models_g3) # mapping is done here"
      ]
    },
    {
      "cell_type": "markdown",
      "metadata": {
        "id": "xVk2-faC2BhT"
      },
      "source": [
        "### cross"
      ]
    },
    {
      "cell_type": "code",
      "execution_count": null,
      "metadata": {
        "id": "iQyqPxvg6K9c"
      },
      "outputs": [],
      "source": [
        "dict_df3 = create_1_group_dataframes(balanced_df, {'FRE', 'SPA', \"ITA\", \"GER\"})"
      ]
    },
    {
      "cell_type": "code",
      "execution_count": null,
      "metadata": {
        "id": "jwOxd2wy2BhT"
      },
      "outputs": [],
      "source": [
        "results = cross_validation_1group(mapping_list3, dict_df3, lr_model, lr_param_grid, vectorizers['vectorizer_BOW_bigram'], 2)"
      ]
    },
    {
      "cell_type": "code",
      "execution_count": null,
      "metadata": {
        "id": "0KaebVe6SIyN"
      },
      "outputs": [],
      "source": [
        "best_accuracy_key = best(results)"
      ]
    },
    {
      "cell_type": "code",
      "execution_count": null,
      "metadata": {
        "id": "uJwG9UN5N-1c"
      },
      "outputs": [],
      "source": [
        "best_accuracy_key"
      ]
    },
    {
      "cell_type": "code",
      "execution_count": null,
      "metadata": {
        "id": "SLqHef7lOB22"
      },
      "outputs": [],
      "source": [
        "results[best_accuracy_key]"
      ]
    },
    {
      "cell_type": "code",
      "execution_count": null,
      "metadata": {
        "id": "vLN7qZzk649P"
      },
      "outputs": [],
      "source": [
        "# cross validation model\n",
        "M_G3 = results[best_accuracy_key][\"model\"]\n",
        "V_G3 = results[best_accuracy_key][\"vectorizer\"]\n",
        "save_model_vectorizer(M_G3, V_G3, \"M_G3.sav\", \"V_G3.pkl\")"
      ]
    },
    {
      "cell_type": "code",
      "execution_count": null,
      "metadata": {
        "id": "8tpR7WcjMMWk"
      },
      "outputs": [],
      "source": [
        "results[best_accuracy_key]['test_accuracy']"
      ]
    },
    {
      "cell_type": "markdown",
      "metadata": {
        "id": "tJH0lBBF2CGH"
      },
      "source": [
        "## Model for  Groupe 4 ARA+TUR without other"
      ]
    },
    {
      "cell_type": "code",
      "execution_count": null,
      "metadata": {
        "id": "HCHCqp9x2CGH"
      },
      "outputs": [],
      "source": [
        "df_g4.head()"
      ]
    },
    {
      "cell_type": "markdown",
      "metadata": {
        "id": "mDwvT4Xn2CGH"
      },
      "source": [
        "#### train"
      ]
    },
    {
      "cell_type": "code",
      "execution_count": null,
      "metadata": {
        "id": "ImLt9QUS2CGI"
      },
      "outputs": [],
      "source": [
        "models_g4 = {}\n",
        "mapping_list4 = {'ARA':0,'TUR':1}\n",
        "train_1_group(mapping_list4, df_g4, models_g4) # mapping is done here"
      ]
    },
    {
      "cell_type": "markdown",
      "metadata": {
        "id": "jKDBNnh_2CGI"
      },
      "source": [
        "### cross"
      ]
    },
    {
      "cell_type": "code",
      "execution_count": null,
      "metadata": {
        "id": "gaKsWfHv6Sad"
      },
      "outputs": [],
      "source": [
        "dict_df4 = create_1_group_dataframes(balanced_df, {'ARA', 'TUR'})"
      ]
    },
    {
      "cell_type": "code",
      "execution_count": null,
      "metadata": {
        "id": "IZ40pIggq_Hi"
      },
      "outputs": [],
      "source": [
        "dict_df4"
      ]
    },
    {
      "cell_type": "code",
      "execution_count": null,
      "metadata": {
        "id": "GFqCIGmS2CGI"
      },
      "outputs": [],
      "source": [
        "results = cross_validation_1group(mapping_list4, dict_df4, lr_model, lr_param_grid, vectorizers['vectorizer_BOW_bigram'], 2)"
      ]
    },
    {
      "cell_type": "code",
      "execution_count": null,
      "metadata": {
        "id": "-pmQE0tPRteM"
      },
      "outputs": [],
      "source": [
        "best_accuracy_key = best(results)"
      ]
    },
    {
      "cell_type": "code",
      "execution_count": null,
      "metadata": {
        "id": "9dc6b5tYOD8n"
      },
      "outputs": [],
      "source": [
        "best_accuracy_key"
      ]
    },
    {
      "cell_type": "code",
      "execution_count": null,
      "metadata": {
        "id": "NVjpuqRwOK3F"
      },
      "outputs": [],
      "source": [
        "results"
      ]
    },
    {
      "cell_type": "code",
      "execution_count": null,
      "metadata": {
        "id": "4P-t1tS-ODbv"
      },
      "outputs": [],
      "source": [
        "results[best_accuracy_key]"
      ]
    },
    {
      "cell_type": "code",
      "execution_count": null,
      "metadata": {
        "id": "BOT7tS396_JA"
      },
      "outputs": [],
      "source": [
        "# cross validation model\n",
        "M_G4 = results[best_accuracy_key][\"model\"]\n",
        "V_G4 = results[best_accuracy_key][\"vectorizer\"]\n",
        "save_model_vectorizer(M_G4, V_G4, \"M_G4.sav\", \"V_G4.pkl\")"
      ]
    },
    {
      "cell_type": "code",
      "execution_count": null,
      "metadata": {
        "id": "3Ac0eLsOLYcl"
      },
      "outputs": [],
      "source": [
        "results"
      ]
    },
    {
      "cell_type": "markdown",
      "metadata": {
        "id": "BcFvSEPcLSV2"
      },
      "source": [
        "# Other"
      ]
    },
    {
      "cell_type": "markdown",
      "metadata": {
        "id": "JLKbh0kyMH1V"
      },
      "source": [
        "## Utils"
      ]
    },
    {
      "cell_type": "code",
      "execution_count": null,
      "metadata": {
        "id": "RkUVBQw9LUE3"
      },
      "outputs": [],
      "source": [
        "label_dataframes.keys()"
      ]
    },
    {
      "cell_type": "code",
      "execution_count": null,
      "metadata": {
        "id": "wHMsY7mxLtMJ"
      },
      "outputs": [],
      "source": [
        "def get_others(label_dataframes, labels_to_skip, size):\n",
        "  keys_count = 11 - len(labels_to_skip)\n",
        "  items_count_per_key = int(size / keys_count)\n",
        "  others = []\n",
        "  for key in label_dataframes.keys():\n",
        "    if key  in labels_to_skip:\n",
        "      continue\n",
        "    # Extract text from the DataFrame and replace country_code with \"other\"\n",
        "    df = label_dataframes[key].copy()  # Make a copy to avoid modifying the original DataFrame\n",
        "    df['country_code'] = 'other'\n",
        "    # Extract first items_count_per_key rows\n",
        "    df = df.iloc[:items_count_per_key]\n",
        "    # Append the DataFrame to the list\n",
        "    others.append(df)\n",
        "  # Concatenate all DataFrames in the list along the rows\n",
        "  result_df = pd.concat(others, ignore_index=True)\n",
        "  return result_df\n"
      ]
    },
    {
      "cell_type": "markdown",
      "metadata": {
        "id": "nO5SIyQBhkn1"
      },
      "source": [
        "## Model for  Groupe 1 HIN+TEL"
      ]
    },
    {
      "cell_type": "code",
      "execution_count": null,
      "metadata": {
        "id": "PAa_vxugU_bV"
      },
      "outputs": [],
      "source": [
        "df_g1.head()"
      ]
    },
    {
      "cell_type": "code",
      "execution_count": null,
      "metadata": {
        "id": "MS37v_UZXECQ"
      },
      "outputs": [],
      "source": [
        "labels_to_skip = ['HIN', 'TEL']  # List of labels to skip\n",
        "others_df = get_others(label_dataframes, labels_to_skip, 800)"
      ]
    },
    {
      "cell_type": "code",
      "execution_count": null,
      "metadata": {
        "id": "6F6Myr9xX803"
      },
      "outputs": [],
      "source": [
        "concatenated_df1 = pd.concat([df_g1, others_df], ignore_index=True)"
      ]
    },
    {
      "cell_type": "code",
      "execution_count": null,
      "metadata": {
        "id": "6q1U7aSUh5iw"
      },
      "outputs": [],
      "source": [
        "mapping_list1_other = {'HIN':0,'TEL':1, \"other\":2}"
      ]
    },
    {
      "cell_type": "markdown",
      "metadata": {
        "id": "VvxML8ygiSyP"
      },
      "source": [
        "### train"
      ]
    },
    {
      "cell_type": "code",
      "execution_count": null,
      "metadata": {
        "id": "9IjpDpjjiaCU"
      },
      "outputs": [],
      "source": [
        "train_1_group(mapping_list1_other, concatenated_df1, {}) # mapping is done here"
      ]
    },
    {
      "cell_type": "markdown",
      "metadata": {
        "id": "YgQNOguTiS2F"
      },
      "source": [
        "### cross"
      ]
    },
    {
      "cell_type": "code",
      "source": [
        "concatenated_df1"
      ],
      "metadata": {
        "id": "yrPaNQgPKNbs"
      },
      "execution_count": null,
      "outputs": []
    },
    {
      "cell_type": "code",
      "source": [
        "# Define the order of country labels\n",
        "country_labels = ['HIN', 'TEL', 'other']\n",
        "\n",
        "# Call the function with a list instead of a set\n",
        "dict_df1_other = create_1_group_dataframes(concatenated_df1, country_labels)\n",
        "\n",
        "# Count the number of items for each country code\n",
        "counts_dict = {label: len(dict_df1_other[label]) for label in country_labels}\n",
        "\n",
        "print(counts_dict)\n"
      ],
      "metadata": {
        "id": "oAFaVwudJa3f"
      },
      "execution_count": null,
      "outputs": []
    },
    {
      "cell_type": "code",
      "execution_count": null,
      "metadata": {
        "id": "ZwuaGZshiI6F"
      },
      "outputs": [],
      "source": [
        "results = cross_validation_1group(mapping_list1_other, dict_df1_other, lr_model, lr_param_grid, vectorizers['vectorizer_TF_IDF'], 2)"
      ]
    },
    {
      "cell_type": "code",
      "execution_count": null,
      "metadata": {
        "id": "uQ4F5pwDh44P"
      },
      "outputs": [],
      "source": [
        "best_accuracy_key = best(results)"
      ]
    },
    {
      "cell_type": "code",
      "execution_count": null,
      "metadata": {
        "id": "H69HCQ_Ji2NB"
      },
      "outputs": [],
      "source": [
        "results[best_accuracy_key]"
      ]
    },
    {
      "cell_type": "code",
      "execution_count": null,
      "metadata": {
        "id": "tTuZsErbi4hW"
      },
      "outputs": [],
      "source": [
        "# cross validation model\n",
        "M2_G1 = results[best_accuracy_key][\"model\"]\n",
        "V2_G1 = results[best_accuracy_key][\"vectorizer\"]\n",
        "save_model_vectorizer(M2_G1, V2_G1, \"M2_G1.sav\", \"V2_G1.pkl\")"
      ]
    },
    {
      "cell_type": "markdown",
      "metadata": {
        "id": "NuEvbuCqltHO"
      },
      "source": [
        "## Model for  Groupe 2 KOR+JPN+CHI"
      ]
    },
    {
      "cell_type": "code",
      "execution_count": null,
      "metadata": {
        "id": "exOrEcKHltHa"
      },
      "outputs": [],
      "source": [
        "df_g2.head()"
      ]
    },
    {
      "cell_type": "code",
      "execution_count": null,
      "metadata": {
        "id": "u8ve46tnltHa"
      },
      "outputs": [],
      "source": [
        "labels_to_skip = ['KOR', 'CHI', 'JPN']  # List of labels to skip\n",
        "others_df = get_others(label_dataframes, labels_to_skip, 800)"
      ]
    },
    {
      "cell_type": "code",
      "execution_count": null,
      "metadata": {
        "id": "0-QrAKNMltHa"
      },
      "outputs": [],
      "source": [
        "concatenated_df2 = pd.concat([df_g2, others_df], ignore_index=True)"
      ]
    },
    {
      "cell_type": "code",
      "execution_count": null,
      "metadata": {
        "id": "TQABtzKqoeH1"
      },
      "outputs": [],
      "source": [
        "concatenated_df2"
      ]
    },
    {
      "cell_type": "code",
      "execution_count": null,
      "metadata": {
        "id": "yIVYsH2EltHb"
      },
      "outputs": [],
      "source": [
        "mapping_list2_other = {'KOR':0, 'CHI':1, 'JPN':2, 'other':3}"
      ]
    },
    {
      "cell_type": "markdown",
      "metadata": {
        "id": "X__wqFjzltHb"
      },
      "source": [
        "### train"
      ]
    },
    {
      "cell_type": "code",
      "execution_count": null,
      "metadata": {
        "id": "wbOg3mYkltHb"
      },
      "outputs": [],
      "source": [
        "train_1_group(mapping_list2_other, concatenated_df2, {}) # mapping is done here"
      ]
    },
    {
      "cell_type": "markdown",
      "metadata": {
        "id": "ZPVpsLfcltHb"
      },
      "source": [
        "### cross"
      ]
    },
    {
      "cell_type": "code",
      "execution_count": null,
      "metadata": {
        "id": "TZXyXtyEltHb"
      },
      "outputs": [],
      "source": [
        "# Define the order of country labels\n",
        "country_labels = ['KOR','CHI', 'JPN','other']\n",
        "\n",
        "# Call the function with a list instead of a set\n",
        "dict_df2_other = create_1_group_dataframes(concatenated_df2, country_labels)\n",
        "\n",
        "# Count the number of items for each country code\n",
        "counts_dict = {label: len(dict_df2_other[label]) for label in country_labels}\n",
        "\n",
        "print(counts_dict)"
      ]
    },
    {
      "cell_type": "code",
      "source": [
        "dict_df2_other['other']['group'].unique()"
      ],
      "metadata": {
        "id": "8naIxEQ1WL5S"
      },
      "execution_count": null,
      "outputs": []
    },
    {
      "cell_type": "code",
      "execution_count": null,
      "metadata": {
        "id": "FUZ1mU5iltHb"
      },
      "outputs": [],
      "source": [
        "dict_df2_other.keys()"
      ]
    },
    {
      "cell_type": "code",
      "execution_count": null,
      "metadata": {
        "id": "-j8W0gM2ltHc"
      },
      "outputs": [],
      "source": [
        "results = cross_validation_1group(mapping_list2_other, dict_df2_other, lr_model, lr_param_grid, vectorizers['vectorizer_BOW_bigram'], 2)"
      ]
    },
    {
      "cell_type": "code",
      "execution_count": null,
      "metadata": {
        "id": "VZppm0OAltHc"
      },
      "outputs": [],
      "source": [
        "best_accuracy_key = best(results)"
      ]
    },
    {
      "cell_type": "code",
      "execution_count": null,
      "metadata": {
        "id": "Xwfq9SxMltHc"
      },
      "outputs": [],
      "source": [
        "results[best_accuracy_key]"
      ]
    },
    {
      "cell_type": "code",
      "execution_count": null,
      "metadata": {
        "id": "9JVgjJh9ltHc"
      },
      "outputs": [],
      "source": [
        "# cross validation model\n",
        "M2_G2 = results[best_accuracy_key][\"model\"]\n",
        "V2_G2 = results[best_accuracy_key][\"vectorizer\"]\n",
        "save_model_vectorizer(M2_G2, V2_G2, \"M2_G2.sav\", \"V2_G2.pkl\")"
      ]
    },
    {
      "cell_type": "markdown",
      "metadata": {
        "id": "uTnngos5ltQt"
      },
      "source": [
        "\n",
        "## Model for  Groupe 3 'FRE+SPA+ITA+'GER'\n"
      ]
    },
    {
      "cell_type": "code",
      "execution_count": null,
      "metadata": {
        "id": "qfFOT-jIltQt"
      },
      "outputs": [],
      "source": [
        "df_g3.head()"
      ]
    },
    {
      "cell_type": "code",
      "execution_count": null,
      "metadata": {
        "id": "tZ58aPiUltQt"
      },
      "outputs": [],
      "source": [
        "labels_to_skip = ['FRE', 'SPA', 'ITA', 'GER']  # List of labels to skip\n",
        "others_df = get_others(label_dataframes, labels_to_skip, 800)"
      ]
    },
    {
      "cell_type": "code",
      "execution_count": null,
      "metadata": {
        "id": "4pCbG0KJltQt"
      },
      "outputs": [],
      "source": [
        "concatenated_df3 = pd.concat([df_g3, others_df], ignore_index=True)"
      ]
    },
    {
      "cell_type": "code",
      "execution_count": null,
      "metadata": {
        "id": "fF7ZwfssltQu"
      },
      "outputs": [],
      "source": [
        "mapping_list3_other = {'FRE':0,'SPA':1,'ITA':2, 'GER':3, 'other':4 }\n"
      ]
    },
    {
      "cell_type": "markdown",
      "metadata": {
        "id": "3JQi6JGeltQu"
      },
      "source": [
        "### train"
      ]
    },
    {
      "cell_type": "code",
      "execution_count": null,
      "metadata": {
        "id": "M5qQKJvIltQu"
      },
      "outputs": [],
      "source": [
        "train_1_group(mapping_list3_other, concatenated_df3, {}) # mapping is done here"
      ]
    },
    {
      "cell_type": "markdown",
      "metadata": {
        "id": "OVcu_blxltQu"
      },
      "source": [
        "### cross"
      ]
    },
    {
      "cell_type": "code",
      "execution_count": null,
      "metadata": {
        "id": "YMnnEN8IltQu"
      },
      "outputs": [],
      "source": [
        "# Define the order of country labels\n",
        "country_labels = ['FRE', 'SPA', 'ITA', 'GER', 'other']\n",
        "\n",
        "# Call the function with a list instead of a set\n",
        "dict_df3_other = create_1_group_dataframes(concatenated_df3, country_labels)\n",
        "\n",
        "# Count the number of items for each country code\n",
        "counts_dict = {label: len(dict_df3_other[label]) for label in country_labels}\n",
        "\n",
        "print(counts_dict)"
      ]
    },
    {
      "cell_type": "code",
      "execution_count": null,
      "metadata": {
        "id": "_bTPKakkltQu"
      },
      "outputs": [],
      "source": [
        "dict_df3_other.keys()"
      ]
    },
    {
      "cell_type": "code",
      "execution_count": null,
      "metadata": {
        "id": "SO62_v39ltQu"
      },
      "outputs": [],
      "source": [
        "results = cross_validation_1group(mapping_list3_other, dict_df3_other, lr_model, lr_param_grid, vectorizers['vectorizer_BOW_bigram'], 2)"
      ]
    },
    {
      "cell_type": "code",
      "execution_count": null,
      "metadata": {
        "id": "euG82-_7ltQv"
      },
      "outputs": [],
      "source": [
        "best_accuracy_key = best(results)"
      ]
    },
    {
      "cell_type": "code",
      "execution_count": null,
      "metadata": {
        "id": "gcYYXarjltQv"
      },
      "outputs": [],
      "source": [
        "results[best_accuracy_key]"
      ]
    },
    {
      "cell_type": "code",
      "execution_count": null,
      "metadata": {
        "id": "atL7hsgmltQv"
      },
      "outputs": [],
      "source": [
        "# cross validation model\n",
        "M2_G3 = results[best_accuracy_key][\"model\"]\n",
        "V2_G3 = results[best_accuracy_key][\"vectorizer\"]\n",
        "save_model_vectorizer(M2_G3, V2_G3, \"M2_G3.sav\", \"V2_G3.pkl\")"
      ]
    },
    {
      "cell_type": "markdown",
      "metadata": {
        "id": "m47FccwKltbh"
      },
      "source": [
        "## Model for  Groupe 4 ARA+TUR"
      ]
    },
    {
      "cell_type": "code",
      "execution_count": null,
      "metadata": {
        "id": "S-r55VP3ltbh"
      },
      "outputs": [],
      "source": [
        "df_g4.head()"
      ]
    },
    {
      "cell_type": "code",
      "execution_count": null,
      "metadata": {
        "id": "NQBqzgGmltbi"
      },
      "outputs": [],
      "source": [
        "labels_to_skip = ['ARA', 'TUR']  # List of labels to skip\n",
        "others_df = get_others(label_dataframes, labels_to_skip, 800)"
      ]
    },
    {
      "cell_type": "code",
      "execution_count": null,
      "metadata": {
        "id": "F3_k2AxBltbi"
      },
      "outputs": [],
      "source": [
        "concatenated_df4 = pd.concat([df_g4, others_df], ignore_index=True)"
      ]
    },
    {
      "cell_type": "code",
      "execution_count": null,
      "metadata": {
        "id": "pfcUQfGrltbi"
      },
      "outputs": [],
      "source": [
        "mapping_list4_other = {'ARA':0,'TUR':1, 'other':2}"
      ]
    },
    {
      "cell_type": "markdown",
      "metadata": {
        "id": "HJehYpQiltbi"
      },
      "source": [
        "### train"
      ]
    },
    {
      "cell_type": "code",
      "execution_count": null,
      "metadata": {
        "id": "kGkB1zJ7ltbi"
      },
      "outputs": [],
      "source": [
        "train_1_group(mapping_list4_other, concatenated_df4, {}) # mapping is done here"
      ]
    },
    {
      "cell_type": "markdown",
      "metadata": {
        "id": "d4jreMxDltbi"
      },
      "source": [
        "### cross"
      ]
    },
    {
      "cell_type": "code",
      "execution_count": null,
      "metadata": {
        "id": "HuClCRlUltbj"
      },
      "outputs": [],
      "source": [
        "# Define the order of country labels\n",
        "country_labels = ['ARA', 'TUR', 'other']\n",
        "\n",
        "# Call the function with a list instead of a set\n",
        "dict_df4_other = create_1_group_dataframes(concatenated_df4, country_labels)\n",
        "\n",
        "# Count the number of items for each country code\n",
        "counts_dict = {label: len(dict_df4_other[label]) for label in country_labels}\n",
        "\n",
        "print(counts_dict)"
      ]
    },
    {
      "cell_type": "code",
      "execution_count": null,
      "metadata": {
        "id": "v0fuAWqeltbj"
      },
      "outputs": [],
      "source": [
        "dict_df4_other.keys()"
      ]
    },
    {
      "cell_type": "code",
      "execution_count": null,
      "metadata": {
        "id": "eetH-G-StaAR"
      },
      "outputs": [],
      "source": [
        "dict_df4_other"
      ]
    },
    {
      "cell_type": "code",
      "execution_count": null,
      "metadata": {
        "id": "lT_d2sSnltbj"
      },
      "outputs": [],
      "source": [
        "results = cross_validation_1group(mapping_list4_other, dict_df4_other, lr_model, lr_param_grid, vectorizers['vectorizer_BOW_bigram'], 2)"
      ]
    },
    {
      "cell_type": "code",
      "execution_count": null,
      "metadata": {
        "id": "oWw2LF04ltbj"
      },
      "outputs": [],
      "source": [
        "best_accuracy_key = best(results)"
      ]
    },
    {
      "cell_type": "code",
      "execution_count": null,
      "metadata": {
        "id": "16R_m5aEltbj"
      },
      "outputs": [],
      "source": [
        "results[best_accuracy_key]"
      ]
    },
    {
      "cell_type": "code",
      "execution_count": null,
      "metadata": {
        "id": "Sb2-bfGdltbj"
      },
      "outputs": [],
      "source": [
        "# cross validation model\n",
        "M2_G4 = results[best_accuracy_key][\"model\"]\n",
        "V2_G4 = results[best_accuracy_key][\"vectorizer\"]\n",
        "save_model_vectorizer(M2_G4, V2_G4, \"M2_G4.sav\", \"V2_G4.pkl\")"
      ]
    },
    {
      "cell_type": "markdown",
      "metadata": {
        "id": "2y1boPc3sU1b"
      },
      "source": [
        "# M3"
      ]
    },
    {
      "cell_type": "markdown",
      "metadata": {
        "id": "Enz6T-s1xkQi"
      },
      "source": [
        "## M3 GRIDS"
      ]
    },
    {
      "cell_type": "code",
      "execution_count": null,
      "metadata": {
        "id": "_t-Tx3nBxmSO"
      },
      "outputs": [],
      "source": [
        "lr_model = LogisticRegression()\n",
        "lr_param_grid = {\n",
        "    'penalty': ['l2'],  # Regularization penalty\n",
        "    'C': [0.1, 1],  # Inverse regularization strength (reduced to two values)\n",
        "    'solver': ['liblinear', 'saga'],  # Algorithm to use in the optimization problem\n",
        "    'max_iter': [3000],  # Maximum number of iterations (reduced to one value)\n",
        "    'tol': [1e-4]  # Tolerance for stopping criteria (only one value)\n",
        "}"
      ]
    },
    {
      "cell_type": "code",
      "execution_count": null,
      "metadata": {
        "id": "J9L0Jve3jVxA"
      },
      "outputs": [],
      "source": [
        "mapping_list = {'HIN' :0, 'TEL':1, 'KOR':2, 'JPN': 3, 'CHI' : 4, 'FRE' :5, 'SPA':6, 'ITA': 7, 'GER':8, 'ARA':9, 'TUR':10}"
      ]
    },
    {
      "cell_type": "code",
      "execution_count": null,
      "metadata": {
        "id": "313_sqTjls_P"
      },
      "outputs": [],
      "source": [
        "df[['country_code', 'text']] = df.iloc[:, 0].apply(extract_country_and_text)"
      ]
    },
    {
      "cell_type": "code",
      "execution_count": null,
      "metadata": {
        "id": "Wr85ZEN1lmDw"
      },
      "outputs": [],
      "source": [
        "df.head()"
      ]
    },
    {
      "cell_type": "markdown",
      "metadata": {
        "id": "dKBi0DKKi2fW"
      },
      "source": [
        "## train"
      ]
    },
    {
      "cell_type": "code",
      "execution_count": null,
      "metadata": {
        "id": "-oiZNVpVsVls"
      },
      "outputs": [],
      "source": [
        "train_1_group(mapping_list, df, {})"
      ]
    },
    {
      "cell_type": "markdown",
      "metadata": {
        "id": "8UmYOvcsi38r"
      },
      "source": [
        "## cross"
      ]
    },
    {
      "cell_type": "code",
      "execution_count": null,
      "metadata": {
        "id": "mDTJfZ2Ijzhd"
      },
      "outputs": [],
      "source": [
        "label_dataframes.keys()"
      ]
    },
    {
      "cell_type": "code",
      "execution_count": null,
      "metadata": {
        "id": "diMFMuQ2Pdfa"
      },
      "outputs": [],
      "source": [
        "for key, value in label_dataframes.items():\n",
        "    print(f\"Size of {key}: {len(value)}\")"
      ]
    },
    {
      "cell_type": "code",
      "execution_count": null,
      "metadata": {
        "id": "zO6a4ENTPUn0"
      },
      "outputs": [],
      "source": [
        "mapping_list = {'HIN' :0, 'TEL':1, 'KOR':2, 'JPN': 3, 'CHI' : 4, 'FRE' :5, 'SPA':6, 'ITA': 7, 'GER':8, 'ARA':9, 'TUR':10}"
      ]
    },
    {
      "cell_type": "code",
      "execution_count": null,
      "metadata": {
        "id": "kA4CTNKXsqZq"
      },
      "outputs": [],
      "source": [
        "results = cross_validation_1group(mapping_list, label_dataframes, lr_model, lr_param_grid, vectorizers['vectorizer_BOW_bigram'], 2)"
      ]
    },
    {
      "cell_type": "markdown",
      "metadata": {
        "id": "bTmmm7U3lOsA"
      },
      "source": [
        "## save"
      ]
    },
    {
      "cell_type": "code",
      "execution_count": null,
      "metadata": {
        "id": "iNYBodHhlP0b"
      },
      "outputs": [],
      "source": [
        "best_accuracy_key = best(results)"
      ]
    },
    {
      "cell_type": "code",
      "execution_count": null,
      "metadata": {
        "id": "fA2u1KcGlQuD"
      },
      "outputs": [],
      "source": [
        "results[best_accuracy_key]"
      ]
    },
    {
      "cell_type": "code",
      "execution_count": null,
      "metadata": {
        "id": "_mxd-iDklQyJ"
      },
      "outputs": [],
      "source": [
        "# cross validation model\n",
        "M3 = results[best_accuracy_key][\"model\"]\n",
        "V3 = results[best_accuracy_key][\"vectorizer\"]\n",
        "save_model_vectorizer(M3, V3, \"M3.sav\", \"V3.pkl\")"
      ]
    },
    {
      "cell_type": "code",
      "execution_count": null,
      "metadata": {
        "id": "6xYu93ZQeFLQ"
      },
      "outputs": [],
      "source": []
    }
  ],
  "metadata": {
    "colab": {
      "provenance": [],
      "collapsed_sections": [
        "ttepZPgGVOG0",
        "LUj7mtCcvJ0E"
      ],
      "toc_visible": true,
      "include_colab_link": true
    },
    "kernelspec": {
      "display_name": "Python 3",
      "name": "python3"
    },
    "language_info": {
      "name": "python"
    }
  },
  "nbformat": 4,
  "nbformat_minor": 0
}