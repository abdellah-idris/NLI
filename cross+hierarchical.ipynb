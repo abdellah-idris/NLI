{
  "cells": [
    {
      "cell_type": "markdown",
      "metadata": {
        "id": "view-in-github",
        "colab_type": "text"
      },
      "source": [
        "<a href=\"https://colab.research.google.com/github/abdellah-idris/NLI/blob/master/cross%2Bhierarchical.ipynb\" target=\"_parent\"><img src=\"https://colab.research.google.com/assets/colab-badge.svg\" alt=\"Open In Colab\"/></a>"
      ]
    },
    {
      "cell_type": "markdown",
      "metadata": {
        "id": "FlJOGEbw4mdC"
      },
      "source": [
        "rendu: zip\n",
        "\n",
        "final: fcihier a anoter ( text et mettre les labels)\n",
        "\n",
        "repport : pdf, on vas dans le concret ( moins de blabla)\n",
        "  -  carnet d'experience ( ce qu'on a tester)\n",
        "  -  expliciter ce qui n'a pas marché\n",
        "  -  essayer de faire des conclusion\n",
        "\n",
        "Presentation:\n",
        "  - parler d'un truc intéressant et parler rapidement (cross vs grip) 5 a 10 max\n",
        "\n",
        "\n",
        "date d'envoi max 04/07\n",
        "mail : @universite-paris-saclay"
      ]
    },
    {
      "cell_type": "markdown",
      "metadata": {
        "id": "47Cqh_DG6WR5"
      },
      "source": [
        "### **1. Importation des librairies**"
      ]
    },
    {
      "cell_type": "code",
      "execution_count": 1,
      "metadata": {
        "id": "TML7OcM00Rjw"
      },
      "outputs": [],
      "source": [
        "import os\n",
        "import re\n",
        "import pandas as pd\n",
        "import matplotlib.pyplot as plt\n",
        "import seaborn as sns\n",
        "from sklearn.model_selection import train_test_split\n",
        "from sklearn.feature_extraction.text import CountVectorizer, TfidfVectorizer\n",
        "from sklearn.svm import SVC\n",
        "from sklearn.linear_model import LogisticRegression\n",
        "from sklearn.metrics import accuracy_score, classification_report, confusion_matrix, precision_score, recall_score, f1_score\n",
        "from collections import Counter"
      ]
    },
    {
      "cell_type": "markdown",
      "metadata": {
        "id": "ybz5LpQyPaJn"
      },
      "source": [
        "### **2. Lecture des données**"
      ]
    },
    {
      "cell_type": "code",
      "execution_count": 2,
      "metadata": {
        "colab": {
          "base_uri": "https://localhost:8080/",
          "height": 72
        },
        "id": "DQwpiC31leKi",
        "outputId": "8be873d3-adcf-486c-896b-ec0f00174536"
      },
      "outputs": [
        {
          "output_type": "display_data",
          "data": {
            "text/plain": [
              "<IPython.core.display.HTML object>"
            ],
            "text/html": [
              "\n",
              "     <input type=\"file\" id=\"files-a77cf737-aead-4be8-9bcf-631ab30b4370\" name=\"files[]\" multiple disabled\n",
              "        style=\"border:none\" />\n",
              "     <output id=\"result-a77cf737-aead-4be8-9bcf-631ab30b4370\">\n",
              "      Upload widget is only available when the cell has been executed in the\n",
              "      current browser session. Please rerun this cell to enable.\n",
              "      </output>\n",
              "      <script>// Copyright 2017 Google LLC\n",
              "//\n",
              "// Licensed under the Apache License, Version 2.0 (the \"License\");\n",
              "// you may not use this file except in compliance with the License.\n",
              "// You may obtain a copy of the License at\n",
              "//\n",
              "//      http://www.apache.org/licenses/LICENSE-2.0\n",
              "//\n",
              "// Unless required by applicable law or agreed to in writing, software\n",
              "// distributed under the License is distributed on an \"AS IS\" BASIS,\n",
              "// WITHOUT WARRANTIES OR CONDITIONS OF ANY KIND, either express or implied.\n",
              "// See the License for the specific language governing permissions and\n",
              "// limitations under the License.\n",
              "\n",
              "/**\n",
              " * @fileoverview Helpers for google.colab Python module.\n",
              " */\n",
              "(function(scope) {\n",
              "function span(text, styleAttributes = {}) {\n",
              "  const element = document.createElement('span');\n",
              "  element.textContent = text;\n",
              "  for (const key of Object.keys(styleAttributes)) {\n",
              "    element.style[key] = styleAttributes[key];\n",
              "  }\n",
              "  return element;\n",
              "}\n",
              "\n",
              "// Max number of bytes which will be uploaded at a time.\n",
              "const MAX_PAYLOAD_SIZE = 100 * 1024;\n",
              "\n",
              "function _uploadFiles(inputId, outputId) {\n",
              "  const steps = uploadFilesStep(inputId, outputId);\n",
              "  const outputElement = document.getElementById(outputId);\n",
              "  // Cache steps on the outputElement to make it available for the next call\n",
              "  // to uploadFilesContinue from Python.\n",
              "  outputElement.steps = steps;\n",
              "\n",
              "  return _uploadFilesContinue(outputId);\n",
              "}\n",
              "\n",
              "// This is roughly an async generator (not supported in the browser yet),\n",
              "// where there are multiple asynchronous steps and the Python side is going\n",
              "// to poll for completion of each step.\n",
              "// This uses a Promise to block the python side on completion of each step,\n",
              "// then passes the result of the previous step as the input to the next step.\n",
              "function _uploadFilesContinue(outputId) {\n",
              "  const outputElement = document.getElementById(outputId);\n",
              "  const steps = outputElement.steps;\n",
              "\n",
              "  const next = steps.next(outputElement.lastPromiseValue);\n",
              "  return Promise.resolve(next.value.promise).then((value) => {\n",
              "    // Cache the last promise value to make it available to the next\n",
              "    // step of the generator.\n",
              "    outputElement.lastPromiseValue = value;\n",
              "    return next.value.response;\n",
              "  });\n",
              "}\n",
              "\n",
              "/**\n",
              " * Generator function which is called between each async step of the upload\n",
              " * process.\n",
              " * @param {string} inputId Element ID of the input file picker element.\n",
              " * @param {string} outputId Element ID of the output display.\n",
              " * @return {!Iterable<!Object>} Iterable of next steps.\n",
              " */\n",
              "function* uploadFilesStep(inputId, outputId) {\n",
              "  const inputElement = document.getElementById(inputId);\n",
              "  inputElement.disabled = false;\n",
              "\n",
              "  const outputElement = document.getElementById(outputId);\n",
              "  outputElement.innerHTML = '';\n",
              "\n",
              "  const pickedPromise = new Promise((resolve) => {\n",
              "    inputElement.addEventListener('change', (e) => {\n",
              "      resolve(e.target.files);\n",
              "    });\n",
              "  });\n",
              "\n",
              "  const cancel = document.createElement('button');\n",
              "  inputElement.parentElement.appendChild(cancel);\n",
              "  cancel.textContent = 'Cancel upload';\n",
              "  const cancelPromise = new Promise((resolve) => {\n",
              "    cancel.onclick = () => {\n",
              "      resolve(null);\n",
              "    };\n",
              "  });\n",
              "\n",
              "  // Wait for the user to pick the files.\n",
              "  const files = yield {\n",
              "    promise: Promise.race([pickedPromise, cancelPromise]),\n",
              "    response: {\n",
              "      action: 'starting',\n",
              "    }\n",
              "  };\n",
              "\n",
              "  cancel.remove();\n",
              "\n",
              "  // Disable the input element since further picks are not allowed.\n",
              "  inputElement.disabled = true;\n",
              "\n",
              "  if (!files) {\n",
              "    return {\n",
              "      response: {\n",
              "        action: 'complete',\n",
              "      }\n",
              "    };\n",
              "  }\n",
              "\n",
              "  for (const file of files) {\n",
              "    const li = document.createElement('li');\n",
              "    li.append(span(file.name, {fontWeight: 'bold'}));\n",
              "    li.append(span(\n",
              "        `(${file.type || 'n/a'}) - ${file.size} bytes, ` +\n",
              "        `last modified: ${\n",
              "            file.lastModifiedDate ? file.lastModifiedDate.toLocaleDateString() :\n",
              "                                    'n/a'} - `));\n",
              "    const percent = span('0% done');\n",
              "    li.appendChild(percent);\n",
              "\n",
              "    outputElement.appendChild(li);\n",
              "\n",
              "    const fileDataPromise = new Promise((resolve) => {\n",
              "      const reader = new FileReader();\n",
              "      reader.onload = (e) => {\n",
              "        resolve(e.target.result);\n",
              "      };\n",
              "      reader.readAsArrayBuffer(file);\n",
              "    });\n",
              "    // Wait for the data to be ready.\n",
              "    let fileData = yield {\n",
              "      promise: fileDataPromise,\n",
              "      response: {\n",
              "        action: 'continue',\n",
              "      }\n",
              "    };\n",
              "\n",
              "    // Use a chunked sending to avoid message size limits. See b/62115660.\n",
              "    let position = 0;\n",
              "    do {\n",
              "      const length = Math.min(fileData.byteLength - position, MAX_PAYLOAD_SIZE);\n",
              "      const chunk = new Uint8Array(fileData, position, length);\n",
              "      position += length;\n",
              "\n",
              "      const base64 = btoa(String.fromCharCode.apply(null, chunk));\n",
              "      yield {\n",
              "        response: {\n",
              "          action: 'append',\n",
              "          file: file.name,\n",
              "          data: base64,\n",
              "        },\n",
              "      };\n",
              "\n",
              "      let percentDone = fileData.byteLength === 0 ?\n",
              "          100 :\n",
              "          Math.round((position / fileData.byteLength) * 100);\n",
              "      percent.textContent = `${percentDone}% done`;\n",
              "\n",
              "    } while (position < fileData.byteLength);\n",
              "  }\n",
              "\n",
              "  // All done.\n",
              "  yield {\n",
              "    response: {\n",
              "      action: 'complete',\n",
              "    }\n",
              "  };\n",
              "}\n",
              "\n",
              "scope.google = scope.google || {};\n",
              "scope.google.colab = scope.google.colab || {};\n",
              "scope.google.colab._files = {\n",
              "  _uploadFiles,\n",
              "  _uploadFilesContinue,\n",
              "};\n",
              "})(self);\n",
              "</script> "
            ]
          },
          "metadata": {}
        },
        {
          "output_type": "stream",
          "name": "stdout",
          "text": [
            "Saving train.txt to train.txt\n"
          ]
        }
      ],
      "source": [
        "from google.colab import files\n",
        "\n",
        "uploaded = files.upload()\n"
      ]
    },
    {
      "cell_type": "code",
      "execution_count": 3,
      "metadata": {
        "colab": {
          "base_uri": "https://localhost:8080/"
        },
        "id": "4ErsdFRoz1cy",
        "outputId": "4414ff57-7e5d-4e22-9807-0cd1bbd1643d"
      },
      "outputs": [
        {
          "output_type": "execute_result",
          "data": {
            "text/plain": [
              "['.config', 'model+vec', '.ipynb_checkpoints', 'train.txt', 'sample_data']"
            ]
          },
          "metadata": {},
          "execution_count": 3
        }
      ],
      "source": [
        "os.listdir('.')"
      ]
    },
    {
      "cell_type": "code",
      "execution_count": 4,
      "metadata": {
        "id": "QSQCfEjVz8za"
      },
      "outputs": [],
      "source": [
        "df = pd.read_csv('train.txt', sep='\\t', header=None)"
      ]
    },
    {
      "cell_type": "code",
      "execution_count": 5,
      "metadata": {
        "colab": {
          "base_uri": "https://localhost:8080/"
        },
        "id": "JlmumYSIn-jQ",
        "outputId": "9f742a54-0754-4546-8593-1580fe1d37c2"
      },
      "outputs": [
        {
          "output_type": "execute_result",
          "data": {
            "text/plain": [
              "GER    900\n",
              "TUR    900\n",
              "CHI    900\n",
              "TEL    900\n",
              "ARA    900\n",
              "SPA    900\n",
              "HIN    900\n",
              "JPN    900\n",
              "KOR    900\n",
              "FRE    900\n",
              "ITA    900\n",
              "Name: country_code, dtype: int64"
            ]
          },
          "metadata": {},
          "execution_count": 5
        }
      ],
      "source": [
        "def extract_country_and_text(row):\n",
        "    match = re.match(r'\\((.*?)\\)(.*)', row)\n",
        "    if match:\n",
        "        country_code = match.group(1)\n",
        "        text = match.group(2)\n",
        "        return pd.Series([country_code, text])\n",
        "    else:\n",
        "        return pd.Series(['', row])\n",
        "\n",
        "df[['country_code', 'text']] = df.iloc[:, 0].apply(extract_country_and_text)\n",
        "\n",
        "df['country_code'].value_counts()"
      ]
    },
    {
      "cell_type": "markdown",
      "metadata": {
        "id": "FxkJvOxGSqBe"
      },
      "source": [
        "### **Utils**"
      ]
    },
    {
      "cell_type": "markdown",
      "metadata": {
        "id": "TQ0U9AWGVKIJ"
      },
      "source": [
        "#### models & vectorizers"
      ]
    },
    {
      "cell_type": "code",
      "execution_count": 6,
      "metadata": {
        "id": "CKAkMIHzndNW"
      },
      "outputs": [],
      "source": [
        "groups_mapping= {'HIN+TEL':0, 'KOR+CHI+JPN':1, 'FRE+SPA+ITA+GER':2,'ARA+TUR':3}"
      ]
    },
    {
      "cell_type": "code",
      "execution_count": 7,
      "metadata": {
        "id": "porNY0I-SqBr"
      },
      "outputs": [],
      "source": [
        "# vectorizers\n",
        "vectorizers = {\n",
        "  'vectorizer_BOW' : CountVectorizer(), # default=(1, 1)\n",
        "  'vectorizer_TF_IDF' : TfidfVectorizer(), #default=(1, 1)\n",
        "  'vectorizer_BOW_bigram' : CountVectorizer(ngram_range=(1, 2)),\n",
        "  'vectorizer_TF_IDF_bigram' : TfidfVectorizer(ngram_range=(1, 2)),\n",
        "}\n",
        "\n",
        "# Modèles de classification\n",
        "models = {\n",
        "    'Logistic Regression': LogisticRegression(max_iter=2000),\n",
        "    'SVM': SVC()\n",
        "}"
      ]
    },
    {
      "cell_type": "markdown",
      "metadata": {
        "id": "RIdmqZq5TkBW"
      },
      "source": [
        "#### Balance data\n",
        "- each group same number of item\n",
        "- in each group: each country same number of item"
      ]
    },
    {
      "cell_type": "code",
      "execution_count": 8,
      "metadata": {
        "id": "k8nt4c_3Tide"
      },
      "outputs": [],
      "source": [
        "import pandas as pd\n",
        "\n",
        "def balance_dataset_groups(df):\n",
        "    balanced_df = pd.DataFrame(columns=df.columns)\n",
        "\n",
        "    # Determine the minimum number of samples among all groups\n",
        "    min_samples_per_group = df['group'].value_counts().min()\n",
        "\n",
        "    # Iterate over each group in the dataset\n",
        "    for group_name, group_data in df.groupby('group'):\n",
        "        # Sample the minimum number of samples for this group\n",
        "        sampled_group_data = group_data.sample(min_samples_per_group, replace=False)\n",
        "\n",
        "        # Determine the minimum number of samples among all subgroups within this group\n",
        "        min_samples_per_subgroup = min_samples_per_group // len(group_data['country_code'].unique())\n",
        "\n",
        "        # Iterate over each subgroup within this group\n",
        "        for subgroup_name, subgroup_data in sampled_group_data.groupby('country_code'):\n",
        "            # Determine the number of samples in this subgroup\n",
        "            subgroup_size = len(subgroup_data)\n",
        "\n",
        "            # If the subgroup has fewer samples than required, sample with replacement\n",
        "            if subgroup_size < min_samples_per_subgroup:\n",
        "                sampled_subgroup_data = subgroup_data.sample(min_samples_per_subgroup, replace=True)\n",
        "            else:\n",
        "                sampled_subgroup_data = subgroup_data.sample(min_samples_per_subgroup, replace=False)\n",
        "\n",
        "            # Append the sampled subgroup data to the balanced dataset\n",
        "            balanced_df = pd.concat([balanced_df, sampled_subgroup_data])\n",
        "\n",
        "    # Reset the index of the balanced DataFrame\n",
        "    balanced_df.reset_index(drop=True, inplace=True)\n",
        "\n",
        "    return balanced_df\n"
      ]
    },
    {
      "cell_type": "markdown",
      "metadata": {
        "id": "Ozy3PcL6NULg"
      },
      "source": [
        "#### Fonctions d'évaluations et matrice de confusion :"
      ]
    },
    {
      "cell_type": "code",
      "execution_count": 9,
      "metadata": {
        "id": "MgB_5-68SgDf"
      },
      "outputs": [],
      "source": [
        "from sklearn.metrics import precision_recall_fscore_support, accuracy_score\n",
        "\n",
        "def evaluate_model_performance_detailed(mapping_list, model, model_name, method_name, train, test, y_train, y_test):\n",
        "    model.fit(train, y_train)\n",
        "    predictions = model.predict(test)\n",
        "\n",
        "    # Metrics for each label\n",
        "    precision, recall, f1, _ = precision_recall_fscore_support(y_test, predictions, average=None)\n",
        "    metrics_df = pd.DataFrame({'Label': list(mapping_list.keys()),\n",
        "                               'Precision': precision,\n",
        "                               'Recall': recall,\n",
        "                               'F1 Score': f1})\n",
        "\n",
        "    # Global (macro) metrics\n",
        "    precision_macro, recall_macro, f1_macro, _ = precision_recall_fscore_support(y_test, predictions, average='macro')\n",
        "    accuracy = accuracy_score(y_test, predictions)\n",
        "\n",
        "    print(f\"{model_name} ({method_name}) - Overall Metrics:\\n- Accuracy: {accuracy:.4f}\\n- Precision (Macro): {precision_macro:.4f}\\n- Recall (Macro): {recall_macro:.4f}\\n- F1 (Macro): {f1_macro:.4f}\\n\")\n",
        "\n",
        "    print(f\"{model_name} ({method_name}) - Metrics by Label:\")\n",
        "    print(metrics_df.to_string(index=False))\n",
        "\n",
        "\n",
        "    cm = confusion_matrix(y_test, predictions)\n",
        "\n",
        "    # Plotting the confusion matrix\n",
        "    plt.figure(figsize=(5, 3))\n",
        "    sns.heatmap(cm, annot=True, cmap='coolwarm', fmt='d', xticklabels=list(mapping_list.keys()), yticklabels=list(mapping_list.keys()))\n",
        "    plt.title(f\"Confusion Matrix - {model_name} ({method_name})\")\n",
        "    plt.xlabel('Predicted Labels')\n",
        "    plt.ylabel('True Labels')\n",
        "    plt.show()\n",
        "    return model\n"
      ]
    },
    {
      "cell_type": "markdown",
      "metadata": {
        "id": "tMcOTUlOurbl"
      },
      "source": [
        "#### extract country and text"
      ]
    },
    {
      "cell_type": "code",
      "execution_count": 10,
      "metadata": {
        "colab": {
          "base_uri": "https://localhost:8080/"
        },
        "id": "2kW19_Lz0Etl",
        "outputId": "1024fe99-b6ba-4925-faea-aba057bd12f5"
      },
      "outputs": [
        {
          "output_type": "execute_result",
          "data": {
            "text/plain": [
              "(9900, 3)"
            ]
          },
          "metadata": {},
          "execution_count": 10
        }
      ],
      "source": [
        "df.dropna(subset=['country_code'], inplace=True)\n",
        "df.shape\n",
        "\n",
        "# All texts are labeled"
      ]
    },
    {
      "cell_type": "code",
      "execution_count": 11,
      "metadata": {
        "colab": {
          "base_uri": "https://localhost:8080/"
        },
        "id": "qPgBGSth0ACy",
        "outputId": "e91cd955-2a69-4335-bbad-cf239b194f15"
      },
      "outputs": [
        {
          "output_type": "execute_result",
          "data": {
            "text/plain": [
              "GER    900\n",
              "TUR    900\n",
              "CHI    900\n",
              "TEL    900\n",
              "ARA    900\n",
              "SPA    900\n",
              "HIN    900\n",
              "JPN    900\n",
              "KOR    900\n",
              "FRE    900\n",
              "ITA    900\n",
              "Name: country_code, dtype: int64"
            ]
          },
          "metadata": {},
          "execution_count": 11
        }
      ],
      "source": [
        "def extract_country_and_text(row):\n",
        "    match = re.match(r'\\((.*?)\\)(.*)', row)\n",
        "    if match:\n",
        "        country_code = match.group(1)\n",
        "        text = match.group(2)\n",
        "        return pd.Series([country_code, text])\n",
        "    else:\n",
        "        return pd.Series(['', row])\n",
        "\n",
        "df[['country_code', 'text']] = df.iloc[:, 0].apply(extract_country_and_text)\n",
        "\n",
        "df['country_code'].value_counts()"
      ]
    },
    {
      "cell_type": "markdown",
      "metadata": {
        "id": "lu_lNCQFtze3"
      },
      "source": [
        "#### create groups"
      ]
    },
    {
      "cell_type": "code",
      "execution_count": 12,
      "metadata": {
        "id": "zcYmuQvjaphz"
      },
      "outputs": [],
      "source": [
        "def create_group(df):\n",
        "  # Créez une nouvelle colonne 'Country_Code_New4' en copiant 'Country_Code'\n",
        "  df['group'] = df['country_code']\n",
        "\n",
        "  df.loc[df['country_code'].isin(['TEL', 'HIN']), 'group']  = 'HIN+TEL'\n",
        "  df.loc[df['country_code'].isin(['KOR', 'CHI','JPN']), 'group'] = 'KOR+CHI+JPN'\n",
        "  df.loc[df['country_code'].isin(['FRE', 'SPA','ITA','GER']), 'group'] = 'FRE+SPA+ITA+GER'\n",
        "  df.loc[df['country_code'].isin(['ARA', 'TUR']), 'group'] = 'ARA+TUR'\n",
        "\n",
        "  return df"
      ]
    },
    {
      "cell_type": "code",
      "execution_count": 13,
      "metadata": {
        "colab": {
          "base_uri": "https://localhost:8080/",
          "height": 424
        },
        "id": "KKK16_GguEkS",
        "outputId": "5884e99f-30a0-4a69-a546-54f93fb4fa62"
      },
      "outputs": [
        {
          "output_type": "execute_result",
          "data": {
            "text/plain": [
              "                                                      0 country_code  \\\n",
              "0     (GER) IThe importance and popularity of travel...          GER   \n",
              "1     (TUR) It is an important decision , how to pla...          TUR   \n",
              "2     (CHI) Some people believe that young people ca...          CHI   \n",
              "3     (TEL) Travelling is usually considered as good...          TEL   \n",
              "4     (ARA) i agree that . Life is a person live per...          ARA   \n",
              "...                                                 ...          ...   \n",
              "9895  (CHI) Nowadays , more and more people go abroa...          CHI   \n",
              "9896  (KOR) In accomplishing something that is risky...          KOR   \n",
              "9897  (SPA) At the beginning of the 21st century , t...          SPA   \n",
              "9898  (HIN) The number of cars in use across the wor...          HIN   \n",
              "9899  (CHI) Many people think it is betters to have ...          CHI   \n",
              "\n",
              "                                                   text            group  \n",
              "0      IThe importance and popularity of travelling ...  FRE+SPA+ITA+GER  \n",
              "1      It is an important decision , how to plan you...          ARA+TUR  \n",
              "2      Some people believe that young people can enj...      KOR+CHI+JPN  \n",
              "3      Travelling is usually considered as good recr...          HIN+TEL  \n",
              "4      i agree that . Life is a person live period o...          ARA+TUR  \n",
              "...                                                 ...              ...  \n",
              "9895   Nowadays , more and more people go abroad , n...      KOR+CHI+JPN  \n",
              "9896   In accomplishing something that is risky come...      KOR+CHI+JPN  \n",
              "9897   At the beginning of the 21st century , the in...  FRE+SPA+ITA+GER  \n",
              "9898   The number of cars in use across the world ha...          HIN+TEL  \n",
              "9899   Many people think it is betters to have borad...      KOR+CHI+JPN  \n",
              "\n",
              "[9900 rows x 4 columns]"
            ],
            "text/html": [
              "\n",
              "  <div id=\"df-daea0f48-aae3-4598-9ac5-573ea3e78f49\" class=\"colab-df-container\">\n",
              "    <div>\n",
              "<style scoped>\n",
              "    .dataframe tbody tr th:only-of-type {\n",
              "        vertical-align: middle;\n",
              "    }\n",
              "\n",
              "    .dataframe tbody tr th {\n",
              "        vertical-align: top;\n",
              "    }\n",
              "\n",
              "    .dataframe thead th {\n",
              "        text-align: right;\n",
              "    }\n",
              "</style>\n",
              "<table border=\"1\" class=\"dataframe\">\n",
              "  <thead>\n",
              "    <tr style=\"text-align: right;\">\n",
              "      <th></th>\n",
              "      <th>0</th>\n",
              "      <th>country_code</th>\n",
              "      <th>text</th>\n",
              "      <th>group</th>\n",
              "    </tr>\n",
              "  </thead>\n",
              "  <tbody>\n",
              "    <tr>\n",
              "      <th>0</th>\n",
              "      <td>(GER) IThe importance and popularity of travel...</td>\n",
              "      <td>GER</td>\n",
              "      <td>IThe importance and popularity of travelling ...</td>\n",
              "      <td>FRE+SPA+ITA+GER</td>\n",
              "    </tr>\n",
              "    <tr>\n",
              "      <th>1</th>\n",
              "      <td>(TUR) It is an important decision , how to pla...</td>\n",
              "      <td>TUR</td>\n",
              "      <td>It is an important decision , how to plan you...</td>\n",
              "      <td>ARA+TUR</td>\n",
              "    </tr>\n",
              "    <tr>\n",
              "      <th>2</th>\n",
              "      <td>(CHI) Some people believe that young people ca...</td>\n",
              "      <td>CHI</td>\n",
              "      <td>Some people believe that young people can enj...</td>\n",
              "      <td>KOR+CHI+JPN</td>\n",
              "    </tr>\n",
              "    <tr>\n",
              "      <th>3</th>\n",
              "      <td>(TEL) Travelling is usually considered as good...</td>\n",
              "      <td>TEL</td>\n",
              "      <td>Travelling is usually considered as good recr...</td>\n",
              "      <td>HIN+TEL</td>\n",
              "    </tr>\n",
              "    <tr>\n",
              "      <th>4</th>\n",
              "      <td>(ARA) i agree that . Life is a person live per...</td>\n",
              "      <td>ARA</td>\n",
              "      <td>i agree that . Life is a person live period o...</td>\n",
              "      <td>ARA+TUR</td>\n",
              "    </tr>\n",
              "    <tr>\n",
              "      <th>...</th>\n",
              "      <td>...</td>\n",
              "      <td>...</td>\n",
              "      <td>...</td>\n",
              "      <td>...</td>\n",
              "    </tr>\n",
              "    <tr>\n",
              "      <th>9895</th>\n",
              "      <td>(CHI) Nowadays , more and more people go abroa...</td>\n",
              "      <td>CHI</td>\n",
              "      <td>Nowadays , more and more people go abroad , n...</td>\n",
              "      <td>KOR+CHI+JPN</td>\n",
              "    </tr>\n",
              "    <tr>\n",
              "      <th>9896</th>\n",
              "      <td>(KOR) In accomplishing something that is risky...</td>\n",
              "      <td>KOR</td>\n",
              "      <td>In accomplishing something that is risky come...</td>\n",
              "      <td>KOR+CHI+JPN</td>\n",
              "    </tr>\n",
              "    <tr>\n",
              "      <th>9897</th>\n",
              "      <td>(SPA) At the beginning of the 21st century , t...</td>\n",
              "      <td>SPA</td>\n",
              "      <td>At the beginning of the 21st century , the in...</td>\n",
              "      <td>FRE+SPA+ITA+GER</td>\n",
              "    </tr>\n",
              "    <tr>\n",
              "      <th>9898</th>\n",
              "      <td>(HIN) The number of cars in use across the wor...</td>\n",
              "      <td>HIN</td>\n",
              "      <td>The number of cars in use across the world ha...</td>\n",
              "      <td>HIN+TEL</td>\n",
              "    </tr>\n",
              "    <tr>\n",
              "      <th>9899</th>\n",
              "      <td>(CHI) Many people think it is betters to have ...</td>\n",
              "      <td>CHI</td>\n",
              "      <td>Many people think it is betters to have borad...</td>\n",
              "      <td>KOR+CHI+JPN</td>\n",
              "    </tr>\n",
              "  </tbody>\n",
              "</table>\n",
              "<p>9900 rows × 4 columns</p>\n",
              "</div>\n",
              "    <div class=\"colab-df-buttons\">\n",
              "\n",
              "  <div class=\"colab-df-container\">\n",
              "    <button class=\"colab-df-convert\" onclick=\"convertToInteractive('df-daea0f48-aae3-4598-9ac5-573ea3e78f49')\"\n",
              "            title=\"Convert this dataframe to an interactive table.\"\n",
              "            style=\"display:none;\">\n",
              "\n",
              "  <svg xmlns=\"http://www.w3.org/2000/svg\" height=\"24px\" viewBox=\"0 -960 960 960\">\n",
              "    <path d=\"M120-120v-720h720v720H120Zm60-500h600v-160H180v160Zm220 220h160v-160H400v160Zm0 220h160v-160H400v160ZM180-400h160v-160H180v160Zm440 0h160v-160H620v160ZM180-180h160v-160H180v160Zm440 0h160v-160H620v160Z\"/>\n",
              "  </svg>\n",
              "    </button>\n",
              "\n",
              "  <style>\n",
              "    .colab-df-container {\n",
              "      display:flex;\n",
              "      gap: 12px;\n",
              "    }\n",
              "\n",
              "    .colab-df-convert {\n",
              "      background-color: #E8F0FE;\n",
              "      border: none;\n",
              "      border-radius: 50%;\n",
              "      cursor: pointer;\n",
              "      display: none;\n",
              "      fill: #1967D2;\n",
              "      height: 32px;\n",
              "      padding: 0 0 0 0;\n",
              "      width: 32px;\n",
              "    }\n",
              "\n",
              "    .colab-df-convert:hover {\n",
              "      background-color: #E2EBFA;\n",
              "      box-shadow: 0px 1px 2px rgba(60, 64, 67, 0.3), 0px 1px 3px 1px rgba(60, 64, 67, 0.15);\n",
              "      fill: #174EA6;\n",
              "    }\n",
              "\n",
              "    .colab-df-buttons div {\n",
              "      margin-bottom: 4px;\n",
              "    }\n",
              "\n",
              "    [theme=dark] .colab-df-convert {\n",
              "      background-color: #3B4455;\n",
              "      fill: #D2E3FC;\n",
              "    }\n",
              "\n",
              "    [theme=dark] .colab-df-convert:hover {\n",
              "      background-color: #434B5C;\n",
              "      box-shadow: 0px 1px 3px 1px rgba(0, 0, 0, 0.15);\n",
              "      filter: drop-shadow(0px 1px 2px rgba(0, 0, 0, 0.3));\n",
              "      fill: #FFFFFF;\n",
              "    }\n",
              "  </style>\n",
              "\n",
              "    <script>\n",
              "      const buttonEl =\n",
              "        document.querySelector('#df-daea0f48-aae3-4598-9ac5-573ea3e78f49 button.colab-df-convert');\n",
              "      buttonEl.style.display =\n",
              "        google.colab.kernel.accessAllowed ? 'block' : 'none';\n",
              "\n",
              "      async function convertToInteractive(key) {\n",
              "        const element = document.querySelector('#df-daea0f48-aae3-4598-9ac5-573ea3e78f49');\n",
              "        const dataTable =\n",
              "          await google.colab.kernel.invokeFunction('convertToInteractive',\n",
              "                                                    [key], {});\n",
              "        if (!dataTable) return;\n",
              "\n",
              "        const docLinkHtml = 'Like what you see? Visit the ' +\n",
              "          '<a target=\"_blank\" href=https://colab.research.google.com/notebooks/data_table.ipynb>data table notebook</a>'\n",
              "          + ' to learn more about interactive tables.';\n",
              "        element.innerHTML = '';\n",
              "        dataTable['output_type'] = 'display_data';\n",
              "        await google.colab.output.renderOutput(dataTable, element);\n",
              "        const docLink = document.createElement('div');\n",
              "        docLink.innerHTML = docLinkHtml;\n",
              "        element.appendChild(docLink);\n",
              "      }\n",
              "    </script>\n",
              "  </div>\n",
              "\n",
              "\n",
              "<div id=\"df-9fb40cfa-1804-4637-88ff-8cce16565d73\">\n",
              "  <button class=\"colab-df-quickchart\" onclick=\"quickchart('df-9fb40cfa-1804-4637-88ff-8cce16565d73')\"\n",
              "            title=\"Suggest charts\"\n",
              "            style=\"display:none;\">\n",
              "\n",
              "<svg xmlns=\"http://www.w3.org/2000/svg\" height=\"24px\"viewBox=\"0 0 24 24\"\n",
              "     width=\"24px\">\n",
              "    <g>\n",
              "        <path d=\"M19 3H5c-1.1 0-2 .9-2 2v14c0 1.1.9 2 2 2h14c1.1 0 2-.9 2-2V5c0-1.1-.9-2-2-2zM9 17H7v-7h2v7zm4 0h-2V7h2v10zm4 0h-2v-4h2v4z\"/>\n",
              "    </g>\n",
              "</svg>\n",
              "  </button>\n",
              "\n",
              "<style>\n",
              "  .colab-df-quickchart {\n",
              "      --bg-color: #E8F0FE;\n",
              "      --fill-color: #1967D2;\n",
              "      --hover-bg-color: #E2EBFA;\n",
              "      --hover-fill-color: #174EA6;\n",
              "      --disabled-fill-color: #AAA;\n",
              "      --disabled-bg-color: #DDD;\n",
              "  }\n",
              "\n",
              "  [theme=dark] .colab-df-quickchart {\n",
              "      --bg-color: #3B4455;\n",
              "      --fill-color: #D2E3FC;\n",
              "      --hover-bg-color: #434B5C;\n",
              "      --hover-fill-color: #FFFFFF;\n",
              "      --disabled-bg-color: #3B4455;\n",
              "      --disabled-fill-color: #666;\n",
              "  }\n",
              "\n",
              "  .colab-df-quickchart {\n",
              "    background-color: var(--bg-color);\n",
              "    border: none;\n",
              "    border-radius: 50%;\n",
              "    cursor: pointer;\n",
              "    display: none;\n",
              "    fill: var(--fill-color);\n",
              "    height: 32px;\n",
              "    padding: 0;\n",
              "    width: 32px;\n",
              "  }\n",
              "\n",
              "  .colab-df-quickchart:hover {\n",
              "    background-color: var(--hover-bg-color);\n",
              "    box-shadow: 0 1px 2px rgba(60, 64, 67, 0.3), 0 1px 3px 1px rgba(60, 64, 67, 0.15);\n",
              "    fill: var(--button-hover-fill-color);\n",
              "  }\n",
              "\n",
              "  .colab-df-quickchart-complete:disabled,\n",
              "  .colab-df-quickchart-complete:disabled:hover {\n",
              "    background-color: var(--disabled-bg-color);\n",
              "    fill: var(--disabled-fill-color);\n",
              "    box-shadow: none;\n",
              "  }\n",
              "\n",
              "  .colab-df-spinner {\n",
              "    border: 2px solid var(--fill-color);\n",
              "    border-color: transparent;\n",
              "    border-bottom-color: var(--fill-color);\n",
              "    animation:\n",
              "      spin 1s steps(1) infinite;\n",
              "  }\n",
              "\n",
              "  @keyframes spin {\n",
              "    0% {\n",
              "      border-color: transparent;\n",
              "      border-bottom-color: var(--fill-color);\n",
              "      border-left-color: var(--fill-color);\n",
              "    }\n",
              "    20% {\n",
              "      border-color: transparent;\n",
              "      border-left-color: var(--fill-color);\n",
              "      border-top-color: var(--fill-color);\n",
              "    }\n",
              "    30% {\n",
              "      border-color: transparent;\n",
              "      border-left-color: var(--fill-color);\n",
              "      border-top-color: var(--fill-color);\n",
              "      border-right-color: var(--fill-color);\n",
              "    }\n",
              "    40% {\n",
              "      border-color: transparent;\n",
              "      border-right-color: var(--fill-color);\n",
              "      border-top-color: var(--fill-color);\n",
              "    }\n",
              "    60% {\n",
              "      border-color: transparent;\n",
              "      border-right-color: var(--fill-color);\n",
              "    }\n",
              "    80% {\n",
              "      border-color: transparent;\n",
              "      border-right-color: var(--fill-color);\n",
              "      border-bottom-color: var(--fill-color);\n",
              "    }\n",
              "    90% {\n",
              "      border-color: transparent;\n",
              "      border-bottom-color: var(--fill-color);\n",
              "    }\n",
              "  }\n",
              "</style>\n",
              "\n",
              "  <script>\n",
              "    async function quickchart(key) {\n",
              "      const quickchartButtonEl =\n",
              "        document.querySelector('#' + key + ' button');\n",
              "      quickchartButtonEl.disabled = true;  // To prevent multiple clicks.\n",
              "      quickchartButtonEl.classList.add('colab-df-spinner');\n",
              "      try {\n",
              "        const charts = await google.colab.kernel.invokeFunction(\n",
              "            'suggestCharts', [key], {});\n",
              "      } catch (error) {\n",
              "        console.error('Error during call to suggestCharts:', error);\n",
              "      }\n",
              "      quickchartButtonEl.classList.remove('colab-df-spinner');\n",
              "      quickchartButtonEl.classList.add('colab-df-quickchart-complete');\n",
              "    }\n",
              "    (() => {\n",
              "      let quickchartButtonEl =\n",
              "        document.querySelector('#df-9fb40cfa-1804-4637-88ff-8cce16565d73 button');\n",
              "      quickchartButtonEl.style.display =\n",
              "        google.colab.kernel.accessAllowed ? 'block' : 'none';\n",
              "    })();\n",
              "  </script>\n",
              "</div>\n",
              "    </div>\n",
              "  </div>\n"
            ],
            "application/vnd.google.colaboratory.intrinsic+json": {
              "type": "dataframe",
              "variable_name": "df",
              "summary": "{\n  \"name\": \"df\",\n  \"rows\": 9900,\n  \"fields\": [\n    {\n      \"column\": 0,\n      \"properties\": {\n        \"dtype\": \"string\",\n        \"num_unique_values\": 9900,\n        \"samples\": [\n          \"(TUR) Transportation is a very crucial dimension of globalization of which we are experiencing in its highest speed . The first cars started to be used in the beginning of the 20th century and have been used for decades as the most available machine for those who are eager to use it . According to my futuristic view about cars in the following twenty years , there will not be fewer cars in use than there are today , but more . I can certainly argue that the globalization process in the `` Third World countries '' will be a very important factor which will lead to the increse in the number of cars . Secondly , because of the lack of the culture of the usage of alternative mechanisms in transportation , the increase will continue . Thirdly , the non-existence of alternative machines produces which are cheap and effective as cars will be another reason for the increase . Finally , even though all of these three handicaps disappear , the government policies and the interests of car-producing corporations will hinder the achievements in reducing the number of cars in use . Firstly , globalization is a process which cannot be stopped in the near future . There are significant numbers of countries which entered the globalization age in the near past , there fore they do not have the number of cars as many as the number of the cars in the West . therefore , the countries like China , India , the countries of Africa or other countries which are not ndustrialized or are not in the free market system newly possesing that culture of usage if cars , which simply measn that there will be more cars in use in the near future . Secondly , in many of the countries , governments suffer from the lack of the culture of using alternative sources of transportation . modernized countries promote the usage of mass transportation and therefore , people living there are used to be directed to these alternatives . but in the countries like Turkey , people do not have the consciousness of mass transportation , instead every individual tend to buy a car for themselves , which is obviously a factor increasing the number of cars . Thirdly , many of car users do not want to give up using their cars since it is very useful and it provides opprtunities to them of which others do not have . People living in Istanbul would not give up their cars since there is a huge mass of cars on the roads which creates a problem for mass transportation users . when there is a jam on the road , the best possible way to rescue yourself from that will not be using mass transportation and get stuck on the roads with those heavy and slow machine , but instead you will want to use your car . Finally , governments in less industrialized countries do not have policies to cope with traffic problem and they do not promote policies to reduce the number of cars in use . On the other hand , the companies or corporations who produce these cars will not be willing to stop their production since that will destroy their interests . these corporations are always in contact with the governments in which they are established and will try to do everything beneficial to their interests . In conclusion , I believe that there will be more cars in use than today . the conditions of globalization and the certaio\",\n          \"(ITA) I think that today is most important to specialize in one specific subject than to have broad knowledge of many academic subject . Today for a person is most important to find a job , and to find a job you must have the knowledge that for example a factory requires . If i can do a bit of all but i don-t know the exact thing that i was contacted to do i will never find a job . For me today factories search people with a specialize knowledge in one specific subject because is difficult today to find persons that have an adeguate preparation in only one thing . To be a specialize person you must spend lot of your time studying and travelling around your country ( or across europe ) to increase your ability . but today for me persons that have the like to do this are became lesser . I can see a lot of my friends that have just finished to study , they don-t like to travel to another city to become better in their work , they are huppy to stay near their home . Fortunately they have found a job near their home but other persons unfortunately didn-t find it also in other countries . So to get a job that tey like they have must attend specialized courses and they have must travel a lot to increase their knowledge . So if you want a job and particulary a job as you like and near your family , for me is necessary a specialize knowledge of something , something that you know is required in the part you have studied for .\",\n          \"(SPA) If we take a look around the world , we will realize that the most successful people have always been at the edge of tecnology and have accomplish their goals by taking risks and trying out new things . It is necessary just to read any successful man 's biography to understand what this means . We all need to learn how to do things the best way we can and I think sometimes it can be quite scary to go into an unknown field , because there is a big chance we might fail . But failure is always a possibility and is present through our whole life and we have to learn to deal with it , because if we all stick to what we do and do n't try out new things , then the world would stop growing and developing and we would be inmerse in a place where there is no innovation . For instance , in bussiness , the best way to be successful is to come out with some product that nobody else has , that makes you unique . But most of the time , there is a big chance people wo n't like it . That 's why even if you do marketing studies , there 's always a risk factor that involves making decissions based on what you believe in without knowing the results . And in spite of how difficult it looks , it is necessary to keep going and make it happen , just to see how it turns out to be . In conclusion , the key to success is to innovate and take risks , this is the only way we will be able to build a better world , not only getting money , but also helping society , because in my opinion , success is not only defined by how rich you are , but by how much you have done for the world we live in .\"\n        ],\n        \"semantic_type\": \"\",\n        \"description\": \"\"\n      }\n    },\n    {\n      \"column\": \"country_code\",\n      \"properties\": {\n        \"dtype\": \"category\",\n        \"num_unique_values\": 11,\n        \"samples\": [\n          \"SPA\",\n          \"GER\",\n          \"FRE\"\n        ],\n        \"semantic_type\": \"\",\n        \"description\": \"\"\n      }\n    },\n    {\n      \"column\": \"text\",\n      \"properties\": {\n        \"dtype\": \"string\",\n        \"num_unique_values\": 9900,\n        \"samples\": [\n          \" Transportation is a very crucial dimension of globalization of which we are experiencing in its highest speed . The first cars started to be used in the beginning of the 20th century and have been used for decades as the most available machine for those who are eager to use it . According to my futuristic view about cars in the following twenty years , there will not be fewer cars in use than there are today , but more . I can certainly argue that the globalization process in the `` Third World countries '' will be a very important factor which will lead to the increse in the number of cars . Secondly , because of the lack of the culture of the usage of alternative mechanisms in transportation , the increase will continue . Thirdly , the non-existence of alternative machines produces which are cheap and effective as cars will be another reason for the increase . Finally , even though all of these three handicaps disappear , the government policies and the interests of car-producing corporations will hinder the achievements in reducing the number of cars in use . Firstly , globalization is a process which cannot be stopped in the near future . There are significant numbers of countries which entered the globalization age in the near past , there fore they do not have the number of cars as many as the number of the cars in the West . therefore , the countries like China , India , the countries of Africa or other countries which are not ndustrialized or are not in the free market system newly possesing that culture of usage if cars , which simply measn that there will be more cars in use in the near future . Secondly , in many of the countries , governments suffer from the lack of the culture of using alternative sources of transportation . modernized countries promote the usage of mass transportation and therefore , people living there are used to be directed to these alternatives . but in the countries like Turkey , people do not have the consciousness of mass transportation , instead every individual tend to buy a car for themselves , which is obviously a factor increasing the number of cars . Thirdly , many of car users do not want to give up using their cars since it is very useful and it provides opprtunities to them of which others do not have . People living in Istanbul would not give up their cars since there is a huge mass of cars on the roads which creates a problem for mass transportation users . when there is a jam on the road , the best possible way to rescue yourself from that will not be using mass transportation and get stuck on the roads with those heavy and slow machine , but instead you will want to use your car . Finally , governments in less industrialized countries do not have policies to cope with traffic problem and they do not promote policies to reduce the number of cars in use . On the other hand , the companies or corporations who produce these cars will not be willing to stop their production since that will destroy their interests . these corporations are always in contact with the governments in which they are established and will try to do everything beneficial to their interests . In conclusion , I believe that there will be more cars in use than today . the conditions of globalization and the certaio\",\n          \" I think that today is most important to specialize in one specific subject than to have broad knowledge of many academic subject . Today for a person is most important to find a job , and to find a job you must have the knowledge that for example a factory requires . If i can do a bit of all but i don-t know the exact thing that i was contacted to do i will never find a job . For me today factories search people with a specialize knowledge in one specific subject because is difficult today to find persons that have an adeguate preparation in only one thing . To be a specialize person you must spend lot of your time studying and travelling around your country ( or across europe ) to increase your ability . but today for me persons that have the like to do this are became lesser . I can see a lot of my friends that have just finished to study , they don-t like to travel to another city to become better in their work , they are huppy to stay near their home . Fortunately they have found a job near their home but other persons unfortunately didn-t find it also in other countries . So to get a job that tey like they have must attend specialized courses and they have must travel a lot to increase their knowledge . So if you want a job and particulary a job as you like and near your family , for me is necessary a specialize knowledge of something , something that you know is required in the part you have studied for .\",\n          \" If we take a look around the world , we will realize that the most successful people have always been at the edge of tecnology and have accomplish their goals by taking risks and trying out new things . It is necessary just to read any successful man 's biography to understand what this means . We all need to learn how to do things the best way we can and I think sometimes it can be quite scary to go into an unknown field , because there is a big chance we might fail . But failure is always a possibility and is present through our whole life and we have to learn to deal with it , because if we all stick to what we do and do n't try out new things , then the world would stop growing and developing and we would be inmerse in a place where there is no innovation . For instance , in bussiness , the best way to be successful is to come out with some product that nobody else has , that makes you unique . But most of the time , there is a big chance people wo n't like it . That 's why even if you do marketing studies , there 's always a risk factor that involves making decissions based on what you believe in without knowing the results . And in spite of how difficult it looks , it is necessary to keep going and make it happen , just to see how it turns out to be . In conclusion , the key to success is to innovate and take risks , this is the only way we will be able to build a better world , not only getting money , but also helping society , because in my opinion , success is not only defined by how rich you are , but by how much you have done for the world we live in .\"\n        ],\n        \"semantic_type\": \"\",\n        \"description\": \"\"\n      }\n    },\n    {\n      \"column\": \"group\",\n      \"properties\": {\n        \"dtype\": \"category\",\n        \"num_unique_values\": 4,\n        \"samples\": [\n          \"ARA+TUR\",\n          \"HIN+TEL\",\n          \"FRE+SPA+ITA+GER\"\n        ],\n        \"semantic_type\": \"\",\n        \"description\": \"\"\n      }\n    }\n  ]\n}"
            }
          },
          "metadata": {},
          "execution_count": 13
        }
      ],
      "source": [
        "create_group(df)"
      ]
    },
    {
      "cell_type": "markdown",
      "metadata": {
        "id": "Sq-fl7H72TLh"
      },
      "source": [
        "#### groups_dataframes"
      ]
    },
    {
      "cell_type": "code",
      "execution_count": 14,
      "metadata": {
        "id": "RA-tVRXo2Vso"
      },
      "outputs": [],
      "source": [
        "# get Dict by groups\n",
        "def create_groups_dataframes(df):\n",
        "  groups_labels = {'HIN+TEL', 'KOR+CHI+JPN', 'FRE+SPA+ITA+GER','ARA+TUR'}\n",
        "  groups_dataframes = {}\n",
        "\n",
        "  for label in groups_labels:\n",
        "      label_df = df[df['group'] == label]  # Replace 'label_column' with the actual column name\n",
        "      groups_dataframes[label] = label_df\n",
        "\n",
        "  return groups_dataframes"
      ]
    },
    {
      "cell_type": "code",
      "execution_count": 15,
      "metadata": {
        "id": "Tms9pb2n42Ur"
      },
      "outputs": [],
      "source": [
        "# get dict by country in each group\n",
        "def create_1_group_dataframes(df, country_labels):\n",
        "  groups_dataframes = {}\n",
        "  for label in country_labels:\n",
        "      label_df = df[df['country_code'] == label]  # Replace 'label_column' with the actual column name\n",
        "      groups_dataframes[label] = label_df\n",
        "\n",
        "  return groups_dataframes"
      ]
    },
    {
      "cell_type": "markdown",
      "metadata": {
        "id": "fh0kwfSc91g8"
      },
      "source": [
        "#### shuffle_rows"
      ]
    },
    {
      "cell_type": "code",
      "execution_count": 16,
      "metadata": {
        "id": "G5RC6AUBwLJv"
      },
      "outputs": [],
      "source": [
        "def shuffle_rows(dfs): # mélange des données\n",
        "    i = 0\n",
        "    for df in dfs:\n",
        "      dfs[i] = df.sample(frac = 1, random_state=42)\n",
        "      i += 1"
      ]
    },
    {
      "cell_type": "markdown",
      "metadata": {
        "id": "mawneZrchYo8"
      },
      "source": [
        "#### train"
      ]
    },
    {
      "cell_type": "code",
      "execution_count": 17,
      "metadata": {
        "id": "J_yE9h4qhcw0"
      },
      "outputs": [],
      "source": [
        "def train(mapping_list, df, save_model_vectorizer):\n",
        "  X = df['text']\n",
        "  y_grouped4 = df['group'].map(mapping_list)\n",
        "\n",
        "  # Entraînement et évaluation des modèles\n",
        "  for model_name, model in models.items():\n",
        "      for vectorizer_name, vectorizer in vectorizers.items():\n",
        "          print('========================= Model: {}; vectorizer: {} ========================='.format(model_name, vectorizer))\n",
        "          train, test, y_train_grouped4, y_test_grouped4 = train_test_split(vectorizer.fit_transform(X), y_grouped4, test_size=0.2, random_state=42)\n",
        "          model_save = evaluate_model_performance_detailed(groups_mapping, model, model_name, vectorizer_name, train, test, y_train_grouped4, y_test_grouped4)\n",
        "          save_model_vectorizer[model_name+'-'+vectorizer_name]  = (model_save, vectorizer)"
      ]
    },
    {
      "cell_type": "code",
      "execution_count": 18,
      "metadata": {
        "id": "q8IoOKMHysm2"
      },
      "outputs": [],
      "source": [
        "def train_1_group(mapping_list, df, save_model_vectorizer):\n",
        "  X = df['text']\n",
        "  print(X.shape)\n",
        "  y_grouped4 = df['country_code'].map(mapping_list)\n",
        "  print(y_grouped4.shape)\n",
        "\n",
        "  # Entraînement et évaluation des modèles\n",
        "  for model_name, model in models.items():\n",
        "      for vectorizer_name, vectorizer in vectorizers.items():\n",
        "          print('========================= Model: {}; vectorizer: {} ========================='.format(model_name, vectorizer))\n",
        "          train, test, y_train_grouped4, y_test_grouped4 = train_test_split(vectorizer.fit_transform(X), y_grouped4, test_size=0.2, random_state=42)\n",
        "          model_save = evaluate_model_performance_detailed(mapping_list, model, model_name, vectorizer_name, train, test, y_train_grouped4, y_test_grouped4)\n",
        "          save_model_vectorizer[model_name+'-'+vectorizer_name]  = (model_save, vectorizer)"
      ]
    },
    {
      "cell_type": "markdown",
      "metadata": {
        "id": "whG8LhHJvFuI"
      },
      "source": [
        "#### best model"
      ]
    },
    {
      "cell_type": "code",
      "execution_count": 19,
      "metadata": {
        "id": "zfnzhybdvNJK"
      },
      "outputs": [],
      "source": [
        "def best(results):\n",
        "  best = max(results, key=lambda key: results[key]['test_accuracy'])\n",
        "  return best"
      ]
    },
    {
      "cell_type": "markdown",
      "metadata": {
        "id": "qkmJkFa_UXDP"
      },
      "source": [
        "##  **3. Regroupement**:\n",
        "\n",
        "  - **Groupe 01**: TEL, HIN\n",
        "  - **Groupe 02**: KOR, CHI, JPN\n",
        "  - **Groupe 03**: FRE, SPA, ITA, GER\n",
        "  - **Groupe 04**: ARA, TUR"
      ]
    },
    {
      "cell_type": "markdown",
      "metadata": {
        "id": "LUj7mtCcvJ0E"
      },
      "source": [
        "#### Unbalanced"
      ]
    },
    {
      "cell_type": "code",
      "execution_count": 20,
      "metadata": {
        "colab": {
          "base_uri": "https://localhost:8080/",
          "height": 321
        },
        "id": "YYavgVQy-9qC",
        "outputId": "eff759e1-443d-414f-f178-815a62404548"
      },
      "outputs": [
        {
          "output_type": "stream",
          "name": "stdout",
          "text": [
            "========================= Model: Logistic Regression; vectorizer: CountVectorizer() =========================\n"
          ]
        },
        {
          "output_type": "error",
          "ename": "KeyboardInterrupt",
          "evalue": "",
          "traceback": [
            "\u001b[0;31m---------------------------------------------------------------------------\u001b[0m",
            "\u001b[0;31mKeyboardInterrupt\u001b[0m                         Traceback (most recent call last)",
            "\u001b[0;32m<ipython-input-20-224449f471a8>\u001b[0m in \u001b[0;36m<cell line: 2>\u001b[0;34m()\u001b[0m\n\u001b[1;32m      1\u001b[0m \u001b[0munbalanced_models\u001b[0m \u001b[0;34m=\u001b[0m \u001b[0;34m{\u001b[0m\u001b[0;34m}\u001b[0m\u001b[0;34m\u001b[0m\u001b[0;34m\u001b[0m\u001b[0m\n\u001b[0;32m----> 2\u001b[0;31m \u001b[0mtrain\u001b[0m\u001b[0;34m(\u001b[0m\u001b[0mnew_mapping_list4\u001b[0m\u001b[0;34m,\u001b[0m \u001b[0mdf\u001b[0m\u001b[0;34m,\u001b[0m \u001b[0munbalanced_models\u001b[0m\u001b[0;34m)\u001b[0m\u001b[0;34m\u001b[0m\u001b[0;34m\u001b[0m\u001b[0m\n\u001b[0m",
            "\u001b[0;32m<ipython-input-17-79665336f6ab>\u001b[0m in \u001b[0;36mtrain\u001b[0;34m(mapping_list, df, save_model_vectorizer)\u001b[0m\n\u001b[1;32m      8\u001b[0m           \u001b[0mprint\u001b[0m\u001b[0;34m(\u001b[0m\u001b[0;34m'========================= Model: {}; vectorizer: {} ========================='\u001b[0m\u001b[0;34m.\u001b[0m\u001b[0mformat\u001b[0m\u001b[0;34m(\u001b[0m\u001b[0mmodel_name\u001b[0m\u001b[0;34m,\u001b[0m \u001b[0mvectorizer\u001b[0m\u001b[0;34m)\u001b[0m\u001b[0;34m)\u001b[0m\u001b[0;34m\u001b[0m\u001b[0;34m\u001b[0m\u001b[0m\n\u001b[1;32m      9\u001b[0m           \u001b[0mtrain\u001b[0m\u001b[0;34m,\u001b[0m \u001b[0mtest\u001b[0m\u001b[0;34m,\u001b[0m \u001b[0my_train_grouped4\u001b[0m\u001b[0;34m,\u001b[0m \u001b[0my_test_grouped4\u001b[0m \u001b[0;34m=\u001b[0m \u001b[0mtrain_test_split\u001b[0m\u001b[0;34m(\u001b[0m\u001b[0mvectorizer\u001b[0m\u001b[0;34m.\u001b[0m\u001b[0mfit_transform\u001b[0m\u001b[0;34m(\u001b[0m\u001b[0mX\u001b[0m\u001b[0;34m)\u001b[0m\u001b[0;34m,\u001b[0m \u001b[0my_grouped4\u001b[0m\u001b[0;34m,\u001b[0m \u001b[0mtest_size\u001b[0m\u001b[0;34m=\u001b[0m\u001b[0;36m0.2\u001b[0m\u001b[0;34m,\u001b[0m \u001b[0mrandom_state\u001b[0m\u001b[0;34m=\u001b[0m\u001b[0;36m42\u001b[0m\u001b[0;34m)\u001b[0m\u001b[0;34m\u001b[0m\u001b[0;34m\u001b[0m\u001b[0m\n\u001b[0;32m---> 10\u001b[0;31m           \u001b[0mmodel_save\u001b[0m \u001b[0;34m=\u001b[0m \u001b[0mevaluate_model_performance_detailed\u001b[0m\u001b[0;34m(\u001b[0m\u001b[0mnew_mapping_list4\u001b[0m\u001b[0;34m,\u001b[0m \u001b[0mmodel\u001b[0m\u001b[0;34m,\u001b[0m \u001b[0mmodel_name\u001b[0m\u001b[0;34m,\u001b[0m \u001b[0mvectorizer_name\u001b[0m\u001b[0;34m,\u001b[0m \u001b[0mtrain\u001b[0m\u001b[0;34m,\u001b[0m \u001b[0mtest\u001b[0m\u001b[0;34m,\u001b[0m \u001b[0my_train_grouped4\u001b[0m\u001b[0;34m,\u001b[0m \u001b[0my_test_grouped4\u001b[0m\u001b[0;34m)\u001b[0m\u001b[0;34m\u001b[0m\u001b[0;34m\u001b[0m\u001b[0m\n\u001b[0m\u001b[1;32m     11\u001b[0m           \u001b[0msave_model_vectorizer\u001b[0m\u001b[0;34m[\u001b[0m\u001b[0mmodel_name\u001b[0m\u001b[0;34m+\u001b[0m\u001b[0;34m'-'\u001b[0m\u001b[0;34m+\u001b[0m\u001b[0mvectorizer_name\u001b[0m\u001b[0;34m]\u001b[0m  \u001b[0;34m=\u001b[0m \u001b[0;34m(\u001b[0m\u001b[0mmodel_save\u001b[0m\u001b[0;34m,\u001b[0m \u001b[0mvectorizer\u001b[0m\u001b[0;34m)\u001b[0m\u001b[0;34m\u001b[0m\u001b[0;34m\u001b[0m\u001b[0m\n",
            "\u001b[0;32m<ipython-input-9-040a03346be9>\u001b[0m in \u001b[0;36mevaluate_model_performance_detailed\u001b[0;34m(mapping_list, model, model_name, method_name, train, test, y_train, y_test)\u001b[0m\n\u001b[1;32m      2\u001b[0m \u001b[0;34m\u001b[0m\u001b[0m\n\u001b[1;32m      3\u001b[0m \u001b[0;32mdef\u001b[0m \u001b[0mevaluate_model_performance_detailed\u001b[0m\u001b[0;34m(\u001b[0m\u001b[0mmapping_list\u001b[0m\u001b[0;34m,\u001b[0m \u001b[0mmodel\u001b[0m\u001b[0;34m,\u001b[0m \u001b[0mmodel_name\u001b[0m\u001b[0;34m,\u001b[0m \u001b[0mmethod_name\u001b[0m\u001b[0;34m,\u001b[0m \u001b[0mtrain\u001b[0m\u001b[0;34m,\u001b[0m \u001b[0mtest\u001b[0m\u001b[0;34m,\u001b[0m \u001b[0my_train\u001b[0m\u001b[0;34m,\u001b[0m \u001b[0my_test\u001b[0m\u001b[0;34m)\u001b[0m\u001b[0;34m:\u001b[0m\u001b[0;34m\u001b[0m\u001b[0;34m\u001b[0m\u001b[0m\n\u001b[0;32m----> 4\u001b[0;31m     \u001b[0mmodel\u001b[0m\u001b[0;34m.\u001b[0m\u001b[0mfit\u001b[0m\u001b[0;34m(\u001b[0m\u001b[0mtrain\u001b[0m\u001b[0;34m,\u001b[0m \u001b[0my_train\u001b[0m\u001b[0;34m)\u001b[0m\u001b[0;34m\u001b[0m\u001b[0;34m\u001b[0m\u001b[0m\n\u001b[0m\u001b[1;32m      5\u001b[0m     \u001b[0mpredictions\u001b[0m \u001b[0;34m=\u001b[0m \u001b[0mmodel\u001b[0m\u001b[0;34m.\u001b[0m\u001b[0mpredict\u001b[0m\u001b[0;34m(\u001b[0m\u001b[0mtest\u001b[0m\u001b[0;34m)\u001b[0m\u001b[0;34m\u001b[0m\u001b[0;34m\u001b[0m\u001b[0m\n\u001b[1;32m      6\u001b[0m \u001b[0;34m\u001b[0m\u001b[0m\n",
            "\u001b[0;32m/usr/local/lib/python3.10/dist-packages/sklearn/linear_model/_logistic.py\u001b[0m in \u001b[0;36mfit\u001b[0;34m(self, X, y, sample_weight)\u001b[0m\n\u001b[1;32m   1289\u001b[0m             \u001b[0mn_threads\u001b[0m \u001b[0;34m=\u001b[0m \u001b[0;36m1\u001b[0m\u001b[0;34m\u001b[0m\u001b[0;34m\u001b[0m\u001b[0m\n\u001b[1;32m   1290\u001b[0m \u001b[0;34m\u001b[0m\u001b[0m\n\u001b[0;32m-> 1291\u001b[0;31m         fold_coefs_ = Parallel(n_jobs=self.n_jobs, verbose=self.verbose, prefer=prefer)(\n\u001b[0m\u001b[1;32m   1292\u001b[0m             path_func(\n\u001b[1;32m   1293\u001b[0m                 \u001b[0mX\u001b[0m\u001b[0;34m,\u001b[0m\u001b[0;34m\u001b[0m\u001b[0;34m\u001b[0m\u001b[0m\n",
            "\u001b[0;32m/usr/local/lib/python3.10/dist-packages/sklearn/utils/parallel.py\u001b[0m in \u001b[0;36m__call__\u001b[0;34m(self, iterable)\u001b[0m\n\u001b[1;32m     61\u001b[0m             \u001b[0;32mfor\u001b[0m \u001b[0mdelayed_func\u001b[0m\u001b[0;34m,\u001b[0m \u001b[0margs\u001b[0m\u001b[0;34m,\u001b[0m \u001b[0mkwargs\u001b[0m \u001b[0;32min\u001b[0m \u001b[0miterable\u001b[0m\u001b[0;34m\u001b[0m\u001b[0;34m\u001b[0m\u001b[0m\n\u001b[1;32m     62\u001b[0m         )\n\u001b[0;32m---> 63\u001b[0;31m         \u001b[0;32mreturn\u001b[0m \u001b[0msuper\u001b[0m\u001b[0;34m(\u001b[0m\u001b[0;34m)\u001b[0m\u001b[0;34m.\u001b[0m\u001b[0m__call__\u001b[0m\u001b[0;34m(\u001b[0m\u001b[0miterable_with_config\u001b[0m\u001b[0;34m)\u001b[0m\u001b[0;34m\u001b[0m\u001b[0;34m\u001b[0m\u001b[0m\n\u001b[0m\u001b[1;32m     64\u001b[0m \u001b[0;34m\u001b[0m\u001b[0m\n\u001b[1;32m     65\u001b[0m \u001b[0;34m\u001b[0m\u001b[0m\n",
            "\u001b[0;32m/usr/local/lib/python3.10/dist-packages/joblib/parallel.py\u001b[0m in \u001b[0;36m__call__\u001b[0;34m(self, iterable)\u001b[0m\n\u001b[1;32m   1861\u001b[0m             \u001b[0moutput\u001b[0m \u001b[0;34m=\u001b[0m \u001b[0mself\u001b[0m\u001b[0;34m.\u001b[0m\u001b[0m_get_sequential_output\u001b[0m\u001b[0;34m(\u001b[0m\u001b[0miterable\u001b[0m\u001b[0;34m)\u001b[0m\u001b[0;34m\u001b[0m\u001b[0;34m\u001b[0m\u001b[0m\n\u001b[1;32m   1862\u001b[0m             \u001b[0mnext\u001b[0m\u001b[0;34m(\u001b[0m\u001b[0moutput\u001b[0m\u001b[0;34m)\u001b[0m\u001b[0;34m\u001b[0m\u001b[0;34m\u001b[0m\u001b[0m\n\u001b[0;32m-> 1863\u001b[0;31m             \u001b[0;32mreturn\u001b[0m \u001b[0moutput\u001b[0m \u001b[0;32mif\u001b[0m \u001b[0mself\u001b[0m\u001b[0;34m.\u001b[0m\u001b[0mreturn_generator\u001b[0m \u001b[0;32melse\u001b[0m \u001b[0mlist\u001b[0m\u001b[0;34m(\u001b[0m\u001b[0moutput\u001b[0m\u001b[0;34m)\u001b[0m\u001b[0;34m\u001b[0m\u001b[0;34m\u001b[0m\u001b[0m\n\u001b[0m\u001b[1;32m   1864\u001b[0m \u001b[0;34m\u001b[0m\u001b[0m\n\u001b[1;32m   1865\u001b[0m         \u001b[0;31m# Let's create an ID that uniquely identifies the current call. If the\u001b[0m\u001b[0;34m\u001b[0m\u001b[0;34m\u001b[0m\u001b[0m\n",
            "\u001b[0;32m/usr/local/lib/python3.10/dist-packages/joblib/parallel.py\u001b[0m in \u001b[0;36m_get_sequential_output\u001b[0;34m(self, iterable)\u001b[0m\n\u001b[1;32m   1790\u001b[0m                 \u001b[0mself\u001b[0m\u001b[0;34m.\u001b[0m\u001b[0mn_dispatched_batches\u001b[0m \u001b[0;34m+=\u001b[0m \u001b[0;36m1\u001b[0m\u001b[0;34m\u001b[0m\u001b[0;34m\u001b[0m\u001b[0m\n\u001b[1;32m   1791\u001b[0m                 \u001b[0mself\u001b[0m\u001b[0;34m.\u001b[0m\u001b[0mn_dispatched_tasks\u001b[0m \u001b[0;34m+=\u001b[0m \u001b[0;36m1\u001b[0m\u001b[0;34m\u001b[0m\u001b[0;34m\u001b[0m\u001b[0m\n\u001b[0;32m-> 1792\u001b[0;31m                 \u001b[0mres\u001b[0m \u001b[0;34m=\u001b[0m \u001b[0mfunc\u001b[0m\u001b[0;34m(\u001b[0m\u001b[0;34m*\u001b[0m\u001b[0margs\u001b[0m\u001b[0;34m,\u001b[0m \u001b[0;34m**\u001b[0m\u001b[0mkwargs\u001b[0m\u001b[0;34m)\u001b[0m\u001b[0;34m\u001b[0m\u001b[0;34m\u001b[0m\u001b[0m\n\u001b[0m\u001b[1;32m   1793\u001b[0m                 \u001b[0mself\u001b[0m\u001b[0;34m.\u001b[0m\u001b[0mn_completed_tasks\u001b[0m \u001b[0;34m+=\u001b[0m \u001b[0;36m1\u001b[0m\u001b[0;34m\u001b[0m\u001b[0;34m\u001b[0m\u001b[0m\n\u001b[1;32m   1794\u001b[0m                 \u001b[0mself\u001b[0m\u001b[0;34m.\u001b[0m\u001b[0mprint_progress\u001b[0m\u001b[0;34m(\u001b[0m\u001b[0;34m)\u001b[0m\u001b[0;34m\u001b[0m\u001b[0;34m\u001b[0m\u001b[0m\n",
            "\u001b[0;32m/usr/local/lib/python3.10/dist-packages/sklearn/utils/parallel.py\u001b[0m in \u001b[0;36m__call__\u001b[0;34m(self, *args, **kwargs)\u001b[0m\n\u001b[1;32m    121\u001b[0m             \u001b[0mconfig\u001b[0m \u001b[0;34m=\u001b[0m \u001b[0;34m{\u001b[0m\u001b[0;34m}\u001b[0m\u001b[0;34m\u001b[0m\u001b[0;34m\u001b[0m\u001b[0m\n\u001b[1;32m    122\u001b[0m         \u001b[0;32mwith\u001b[0m \u001b[0mconfig_context\u001b[0m\u001b[0;34m(\u001b[0m\u001b[0;34m**\u001b[0m\u001b[0mconfig\u001b[0m\u001b[0;34m)\u001b[0m\u001b[0;34m:\u001b[0m\u001b[0;34m\u001b[0m\u001b[0;34m\u001b[0m\u001b[0m\n\u001b[0;32m--> 123\u001b[0;31m             \u001b[0;32mreturn\u001b[0m \u001b[0mself\u001b[0m\u001b[0;34m.\u001b[0m\u001b[0mfunction\u001b[0m\u001b[0;34m(\u001b[0m\u001b[0;34m*\u001b[0m\u001b[0margs\u001b[0m\u001b[0;34m,\u001b[0m \u001b[0;34m**\u001b[0m\u001b[0mkwargs\u001b[0m\u001b[0;34m)\u001b[0m\u001b[0;34m\u001b[0m\u001b[0;34m\u001b[0m\u001b[0m\n\u001b[0m",
            "\u001b[0;32m/usr/local/lib/python3.10/dist-packages/sklearn/linear_model/_logistic.py\u001b[0m in \u001b[0;36m_logistic_regression_path\u001b[0;34m(X, y, pos_class, Cs, fit_intercept, max_iter, tol, verbose, solver, coef, class_weight, dual, penalty, intercept_scaling, multi_class, random_state, check_input, max_squared_sum, sample_weight, l1_ratio, n_threads)\u001b[0m\n\u001b[1;32m    448\u001b[0m                 \u001b[0mnp\u001b[0m\u001b[0;34m.\u001b[0m\u001b[0msearchsorted\u001b[0m\u001b[0;34m(\u001b[0m\u001b[0mnp\u001b[0m\u001b[0;34m.\u001b[0m\u001b[0marray\u001b[0m\u001b[0;34m(\u001b[0m\u001b[0;34m[\u001b[0m\u001b[0;36m0\u001b[0m\u001b[0;34m,\u001b[0m \u001b[0;36m1\u001b[0m\u001b[0;34m,\u001b[0m \u001b[0;36m2\u001b[0m\u001b[0;34m,\u001b[0m \u001b[0;36m3\u001b[0m\u001b[0;34m]\u001b[0m\u001b[0;34m)\u001b[0m\u001b[0;34m,\u001b[0m \u001b[0mverbose\u001b[0m\u001b[0;34m)\u001b[0m\u001b[0;34m\u001b[0m\u001b[0;34m\u001b[0m\u001b[0m\n\u001b[1;32m    449\u001b[0m             ]\n\u001b[0;32m--> 450\u001b[0;31m             opt_res = optimize.minimize(\n\u001b[0m\u001b[1;32m    451\u001b[0m                 \u001b[0mfunc\u001b[0m\u001b[0;34m,\u001b[0m\u001b[0;34m\u001b[0m\u001b[0;34m\u001b[0m\u001b[0m\n\u001b[1;32m    452\u001b[0m                 \u001b[0mw0\u001b[0m\u001b[0;34m,\u001b[0m\u001b[0;34m\u001b[0m\u001b[0;34m\u001b[0m\u001b[0m\n",
            "\u001b[0;32m/usr/local/lib/python3.10/dist-packages/scipy/optimize/_minimize.py\u001b[0m in \u001b[0;36mminimize\u001b[0;34m(fun, x0, args, method, jac, hess, hessp, bounds, constraints, tol, callback, options)\u001b[0m\n\u001b[1;32m    708\u001b[0m                                  **options)\n\u001b[1;32m    709\u001b[0m     \u001b[0;32melif\u001b[0m \u001b[0mmeth\u001b[0m \u001b[0;34m==\u001b[0m \u001b[0;34m'l-bfgs-b'\u001b[0m\u001b[0;34m:\u001b[0m\u001b[0;34m\u001b[0m\u001b[0;34m\u001b[0m\u001b[0m\n\u001b[0;32m--> 710\u001b[0;31m         res = _minimize_lbfgsb(fun, x0, args, jac, bounds,\n\u001b[0m\u001b[1;32m    711\u001b[0m                                callback=callback, **options)\n\u001b[1;32m    712\u001b[0m     \u001b[0;32melif\u001b[0m \u001b[0mmeth\u001b[0m \u001b[0;34m==\u001b[0m \u001b[0;34m'tnc'\u001b[0m\u001b[0;34m:\u001b[0m\u001b[0;34m\u001b[0m\u001b[0;34m\u001b[0m\u001b[0m\n",
            "\u001b[0;32m/usr/local/lib/python3.10/dist-packages/scipy/optimize/_lbfgsb_py.py\u001b[0m in \u001b[0;36m_minimize_lbfgsb\u001b[0;34m(fun, x0, args, jac, bounds, disp, maxcor, ftol, gtol, eps, maxfun, maxiter, iprint, callback, maxls, finite_diff_rel_step, **unknown_options)\u001b[0m\n\u001b[1;32m    289\u001b[0m     \u001b[0;31m# LBFGSB is sent 'old-style' bounds, 'new-style' bounds are required by\u001b[0m\u001b[0;34m\u001b[0m\u001b[0;34m\u001b[0m\u001b[0m\n\u001b[1;32m    290\u001b[0m     \u001b[0;31m# approx_derivative and ScalarFunction\u001b[0m\u001b[0;34m\u001b[0m\u001b[0;34m\u001b[0m\u001b[0m\n\u001b[0;32m--> 291\u001b[0;31m     \u001b[0mnew_bounds\u001b[0m \u001b[0;34m=\u001b[0m \u001b[0mold_bound_to_new\u001b[0m\u001b[0;34m(\u001b[0m\u001b[0mbounds\u001b[0m\u001b[0;34m)\u001b[0m\u001b[0;34m\u001b[0m\u001b[0;34m\u001b[0m\u001b[0m\n\u001b[0m\u001b[1;32m    292\u001b[0m \u001b[0;34m\u001b[0m\u001b[0m\n\u001b[1;32m    293\u001b[0m     \u001b[0;31m# check bounds\u001b[0m\u001b[0;34m\u001b[0m\u001b[0;34m\u001b[0m\u001b[0m\n",
            "\u001b[0;32m/usr/local/lib/python3.10/dist-packages/scipy/optimize/_constraints.py\u001b[0m in \u001b[0;36mold_bound_to_new\u001b[0;34m(bounds)\u001b[0m\n\u001b[1;32m    424\u001b[0m     \u001b[0;34m-\u001b[0m\u001b[0mnp\u001b[0m\u001b[0;34m.\u001b[0m\u001b[0minf\u001b[0m\u001b[0;34m/\u001b[0m\u001b[0mnp\u001b[0m\u001b[0;34m.\u001b[0m\u001b[0minf\u001b[0m\u001b[0;34m.\u001b[0m\u001b[0;34m\u001b[0m\u001b[0;34m\u001b[0m\u001b[0m\n\u001b[1;32m    425\u001b[0m     \"\"\"\n\u001b[0;32m--> 426\u001b[0;31m     \u001b[0mlb\u001b[0m\u001b[0;34m,\u001b[0m \u001b[0mub\u001b[0m \u001b[0;34m=\u001b[0m \u001b[0mzip\u001b[0m\u001b[0;34m(\u001b[0m\u001b[0;34m*\u001b[0m\u001b[0mbounds\u001b[0m\u001b[0;34m)\u001b[0m\u001b[0;34m\u001b[0m\u001b[0;34m\u001b[0m\u001b[0m\n\u001b[0m\u001b[1;32m    427\u001b[0m \u001b[0;34m\u001b[0m\u001b[0m\n\u001b[1;32m    428\u001b[0m     \u001b[0;31m# Convert occurrences of None to -inf or inf, and replace occurrences of\u001b[0m\u001b[0;34m\u001b[0m\u001b[0;34m\u001b[0m\u001b[0m\n",
            "\u001b[0;31mKeyboardInterrupt\u001b[0m: "
          ]
        }
      ],
      "source": [
        "unbalanced_models = {}\n",
        "train(groups_mapping, df, unbalanced_models)"
      ]
    },
    {
      "cell_type": "markdown",
      "metadata": {
        "id": "KqKx4e-OvBxP"
      },
      "source": [
        "Best model"
      ]
    },
    {
      "cell_type": "code",
      "execution_count": null,
      "metadata": {
        "id": "M_-YFwOKvDZD"
      },
      "outputs": [],
      "source": [
        "unbalanced_models"
      ]
    },
    {
      "cell_type": "markdown",
      "metadata": {
        "id": "qXVMrSB4scOK"
      },
      "source": [
        "#### Balanced"
      ]
    },
    {
      "cell_type": "code",
      "execution_count": 21,
      "metadata": {
        "colab": {
          "base_uri": "https://localhost:8080/"
        },
        "id": "0vOTwh_AZzqZ",
        "outputId": "940a1484-1cfb-4434-91fb-9effc47633ca"
      },
      "outputs": [
        {
          "output_type": "stream",
          "name": "stdout",
          "text": [
            "ARA+TUR            1800\n",
            "FRE+SPA+ITA+GER    1800\n",
            "HIN+TEL            1800\n",
            "KOR+CHI+JPN        1800\n",
            "Name: group, dtype: int64\n",
            "group            country_code\n",
            "ARA+TUR          ARA             900\n",
            "                 TUR             900\n",
            "FRE+SPA+ITA+GER  FRE             450\n",
            "                 GER             450\n",
            "                 ITA             450\n",
            "                 SPA             450\n",
            "HIN+TEL          HIN             900\n",
            "                 TEL             900\n",
            "KOR+CHI+JPN      CHI             600\n",
            "                 JPN             600\n",
            "                 KOR             600\n",
            "dtype: int64\n"
          ]
        }
      ],
      "source": [
        "# Balance the dataset\n",
        "balanced_df = balance_dataset_groups(df)\n",
        "\n",
        "# Verify the balance\n",
        "print(balanced_df['group'].value_counts())\n",
        "print(balanced_df.groupby(['group', 'country_code']).size())"
      ]
    },
    {
      "cell_type": "code",
      "execution_count": null,
      "metadata": {
        "id": "eAU8MS0ZpwYN"
      },
      "outputs": [],
      "source": [
        "balanced_models = {}\n",
        "train(groups_mapping, balanced_df, balanced_models)"
      ]
    },
    {
      "cell_type": "code",
      "execution_count": null,
      "metadata": {
        "id": "gmsmzDzQ0T0E"
      },
      "outputs": [],
      "source": [
        "balanced_models"
      ]
    },
    {
      "cell_type": "markdown",
      "metadata": {
        "id": "3PZGnitsUiCh"
      },
      "source": [
        "# 4. cross validation functions"
      ]
    },
    {
      "cell_type": "markdown",
      "metadata": {
        "id": "vywN_RYwtoxk"
      },
      "source": [
        "##### Utils"
      ]
    },
    {
      "cell_type": "code",
      "execution_count": 22,
      "metadata": {
        "id": "IdxWddo7cTWe"
      },
      "outputs": [],
      "source": [
        "# separate the dataframe into labels\n",
        "balanced_df = balanced_df.iloc[: , 1:]"
      ]
    },
    {
      "cell_type": "code",
      "execution_count": 23,
      "metadata": {
        "id": "ALtkTleZ2Pfs"
      },
      "outputs": [],
      "source": [
        "labels = {\"GER\",\"TUR\",\"CHI\",\"TEL\",\"ARA\",\"SPA\",\"HIN\",\"JPN\",\"KOR\",\"FRE\",\"ITA\"}"
      ]
    },
    {
      "cell_type": "code",
      "execution_count": 24,
      "metadata": {
        "id": "ns9URyLI2Eny"
      },
      "outputs": [],
      "source": [
        "label_dataframes = {}\n",
        "\n",
        "for label in labels:\n",
        "    label_df = df[df['country_code'] == label]  # Replace 'label_column' with the actual column name\n",
        "    label_dataframes[label] = label_df"
      ]
    },
    {
      "cell_type": "code",
      "execution_count": 25,
      "metadata": {
        "id": "Ae6TR9izy5bx"
      },
      "outputs": [],
      "source": [
        "groups_df = create_groups_dataframes(balanced_df)"
      ]
    },
    {
      "cell_type": "code",
      "execution_count": 26,
      "metadata": {
        "colab": {
          "base_uri": "https://localhost:8080/"
        },
        "id": "xEDWMWlP7UPS",
        "outputId": "b381cd89-87d9-43e8-e542-9ed1ec67f17e"
      },
      "outputs": [
        {
          "output_type": "execute_result",
          "data": {
            "text/plain": [
              "dict_keys(['HIN+TEL', 'FRE+SPA+ITA+GER', 'KOR+CHI+JPN', 'ARA+TUR'])"
            ]
          },
          "metadata": {},
          "execution_count": 26
        }
      ],
      "source": [
        "groups_df.keys()"
      ]
    },
    {
      "cell_type": "code",
      "execution_count": 27,
      "metadata": {
        "colab": {
          "base_uri": "https://localhost:8080/"
        },
        "id": "kCixcUE18iXj",
        "outputId": "49ad2b1f-837f-4ecd-ee13-410bc347c94a"
      },
      "outputs": [
        {
          "output_type": "execute_result",
          "data": {
            "text/plain": [
              "(1800, 3)"
            ]
          },
          "metadata": {},
          "execution_count": 27
        }
      ],
      "source": [
        "groups_df['HIN+TEL'].shape"
      ]
    },
    {
      "cell_type": "markdown",
      "metadata": {
        "id": "P5i_rrnwXb5n"
      },
      "source": [
        "##### splits"
      ]
    },
    {
      "cell_type": "code",
      "execution_count": 28,
      "metadata": {
        "id": "flwkoMW2c2Ou"
      },
      "outputs": [],
      "source": [
        "def splits(label_dataframes, split_nbr):\n",
        "    size = 1800\n",
        "    max = 100\n",
        "\n",
        "    trains = []\n",
        "    devs = []\n",
        "    tests = []\n",
        "\n",
        "    start = 0\n",
        "    end = size // split_nbr if split_nbr != 0 and size // split_nbr < max else max\n",
        "\n",
        "    while split_nbr != 0:\n",
        "        split_nbr -= 1\n",
        "\n",
        "        train_splits = []\n",
        "        dev_splits = []\n",
        "        test_splits = []\n",
        "\n",
        "        for df in label_dataframes.values():\n",
        "            test_split = df[start:end]\n",
        "            dev_split = df[end:end + (end - start)]  # Set dev_split size to (end - start)\n",
        "            train_split = df[end + (end - start):]    # The remaining data goes to test_split\n",
        "\n",
        "            train_splits.append(train_split)\n",
        "            dev_splits.append(dev_split)\n",
        "            test_splits.append(test_split)\n",
        "\n",
        "        trains.append(pd.concat(train_splits))\n",
        "        devs.append(pd.concat(dev_splits))\n",
        "        tests.append(pd.concat(test_splits))\n",
        "\n",
        "        start = end\n",
        "        end = start + (size // split_nbr) if split_nbr != 0 and (size // split_nbr) < max else (start + max)\n",
        "\n",
        "    return trains, devs, tests\n"
      ]
    },
    {
      "cell_type": "markdown",
      "metadata": {
        "id": "o9wVipRLXe83"
      },
      "source": [
        "##### test indexes"
      ]
    },
    {
      "cell_type": "code",
      "execution_count": 29,
      "metadata": {
        "id": "zkkG17TE4LJx"
      },
      "outputs": [],
      "source": [
        "def test_diffrent_indexes(dfs):\n",
        "    # Initialize a variable to track if indexes are different\n",
        "    different_indexes = False\n",
        "\n",
        "    # Iterate through pairs of DataFrames and compare indexes\n",
        "    for i in range(len(dfs) - 1):\n",
        "        for j in range(i + 1, len(dfs)):\n",
        "            if not dfs[i].index.equals(dfs[j].index):\n",
        "                different_indexes = True\n",
        "                break\n",
        "        if different_indexes:\n",
        "            break\n",
        "\n",
        "    # Output the result\n",
        "    if different_indexes:\n",
        "        print(\"The DataFrames have different indexes.\")\n",
        "    else:\n",
        "        print(\"The DataFrames have the same indexes.\")"
      ]
    },
    {
      "cell_type": "code",
      "execution_count": 30,
      "metadata": {
        "id": "lJ4CdoHV13t5"
      },
      "outputs": [],
      "source": [
        "trains, devs, tests = splits(groups_df, 3)"
      ]
    },
    {
      "cell_type": "code",
      "execution_count": 31,
      "metadata": {
        "colab": {
          "base_uri": "https://localhost:8080/"
        },
        "id": "Mupk1XXkvnp5",
        "outputId": "c208c1aa-b738-4834-d5e8-a30d05f09846"
      },
      "outputs": [
        {
          "output_type": "stream",
          "name": "stdout",
          "text": [
            "The DataFrames have different indexes.\n",
            "The DataFrames have different indexes.\n"
          ]
        },
        {
          "output_type": "execute_result",
          "data": {
            "text/plain": [
              "(None, None)"
            ]
          },
          "metadata": {},
          "execution_count": 31
        }
      ],
      "source": [
        "test_diffrent_indexes(devs), test_diffrent_indexes(tests)"
      ]
    },
    {
      "cell_type": "code",
      "execution_count": 32,
      "metadata": {
        "colab": {
          "base_uri": "https://localhost:8080/"
        },
        "id": "r8fEpLDQwYOl",
        "outputId": "9c65fbed-8fa2-46e7-9856-25c3b4bf50c4"
      },
      "outputs": [
        {
          "output_type": "execute_result",
          "data": {
            "text/plain": [
              "(None, None, None)"
            ]
          },
          "metadata": {},
          "execution_count": 32
        }
      ],
      "source": [
        "shuffle_rows(trains), shuffle_rows(tests), shuffle_rows(devs)"
      ]
    },
    {
      "cell_type": "code",
      "execution_count": 33,
      "metadata": {
        "colab": {
          "base_uri": "https://localhost:8080/"
        },
        "id": "ovZCLY633_sd",
        "outputId": "4e5ea127-8818-4551-9c38-cd593ec08679"
      },
      "outputs": [
        {
          "output_type": "execute_result",
          "data": {
            "text/plain": [
              "(6400, 400, 400)"
            ]
          },
          "metadata": {},
          "execution_count": 33
        }
      ],
      "source": [
        "trains[0].shape[0], devs[0].shape[0], tests[0].shape[0],"
      ]
    },
    {
      "cell_type": "markdown",
      "metadata": {
        "id": "XLM-XNTXXmLM"
      },
      "source": [
        "##### cross validation"
      ]
    },
    {
      "cell_type": "code",
      "execution_count": 34,
      "metadata": {
        "id": "7Rx2_yuMWC-i"
      },
      "outputs": [],
      "source": [
        "from sklearn.model_selection import cross_val_score, ParameterGrid\n",
        "from sklearn.svm import SVC\n",
        "from sklearn.feature_extraction.text import TfidfVectorizer\n",
        "from sklearn.pipeline import FeatureUnion, Pipeline\n",
        "from sklearn.compose import ColumnTransformer\n",
        "from sklearn.preprocessing import StandardScaler\n",
        "from sklearn.metrics import accuracy_score\n",
        "import numpy as np\n",
        "import time\n",
        "\n",
        "def cross_validation(mapping_list, df, model, params, vectorizer, split=3):\n",
        "    # split data: train, dev, test\n",
        "    trains, devs, tests = splits(df, split)\n",
        "\n",
        "    param_grid = ParameterGrid(params)\n",
        "    results = {}\n",
        "\n",
        "    for param in param_grid:\n",
        "        iteration = 0\n",
        "        accuracies = []\n",
        "        test_accuracies=[]\n",
        "        print(param)\n",
        "\n",
        "        model.set_params(**param)  # set model parameters\n",
        "        print(model)\n",
        "\n",
        "        for train, dev, test in zip(trains, devs, tests):\n",
        "            start = time.time()\n",
        "            iteration += 1\n",
        "            print(iteration)\n",
        "\n",
        "            # Feature extraction for text\n",
        "            vectorizer.fit(train['text'])\n",
        "            X_train_text = vectorizer.transform(train['text'])\n",
        "            X_dev_text = vectorizer.transform(dev['text'])\n",
        "            X_test_text = vectorizer.transform(test['text'])\n",
        "\n",
        "\n",
        "            # Train the model on the training set\n",
        "            model.fit(X_train_text, train['group'].map(mapping_list))\n",
        "\n",
        "            # Validate the model on the dev set\n",
        "            accuracy = model.score(X_dev_text, dev['group'].map(mapping_list))\n",
        "            accuracies.append(accuracy)\n",
        "\n",
        "            # Evaluate the model on the test set\n",
        "            test_accuracy = model.score(X_test_text, test['group'].map(mapping_list))\n",
        "            test_accuracies.append(test_accuracy)\n",
        "\n",
        "            print(\"Dev Accuracy= \" + str(accuracy))\n",
        "            print(\"Test Accuracy= \" + str(test_accuracy))\n",
        "            print(\"time spent=\" + str((time.time()-start)/60))\n",
        "\n",
        "        results[str(param)] = {\n",
        "            \"model\": model.set_params(**param),\n",
        "            \"vectorizer\": vectorizer,\n",
        "            'dev_mean_accuracy': sum(accuracies) / len(accuracies),\n",
        "            'test_accuracy': sum(test_accuracies) / len(test_accuracies),\n",
        "        }\n",
        "\n",
        "    return results"
      ]
    },
    {
      "cell_type": "code",
      "execution_count": 35,
      "metadata": {
        "id": "uo-lbtnVGLSZ"
      },
      "outputs": [],
      "source": [
        "\n",
        "def cross_validation_1group(mapping_list, df, model, params, vectorizer, split=3):\n",
        "    # split data: train, dev, test\n",
        "    trains, devs, tests = splits(df, split)\n",
        "\n",
        "    param_grid = ParameterGrid(params)\n",
        "    results = {}\n",
        "\n",
        "    for param in param_grid:\n",
        "        iteration = 0\n",
        "        accuracies = []\n",
        "        test_accuracies=[]\n",
        "        print(param)\n",
        "\n",
        "        # Train the model on the training set\n",
        "        model.set_params(**param)  # set model parameters\n",
        "        print(model)\n",
        "\n",
        "        for train, dev, test in zip(trains, devs, tests):\n",
        "            start = time.time()\n",
        "            iteration += 1\n",
        "            print(iteration)\n",
        "\n",
        "            # Feature extraction for text\n",
        "            vectorizer.fit(train['text'])\n",
        "            X_train_text = vectorizer.transform(train['text'])\n",
        "            X_dev_text = vectorizer.transform(dev['text'])\n",
        "            X_test_text = vectorizer.transform(test['text'])\n",
        "\n",
        "\n",
        "            model.fit(X_train_text, train['country_code'].map(mapping_list))\n",
        "\n",
        "            # Validate the model on the dev set\n",
        "            accuracy = model.score(X_dev_text, dev['country_code'].map(mapping_list))\n",
        "            accuracies.append(accuracy)\n",
        "\n",
        "            # Evaluate the model on the test set\n",
        "            test_accuracy = model.score(X_test_text, test['country_code'].map(mapping_list))\n",
        "            test_accuracies.append(test_accuracy)\n",
        "\n",
        "            print(\"Dev Accuracy= \" + str(accuracy))\n",
        "            print(\"Test Accuracy= \" + str(test_accuracy))\n",
        "            print(\"time spent=\" + str((time.time()-start)/60))\n",
        "\n",
        "        results[str(param)] = {\n",
        "            \"model\": model.set_params(**param),\n",
        "            \"vectorizer\": vectorizer,\n",
        "            'dev_mean_accuracy': sum(accuracies) / len(accuracies),\n",
        "            'test_accuracy': sum(test_accuracies) / len(test_accuracies),\n",
        "        }\n",
        "\n",
        "    return results"
      ]
    },
    {
      "cell_type": "markdown",
      "metadata": {
        "id": "cmEy2cvGtN5p"
      },
      "source": [
        "##### save & load model"
      ]
    },
    {
      "cell_type": "code",
      "execution_count": 36,
      "metadata": {
        "id": "T840XRVptPzY"
      },
      "outputs": [],
      "source": [
        "import pickle\n",
        "\n",
        "def save_model_vectorizer(model, vectorizer, model_name, vectorizer_name):\n",
        "    pickle.dump(model, open(model_name, 'wb'))\n",
        "    pickle.dump(vectorizer, open(vectorizer_name, 'wb'))"
      ]
    },
    {
      "cell_type": "code",
      "execution_count": 37,
      "metadata": {
        "id": "jvvaGw_xtv43"
      },
      "outputs": [],
      "source": [
        "def load(filename):\n",
        "    return  pickle.load(open(filename, 'rb'))"
      ]
    },
    {
      "cell_type": "markdown",
      "metadata": {
        "id": "AIDJ3UEtaH_p"
      },
      "source": [
        "# 5. Cross validation first model M1"
      ]
    },
    {
      "cell_type": "markdown",
      "metadata": {
        "id": "rCBgyf21Quno"
      },
      "source": [
        "## Grids and models"
      ]
    },
    {
      "cell_type": "code",
      "execution_count": 38,
      "metadata": {
        "id": "KJ5TlqdCQt_j"
      },
      "outputs": [],
      "source": [
        "lr_model = LogisticRegression()\n",
        "lr_param_grid = {\n",
        "    'penalty': ['l2'],  # Regularization penalty\n",
        "    'C': [0.01, 1],  # Inverse regularization strength (reduced to two values)\n",
        "    'solver': ['liblinear', 'saga'],  # Algorithm to use in the optimization problem\n",
        "    'max_iter': [1500],  # Maximum number of iterations (reduced to one value)\n",
        "    'tol': [1e-4]  # Tolerance for stopping criteria (only one value)\n",
        "}"
      ]
    },
    {
      "cell_type": "markdown",
      "metadata": {
        "id": "iQw4Mbiftsp0"
      },
      "source": [
        "##LogisticRegression\n",
        "\n"
      ]
    },
    {
      "cell_type": "code",
      "execution_count": 39,
      "metadata": {
        "id": "ca_LE82i60Sm",
        "colab": {
          "base_uri": "https://localhost:8080/",
          "height": 287
        },
        "outputId": "47e29668-1962-4104-9532-03dda52289e4"
      },
      "outputs": [
        {
          "output_type": "error",
          "ename": "AttributeError",
          "evalue": "'LogisticRegression' object has no attribute 'values'",
          "traceback": [
            "\u001b[0;31m---------------------------------------------------------------------------\u001b[0m",
            "\u001b[0;31mAttributeError\u001b[0m                            Traceback (most recent call last)",
            "\u001b[0;32m<ipython-input-39-e196823a12bb>\u001b[0m in \u001b[0;36m<cell line: 1>\u001b[0;34m()\u001b[0m\n\u001b[0;32m----> 1\u001b[0;31m \u001b[0mresults\u001b[0m \u001b[0;34m=\u001b[0m \u001b[0mcross_validation\u001b[0m\u001b[0;34m(\u001b[0m\u001b[0mgroups_df\u001b[0m\u001b[0;34m,\u001b[0m \u001b[0mlr_model\u001b[0m\u001b[0;34m,\u001b[0m \u001b[0mlr_param_grid\u001b[0m\u001b[0;34m,\u001b[0m \u001b[0mvectorizers\u001b[0m\u001b[0;34m[\u001b[0m\u001b[0;34m'vectorizer_BOW_bigram'\u001b[0m\u001b[0;34m]\u001b[0m\u001b[0;34m,\u001b[0m \u001b[0;36m2\u001b[0m\u001b[0;34m)\u001b[0m\u001b[0;34m\u001b[0m\u001b[0;34m\u001b[0m\u001b[0m\n\u001b[0m",
            "\u001b[0;32m<ipython-input-34-3aa1b928a492>\u001b[0m in \u001b[0;36mcross_validation\u001b[0;34m(mapping_list, df, model, params, vectorizer, split)\u001b[0m\n\u001b[1;32m     11\u001b[0m \u001b[0;32mdef\u001b[0m \u001b[0mcross_validation\u001b[0m\u001b[0;34m(\u001b[0m\u001b[0mmapping_list\u001b[0m\u001b[0;34m,\u001b[0m \u001b[0mdf\u001b[0m\u001b[0;34m,\u001b[0m \u001b[0mmodel\u001b[0m\u001b[0;34m,\u001b[0m \u001b[0mparams\u001b[0m\u001b[0;34m,\u001b[0m \u001b[0mvectorizer\u001b[0m\u001b[0;34m,\u001b[0m \u001b[0msplit\u001b[0m\u001b[0;34m=\u001b[0m\u001b[0;36m3\u001b[0m\u001b[0;34m)\u001b[0m\u001b[0;34m:\u001b[0m\u001b[0;34m\u001b[0m\u001b[0;34m\u001b[0m\u001b[0m\n\u001b[1;32m     12\u001b[0m     \u001b[0;31m# split data: train, dev, test\u001b[0m\u001b[0;34m\u001b[0m\u001b[0;34m\u001b[0m\u001b[0m\n\u001b[0;32m---> 13\u001b[0;31m     \u001b[0mtrains\u001b[0m\u001b[0;34m,\u001b[0m \u001b[0mdevs\u001b[0m\u001b[0;34m,\u001b[0m \u001b[0mtests\u001b[0m \u001b[0;34m=\u001b[0m \u001b[0msplits\u001b[0m\u001b[0;34m(\u001b[0m\u001b[0mdf\u001b[0m\u001b[0;34m,\u001b[0m \u001b[0msplit\u001b[0m\u001b[0;34m)\u001b[0m\u001b[0;34m\u001b[0m\u001b[0;34m\u001b[0m\u001b[0m\n\u001b[0m\u001b[1;32m     14\u001b[0m \u001b[0;34m\u001b[0m\u001b[0m\n\u001b[1;32m     15\u001b[0m     \u001b[0mparam_grid\u001b[0m \u001b[0;34m=\u001b[0m \u001b[0mParameterGrid\u001b[0m\u001b[0;34m(\u001b[0m\u001b[0mparams\u001b[0m\u001b[0;34m)\u001b[0m\u001b[0;34m\u001b[0m\u001b[0;34m\u001b[0m\u001b[0m\n",
            "\u001b[0;32m<ipython-input-28-b85a671a96c7>\u001b[0m in \u001b[0;36msplits\u001b[0;34m(label_dataframes, split_nbr)\u001b[0m\n\u001b[1;32m     17\u001b[0m         \u001b[0mtest_splits\u001b[0m \u001b[0;34m=\u001b[0m \u001b[0;34m[\u001b[0m\u001b[0;34m]\u001b[0m\u001b[0;34m\u001b[0m\u001b[0;34m\u001b[0m\u001b[0m\n\u001b[1;32m     18\u001b[0m \u001b[0;34m\u001b[0m\u001b[0m\n\u001b[0;32m---> 19\u001b[0;31m         \u001b[0;32mfor\u001b[0m \u001b[0mdf\u001b[0m \u001b[0;32min\u001b[0m \u001b[0mlabel_dataframes\u001b[0m\u001b[0;34m.\u001b[0m\u001b[0mvalues\u001b[0m\u001b[0;34m(\u001b[0m\u001b[0;34m)\u001b[0m\u001b[0;34m:\u001b[0m\u001b[0;34m\u001b[0m\u001b[0;34m\u001b[0m\u001b[0m\n\u001b[0m\u001b[1;32m     20\u001b[0m             \u001b[0mtest_split\u001b[0m \u001b[0;34m=\u001b[0m \u001b[0mdf\u001b[0m\u001b[0;34m[\u001b[0m\u001b[0mstart\u001b[0m\u001b[0;34m:\u001b[0m\u001b[0mend\u001b[0m\u001b[0;34m]\u001b[0m\u001b[0;34m\u001b[0m\u001b[0;34m\u001b[0m\u001b[0m\n\u001b[1;32m     21\u001b[0m             \u001b[0mdev_split\u001b[0m \u001b[0;34m=\u001b[0m \u001b[0mdf\u001b[0m\u001b[0;34m[\u001b[0m\u001b[0mend\u001b[0m\u001b[0;34m:\u001b[0m\u001b[0mend\u001b[0m \u001b[0;34m+\u001b[0m \u001b[0;34m(\u001b[0m\u001b[0mend\u001b[0m \u001b[0;34m-\u001b[0m \u001b[0mstart\u001b[0m\u001b[0;34m)\u001b[0m\u001b[0;34m]\u001b[0m  \u001b[0;31m# Set dev_split size to (end - start)\u001b[0m\u001b[0;34m\u001b[0m\u001b[0;34m\u001b[0m\u001b[0m\n",
            "\u001b[0;31mAttributeError\u001b[0m: 'LogisticRegression' object has no attribute 'values'"
          ]
        }
      ],
      "source": [
        "results = cross_validation(groups_df, lr_model, lr_param_grid, vectorizers['vectorizer_BOW_bigram'], 2)"
      ]
    },
    {
      "cell_type": "code",
      "execution_count": null,
      "metadata": {
        "id": "uFbOGYlRDBbx"
      },
      "outputs": [],
      "source": [
        "results"
      ]
    },
    {
      "cell_type": "code",
      "execution_count": null,
      "metadata": {
        "id": "NAzDrpvOqjeJ"
      },
      "outputs": [],
      "source": [
        "# Find the key with the best test accuracy\n",
        "best_accuracy_key = max(results, key=lambda key: results[key]['test_accuracy'])\n",
        "print(\"Key with best test accuracy:\", best_accuracy_key)"
      ]
    },
    {
      "cell_type": "code",
      "execution_count": null,
      "metadata": {
        "id": "_shNpaI4LEVp"
      },
      "outputs": [],
      "source": [
        "results[best_accuracy_key][\"test_accuracy\"]"
      ]
    },
    {
      "cell_type": "code",
      "execution_count": null,
      "metadata": {
        "id": "Ufn86z94TInG"
      },
      "outputs": [],
      "source": [
        "# cross validation model\n",
        "M1 = results[best_accuracy_key][\"model\"]\n",
        "V1 = results[best_accuracy_key][\"vectorizer\"]"
      ]
    },
    {
      "cell_type": "code",
      "execution_count": null,
      "metadata": {
        "id": "QVhldsE9srqE"
      },
      "outputs": [],
      "source": [
        "save_model_vectorizer(M1, V1, \"M1.sav\", \"V1.pkl\")"
      ]
    },
    {
      "cell_type": "markdown",
      "metadata": {
        "id": "Ob8zvhKQRqQ_"
      },
      "source": [
        "# Cross validation specialized model M2"
      ]
    },
    {
      "cell_type": "markdown",
      "metadata": {
        "id": "9H3y56uYvSGt"
      },
      "source": [
        "## Utils"
      ]
    },
    {
      "cell_type": "markdown",
      "metadata": {
        "id": "t8_tqtHNxVIR"
      },
      "source": [
        "#### extract groups"
      ]
    },
    {
      "cell_type": "code",
      "execution_count": 40,
      "metadata": {
        "id": "TxyeEUWxvUZt"
      },
      "outputs": [],
      "source": [
        "def extract_group(df, group):\n",
        "  return df[df['group'] == group]"
      ]
    },
    {
      "cell_type": "markdown",
      "metadata": {
        "id": "e5l55Ex_xYN9"
      },
      "source": [
        "### mapping country"
      ]
    },
    {
      "cell_type": "code",
      "execution_count": 41,
      "metadata": {
        "id": "xc4DlNzuvq2A"
      },
      "outputs": [],
      "source": [
        "def mapping(df, mapping):\n",
        "  df['country_code'].map(mapping)"
      ]
    },
    {
      "cell_type": "markdown",
      "metadata": {
        "id": "_S6eJA-OH2UW"
      },
      "source": [
        "## Model for  Groupe 1 HIN+TEL\n"
      ]
    },
    {
      "cell_type": "code",
      "execution_count": 42,
      "metadata": {
        "id": "QBQ6jiWyy8uI"
      },
      "outputs": [],
      "source": [
        "df_g1 = extract_group(df, 'HIN+TEL')"
      ]
    },
    {
      "cell_type": "code",
      "execution_count": 43,
      "metadata": {
        "id": "AHHi-bfwzVLz",
        "colab": {
          "base_uri": "https://localhost:8080/",
          "height": 424
        },
        "outputId": "69feb117-8945-4fb9-e176-5a00ccf983db"
      },
      "outputs": [
        {
          "output_type": "execute_result",
          "data": {
            "text/plain": [
              "                                                      0 country_code  \\\n",
              "3     (TEL) Travelling is usually considered as good...          TEL   \n",
              "8     (HIN) In the era of science and technology , t...          HIN   \n",
              "21    (TEL) Yup ! i do agree with is statement that ...          TEL   \n",
              "26    (TEL) I do agree with the satement that `` You...          TEL   \n",
              "37    (HIN) Everybody has its own point of view on a...          HIN   \n",
              "...                                                 ...          ...   \n",
              "9882  (HIN) I agree with the opinion thjat young pro...          HIN   \n",
              "9886  (TEL) yes i agree with the statemet given abov...          TEL   \n",
              "9889  (HIN) I support the argument that young people...          HIN   \n",
              "9890  (HIN) This is a difficult topis as both travel...          HIN   \n",
              "9898  (HIN) The number of cars in use across the wor...          HIN   \n",
              "\n",
              "                                                   text    group  \n",
              "3      Travelling is usually considered as good recr...  HIN+TEL  \n",
              "8      In the era of science and technology , the pe...  HIN+TEL  \n",
              "21     Yup ! i do agree with is statement that most ...  HIN+TEL  \n",
              "26     I do agree with the satement that `` Young pe...  HIN+TEL  \n",
              "37     Everybody has its own point of view on a cert...  HIN+TEL  \n",
              "...                                                 ...      ...  \n",
              "9882   I agree with the opinion thjat young prople o...  HIN+TEL  \n",
              "9886   yes i agree with the statemet given above . A...  HIN+TEL  \n",
              "9889   I support the argument that young people do n...  HIN+TEL  \n",
              "9890   This is a difficult topis as both travelling ...  HIN+TEL  \n",
              "9898   The number of cars in use across the world ha...  HIN+TEL  \n",
              "\n",
              "[1800 rows x 4 columns]"
            ],
            "text/html": [
              "\n",
              "  <div id=\"df-9c3df136-39b3-4120-abb8-4f84f9f75298\" class=\"colab-df-container\">\n",
              "    <div>\n",
              "<style scoped>\n",
              "    .dataframe tbody tr th:only-of-type {\n",
              "        vertical-align: middle;\n",
              "    }\n",
              "\n",
              "    .dataframe tbody tr th {\n",
              "        vertical-align: top;\n",
              "    }\n",
              "\n",
              "    .dataframe thead th {\n",
              "        text-align: right;\n",
              "    }\n",
              "</style>\n",
              "<table border=\"1\" class=\"dataframe\">\n",
              "  <thead>\n",
              "    <tr style=\"text-align: right;\">\n",
              "      <th></th>\n",
              "      <th>0</th>\n",
              "      <th>country_code</th>\n",
              "      <th>text</th>\n",
              "      <th>group</th>\n",
              "    </tr>\n",
              "  </thead>\n",
              "  <tbody>\n",
              "    <tr>\n",
              "      <th>3</th>\n",
              "      <td>(TEL) Travelling is usually considered as good...</td>\n",
              "      <td>TEL</td>\n",
              "      <td>Travelling is usually considered as good recr...</td>\n",
              "      <td>HIN+TEL</td>\n",
              "    </tr>\n",
              "    <tr>\n",
              "      <th>8</th>\n",
              "      <td>(HIN) In the era of science and technology , t...</td>\n",
              "      <td>HIN</td>\n",
              "      <td>In the era of science and technology , the pe...</td>\n",
              "      <td>HIN+TEL</td>\n",
              "    </tr>\n",
              "    <tr>\n",
              "      <th>21</th>\n",
              "      <td>(TEL) Yup ! i do agree with is statement that ...</td>\n",
              "      <td>TEL</td>\n",
              "      <td>Yup ! i do agree with is statement that most ...</td>\n",
              "      <td>HIN+TEL</td>\n",
              "    </tr>\n",
              "    <tr>\n",
              "      <th>26</th>\n",
              "      <td>(TEL) I do agree with the satement that `` You...</td>\n",
              "      <td>TEL</td>\n",
              "      <td>I do agree with the satement that `` Young pe...</td>\n",
              "      <td>HIN+TEL</td>\n",
              "    </tr>\n",
              "    <tr>\n",
              "      <th>37</th>\n",
              "      <td>(HIN) Everybody has its own point of view on a...</td>\n",
              "      <td>HIN</td>\n",
              "      <td>Everybody has its own point of view on a cert...</td>\n",
              "      <td>HIN+TEL</td>\n",
              "    </tr>\n",
              "    <tr>\n",
              "      <th>...</th>\n",
              "      <td>...</td>\n",
              "      <td>...</td>\n",
              "      <td>...</td>\n",
              "      <td>...</td>\n",
              "    </tr>\n",
              "    <tr>\n",
              "      <th>9882</th>\n",
              "      <td>(HIN) I agree with the opinion thjat young pro...</td>\n",
              "      <td>HIN</td>\n",
              "      <td>I agree with the opinion thjat young prople o...</td>\n",
              "      <td>HIN+TEL</td>\n",
              "    </tr>\n",
              "    <tr>\n",
              "      <th>9886</th>\n",
              "      <td>(TEL) yes i agree with the statemet given abov...</td>\n",
              "      <td>TEL</td>\n",
              "      <td>yes i agree with the statemet given above . A...</td>\n",
              "      <td>HIN+TEL</td>\n",
              "    </tr>\n",
              "    <tr>\n",
              "      <th>9889</th>\n",
              "      <td>(HIN) I support the argument that young people...</td>\n",
              "      <td>HIN</td>\n",
              "      <td>I support the argument that young people do n...</td>\n",
              "      <td>HIN+TEL</td>\n",
              "    </tr>\n",
              "    <tr>\n",
              "      <th>9890</th>\n",
              "      <td>(HIN) This is a difficult topis as both travel...</td>\n",
              "      <td>HIN</td>\n",
              "      <td>This is a difficult topis as both travelling ...</td>\n",
              "      <td>HIN+TEL</td>\n",
              "    </tr>\n",
              "    <tr>\n",
              "      <th>9898</th>\n",
              "      <td>(HIN) The number of cars in use across the wor...</td>\n",
              "      <td>HIN</td>\n",
              "      <td>The number of cars in use across the world ha...</td>\n",
              "      <td>HIN+TEL</td>\n",
              "    </tr>\n",
              "  </tbody>\n",
              "</table>\n",
              "<p>1800 rows × 4 columns</p>\n",
              "</div>\n",
              "    <div class=\"colab-df-buttons\">\n",
              "\n",
              "  <div class=\"colab-df-container\">\n",
              "    <button class=\"colab-df-convert\" onclick=\"convertToInteractive('df-9c3df136-39b3-4120-abb8-4f84f9f75298')\"\n",
              "            title=\"Convert this dataframe to an interactive table.\"\n",
              "            style=\"display:none;\">\n",
              "\n",
              "  <svg xmlns=\"http://www.w3.org/2000/svg\" height=\"24px\" viewBox=\"0 -960 960 960\">\n",
              "    <path d=\"M120-120v-720h720v720H120Zm60-500h600v-160H180v160Zm220 220h160v-160H400v160Zm0 220h160v-160H400v160ZM180-400h160v-160H180v160Zm440 0h160v-160H620v160ZM180-180h160v-160H180v160Zm440 0h160v-160H620v160Z\"/>\n",
              "  </svg>\n",
              "    </button>\n",
              "\n",
              "  <style>\n",
              "    .colab-df-container {\n",
              "      display:flex;\n",
              "      gap: 12px;\n",
              "    }\n",
              "\n",
              "    .colab-df-convert {\n",
              "      background-color: #E8F0FE;\n",
              "      border: none;\n",
              "      border-radius: 50%;\n",
              "      cursor: pointer;\n",
              "      display: none;\n",
              "      fill: #1967D2;\n",
              "      height: 32px;\n",
              "      padding: 0 0 0 0;\n",
              "      width: 32px;\n",
              "    }\n",
              "\n",
              "    .colab-df-convert:hover {\n",
              "      background-color: #E2EBFA;\n",
              "      box-shadow: 0px 1px 2px rgba(60, 64, 67, 0.3), 0px 1px 3px 1px rgba(60, 64, 67, 0.15);\n",
              "      fill: #174EA6;\n",
              "    }\n",
              "\n",
              "    .colab-df-buttons div {\n",
              "      margin-bottom: 4px;\n",
              "    }\n",
              "\n",
              "    [theme=dark] .colab-df-convert {\n",
              "      background-color: #3B4455;\n",
              "      fill: #D2E3FC;\n",
              "    }\n",
              "\n",
              "    [theme=dark] .colab-df-convert:hover {\n",
              "      background-color: #434B5C;\n",
              "      box-shadow: 0px 1px 3px 1px rgba(0, 0, 0, 0.15);\n",
              "      filter: drop-shadow(0px 1px 2px rgba(0, 0, 0, 0.3));\n",
              "      fill: #FFFFFF;\n",
              "    }\n",
              "  </style>\n",
              "\n",
              "    <script>\n",
              "      const buttonEl =\n",
              "        document.querySelector('#df-9c3df136-39b3-4120-abb8-4f84f9f75298 button.colab-df-convert');\n",
              "      buttonEl.style.display =\n",
              "        google.colab.kernel.accessAllowed ? 'block' : 'none';\n",
              "\n",
              "      async function convertToInteractive(key) {\n",
              "        const element = document.querySelector('#df-9c3df136-39b3-4120-abb8-4f84f9f75298');\n",
              "        const dataTable =\n",
              "          await google.colab.kernel.invokeFunction('convertToInteractive',\n",
              "                                                    [key], {});\n",
              "        if (!dataTable) return;\n",
              "\n",
              "        const docLinkHtml = 'Like what you see? Visit the ' +\n",
              "          '<a target=\"_blank\" href=https://colab.research.google.com/notebooks/data_table.ipynb>data table notebook</a>'\n",
              "          + ' to learn more about interactive tables.';\n",
              "        element.innerHTML = '';\n",
              "        dataTable['output_type'] = 'display_data';\n",
              "        await google.colab.output.renderOutput(dataTable, element);\n",
              "        const docLink = document.createElement('div');\n",
              "        docLink.innerHTML = docLinkHtml;\n",
              "        element.appendChild(docLink);\n",
              "      }\n",
              "    </script>\n",
              "  </div>\n",
              "\n",
              "\n",
              "<div id=\"df-d277cbd0-f084-4821-bf9e-630dd1ad3d2a\">\n",
              "  <button class=\"colab-df-quickchart\" onclick=\"quickchart('df-d277cbd0-f084-4821-bf9e-630dd1ad3d2a')\"\n",
              "            title=\"Suggest charts\"\n",
              "            style=\"display:none;\">\n",
              "\n",
              "<svg xmlns=\"http://www.w3.org/2000/svg\" height=\"24px\"viewBox=\"0 0 24 24\"\n",
              "     width=\"24px\">\n",
              "    <g>\n",
              "        <path d=\"M19 3H5c-1.1 0-2 .9-2 2v14c0 1.1.9 2 2 2h14c1.1 0 2-.9 2-2V5c0-1.1-.9-2-2-2zM9 17H7v-7h2v7zm4 0h-2V7h2v10zm4 0h-2v-4h2v4z\"/>\n",
              "    </g>\n",
              "</svg>\n",
              "  </button>\n",
              "\n",
              "<style>\n",
              "  .colab-df-quickchart {\n",
              "      --bg-color: #E8F0FE;\n",
              "      --fill-color: #1967D2;\n",
              "      --hover-bg-color: #E2EBFA;\n",
              "      --hover-fill-color: #174EA6;\n",
              "      --disabled-fill-color: #AAA;\n",
              "      --disabled-bg-color: #DDD;\n",
              "  }\n",
              "\n",
              "  [theme=dark] .colab-df-quickchart {\n",
              "      --bg-color: #3B4455;\n",
              "      --fill-color: #D2E3FC;\n",
              "      --hover-bg-color: #434B5C;\n",
              "      --hover-fill-color: #FFFFFF;\n",
              "      --disabled-bg-color: #3B4455;\n",
              "      --disabled-fill-color: #666;\n",
              "  }\n",
              "\n",
              "  .colab-df-quickchart {\n",
              "    background-color: var(--bg-color);\n",
              "    border: none;\n",
              "    border-radius: 50%;\n",
              "    cursor: pointer;\n",
              "    display: none;\n",
              "    fill: var(--fill-color);\n",
              "    height: 32px;\n",
              "    padding: 0;\n",
              "    width: 32px;\n",
              "  }\n",
              "\n",
              "  .colab-df-quickchart:hover {\n",
              "    background-color: var(--hover-bg-color);\n",
              "    box-shadow: 0 1px 2px rgba(60, 64, 67, 0.3), 0 1px 3px 1px rgba(60, 64, 67, 0.15);\n",
              "    fill: var(--button-hover-fill-color);\n",
              "  }\n",
              "\n",
              "  .colab-df-quickchart-complete:disabled,\n",
              "  .colab-df-quickchart-complete:disabled:hover {\n",
              "    background-color: var(--disabled-bg-color);\n",
              "    fill: var(--disabled-fill-color);\n",
              "    box-shadow: none;\n",
              "  }\n",
              "\n",
              "  .colab-df-spinner {\n",
              "    border: 2px solid var(--fill-color);\n",
              "    border-color: transparent;\n",
              "    border-bottom-color: var(--fill-color);\n",
              "    animation:\n",
              "      spin 1s steps(1) infinite;\n",
              "  }\n",
              "\n",
              "  @keyframes spin {\n",
              "    0% {\n",
              "      border-color: transparent;\n",
              "      border-bottom-color: var(--fill-color);\n",
              "      border-left-color: var(--fill-color);\n",
              "    }\n",
              "    20% {\n",
              "      border-color: transparent;\n",
              "      border-left-color: var(--fill-color);\n",
              "      border-top-color: var(--fill-color);\n",
              "    }\n",
              "    30% {\n",
              "      border-color: transparent;\n",
              "      border-left-color: var(--fill-color);\n",
              "      border-top-color: var(--fill-color);\n",
              "      border-right-color: var(--fill-color);\n",
              "    }\n",
              "    40% {\n",
              "      border-color: transparent;\n",
              "      border-right-color: var(--fill-color);\n",
              "      border-top-color: var(--fill-color);\n",
              "    }\n",
              "    60% {\n",
              "      border-color: transparent;\n",
              "      border-right-color: var(--fill-color);\n",
              "    }\n",
              "    80% {\n",
              "      border-color: transparent;\n",
              "      border-right-color: var(--fill-color);\n",
              "      border-bottom-color: var(--fill-color);\n",
              "    }\n",
              "    90% {\n",
              "      border-color: transparent;\n",
              "      border-bottom-color: var(--fill-color);\n",
              "    }\n",
              "  }\n",
              "</style>\n",
              "\n",
              "  <script>\n",
              "    async function quickchart(key) {\n",
              "      const quickchartButtonEl =\n",
              "        document.querySelector('#' + key + ' button');\n",
              "      quickchartButtonEl.disabled = true;  // To prevent multiple clicks.\n",
              "      quickchartButtonEl.classList.add('colab-df-spinner');\n",
              "      try {\n",
              "        const charts = await google.colab.kernel.invokeFunction(\n",
              "            'suggestCharts', [key], {});\n",
              "      } catch (error) {\n",
              "        console.error('Error during call to suggestCharts:', error);\n",
              "      }\n",
              "      quickchartButtonEl.classList.remove('colab-df-spinner');\n",
              "      quickchartButtonEl.classList.add('colab-df-quickchart-complete');\n",
              "    }\n",
              "    (() => {\n",
              "      let quickchartButtonEl =\n",
              "        document.querySelector('#df-d277cbd0-f084-4821-bf9e-630dd1ad3d2a button');\n",
              "      quickchartButtonEl.style.display =\n",
              "        google.colab.kernel.accessAllowed ? 'block' : 'none';\n",
              "    })();\n",
              "  </script>\n",
              "</div>\n",
              "    </div>\n",
              "  </div>\n"
            ],
            "application/vnd.google.colaboratory.intrinsic+json": {
              "type": "dataframe",
              "variable_name": "df_g1",
              "summary": "{\n  \"name\": \"df_g1\",\n  \"rows\": 1800,\n  \"fields\": [\n    {\n      \"column\": 0,\n      \"properties\": {\n        \"dtype\": \"string\",\n        \"num_unique_values\": 1800,\n        \"samples\": [\n          \"(TEL) The followin statement refers the original attitude of a successful man . The main attitude of the successful man was to win his aim , in order to do this he takes several risks , they take several aspects in the new way for getting success even though they know how to do it . I will definetly agree with the statement . because without doing any risk we cannot invent a new ways for sucess . i can give an example regarding this statement which happened in my own life , when i wa working in asmall company in which i am getting a salary of ten thousand , i was very happy with that job but to be better in my life i thought of earning more money ihad resigned my job and started own busuiness in which i made risk but iwas succede well in my busuiness . I am giving you another example . an ordinary professional who had think differently about his view had left his job and all over thought creating a site which sreves of free in electronic mail division and he named it as `` hot mail '' and creates a history in which one and half lakh subscribers had enrolled with in a month . even this incident made surprise the billgates and made him buy for avast amount from him. `` i was not sure of the name of the person'but which made him the millionare his risk of leaving the job and his different way of thinking made the man successful in the society . now a days this made him live in a luxorios house and use an expensive cars and giving parties for celebrities . These are the main reasons which made me agree with the statement that every successful man takes risk in inventing new way for success .\",\n          \"(HIN) I agree with the statement that young people nowadays do not give enough time to helping their communities . For the argument , I would borrow the traditional definition of `` community '' as a group of people following a unique set of customs and practices which are visible in their general conduct , festivals and lifestyle . `` Helping the community '' , hence , should mean endorsing and spreading the beliefs of one 's community in the society and also , specifically helping members of one 's own community only . The world is fast moving towards a knowledge based society where boundaries of community are becoming ever more blurred and diffused . In this well-connected world of today , external influences on mindsets and culture are large and the concept of working for one 's community is disappearing fast in the young generation of today . Apart from this , we are now living in a highly competetive world where available time determines success ; young people of today are not in a position to earmark sufficient time to devote to their communities ' cause , else they would lag behind their peers . Time crunch in general is a reson for the fact that people do not give time to their community . As for the point of helping one 's own community people over others , the youth today are more aware of the concept of `` global fraternity '' and of the total time a person spends in helping the society , it is natural that his community would recieve only a part which the latter may well deem as `` insufficient '' . In fact , I consider this trend of pushing community notion to the backburner a healthy one since afterall , the notion of community is a major cause of fueds and belligerence in the society today .\",\n          \"(TEL) I strongly agree that in twenty years there would be fewer cars in use than there are today . To support and explain the stated point we have many reasons and lets review them logically . The main point which hold the statement that in twenty years there would be lesser cars than used today would be since there is a drastic decrease in the natural fuel being used , such as peteroleum products . To support this point the recent survey conducted by National Geographic expedition and their study shows that these natural reservers like peteroleum would last for not more than another 30 years , if the same rate of usage is continued . This study also involves the different peteroleum products being used as fules , these include diesel , petrol , gassoline , LPG ( liqufied peteroleum gass ) and other minor fules . We should also include the case of using natural solar power , or nuclear fuel , but at the present rate of financial investments and other government policies these donot look to spring up in the next recent years . As for example starting up a nuclear plant in a place called Thungha in the north west part of India took five years . So as a result of increase in the fule price and also the rate of growth of pollution caused by the burning of these petroleum products , people are highly encourached to use other modes of travel , for example using public transport , metro system , cycling for short distances . As for example in China , employers are adoptinjg techniquies to reduce the usage of cars , like locating close to work place , using metro system for travel . Also when we focus on the government policies being laid in recent times , we see that more encourangement is give for public transport than for purchase for cars . As taking for example a place called Bangalore located in India , during the past five years then price for fuel has grown by more than hundred percentage , while to compensate for this issue , the government had activated more public transport , allocating industrial area next to be in one major location , where the fequency of public transport is concentrated . This did lead to the decrease in the usage of cars in Bangalore . Also we may raise the point of using sloar power and other modes of generating fuel for cars , like liquid fuels where water is a byproduct ( presently used to power up space flights and super sonic jets ) , also using electric cars which also need petroleum product to generate , but this demands for great amounts of revenue and also a mojor world collobration . Also the research in these fileds donot show big progress form the past years for major car production . So looking at these feature , this will take time and we cannot expect them to happen with in the next twenty years . Parallely thier would also be the depletion of fuel in the world leading to minorty class of people to use cars ( those who could afford the high price of petroleum products ) . Hence as stated and explained with examples , according to me I agree that in twenty years there would be fewer cars in use than there are as of today .\"\n        ],\n        \"semantic_type\": \"\",\n        \"description\": \"\"\n      }\n    },\n    {\n      \"column\": \"country_code\",\n      \"properties\": {\n        \"dtype\": \"category\",\n        \"num_unique_values\": 2,\n        \"samples\": [\n          \"HIN\",\n          \"TEL\"\n        ],\n        \"semantic_type\": \"\",\n        \"description\": \"\"\n      }\n    },\n    {\n      \"column\": \"text\",\n      \"properties\": {\n        \"dtype\": \"string\",\n        \"num_unique_values\": 1800,\n        \"samples\": [\n          \" The followin statement refers the original attitude of a successful man . The main attitude of the successful man was to win his aim , in order to do this he takes several risks , they take several aspects in the new way for getting success even though they know how to do it . I will definetly agree with the statement . because without doing any risk we cannot invent a new ways for sucess . i can give an example regarding this statement which happened in my own life , when i wa working in asmall company in which i am getting a salary of ten thousand , i was very happy with that job but to be better in my life i thought of earning more money ihad resigned my job and started own busuiness in which i made risk but iwas succede well in my busuiness . I am giving you another example . an ordinary professional who had think differently about his view had left his job and all over thought creating a site which sreves of free in electronic mail division and he named it as `` hot mail '' and creates a history in which one and half lakh subscribers had enrolled with in a month . even this incident made surprise the billgates and made him buy for avast amount from him. `` i was not sure of the name of the person'but which made him the millionare his risk of leaving the job and his different way of thinking made the man successful in the society . now a days this made him live in a luxorios house and use an expensive cars and giving parties for celebrities . These are the main reasons which made me agree with the statement that every successful man takes risk in inventing new way for success .\",\n          \" I agree with the statement that young people nowadays do not give enough time to helping their communities . For the argument , I would borrow the traditional definition of `` community '' as a group of people following a unique set of customs and practices which are visible in their general conduct , festivals and lifestyle . `` Helping the community '' , hence , should mean endorsing and spreading the beliefs of one 's community in the society and also , specifically helping members of one 's own community only . The world is fast moving towards a knowledge based society where boundaries of community are becoming ever more blurred and diffused . In this well-connected world of today , external influences on mindsets and culture are large and the concept of working for one 's community is disappearing fast in the young generation of today . Apart from this , we are now living in a highly competetive world where available time determines success ; young people of today are not in a position to earmark sufficient time to devote to their communities ' cause , else they would lag behind their peers . Time crunch in general is a reson for the fact that people do not give time to their community . As for the point of helping one 's own community people over others , the youth today are more aware of the concept of `` global fraternity '' and of the total time a person spends in helping the society , it is natural that his community would recieve only a part which the latter may well deem as `` insufficient '' . In fact , I consider this trend of pushing community notion to the backburner a healthy one since afterall , the notion of community is a major cause of fueds and belligerence in the society today .\"\n        ],\n        \"semantic_type\": \"\",\n        \"description\": \"\"\n      }\n    },\n    {\n      \"column\": \"group\",\n      \"properties\": {\n        \"dtype\": \"category\",\n        \"num_unique_values\": 1,\n        \"samples\": [\n          \"HIN+TEL\"\n        ],\n        \"semantic_type\": \"\",\n        \"description\": \"\"\n      }\n    }\n  ]\n}"
            }
          },
          "metadata": {},
          "execution_count": 43
        }
      ],
      "source": [
        "df_g1"
      ]
    },
    {
      "cell_type": "markdown",
      "metadata": {
        "id": "cSzzgV4jySo_"
      },
      "source": [
        "#### train"
      ]
    },
    {
      "cell_type": "code",
      "execution_count": 44,
      "metadata": {
        "id": "71LYwKL2yeQO",
        "colab": {
          "base_uri": "https://localhost:8080/",
          "height": 1000
        },
        "outputId": "b099abb0-c9c2-4ee7-cad9-cf4e2b4fe710"
      },
      "outputs": [
        {
          "output_type": "stream",
          "name": "stdout",
          "text": [
            "(1800,)\n",
            "(1800,)\n",
            "========================= Model: Logistic Regression; vectorizer: CountVectorizer() =========================\n",
            "Logistic Regression (vectorizer_BOW) - Overall Metrics:\n",
            "- Accuracy: 0.7611\n",
            "- Precision (Macro): 0.7626\n",
            "- Recall (Macro): 0.7617\n",
            "- F1 (Macro): 0.7610\n",
            "\n",
            "Logistic Regression (vectorizer_BOW) - Metrics by Label:\n",
            "Label  Precision   Recall  F1 Score\n",
            "  HIN   0.738220 0.796610  0.766304\n",
            "  TEL   0.786982 0.726776  0.755682\n"
          ]
        },
        {
          "output_type": "display_data",
          "data": {
            "text/plain": [
              "<Figure size 500x300 with 2 Axes>"
            ],
            "image/png": "[encoded data removed]"
          },
          "metadata": {}
        },
        {
          "output_type": "stream",
          "name": "stdout",
          "text": [
            "========================= Model: Logistic Regression; vectorizer: TfidfVectorizer() =========================\n",
            "Logistic Regression (vectorizer_TF_IDF) - Overall Metrics:\n",
            "- Accuracy: 0.7500\n",
            "- Precision (Macro): 0.7502\n",
            "- Recall (Macro): 0.7502\n",
            "- F1 (Macro): 0.7500\n",
            "\n",
            "Logistic Regression (vectorizer_TF_IDF) - Metrics by Label:\n",
            "Label  Precision   Recall  F1 Score\n",
            "  HIN   0.737705 0.762712      0.75\n",
            "  TEL   0.762712 0.737705      0.75\n"
          ]
        },
        {
          "output_type": "display_data",
          "data": {
            "text/plain": [
              "<Figure size 500x300 with 2 Axes>"
            ],
            "image/png": "[encoded data removed]"
          },
          "metadata": {}
        },
        {
          "output_type": "stream",
          "name": "stdout",
          "text": [
            "========================= Model: Logistic Regression; vectorizer: CountVectorizer(ngram_range=(1, 2)) =========================\n",
            "Logistic Regression (vectorizer_BOW_bigram) - Overall Metrics:\n",
            "- Accuracy: 0.7750\n",
            "- Precision (Macro): 0.7763\n",
            "- Recall (Macro): 0.7755\n",
            "- F1 (Macro): 0.7749\n",
            "\n",
            "Logistic Regression (vectorizer_BOW_bigram) - Metrics by Label:\n",
            "Label  Precision   Recall  F1 Score\n",
            "  HIN   0.752632 0.807910  0.779292\n",
            "  TEL   0.800000 0.743169  0.770538\n"
          ]
        },
        {
          "output_type": "display_data",
          "data": {
            "text/plain": [
              "<Figure size 500x300 with 2 Axes>"
            ],
            "image/png": "[encoded data removed]"
          },
          "metadata": {}
        },
        {
          "output_type": "stream",
          "name": "stdout",
          "text": [
            "========================= Model: Logistic Regression; vectorizer: TfidfVectorizer(ngram_range=(1, 2)) =========================\n",
            "Logistic Regression (vectorizer_TF_IDF_bigram) - Overall Metrics:\n",
            "- Accuracy: 0.7667\n",
            "- Precision (Macro): 0.7669\n",
            "- Recall (Macro): 0.7669\n",
            "- F1 (Macro): 0.7667\n",
            "\n",
            "Logistic Regression (vectorizer_TF_IDF_bigram) - Metrics by Label:\n",
            "Label  Precision   Recall  F1 Score\n",
            "  HIN   0.754098 0.779661  0.766667\n",
            "  TEL   0.779661 0.754098  0.766667\n"
          ]
        },
        {
          "output_type": "display_data",
          "data": {
            "text/plain": [
              "<Figure size 500x300 with 2 Axes>"
            ],
            "image/png": "[encoded data removed]"
          },
          "metadata": {}
        },
        {
          "output_type": "stream",
          "name": "stdout",
          "text": [
            "========================= Model: SVM; vectorizer: CountVectorizer() =========================\n",
            "SVM (vectorizer_BOW) - Overall Metrics:\n",
            "- Accuracy: 0.7250\n",
            "- Precision (Macro): 0.7251\n",
            "- Recall (Macro): 0.7252\n",
            "- F1 (Macro): 0.7250\n",
            "\n",
            "SVM (vectorizer_BOW) - Metrics by Label:\n",
            "Label  Precision   Recall  F1 Score\n",
            "  HIN   0.714286 0.734463  0.724234\n",
            "  TEL   0.735955 0.715847  0.725762\n"
          ]
        },
        {
          "output_type": "display_data",
          "data": {
            "text/plain": [
              "<Figure size 500x300 with 2 Axes>"
            ],
            "image/png": "[encoded data removed]"
          },
          "metadata": {}
        },
        {
          "output_type": "stream",
          "name": "stdout",
          "text": [
            "========================= Model: SVM; vectorizer: TfidfVectorizer() =========================\n",
            "SVM (vectorizer_TF_IDF) - Overall Metrics:\n",
            "- Accuracy: 0.7639\n",
            "- Precision (Macro): 0.7667\n",
            "- Recall (Macro): 0.7647\n",
            "- F1 (Macro): 0.7636\n",
            "\n",
            "SVM (vectorizer_TF_IDF) - Metrics by Label:\n",
            "Label  Precision   Recall  F1 Score\n",
            "  HIN   0.734694 0.813559  0.772118\n",
            "  TEL   0.798780 0.715847  0.755043\n"
          ]
        },
        {
          "output_type": "display_data",
          "data": {
            "text/plain": [
              "<Figure size 500x300 with 2 Axes>"
            ],
            "image/png": "[encoded data removed]"
          },
          "metadata": {}
        },
        {
          "output_type": "stream",
          "name": "stdout",
          "text": [
            "========================= Model: SVM; vectorizer: CountVectorizer(ngram_range=(1, 2)) =========================\n",
            "SVM (vectorizer_BOW_bigram) - Overall Metrics:\n",
            "- Accuracy: 0.7528\n",
            "- Precision (Macro): 0.7536\n",
            "- Recall (Macro): 0.7532\n",
            "- F1 (Macro): 0.7527\n",
            "\n",
            "SVM (vectorizer_BOW_bigram) - Metrics by Label:\n",
            "Label  Precision   Recall  F1 Score\n",
            "  HIN   0.734043 0.779661  0.756164\n",
            "  TEL   0.773256 0.726776  0.749296\n"
          ]
        },
        {
          "output_type": "display_data",
          "data": {
            "text/plain": [
              "<Figure size 500x300 with 2 Axes>"
            ],
            "image/png": "[encoded data removed]"
          },
          "metadata": {}
        },
        {
          "output_type": "stream",
          "name": "stdout",
          "text": [
            "========================= Model: SVM; vectorizer: TfidfVectorizer(ngram_range=(1, 2)) =========================\n",
            "SVM (vectorizer_TF_IDF_bigram) - Overall Metrics:\n",
            "- Accuracy: 0.7583\n",
            "- Precision (Macro): 0.7633\n",
            "- Recall (Macro): 0.7594\n",
            "- F1 (Macro): 0.7577\n",
            "\n",
            "SVM (vectorizer_TF_IDF_bigram) - Metrics by Label:\n",
            "Label  Precision   Recall  F1 Score\n",
            "  HIN   0.722772 0.824859  0.770449\n",
            "  TEL   0.803797 0.693989  0.744868\n"
          ]
        },
        {
          "output_type": "display_data",
          "data": {
            "text/plain": [
              "<Figure size 500x300 with 2 Axes>"
            ],
            "image/png": "[encoded data removed]"
          },
          "metadata": {}
        }
      ],
      "source": [
        "models_g1 = {}\n",
        "mapping_list1 = {'HIN':0,'TEL':1}\n",
        "train_1_group(mapping_list1, df_g1, models_g1) # mapping is done here"
      ]
    },
    {
      "cell_type": "markdown",
      "metadata": {
        "id": "qmp8_9U5yelB"
      },
      "source": [
        "### cross"
      ]
    },
    {
      "cell_type": "code",
      "execution_count": 45,
      "metadata": {
        "id": "j0NldC_p57eI"
      },
      "outputs": [],
      "source": [
        "dict_df1 = create_1_group_dataframes(balanced_df, {'HIN', 'TEL'})"
      ]
    },
    {
      "cell_type": "code",
      "execution_count": 46,
      "metadata": {
        "id": "r1tjWmD2MzR-",
        "colab": {
          "base_uri": "https://localhost:8080/"
        },
        "outputId": "b4cadf20-ca53-4f93-d9e4-46097c858e03"
      },
      "outputs": [
        {
          "output_type": "stream",
          "name": "stdout",
          "text": [
            "{'C': 0.01, 'max_iter': 1500, 'penalty': 'l2', 'solver': 'liblinear', 'tol': 0.0001}\n",
            "LogisticRegression(C=0.01, max_iter=1500, solver='liblinear')\n",
            "1\n",
            "Dev Accuracy= 0.81\n",
            "Test Accuracy= 0.76\n",
            "time spent=0.06669093370437622\n",
            "2\n",
            "Dev Accuracy= 0.73\n",
            "Test Accuracy= 0.8\n",
            "time spent=0.050340127944946286\n",
            "{'C': 0.01, 'max_iter': 1500, 'penalty': 'l2', 'solver': 'saga', 'tol': 0.0001}\n",
            "LogisticRegression(C=0.01, max_iter=1500, solver='saga')\n",
            "1\n",
            "Dev Accuracy= 0.81\n",
            "Test Accuracy= 0.765\n",
            "time spent=0.07483869393666585\n",
            "2\n",
            "Dev Accuracy= 0.725\n",
            "Test Accuracy= 0.8\n",
            "time spent=0.06728739341100057\n",
            "{'C': 1, 'max_iter': 1500, 'penalty': 'l2', 'solver': 'liblinear', 'tol': 0.0001}\n",
            "LogisticRegression(C=1, max_iter=1500, solver='liblinear')\n",
            "1\n",
            "Dev Accuracy= 0.81\n",
            "Test Accuracy= 0.755\n",
            "time spent=0.07287877798080444\n",
            "2\n",
            "Dev Accuracy= 0.73\n",
            "Test Accuracy= 0.78\n",
            "time spent=0.05139013528823853\n",
            "{'C': 1, 'max_iter': 1500, 'penalty': 'l2', 'solver': 'saga', 'tol': 0.0001}\n",
            "LogisticRegression(C=1, max_iter=1500, solver='saga')\n",
            "1\n",
            "Dev Accuracy= 0.815\n",
            "Test Accuracy= 0.755\n",
            "time spent=0.349154524008433\n",
            "2\n",
            "Dev Accuracy= 0.74\n",
            "Test Accuracy= 0.78\n",
            "time spent=0.2848200599352519\n"
          ]
        }
      ],
      "source": [
        "results = cross_validation_1group(mapping_list1, dict_df1, lr_model, lr_param_grid, vectorizers['vectorizer_BOW_bigram'], 2)"
      ]
    },
    {
      "cell_type": "code",
      "execution_count": 47,
      "metadata": {
        "id": "Wt77YTSbSAS3"
      },
      "outputs": [],
      "source": [
        "best_accuracy_key = best(results)"
      ]
    },
    {
      "cell_type": "code",
      "execution_count": 48,
      "metadata": {
        "id": "Yqo3u5qYMUZH",
        "colab": {
          "base_uri": "https://localhost:8080/",
          "height": 35
        },
        "outputId": "4ecb3779-776c-4878-a551-d6feb241464f"
      },
      "outputs": [
        {
          "output_type": "execute_result",
          "data": {
            "text/plain": [
              "\"{'C': 0.01, 'max_iter': 1500, 'penalty': 'l2', 'solver': 'saga', 'tol': 0.0001}\""
            ],
            "application/vnd.google.colaboratory.intrinsic+json": {
              "type": "string"
            }
          },
          "metadata": {},
          "execution_count": 48
        }
      ],
      "source": [
        "best_accuracy_key"
      ]
    },
    {
      "cell_type": "code",
      "execution_count": 49,
      "metadata": {
        "id": "XSx7YxlGL-8H",
        "colab": {
          "base_uri": "https://localhost:8080/"
        },
        "outputId": "582e908c-e76c-4757-e708-ee4fc21ead1a"
      },
      "outputs": [
        {
          "output_type": "execute_result",
          "data": {
            "text/plain": [
              "{'model': LogisticRegression(C=1, max_iter=1500, solver='saga'),\n",
              " 'vectorizer': CountVectorizer(ngram_range=(1, 2)),\n",
              " 'dev_mean_accuracy': 0.7675000000000001,\n",
              " 'test_accuracy': 0.7825}"
            ]
          },
          "metadata": {},
          "execution_count": 49
        }
      ],
      "source": [
        "results[best_accuracy_key]"
      ]
    },
    {
      "cell_type": "code",
      "execution_count": 50,
      "metadata": {
        "id": "32aZjVJ26Zb-"
      },
      "outputs": [],
      "source": [
        "best_accuracy_key = best(results)\n",
        "# cross validation model\n",
        "M_G1 = results[best_accuracy_key][\"model\"]\n",
        "V_G1 = results[best_accuracy_key][\"vectorizer\"]\n",
        "save_model_vectorizer(M_G1, V_G1, \"M_G1.sav\", \"V_G1.pkl\")"
      ]
    },
    {
      "cell_type": "markdown",
      "metadata": {
        "id": "qqRntClE2AfQ"
      },
      "source": [
        "## Model for  Groupe 2 'KOR+CHI+JPN'\n"
      ]
    },
    {
      "cell_type": "code",
      "execution_count": 51,
      "metadata": {
        "id": "RIsmNFUF2AfR"
      },
      "outputs": [],
      "source": [
        "df_g2 = extract_group(df,'KOR+CHI+JPN')"
      ]
    },
    {
      "cell_type": "code",
      "execution_count": 52,
      "metadata": {
        "id": "KYBVaLCO2AfR",
        "colab": {
          "base_uri": "https://localhost:8080/",
          "height": 206
        },
        "outputId": "2799b093-7eec-4b87-c511-e4ce774028a8"
      },
      "outputs": [
        {
          "output_type": "execute_result",
          "data": {
            "text/plain": [
              "                                                    0 country_code  \\\n",
              "2   (CHI) Some people believe that young people ca...          CHI   \n",
              "9   (JPN) I agree with this statement . I think th...          JPN   \n",
              "10  (KOR) Today , the method of teaching is mainly...          KOR   \n",
              "11  (CHI) according to this statment , i think tha...          CHI   \n",
              "16  (JPN) Some people say that broad knowledge is ...          JPN   \n",
              "\n",
              "                                                 text        group  \n",
              "2    Some people believe that young people can enj...  KOR+CHI+JPN  \n",
              "9    I agree with this statement . I think that in...  KOR+CHI+JPN  \n",
              "10   Today , the method of teaching is mainly disc...  KOR+CHI+JPN  \n",
              "11   according to this statment , i think that stu...  KOR+CHI+JPN  \n",
              "16   Some people say that broad knowledge is bette...  KOR+CHI+JPN  "
            ],
            "text/html": [
              "\n",
              "  <div id=\"df-a3124e06-ab90-4b1a-b4d1-fd0568b0e4f6\" class=\"colab-df-container\">\n",
              "    <div>\n",
              "<style scoped>\n",
              "    .dataframe tbody tr th:only-of-type {\n",
              "        vertical-align: middle;\n",
              "    }\n",
              "\n",
              "    .dataframe tbody tr th {\n",
              "        vertical-align: top;\n",
              "    }\n",
              "\n",
              "    .dataframe thead th {\n",
              "        text-align: right;\n",
              "    }\n",
              "</style>\n",
              "<table border=\"1\" class=\"dataframe\">\n",
              "  <thead>\n",
              "    <tr style=\"text-align: right;\">\n",
              "      <th></th>\n",
              "      <th>0</th>\n",
              "      <th>country_code</th>\n",
              "      <th>text</th>\n",
              "      <th>group</th>\n",
              "    </tr>\n",
              "  </thead>\n",
              "  <tbody>\n",
              "    <tr>\n",
              "      <th>2</th>\n",
              "      <td>(CHI) Some people believe that young people ca...</td>\n",
              "      <td>CHI</td>\n",
              "      <td>Some people believe that young people can enj...</td>\n",
              "      <td>KOR+CHI+JPN</td>\n",
              "    </tr>\n",
              "    <tr>\n",
              "      <th>9</th>\n",
              "      <td>(JPN) I agree with this statement . I think th...</td>\n",
              "      <td>JPN</td>\n",
              "      <td>I agree with this statement . I think that in...</td>\n",
              "      <td>KOR+CHI+JPN</td>\n",
              "    </tr>\n",
              "    <tr>\n",
              "      <th>10</th>\n",
              "      <td>(KOR) Today , the method of teaching is mainly...</td>\n",
              "      <td>KOR</td>\n",
              "      <td>Today , the method of teaching is mainly disc...</td>\n",
              "      <td>KOR+CHI+JPN</td>\n",
              "    </tr>\n",
              "    <tr>\n",
              "      <th>11</th>\n",
              "      <td>(CHI) according to this statment , i think tha...</td>\n",
              "      <td>CHI</td>\n",
              "      <td>according to this statment , i think that stu...</td>\n",
              "      <td>KOR+CHI+JPN</td>\n",
              "    </tr>\n",
              "    <tr>\n",
              "      <th>16</th>\n",
              "      <td>(JPN) Some people say that broad knowledge is ...</td>\n",
              "      <td>JPN</td>\n",
              "      <td>Some people say that broad knowledge is bette...</td>\n",
              "      <td>KOR+CHI+JPN</td>\n",
              "    </tr>\n",
              "  </tbody>\n",
              "</table>\n",
              "</div>\n",
              "    <div class=\"colab-df-buttons\">\n",
              "\n",
              "  <div class=\"colab-df-container\">\n",
              "    <button class=\"colab-df-convert\" onclick=\"convertToInteractive('df-a3124e06-ab90-4b1a-b4d1-fd0568b0e4f6')\"\n",
              "            title=\"Convert this dataframe to an interactive table.\"\n",
              "            style=\"display:none;\">\n",
              "\n",
              "  <svg xmlns=\"http://www.w3.org/2000/svg\" height=\"24px\" viewBox=\"0 -960 960 960\">\n",
              "    <path d=\"M120-120v-720h720v720H120Zm60-500h600v-160H180v160Zm220 220h160v-160H400v160Zm0 220h160v-160H400v160ZM180-400h160v-160H180v160Zm440 0h160v-160H620v160ZM180-180h160v-160H180v160Zm440 0h160v-160H620v160Z\"/>\n",
              "  </svg>\n",
              "    </button>\n",
              "\n",
              "  <style>\n",
              "    .colab-df-container {\n",
              "      display:flex;\n",
              "      gap: 12px;\n",
              "    }\n",
              "\n",
              "    .colab-df-convert {\n",
              "      background-color: #E8F0FE;\n",
              "      border: none;\n",
              "      border-radius: 50%;\n",
              "      cursor: pointer;\n",
              "      display: none;\n",
              "      fill: #1967D2;\n",
              "      height: 32px;\n",
              "      padding: 0 0 0 0;\n",
              "      width: 32px;\n",
              "    }\n",
              "\n",
              "    .colab-df-convert:hover {\n",
              "      background-color: #E2EBFA;\n",
              "      box-shadow: 0px 1px 2px rgba(60, 64, 67, 0.3), 0px 1px 3px 1px rgba(60, 64, 67, 0.15);\n",
              "      fill: #174EA6;\n",
              "    }\n",
              "\n",
              "    .colab-df-buttons div {\n",
              "      margin-bottom: 4px;\n",
              "    }\n",
              "\n",
              "    [theme=dark] .colab-df-convert {\n",
              "      background-color: #3B4455;\n",
              "      fill: #D2E3FC;\n",
              "    }\n",
              "\n",
              "    [theme=dark] .colab-df-convert:hover {\n",
              "      background-color: #434B5C;\n",
              "      box-shadow: 0px 1px 3px 1px rgba(0, 0, 0, 0.15);\n",
              "      filter: drop-shadow(0px 1px 2px rgba(0, 0, 0, 0.3));\n",
              "      fill: #FFFFFF;\n",
              "    }\n",
              "  </style>\n",
              "\n",
              "    <script>\n",
              "      const buttonEl =\n",
              "        document.querySelector('#df-a3124e06-ab90-4b1a-b4d1-fd0568b0e4f6 button.colab-df-convert');\n",
              "      buttonEl.style.display =\n",
              "        google.colab.kernel.accessAllowed ? 'block' : 'none';\n",
              "\n",
              "      async function convertToInteractive(key) {\n",
              "        const element = document.querySelector('#df-a3124e06-ab90-4b1a-b4d1-fd0568b0e4f6');\n",
              "        const dataTable =\n",
              "          await google.colab.kernel.invokeFunction('convertToInteractive',\n",
              "                                                    [key], {});\n",
              "        if (!dataTable) return;\n",
              "\n",
              "        const docLinkHtml = 'Like what you see? Visit the ' +\n",
              "          '<a target=\"_blank\" href=https://colab.research.google.com/notebooks/data_table.ipynb>data table notebook</a>'\n",
              "          + ' to learn more about interactive tables.';\n",
              "        element.innerHTML = '';\n",
              "        dataTable['output_type'] = 'display_data';\n",
              "        await google.colab.output.renderOutput(dataTable, element);\n",
              "        const docLink = document.createElement('div');\n",
              "        docLink.innerHTML = docLinkHtml;\n",
              "        element.appendChild(docLink);\n",
              "      }\n",
              "    </script>\n",
              "  </div>\n",
              "\n",
              "\n",
              "<div id=\"df-cbf8aab7-05df-463f-90ce-df9b8b26bcea\">\n",
              "  <button class=\"colab-df-quickchart\" onclick=\"quickchart('df-cbf8aab7-05df-463f-90ce-df9b8b26bcea')\"\n",
              "            title=\"Suggest charts\"\n",
              "            style=\"display:none;\">\n",
              "\n",
              "<svg xmlns=\"http://www.w3.org/2000/svg\" height=\"24px\"viewBox=\"0 0 24 24\"\n",
              "     width=\"24px\">\n",
              "    <g>\n",
              "        <path d=\"M19 3H5c-1.1 0-2 .9-2 2v14c0 1.1.9 2 2 2h14c1.1 0 2-.9 2-2V5c0-1.1-.9-2-2-2zM9 17H7v-7h2v7zm4 0h-2V7h2v10zm4 0h-2v-4h2v4z\"/>\n",
              "    </g>\n",
              "</svg>\n",
              "  </button>\n",
              "\n",
              "<style>\n",
              "  .colab-df-quickchart {\n",
              "      --bg-color: #E8F0FE;\n",
              "      --fill-color: #1967D2;\n",
              "      --hover-bg-color: #E2EBFA;\n",
              "      --hover-fill-color: #174EA6;\n",
              "      --disabled-fill-color: #AAA;\n",
              "      --disabled-bg-color: #DDD;\n",
              "  }\n",
              "\n",
              "  [theme=dark] .colab-df-quickchart {\n",
              "      --bg-color: #3B4455;\n",
              "      --fill-color: #D2E3FC;\n",
              "      --hover-bg-color: #434B5C;\n",
              "      --hover-fill-color: #FFFFFF;\n",
              "      --disabled-bg-color: #3B4455;\n",
              "      --disabled-fill-color: #666;\n",
              "  }\n",
              "\n",
              "  .colab-df-quickchart {\n",
              "    background-color: var(--bg-color);\n",
              "    border: none;\n",
              "    border-radius: 50%;\n",
              "    cursor: pointer;\n",
              "    display: none;\n",
              "    fill: var(--fill-color);\n",
              "    height: 32px;\n",
              "    padding: 0;\n",
              "    width: 32px;\n",
              "  }\n",
              "\n",
              "  .colab-df-quickchart:hover {\n",
              "    background-color: var(--hover-bg-color);\n",
              "    box-shadow: 0 1px 2px rgba(60, 64, 67, 0.3), 0 1px 3px 1px rgba(60, 64, 67, 0.15);\n",
              "    fill: var(--button-hover-fill-color);\n",
              "  }\n",
              "\n",
              "  .colab-df-quickchart-complete:disabled,\n",
              "  .colab-df-quickchart-complete:disabled:hover {\n",
              "    background-color: var(--disabled-bg-color);\n",
              "    fill: var(--disabled-fill-color);\n",
              "    box-shadow: none;\n",
              "  }\n",
              "\n",
              "  .colab-df-spinner {\n",
              "    border: 2px solid var(--fill-color);\n",
              "    border-color: transparent;\n",
              "    border-bottom-color: var(--fill-color);\n",
              "    animation:\n",
              "      spin 1s steps(1) infinite;\n",
              "  }\n",
              "\n",
              "  @keyframes spin {\n",
              "    0% {\n",
              "      border-color: transparent;\n",
              "      border-bottom-color: var(--fill-color);\n",
              "      border-left-color: var(--fill-color);\n",
              "    }\n",
              "    20% {\n",
              "      border-color: transparent;\n",
              "      border-left-color: var(--fill-color);\n",
              "      border-top-color: var(--fill-color);\n",
              "    }\n",
              "    30% {\n",
              "      border-color: transparent;\n",
              "      border-left-color: var(--fill-color);\n",
              "      border-top-color: var(--fill-color);\n",
              "      border-right-color: var(--fill-color);\n",
              "    }\n",
              "    40% {\n",
              "      border-color: transparent;\n",
              "      border-right-color: var(--fill-color);\n",
              "      border-top-color: var(--fill-color);\n",
              "    }\n",
              "    60% {\n",
              "      border-color: transparent;\n",
              "      border-right-color: var(--fill-color);\n",
              "    }\n",
              "    80% {\n",
              "      border-color: transparent;\n",
              "      border-right-color: var(--fill-color);\n",
              "      border-bottom-color: var(--fill-color);\n",
              "    }\n",
              "    90% {\n",
              "      border-color: transparent;\n",
              "      border-bottom-color: var(--fill-color);\n",
              "    }\n",
              "  }\n",
              "</style>\n",
              "\n",
              "  <script>\n",
              "    async function quickchart(key) {\n",
              "      const quickchartButtonEl =\n",
              "        document.querySelector('#' + key + ' button');\n",
              "      quickchartButtonEl.disabled = true;  // To prevent multiple clicks.\n",
              "      quickchartButtonEl.classList.add('colab-df-spinner');\n",
              "      try {\n",
              "        const charts = await google.colab.kernel.invokeFunction(\n",
              "            'suggestCharts', [key], {});\n",
              "      } catch (error) {\n",
              "        console.error('Error during call to suggestCharts:', error);\n",
              "      }\n",
              "      quickchartButtonEl.classList.remove('colab-df-spinner');\n",
              "      quickchartButtonEl.classList.add('colab-df-quickchart-complete');\n",
              "    }\n",
              "    (() => {\n",
              "      let quickchartButtonEl =\n",
              "        document.querySelector('#df-cbf8aab7-05df-463f-90ce-df9b8b26bcea button');\n",
              "      quickchartButtonEl.style.display =\n",
              "        google.colab.kernel.accessAllowed ? 'block' : 'none';\n",
              "    })();\n",
              "  </script>\n",
              "</div>\n",
              "    </div>\n",
              "  </div>\n"
            ],
            "application/vnd.google.colaboratory.intrinsic+json": {
              "type": "dataframe",
              "variable_name": "df_g2",
              "summary": "{\n  \"name\": \"df_g2\",\n  \"rows\": 2700,\n  \"fields\": [\n    {\n      \"column\": 0,\n      \"properties\": {\n        \"dtype\": \"string\",\n        \"num_unique_values\": 2700,\n        \"samples\": [\n          \"(CHI) Some people thinks that young people nowadays do not give enough time to helping their communities while some others thinks that they do . For those who think they does give the reason that lots of young people would go out and do free survices for orphanage as well as other non profitable survices in educational commities and etc . For example we can see that lots of students enter clubs or teams that goes out around the neighborhood to help out those who are in need . This can be seen much more clearly at US and North America . However for those who think that the young people does n't do enough survices point out that most young people just focus on their own leisure activities when they have free time or just go and get more work to earn more money instead of paying attention to the communities . For example they give out the fact that young people nowadays spend more and more time on surfing the internet as well as doing sport instead of free community survices since that they do n't actually get any benifit from it . As for me , I personally agrees to the idea that young people nowadays do n't spend enough time to help out for their communities , on the conditions that they are living in Asia or non English speaking countries . The fact is that in non speaking countries such as Asia young people tends to focus more on school work and how to get better degree such as master degree or PHD . However in North America , the school requires the student to help out the communities at least 2 ~ 5 hours a semester , which means while those young people goes to school they receives the idea of helping out the communities instead of just focus on the academics . In conclusion , I only agree to the condition of that the young people are not spending enough time to help out the communities when they are living in the non English speaking countries such as Europe or North America\",\n          \"(KOR) Some people think young people more enjoy life . Others think old people enjoy life beter . in my opinion , I think that older people enjoy their life even better . They seem to know how to enjoy their life more significantly . This essay will discuss the resaons why I hold my opinion in futher detail . Frist , why I think that old people enjoy their life more is they can enjoy their life without rely on instruments . For example , in korea , when it comes new year many relertive gather in grand father 's house . At that time , young people include me feel very uncomfortable and bored beacuse there is nothing to enjoy such as computer games , TV ( usually non - cabled ) , videos , or any entertaining instruments . however , old people have such a great time . talking to each others or do a traditional game ( it dose not need any instruments ) or take a walk and so on . therefore I believe that old people enjoy their life more . second , why I think that old people enjoy their life more is they know from their experience what is really important fators of enjoying life . that means they know enjoy life from wasting time . some young people can distingush that fact early s\",\n          \"(JPN) It may be plausible to claim that one should aim to specialize in and obtain a better knowledge of one specific subject , rather than to gain broad and shallow understanding of many subjects . The strength of each person varies in different areas of study , and people tend to choose their career according to their strength . It seems unnecessary to obtain knowledge that is unrelated to their job . A painter would perform better at artistic expression than mathematics , and for him , it seems to serve little purpose in pursuing to study mathematics , as it is unrelevant to his work . Opposite can be said about others - scientists , for example . It seems useless for them to have knowledge of , for example , the orgin of opera or movies . It is much more approriate when a person focus in the specific subject which their jobs are related to . It also appears that people often find it easier to improve their understanding of a particular subject if they are interested and feel passionate about it . It is probably much more efficient learning when one learns about his or her prefered subject thann others . While having broad knowledge surely opens up a person 's perspective in life , it seems more efficient and appropriate to focus in particular subjects and to improve the stregnth of each individual .\"\n        ],\n        \"semantic_type\": \"\",\n        \"description\": \"\"\n      }\n    },\n    {\n      \"column\": \"country_code\",\n      \"properties\": {\n        \"dtype\": \"category\",\n        \"num_unique_values\": 3,\n        \"samples\": [\n          \"CHI\",\n          \"JPN\",\n          \"KOR\"\n        ],\n        \"semantic_type\": \"\",\n        \"description\": \"\"\n      }\n    },\n    {\n      \"column\": \"text\",\n      \"properties\": {\n        \"dtype\": \"string\",\n        \"num_unique_values\": 2700,\n        \"samples\": [\n          \" Some people thinks that young people nowadays do not give enough time to helping their communities while some others thinks that they do . For those who think they does give the reason that lots of young people would go out and do free survices for orphanage as well as other non profitable survices in educational commities and etc . For example we can see that lots of students enter clubs or teams that goes out around the neighborhood to help out those who are in need . This can be seen much more clearly at US and North America . However for those who think that the young people does n't do enough survices point out that most young people just focus on their own leisure activities when they have free time or just go and get more work to earn more money instead of paying attention to the communities . For example they give out the fact that young people nowadays spend more and more time on surfing the internet as well as doing sport instead of free community survices since that they do n't actually get any benifit from it . As for me , I personally agrees to the idea that young people nowadays do n't spend enough time to help out for their communities , on the conditions that they are living in Asia or non English speaking countries . The fact is that in non speaking countries such as Asia young people tends to focus more on school work and how to get better degree such as master degree or PHD . However in North America , the school requires the student to help out the communities at least 2 ~ 5 hours a semester , which means while those young people goes to school they receives the idea of helping out the communities instead of just focus on the academics . In conclusion , I only agree to the condition of that the young people are not spending enough time to help out the communities when they are living in the non English speaking countries such as Europe or North America\",\n          \" Some people think young people more enjoy life . Others think old people enjoy life beter . in my opinion , I think that older people enjoy their life even better . They seem to know how to enjoy their life more significantly . This essay will discuss the resaons why I hold my opinion in futher detail . Frist , why I think that old people enjoy their life more is they can enjoy their life without rely on instruments . For example , in korea , when it comes new year many relertive gather in grand father 's house . At that time , young people include me feel very uncomfortable and bored beacuse there is nothing to enjoy such as computer games , TV ( usually non - cabled ) , videos , or any entertaining instruments . however , old people have such a great time . talking to each others or do a traditional game ( it dose not need any instruments ) or take a walk and so on . therefore I believe that old people enjoy their life more . second , why I think that old people enjoy their life more is they know from their experience what is really important fators of enjoying life . that means they know enjoy life from wasting time . some young people can distingush that fact early s\",\n          \" It may be plausible to claim that one should aim to specialize in and obtain a better knowledge of one specific subject , rather than to gain broad and shallow understanding of many subjects . The strength of each person varies in different areas of study , and people tend to choose their career according to their strength . It seems unnecessary to obtain knowledge that is unrelated to their job . A painter would perform better at artistic expression than mathematics , and for him , it seems to serve little purpose in pursuing to study mathematics , as it is unrelevant to his work . Opposite can be said about others - scientists , for example . It seems useless for them to have knowledge of , for example , the orgin of opera or movies . It is much more approriate when a person focus in the specific subject which their jobs are related to . It also appears that people often find it easier to improve their understanding of a particular subject if they are interested and feel passionate about it . It is probably much more efficient learning when one learns about his or her prefered subject thann others . While having broad knowledge surely opens up a person 's perspective in life , it seems more efficient and appropriate to focus in particular subjects and to improve the stregnth of each individual .\"\n        ],\n        \"semantic_type\": \"\",\n        \"description\": \"\"\n      }\n    },\n    {\n      \"column\": \"group\",\n      \"properties\": {\n        \"dtype\": \"category\",\n        \"num_unique_values\": 1,\n        \"samples\": [\n          \"KOR+CHI+JPN\"\n        ],\n        \"semantic_type\": \"\",\n        \"description\": \"\"\n      }\n    }\n  ]\n}"
            }
          },
          "metadata": {},
          "execution_count": 52
        }
      ],
      "source": [
        "df_g2.head()"
      ]
    },
    {
      "cell_type": "markdown",
      "metadata": {
        "id": "xEyaqUD02AfR"
      },
      "source": [
        "#### train"
      ]
    },
    {
      "cell_type": "code",
      "execution_count": null,
      "metadata": {
        "id": "L6wYmwuc2AfR",
        "colab": {
          "base_uri": "https://localhost:8080/"
        },
        "outputId": "d4648f30-3337-4010-a2a1-985f6e53d263"
      },
      "outputs": [
        {
          "output_type": "stream",
          "name": "stdout",
          "text": [
            "(2700,)\n",
            "(2700,)\n",
            "========================= Model: Logistic Regression; vectorizer: CountVectorizer() =========================\n"
          ]
        }
      ],
      "source": [
        "models_g2 = {}\n",
        "mapping_list2 = {'KOR':0, 'CHI':1, 'JPN':2}\n",
        "train_1_group(mapping_list2, df_g2, models_g2) # mapping is done here"
      ]
    },
    {
      "cell_type": "markdown",
      "metadata": {
        "id": "nGQ_xdyr2AfR"
      },
      "source": [
        "### cross"
      ]
    },
    {
      "cell_type": "code",
      "execution_count": null,
      "metadata": {
        "id": "QHT0dBVY6Cnw"
      },
      "outputs": [],
      "source": [
        "dict_df2 = create_1_group_dataframes(balanced_df, {'KOR', 'CHI', \"JAP\"})"
      ]
    },
    {
      "cell_type": "code",
      "execution_count": null,
      "metadata": {
        "id": "ii_Uq_m52AfS"
      },
      "outputs": [],
      "source": [
        "results = cross_validation_1group(mapping_list2, dict_df2, lr_model, lr_param_grid, vectorizers['vectorizer_BOW_bigram'], 2)"
      ]
    },
    {
      "cell_type": "code",
      "execution_count": null,
      "metadata": {
        "id": "AEF_Pe6GR-xS"
      },
      "outputs": [],
      "source": [
        "best_accuracy_key = best(results)"
      ]
    },
    {
      "cell_type": "code",
      "execution_count": null,
      "metadata": {
        "id": "BFoachupN7hF"
      },
      "outputs": [],
      "source": [
        "best_accuracy_key"
      ]
    },
    {
      "cell_type": "code",
      "execution_count": null,
      "metadata": {
        "id": "BCZlIpGcN6cK"
      },
      "outputs": [],
      "source": [
        "results[best_accuracy_key]"
      ]
    },
    {
      "cell_type": "code",
      "execution_count": null,
      "metadata": {
        "id": "hBWRadu96zGD"
      },
      "outputs": [],
      "source": [
        "# cross validation model\n",
        "M_G2 = results[best_accuracy_key][\"model\"]\n",
        "V_G2 = results[best_accuracy_key][\"vectorizer\"]\n",
        "save_model_vectorizer(M_G2, V_G1, \"M_G2.sav\", \"V_G2.pkl\")"
      ]
    },
    {
      "cell_type": "code",
      "execution_count": null,
      "metadata": {
        "id": "4VxVJuc_MJNb"
      },
      "outputs": [],
      "source": [
        "results[best_accuracy_key]['test_accuracy']"
      ]
    },
    {
      "cell_type": "markdown",
      "metadata": {
        "id": "z2HYGgq12BhJ"
      },
      "source": [
        "## Model for  Groupe 3 'FRE+SPA+ITA+'GER'\n",
        "\n"
      ]
    },
    {
      "cell_type": "code",
      "execution_count": null,
      "metadata": {
        "id": "AB-99GMT2BhS"
      },
      "outputs": [],
      "source": [
        "df_g3 = extract_group(df, 'FRE+SPA+ITA+GER')"
      ]
    },
    {
      "cell_type": "code",
      "execution_count": null,
      "metadata": {
        "id": "WwWro_Sq2BhS"
      },
      "outputs": [],
      "source": [
        "df_g3.head()"
      ]
    },
    {
      "cell_type": "markdown",
      "metadata": {
        "id": "DoEWHDQA2BhS"
      },
      "source": [
        "#### train"
      ]
    },
    {
      "cell_type": "code",
      "execution_count": null,
      "metadata": {
        "id": "Py2IpWK82BhS"
      },
      "outputs": [],
      "source": [
        "models_g3 = {}\n",
        "mapping_list3 = {'FRE':0,'SPA':1,'ITA':2, 'GER':3 }\n",
        "train_1_group(mapping_list3, df_g3, models_g3) # mapping is done here"
      ]
    },
    {
      "cell_type": "markdown",
      "metadata": {
        "id": "xVk2-faC2BhT"
      },
      "source": [
        "### cross"
      ]
    },
    {
      "cell_type": "code",
      "execution_count": null,
      "metadata": {
        "id": "iQyqPxvg6K9c"
      },
      "outputs": [],
      "source": [
        "dict_df3 = create_1_group_dataframes(balanced_df, {'FRE', 'SPA', \"ITA\", \"GER\"})"
      ]
    },
    {
      "cell_type": "code",
      "execution_count": null,
      "metadata": {
        "id": "jwOxd2wy2BhT"
      },
      "outputs": [],
      "source": [
        "results = cross_validation_1group(mapping_list3, dict_df3, lr_model, lr_param_grid, vectorizers['vectorizer_BOW_bigram'], 2)"
      ]
    },
    {
      "cell_type": "code",
      "execution_count": null,
      "metadata": {
        "id": "0KaebVe6SIyN"
      },
      "outputs": [],
      "source": [
        "best_accuracy_key = best(results)"
      ]
    },
    {
      "cell_type": "code",
      "execution_count": null,
      "metadata": {
        "id": "uJwG9UN5N-1c"
      },
      "outputs": [],
      "source": [
        "best_accuracy_key"
      ]
    },
    {
      "cell_type": "code",
      "execution_count": null,
      "metadata": {
        "id": "SLqHef7lOB22"
      },
      "outputs": [],
      "source": [
        "results[best_accuracy_key]"
      ]
    },
    {
      "cell_type": "code",
      "execution_count": null,
      "metadata": {
        "id": "vLN7qZzk649P"
      },
      "outputs": [],
      "source": [
        "# cross validation model\n",
        "M_G3 = results[best_accuracy_key][\"model\"]\n",
        "V_G3 = results[best_accuracy_key][\"vectorizer\"]\n",
        "save_model_vectorizer(M_G3, V_G3, \"M_G3.sav\", \"V_G3.pkl\")"
      ]
    },
    {
      "cell_type": "code",
      "execution_count": null,
      "metadata": {
        "id": "8tpR7WcjMMWk"
      },
      "outputs": [],
      "source": [
        "results[best_accuracy_key]['test_accuracy']"
      ]
    },
    {
      "cell_type": "markdown",
      "metadata": {
        "id": "tJH0lBBF2CGH"
      },
      "source": [
        "## Model for  Groupe 4 ARA+TUR"
      ]
    },
    {
      "cell_type": "code",
      "execution_count": null,
      "metadata": {
        "id": "hwDhHez82CGH"
      },
      "outputs": [],
      "source": [
        "df_g4 = extract_group(df, 'ARA+TUR')"
      ]
    },
    {
      "cell_type": "code",
      "execution_count": null,
      "metadata": {
        "id": "HCHCqp9x2CGH"
      },
      "outputs": [],
      "source": [
        "df_g4.head()"
      ]
    },
    {
      "cell_type": "markdown",
      "metadata": {
        "id": "mDwvT4Xn2CGH"
      },
      "source": [
        "#### train"
      ]
    },
    {
      "cell_type": "code",
      "execution_count": null,
      "metadata": {
        "id": "ImLt9QUS2CGI"
      },
      "outputs": [],
      "source": [
        "models_g4 = {}\n",
        "mapping_list4 = {'ARA':0,'TUR':1}\n",
        "train_1_group(mapping_list4, df_g4, models_g4) # mapping is done here"
      ]
    },
    {
      "cell_type": "markdown",
      "metadata": {
        "id": "jKDBNnh_2CGI"
      },
      "source": [
        "### cross"
      ]
    },
    {
      "cell_type": "code",
      "execution_count": null,
      "metadata": {
        "id": "gaKsWfHv6Sad"
      },
      "outputs": [],
      "source": [
        "dict_df4 = create_1_group_dataframes(balanced_df, {'ARA', 'TUR'})"
      ]
    },
    {
      "cell_type": "code",
      "source": [
        "dict_df4"
      ],
      "metadata": {
        "id": "IZ40pIggq_Hi"
      },
      "execution_count": null,
      "outputs": []
    },
    {
      "cell_type": "code",
      "execution_count": null,
      "metadata": {
        "id": "GFqCIGmS2CGI"
      },
      "outputs": [],
      "source": [
        "results = cross_validation_1group(mapping_list4, dict_df4, lr_model, lr_param_grid, vectorizers['vectorizer_BOW_bigram'], 2)"
      ]
    },
    {
      "cell_type": "code",
      "execution_count": null,
      "metadata": {
        "id": "-pmQE0tPRteM"
      },
      "outputs": [],
      "source": [
        "best_accuracy_key = best(results)"
      ]
    },
    {
      "cell_type": "code",
      "execution_count": null,
      "metadata": {
        "id": "9dc6b5tYOD8n"
      },
      "outputs": [],
      "source": [
        "best_accuracy_key"
      ]
    },
    {
      "cell_type": "code",
      "execution_count": null,
      "metadata": {
        "id": "NVjpuqRwOK3F"
      },
      "outputs": [],
      "source": [
        "results"
      ]
    },
    {
      "cell_type": "code",
      "execution_count": null,
      "metadata": {
        "id": "4P-t1tS-ODbv"
      },
      "outputs": [],
      "source": [
        "results[best_accuracy_key]"
      ]
    },
    {
      "cell_type": "code",
      "execution_count": null,
      "metadata": {
        "id": "BOT7tS396_JA"
      },
      "outputs": [],
      "source": [
        "# cross validation model\n",
        "M_G4 = results[best_accuracy_key][\"model\"]\n",
        "V_G4 = results[best_accuracy_key][\"vectorizer\"]\n",
        "save_model_vectorizer(M_G4, V_G4, \"M_G4.sav\", \"V_G4.pkl\")"
      ]
    },
    {
      "cell_type": "code",
      "execution_count": null,
      "metadata": {
        "id": "3Ac0eLsOLYcl"
      },
      "outputs": [],
      "source": [
        "results"
      ]
    },
    {
      "cell_type": "markdown",
      "source": [
        "# Save to colab"
      ],
      "metadata": {
        "id": "6GQ8go_juSUj"
      }
    },
    {
      "cell_type": "code",
      "source": [
        "from google.colab import drive\n",
        "drive.mount('/content/model+vec')"
      ],
      "metadata": {
        "id": "VcMvGzU-rQnV"
      },
      "execution_count": null,
      "outputs": []
    }
  ],
  "metadata": {
    "colab": {
      "provenance": [],
      "toc_visible": true,
      "include_colab_link": true
    },
    "kernelspec": {
      "display_name": "Python 3",
      "name": "python3"
    },
    "language_info": {
      "name": "python"
    }
  },
  "nbformat": 4,
  "nbformat_minor": 0
}